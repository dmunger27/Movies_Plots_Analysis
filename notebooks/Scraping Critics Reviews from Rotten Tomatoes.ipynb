{
 "cells": [
  {
   "cell_type": "markdown",
   "source": "# Packages",
   "metadata": {
    "cell_id": "1e7ec6f1-fce1-431a-bfc4-589f295fd528",
    "deepnote_cell_type": "markdown",
    "deepnote_cell_height": 87.19999694824219
   }
  },
  {
   "cell_type": "code",
   "metadata": {
    "cell_id": "00001-e67c7418-1b7a-4066-8a1e-af692c9e31bd",
    "deepnote_cell_type": "code",
    "deepnote_cell_height": 156
   },
   "source": "import pandas as pd\nimport numpy as np\nimport requests\nfrom requests import TooManyRedirects\nimport re\nimport time",
   "outputs": [],
   "execution_count": null
  },
  {
   "cell_type": "markdown",
   "source": "# Scraping Critics Reviews Data from Rotten Tomatoes",
   "metadata": {
    "cell_id": "00002-e2727226-cac1-42b2-b9f7-ec7cdec7153a",
    "deepnote_cell_type": "markdown",
    "deepnote_cell_height": 144.39999389648438
   }
  },
  {
   "cell_type": "code",
   "metadata": {
    "cell_id": "00003-9828517e-e14d-47bc-9d62-873c2db3afee",
    "deepnote_cell_type": "code",
    "deepnote_cell_height": 624
   },
   "source": "s = requests.Session()\n        \ndef get_reviews(url):\n    r = requests.get(url)\n    movie_id = re.findall(r'(?<=movieId\":\")(.*)(?=\",\"type)',r.text)[0]\n\n    api_url = f\"https://www.rottentomatoes.com/napi/movie/{movie_id}/criticsReviews/all\" \n    #use reviews/user for user reviews\n    # use criticsReviews/all for critics reviews\n    \n    payload = {\n        'direction': 'next',\n        'endCursor': '',\n        'startCursor': '',\n    }\n    \n    review_data = []\n    \n    while True:\n        r = s.get(api_url, params=payload)\n        data = r.json()\n\n        if not data['pageInfo']['hasNextPage']:\n            break\n\n        payload['endCursor'] = data['pageInfo']['endCursor']\n        payload['startCursor'] = data['pageInfo']['startCursor'] if data['pageInfo'].get('startCursor') else ''\n\n        review_data.extend(data['reviews'])\n        time.sleep(1)\n    \n    return review_data",
   "outputs": [],
   "execution_count": null
  },
  {
   "cell_type": "markdown",
   "source": "# Popular Space Movies from 2010s",
   "metadata": {
    "cell_id": "00004-4bff7eb7-a7a7-40ef-a81e-7e4166c68d53",
    "deepnote_cell_type": "markdown",
    "deepnote_cell_height": 87.19999694824219
   }
  },
  {
   "cell_type": "markdown",
   "source": "## Interstellar 2014",
   "metadata": {
    "cell_id": "00005-6e43056e-6ffb-4c81-b185-f9bfeb4241eb",
    "deepnote_cell_type": "markdown",
    "deepnote_cell_height": 74
   }
  },
  {
   "cell_type": "code",
   "metadata": {
    "cell_id": "00006-485e9b12-ae05-4051-8fb7-c1d4aa886b98",
    "deepnote_cell_type": "code",
    "deepnote_cell_height": 210,
    "deepnote_output_heights": [
     23
    ]
   },
   "source": "# critics reviews\ndata = get_reviews('https://www.rottentomatoes.com/m/interstellar_2014/reviews')\ninterstellar_df = pd.json_normalize(data)\ninterstellar_df['title'] = 'Interstellar'\ninterstellar_df.to_csv(\"critics reviews/interstellar_2014.csv\", index=False)\ninterstellar_df.shape",
   "outputs": [
    {
     "data": {
      "text/plain": "(360, 16)"
     },
     "execution_count": 3,
     "metadata": {},
     "output_type": "execute_result"
    }
   ],
   "execution_count": null
  },
  {
   "cell_type": "code",
   "metadata": {
    "cell_id": "00007-92f59dad-10bc-4941-acd8-69785df7b1fa",
    "deepnote_cell_type": "code",
    "deepnote_cell_height": 593,
    "deepnote_output_heights": [
     496
    ]
   },
   "source": "interstellar_df[['title', 'quote', 'scoreOri', 'scoreSentiment']].sample(15)",
   "outputs": [
    {
     "data": {
      "text/html": "<div>\n<style scoped>\n    .dataframe tbody tr th:only-of-type {\n        vertical-align: middle;\n    }\n\n    .dataframe tbody tr th {\n        vertical-align: top;\n    }\n\n    .dataframe thead th {\n        text-align: right;\n    }\n</style>\n<table border=\"1\" class=\"dataframe\">\n  <thead>\n    <tr style=\"text-align: right;\">\n      <th></th>\n      <th>title</th>\n      <th>quote</th>\n      <th>scoreOri</th>\n      <th>scoreSentiment</th>\n    </tr>\n  </thead>\n  <tbody>\n    <tr>\n      <th>328</th>\n      <td>Interstellar</td>\n      <td>As space operas go, this may yet be accounted ...</td>\n      <td>3/5</td>\n      <td>POSITIVE</td>\n    </tr>\n    <tr>\n      <th>178</th>\n      <td>Interstellar</td>\n      <td>Dazzling, frightening and thrilling. Pure cine...</td>\n      <td></td>\n      <td>POSITIVE</td>\n    </tr>\n    <tr>\n      <th>162</th>\n      <td>Interstellar</td>\n      <td>The combination of NO green screen, incredible...</td>\n      <td>5/5</td>\n      <td>POSITIVE</td>\n    </tr>\n    <tr>\n      <th>47</th>\n      <td>Interstellar</td>\n      <td>Nolan's refreshing love affair with self-deter...</td>\n      <td></td>\n      <td>NEGATIVE</td>\n    </tr>\n    <tr>\n      <th>94</th>\n      <td>Interstellar</td>\n      <td>Nolan is one of the few directors with the amb...</td>\n      <td>3/4</td>\n      <td>POSITIVE</td>\n    </tr>\n    <tr>\n      <th>323</th>\n      <td>Interstellar</td>\n      <td>The final stretch may be just a little too har...</td>\n      <td>4/5</td>\n      <td>POSITIVE</td>\n    </tr>\n    <tr>\n      <th>50</th>\n      <td>Interstellar</td>\n      <td>Christopher Nolan's spectacular film is filled...</td>\n      <td></td>\n      <td>POSITIVE</td>\n    </tr>\n    <tr>\n      <th>343</th>\n      <td>Interstellar</td>\n      <td>The vaulting ambition and shoot-for-the-stars ...</td>\n      <td>3/5</td>\n      <td>POSITIVE</td>\n    </tr>\n    <tr>\n      <th>124</th>\n      <td>Interstellar</td>\n      <td>The sentimentality and Hollywoodized convenien...</td>\n      <td>3/4</td>\n      <td>POSITIVE</td>\n    </tr>\n    <tr>\n      <th>74</th>\n      <td>Interstellar</td>\n      <td>A dynamic left-right combo of spectacle and he...</td>\n      <td>4.5/5</td>\n      <td>POSITIVE</td>\n    </tr>\n    <tr>\n      <th>194</th>\n      <td>Interstellar</td>\n      <td>Forget about what it means and just go for the...</td>\n      <td>4/4</td>\n      <td>POSITIVE</td>\n    </tr>\n    <tr>\n      <th>221</th>\n      <td>Interstellar</td>\n      <td>Interstellar surprises you with a high ratio o...</td>\n      <td>2/5</td>\n      <td>NEGATIVE</td>\n    </tr>\n    <tr>\n      <th>116</th>\n      <td>Interstellar</td>\n      <td>Having set out to be a journey into what can h...</td>\n      <td></td>\n      <td>POSITIVE</td>\n    </tr>\n    <tr>\n      <th>172</th>\n      <td>Interstellar</td>\n      <td>Ambitious intergalactic drama focuses on a fat...</td>\n      <td>3/5</td>\n      <td>POSITIVE</td>\n    </tr>\n    <tr>\n      <th>275</th>\n      <td>Interstellar</td>\n      <td>Nolan has always been a director who loves big...</td>\n      <td>3.5/5</td>\n      <td>POSITIVE</td>\n    </tr>\n  </tbody>\n</table>\n</div>",
      "text/plain": "            title                                              quote scoreOri  \\\n328  Interstellar  As space operas go, this may yet be accounted ...      3/5   \n178  Interstellar  Dazzling, frightening and thrilling. Pure cine...            \n162  Interstellar  The combination of NO green screen, incredible...      5/5   \n47   Interstellar  Nolan's refreshing love affair with self-deter...            \n94   Interstellar  Nolan is one of the few directors with the amb...      3/4   \n323  Interstellar  The final stretch may be just a little too har...      4/5   \n50   Interstellar  Christopher Nolan's spectacular film is filled...            \n343  Interstellar  The vaulting ambition and shoot-for-the-stars ...      3/5   \n124  Interstellar  The sentimentality and Hollywoodized convenien...      3/4   \n74   Interstellar  A dynamic left-right combo of spectacle and he...    4.5/5   \n194  Interstellar  Forget about what it means and just go for the...      4/4   \n221  Interstellar  Interstellar surprises you with a high ratio o...      2/5   \n116  Interstellar  Having set out to be a journey into what can h...            \n172  Interstellar  Ambitious intergalactic drama focuses on a fat...      3/5   \n275  Interstellar  Nolan has always been a director who loves big...    3.5/5   \n\n    scoreSentiment  \n328       POSITIVE  \n178       POSITIVE  \n162       POSITIVE  \n47        NEGATIVE  \n94        POSITIVE  \n323       POSITIVE  \n50        POSITIVE  \n343       POSITIVE  \n124       POSITIVE  \n74        POSITIVE  \n194       POSITIVE  \n221       NEGATIVE  \n116       POSITIVE  \n172       POSITIVE  \n275       POSITIVE  "
     },
     "execution_count": 4,
     "metadata": {},
     "output_type": "execute_result"
    }
   ],
   "execution_count": null
  },
  {
   "cell_type": "markdown",
   "source": "## The Martian 2015",
   "metadata": {
    "cell_id": "00008-1d6fd07b-d341-457d-a874-eceb1c0514e2",
    "deepnote_cell_type": "markdown",
    "deepnote_cell_height": 74
   }
  },
  {
   "cell_type": "code",
   "metadata": {
    "cell_id": "00009-19271a08-f6a5-461f-a21d-d5b10ab6d5f3",
    "deepnote_cell_type": "code",
    "deepnote_cell_height": 210,
    "deepnote_output_heights": [
     23
    ]
   },
   "source": "# critics reviews\ndata = get_reviews('https://www.rottentomatoes.com/m/the_martian/reviews')\nmartian_df = pd.json_normalize(data)\nmartian_df['title'] = 'The Martian'\nmartian_df.to_csv(\"critics reviews/the_martian_2015.csv\", index=False)\nmartian_df.shape",
   "outputs": [
    {
     "data": {
      "text/plain": "(380, 16)"
     },
     "execution_count": 5,
     "metadata": {},
     "output_type": "execute_result"
    }
   ],
   "execution_count": null
  },
  {
   "cell_type": "code",
   "metadata": {
    "cell_id": "00010-a92a9944-5885-48ca-a43f-67fd9e8b6cfb",
    "deepnote_cell_type": "code",
    "deepnote_cell_height": 593,
    "deepnote_output_heights": [
     496
    ]
   },
   "source": "martian_df[['title', 'quote', 'scoreOri', 'scoreSentiment']].sample(15)",
   "outputs": [
    {
     "data": {
      "text/html": "<div>\n<style scoped>\n    .dataframe tbody tr th:only-of-type {\n        vertical-align: middle;\n    }\n\n    .dataframe tbody tr th {\n        vertical-align: top;\n    }\n\n    .dataframe thead th {\n        text-align: right;\n    }\n</style>\n<table border=\"1\" class=\"dataframe\">\n  <thead>\n    <tr style=\"text-align: right;\">\n      <th></th>\n      <th>title</th>\n      <th>quote</th>\n      <th>scoreOri</th>\n      <th>scoreSentiment</th>\n    </tr>\n  </thead>\n  <tbody>\n    <tr>\n      <th>124</th>\n      <td>The Martian</td>\n      <td>While this movie isn't as good as 'Interstella...</td>\n      <td>B</td>\n      <td>POSITIVE</td>\n    </tr>\n    <tr>\n      <th>337</th>\n      <td>The Martian</td>\n      <td>The Martian isn't a great film but at the very...</td>\n      <td>3/5</td>\n      <td>POSITIVE</td>\n    </tr>\n    <tr>\n      <th>143</th>\n      <td>The Martian</td>\n      <td>While it boasts plenty of amazing effects and ...</td>\n      <td></td>\n      <td>POSITIVE</td>\n    </tr>\n    <tr>\n      <th>59</th>\n      <td>The Martian</td>\n      <td>The Martian never loses sight of the fact that...</td>\n      <td>A</td>\n      <td>POSITIVE</td>\n    </tr>\n    <tr>\n      <th>349</th>\n      <td>The Martian</td>\n      <td>Smart, slick and, yes, funny, The Martian prov...</td>\n      <td>4/5</td>\n      <td>POSITIVE</td>\n    </tr>\n    <tr>\n      <th>51</th>\n      <td>The Martian</td>\n      <td>Scott only gets it half right, but the science...</td>\n      <td></td>\n      <td>POSITIVE</td>\n    </tr>\n    <tr>\n      <th>205</th>\n      <td>The Martian</td>\n      <td>It is intelligent and highly entertaining for ...</td>\n      <td>3/4</td>\n      <td>POSITIVE</td>\n    </tr>\n    <tr>\n      <th>71</th>\n      <td>The Martian</td>\n      <td>It is at once a thoughtful, witty, intelligent...</td>\n      <td></td>\n      <td>POSITIVE</td>\n    </tr>\n    <tr>\n      <th>159</th>\n      <td>The Martian</td>\n      <td>Impecably shot and possibly one of Damon's bes...</td>\n      <td></td>\n      <td>POSITIVE</td>\n    </tr>\n    <tr>\n      <th>78</th>\n      <td>The Martian</td>\n      <td>You may discover hearing songs that normally p...</td>\n      <td>4/5</td>\n      <td>POSITIVE</td>\n    </tr>\n    <tr>\n      <th>55</th>\n      <td>The Martian</td>\n      <td>Yes, The Martian, which is based on a novel by...</td>\n      <td>4/5</td>\n      <td>POSITIVE</td>\n    </tr>\n    <tr>\n      <th>187</th>\n      <td>The Martian</td>\n      <td>[A] massively entertaining old-fashioned casta...</td>\n      <td>4/5</td>\n      <td>POSITIVE</td>\n    </tr>\n    <tr>\n      <th>332</th>\n      <td>The Martian</td>\n      <td>A celebration of ingenuity, of intelligent pro...</td>\n      <td>5/5</td>\n      <td>POSITIVE</td>\n    </tr>\n    <tr>\n      <th>120</th>\n      <td>The Martian</td>\n      <td>It isn't perfect, but The Martian is a triumph...</td>\n      <td>8.7/10</td>\n      <td>POSITIVE</td>\n    </tr>\n    <tr>\n      <th>215</th>\n      <td>The Martian</td>\n      <td>I'm going to be a sucker for any movie that in...</td>\n      <td>3.5/4</td>\n      <td>POSITIVE</td>\n    </tr>\n  </tbody>\n</table>\n</div>",
      "text/plain": "           title                                              quote scoreOri  \\\n124  The Martian  While this movie isn't as good as 'Interstella...        B   \n337  The Martian  The Martian isn't a great film but at the very...      3/5   \n143  The Martian  While it boasts plenty of amazing effects and ...            \n59   The Martian  The Martian never loses sight of the fact that...        A   \n349  The Martian  Smart, slick and, yes, funny, The Martian prov...      4/5   \n51   The Martian  Scott only gets it half right, but the science...            \n205  The Martian  It is intelligent and highly entertaining for ...      3/4   \n71   The Martian  It is at once a thoughtful, witty, intelligent...            \n159  The Martian  Impecably shot and possibly one of Damon's bes...            \n78   The Martian  You may discover hearing songs that normally p...      4/5   \n55   The Martian  Yes, The Martian, which is based on a novel by...      4/5   \n187  The Martian  [A] massively entertaining old-fashioned casta...      4/5   \n332  The Martian  A celebration of ingenuity, of intelligent pro...      5/5   \n120  The Martian  It isn't perfect, but The Martian is a triumph...   8.7/10   \n215  The Martian  I'm going to be a sucker for any movie that in...    3.5/4   \n\n    scoreSentiment  \n124       POSITIVE  \n337       POSITIVE  \n143       POSITIVE  \n59        POSITIVE  \n349       POSITIVE  \n51        POSITIVE  \n205       POSITIVE  \n71        POSITIVE  \n159       POSITIVE  \n78        POSITIVE  \n55        POSITIVE  \n187       POSITIVE  \n332       POSITIVE  \n120       POSITIVE  \n215       POSITIVE  "
     },
     "execution_count": 6,
     "metadata": {},
     "output_type": "execute_result"
    }
   ],
   "execution_count": null
  },
  {
   "cell_type": "markdown",
   "source": "## Arrival 2016 ",
   "metadata": {
    "cell_id": "00011-216e7eb1-6c99-4f7d-ba9b-09243efca4f5",
    "deepnote_cell_type": "markdown",
    "deepnote_cell_height": 74
   }
  },
  {
   "cell_type": "code",
   "metadata": {
    "cell_id": "00012-52102689-335d-4625-861c-2ad232b053b0",
    "deepnote_cell_type": "code",
    "deepnote_cell_height": 210,
    "deepnote_output_heights": [
     23
    ]
   },
   "source": "# critics reviews\ndata = get_reviews('https://www.rottentomatoes.com/m/arrival_2016/reviews')\narrival_df = pd.json_normalize(data)\narrival_df['title'] = 'Arrival'\narrival_df.to_csv(\"critics reviews/arrival_2016.csv\", index=False)\narrival_df.shape",
   "outputs": [
    {
     "data": {
      "text/plain": "(420, 16)"
     },
     "execution_count": 7,
     "metadata": {},
     "output_type": "execute_result"
    }
   ],
   "execution_count": null
  },
  {
   "cell_type": "code",
   "metadata": {
    "cell_id": "00013-95757d05-f457-4b96-af11-d34a03ed3423",
    "deepnote_cell_type": "code",
    "deepnote_cell_height": 593,
    "deepnote_output_heights": [
     496
    ]
   },
   "source": "arrival_df[['title', 'quote', 'scoreOri', 'scoreSentiment']].sample(15)",
   "outputs": [
    {
     "data": {
      "text/html": "<div>\n<style scoped>\n    .dataframe tbody tr th:only-of-type {\n        vertical-align: middle;\n    }\n\n    .dataframe tbody tr th {\n        vertical-align: top;\n    }\n\n    .dataframe thead th {\n        text-align: right;\n    }\n</style>\n<table border=\"1\" class=\"dataframe\">\n  <thead>\n    <tr style=\"text-align: right;\">\n      <th></th>\n      <th>title</th>\n      <th>quote</th>\n      <th>scoreOri</th>\n      <th>scoreSentiment</th>\n    </tr>\n  </thead>\n  <tbody>\n    <tr>\n      <th>70</th>\n      <td>Arrival</td>\n      <td>The director really allowed moments to breathe...</td>\n      <td></td>\n      <td>POSITIVE</td>\n    </tr>\n    <tr>\n      <th>50</th>\n      <td>Arrival</td>\n      <td>A film about the importance of the language. T...</td>\n      <td>3/5</td>\n      <td>POSITIVE</td>\n    </tr>\n    <tr>\n      <th>190</th>\n      <td>Arrival</td>\n      <td>Arrival should be required viewing of every li...</td>\n      <td>5/5</td>\n      <td>POSITIVE</td>\n    </tr>\n    <tr>\n      <th>54</th>\n      <td>Arrival</td>\n      <td>...refreshing and thought-provoking.</td>\n      <td></td>\n      <td>POSITIVE</td>\n    </tr>\n    <tr>\n      <th>61</th>\n      <td>Arrival</td>\n      <td>It's a film that demands to be re-seen almost ...</td>\n      <td>9/10</td>\n      <td>POSITIVE</td>\n    </tr>\n    <tr>\n      <th>303</th>\n      <td>Arrival</td>\n      <td>That \"Arrival\" works so well is in large part ...</td>\n      <td>3.5/4</td>\n      <td>POSITIVE</td>\n    </tr>\n    <tr>\n      <th>67</th>\n      <td>Arrival</td>\n      <td>Provokes the Sci-Fi normal blockbuster genre b...</td>\n      <td>4/5</td>\n      <td>POSITIVE</td>\n    </tr>\n    <tr>\n      <th>309</th>\n      <td>Arrival</td>\n      <td>Much of the film sees the camera focusing on A...</td>\n      <td></td>\n      <td>POSITIVE</td>\n    </tr>\n    <tr>\n      <th>51</th>\n      <td>Arrival</td>\n      <td>Arrival is...filmmaker Denis Villeneuve's most...</td>\n      <td>4/5</td>\n      <td>POSITIVE</td>\n    </tr>\n    <tr>\n      <th>2</th>\n      <td>Arrival</td>\n      <td>The best film of 2016. A motion picture that t...</td>\n      <td>4/4</td>\n      <td>POSITIVE</td>\n    </tr>\n    <tr>\n      <th>33</th>\n      <td>Arrival</td>\n      <td>Arrival will challenge us to think and to ques...</td>\n      <td>9/10</td>\n      <td>POSITIVE</td>\n    </tr>\n    <tr>\n      <th>286</th>\n      <td>Arrival</td>\n      <td>By turns inviting and opaque, Ms. Adams turns ...</td>\n      <td></td>\n      <td>POSITIVE</td>\n    </tr>\n    <tr>\n      <th>227</th>\n      <td>Arrival</td>\n      <td>[Villeneuve creates] a mood of lingering uneas...</td>\n      <td>3.5/4</td>\n      <td>POSITIVE</td>\n    </tr>\n    <tr>\n      <th>236</th>\n      <td>Arrival</td>\n      <td>With Arrival, Villeneuve finally finds a subje...</td>\n      <td>4/5</td>\n      <td>POSITIVE</td>\n    </tr>\n    <tr>\n      <th>214</th>\n      <td>Arrival</td>\n      <td>Stealthy signals, unforgettable moments and Jo...</td>\n      <td>5/5</td>\n      <td>POSITIVE</td>\n    </tr>\n  </tbody>\n</table>\n</div>",
      "text/plain": "       title                                              quote scoreOri  \\\n70   Arrival  The director really allowed moments to breathe...            \n50   Arrival  A film about the importance of the language. T...      3/5   \n190  Arrival  Arrival should be required viewing of every li...      5/5   \n54   Arrival               ...refreshing and thought-provoking.            \n61   Arrival  It's a film that demands to be re-seen almost ...     9/10   \n303  Arrival  That \"Arrival\" works so well is in large part ...    3.5/4   \n67   Arrival  Provokes the Sci-Fi normal blockbuster genre b...      4/5   \n309  Arrival  Much of the film sees the camera focusing on A...            \n51   Arrival  Arrival is...filmmaker Denis Villeneuve's most...      4/5   \n2    Arrival  The best film of 2016. A motion picture that t...      4/4   \n33   Arrival  Arrival will challenge us to think and to ques...     9/10   \n286  Arrival  By turns inviting and opaque, Ms. Adams turns ...            \n227  Arrival  [Villeneuve creates] a mood of lingering uneas...    3.5/4   \n236  Arrival  With Arrival, Villeneuve finally finds a subje...      4/5   \n214  Arrival  Stealthy signals, unforgettable moments and Jo...      5/5   \n\n    scoreSentiment  \n70        POSITIVE  \n50        POSITIVE  \n190       POSITIVE  \n54        POSITIVE  \n61        POSITIVE  \n303       POSITIVE  \n67        POSITIVE  \n309       POSITIVE  \n51        POSITIVE  \n2         POSITIVE  \n33        POSITIVE  \n286       POSITIVE  \n227       POSITIVE  \n236       POSITIVE  \n214       POSITIVE  "
     },
     "execution_count": 8,
     "metadata": {},
     "output_type": "execute_result"
    }
   ],
   "execution_count": null
  },
  {
   "cell_type": "markdown",
   "source": "## Collection of Space Movies Critics Reviews",
   "metadata": {
    "cell_id": "00014-183cf8cd-5d26-4d4c-b340-6cc4ed2861f3",
    "deepnote_cell_type": "markdown",
    "deepnote_cell_height": 74
   }
  },
  {
   "cell_type": "code",
   "metadata": {
    "cell_id": "00015-5ea85d75-169c-4943-b77b-09d62b2f8b6d",
    "deepnote_cell_type": "code",
    "deepnote_cell_height": 665,
    "deepnote_output_heights": [
     496
    ]
   },
   "source": "# all movies\nframes = [interstellar_df, martian_df, arrival_df]\nall_movies_df = pd.concat(frames)\nall_movies_df.to_csv(\"critics reviews/all_movies.csv\", index = False)\nall_movies_df[['title', 'quote', 'scoreOri', 'scoreSentiment']].sample(15)",
   "outputs": [
    {
     "data": {
      "text/html": "<div>\n<style scoped>\n    .dataframe tbody tr th:only-of-type {\n        vertical-align: middle;\n    }\n\n    .dataframe tbody tr th {\n        vertical-align: top;\n    }\n\n    .dataframe thead th {\n        text-align: right;\n    }\n</style>\n<table border=\"1\" class=\"dataframe\">\n  <thead>\n    <tr style=\"text-align: right;\">\n      <th></th>\n      <th>title</th>\n      <th>quote</th>\n      <th>scoreOri</th>\n      <th>scoreSentiment</th>\n    </tr>\n  </thead>\n  <tbody>\n    <tr>\n      <th>15</th>\n      <td>Arrival</td>\n      <td>It's not easy to encounter a film that makes y...</td>\n      <td></td>\n      <td>POSITIVE</td>\n    </tr>\n    <tr>\n      <th>218</th>\n      <td>Interstellar</td>\n      <td>The best thing about Nolan is that he inspires...</td>\n      <td>B</td>\n      <td>POSITIVE</td>\n    </tr>\n    <tr>\n      <th>4</th>\n      <td>The Martian</td>\n      <td>The Martian somehow made the intricacies of gr...</td>\n      <td></td>\n      <td>POSITIVE</td>\n    </tr>\n    <tr>\n      <th>150</th>\n      <td>The Martian</td>\n      <td>One the smartest, sweetest, and most satisfyin...</td>\n      <td></td>\n      <td>POSITIVE</td>\n    </tr>\n    <tr>\n      <th>232</th>\n      <td>Arrival</td>\n      <td>Arrival is a smart tale of alien contact that ...</td>\n      <td>4/5</td>\n      <td>POSITIVE</td>\n    </tr>\n    <tr>\n      <th>263</th>\n      <td>The Martian</td>\n      <td>Upbeat and dramatically subdued,...it's charac...</td>\n      <td>B+</td>\n      <td>POSITIVE</td>\n    </tr>\n    <tr>\n      <th>360</th>\n      <td>The Martian</td>\n      <td>A pure delight, a tense survival tale leavened...</td>\n      <td></td>\n      <td>POSITIVE</td>\n    </tr>\n    <tr>\n      <th>330</th>\n      <td>Arrival</td>\n      <td>How many sci-fi movies actually give you ideas...</td>\n      <td>3/4</td>\n      <td>POSITIVE</td>\n    </tr>\n    <tr>\n      <th>255</th>\n      <td>The Martian</td>\n      <td>Damon is terrific. The movie lives and breathe...</td>\n      <td>3.5/4</td>\n      <td>POSITIVE</td>\n    </tr>\n    <tr>\n      <th>122</th>\n      <td>Arrival</td>\n      <td>A captivating story that presents an ideal to ...</td>\n      <td></td>\n      <td>POSITIVE</td>\n    </tr>\n    <tr>\n      <th>230</th>\n      <td>Arrival</td>\n      <td>The movie engaged my brain. But it didn't capt...</td>\n      <td></td>\n      <td>POSITIVE</td>\n    </tr>\n    <tr>\n      <th>47</th>\n      <td>Interstellar</td>\n      <td>Nolan's refreshing love affair with self-deter...</td>\n      <td></td>\n      <td>NEGATIVE</td>\n    </tr>\n    <tr>\n      <th>211</th>\n      <td>Interstellar</td>\n      <td>Brainy blockbuster maestro Christopher Nolan h...</td>\n      <td>3.5/5</td>\n      <td>POSITIVE</td>\n    </tr>\n    <tr>\n      <th>189</th>\n      <td>Arrival</td>\n      <td>Beautifully shot and executed, though you migh...</td>\n      <td>B+</td>\n      <td>POSITIVE</td>\n    </tr>\n    <tr>\n      <th>296</th>\n      <td>Interstellar</td>\n      <td>The film offers grand visuals, including a biz...</td>\n      <td>3.5/5</td>\n      <td>POSITIVE</td>\n    </tr>\n  </tbody>\n</table>\n</div>",
      "text/plain": "            title                                              quote scoreOri  \\\n15        Arrival  It's not easy to encounter a film that makes y...            \n218  Interstellar  The best thing about Nolan is that he inspires...        B   \n4     The Martian  The Martian somehow made the intricacies of gr...            \n150   The Martian  One the smartest, sweetest, and most satisfyin...            \n232       Arrival  Arrival is a smart tale of alien contact that ...      4/5   \n263   The Martian  Upbeat and dramatically subdued,...it's charac...       B+   \n360   The Martian  A pure delight, a tense survival tale leavened...            \n330       Arrival  How many sci-fi movies actually give you ideas...      3/4   \n255   The Martian  Damon is terrific. The movie lives and breathe...    3.5/4   \n122       Arrival  A captivating story that presents an ideal to ...            \n230       Arrival  The movie engaged my brain. But it didn't capt...            \n47   Interstellar  Nolan's refreshing love affair with self-deter...            \n211  Interstellar  Brainy blockbuster maestro Christopher Nolan h...    3.5/5   \n189       Arrival  Beautifully shot and executed, though you migh...       B+   \n296  Interstellar  The film offers grand visuals, including a biz...    3.5/5   \n\n    scoreSentiment  \n15        POSITIVE  \n218       POSITIVE  \n4         POSITIVE  \n150       POSITIVE  \n232       POSITIVE  \n263       POSITIVE  \n360       POSITIVE  \n330       POSITIVE  \n255       POSITIVE  \n122       POSITIVE  \n230       POSITIVE  \n47        NEGATIVE  \n211       POSITIVE  \n189       POSITIVE  \n296       POSITIVE  "
     },
     "execution_count": 10,
     "metadata": {},
     "output_type": "execute_result"
    }
   ],
   "execution_count": null
  },
  {
   "cell_type": "markdown",
   "source": "<a style='text-decoration:none;line-height:16px;display:flex;color:#5B5B62;padding:10px;justify-content:end;' href='https://deepnote.com?utm_source=created-in-deepnote-cell&projectId=53ef1faa-b7a9-4637-b54c-3b067e58670d' target=\"_blank\">\n<img alt='Created in deepnote.com' style='display:inline;max-height:16px;margin:0px;margin-right:7.5px;' src='data:image/svg+xml;base64,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' > </img>\nCreated in <span style='font-weight:600;margin-left:4px;'>Deepnote</span></a>",
   "metadata": {
    "tags": [],
    "created_in_deepnote_cell": true,
    "deepnote_cell_type": "markdown"
   }
  }
 ],
 "nbformat": 4,
 "nbformat_minor": 2,
 "metadata": {
  "kernelspec": {
   "display_name": "moviereviews",
   "language": "python",
   "name": "moviereviews"
  },
  "language_info": {
   "codemirror_mode": {
    "name": "ipython",
    "version": 3
   },
   "file_extension": ".py",
   "mimetype": "text/x-python",
   "name": "python",
   "nbconvert_exporter": "python",
   "pygments_lexer": "ipython3",
   "version": "3.9.12"
  },
  "orig_nbformat": 4,
  "deepnote_notebook_id": "0615d945-b28c-4822-9cb0-16435ffe0b22",
  "deepnote": {},
  "deepnote_execution_queue": []
 }
}