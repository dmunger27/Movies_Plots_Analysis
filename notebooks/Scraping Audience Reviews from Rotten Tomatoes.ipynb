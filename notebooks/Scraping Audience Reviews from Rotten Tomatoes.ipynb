{
 "cells": [
  {
   "cell_type": "markdown",
   "source": "# Packages",
   "metadata": {
    "cell_id": "558a3549-efbc-4dbb-b4e4-5cd854996479",
    "deepnote_cell_type": "markdown",
    "deepnote_cell_height": 82
   }
  },
  {
   "cell_type": "code",
   "metadata": {
    "cell_id": "00001-815599af-1d57-4755-8b4f-df5e34693182",
    "deepnote_cell_type": "code",
    "deepnote_cell_height": 156
   },
   "source": "import pandas as pd\nimport numpy as np\nimport requests\nfrom requests import TooManyRedirects\nimport re\nimport time",
   "execution_count": null,
   "outputs": []
  },
  {
   "cell_type": "markdown",
   "source": "# Scraping Audience Reviews Data from Rotten Tomatoes",
   "metadata": {
    "cell_id": "00002-13c41456-a386-42c3-8c80-4bb5758dffe1",
    "deepnote_cell_type": "markdown",
    "deepnote_cell_height": 134
   }
  },
  {
   "cell_type": "code",
   "metadata": {
    "cell_id": "00003-9f38f0b5-712b-40e3-9c4c-12973e5aa114",
    "deepnote_cell_type": "code",
    "deepnote_cell_height": 624
   },
   "source": "s = requests.Session()\n        \ndef get_reviews(url):\n    r = requests.get(url)\n    movie_id = re.findall(r'(?<=movieId\":\")(.*)(?=\",\"type)',r.text)[0]\n\n    api_url = f\"https://www.rottentomatoes.com/napi/movie/{movie_id}/reviews/user\" \n    #use reviews/user for user reviews\n    # use criticsReviews/all for critics reviews\n    \n    payload = {\n        'direction': 'next',\n        'endCursor': '',\n        'startCursor': '',\n    }\n    \n    review_data = []\n    \n    while True:\n        r = s.get(api_url, params=payload)\n        data = r.json()\n\n        if not data['pageInfo']['hasNextPage']:\n            break\n\n        payload['endCursor'] = data['pageInfo']['endCursor']\n        payload['startCursor'] = data['pageInfo']['startCursor'] if data['pageInfo'].get('startCursor') else ''\n\n        review_data.extend(data['reviews'])\n        time.sleep(1)\n    \n    return review_data",
   "execution_count": null,
   "outputs": []
  },
  {
   "cell_type": "markdown",
   "source": "# Popular Space Movies from 2010s",
   "metadata": {
    "cell_id": "00004-f2070568-0f68-45f4-8ffb-33746d4ced1c",
    "deepnote_cell_type": "markdown",
    "deepnote_cell_height": 82
   }
  },
  {
   "cell_type": "markdown",
   "source": "## Interstellar 2014",
   "metadata": {
    "cell_id": "00005-1d9ec739-44fa-494d-bd77-8e0c8912ba52",
    "deepnote_cell_type": "markdown",
    "deepnote_cell_height": 70
   }
  },
  {
   "cell_type": "code",
   "metadata": {
    "cell_id": "00006-13d07ba4-01bb-41c9-b40a-08708917a1b9",
    "deepnote_cell_type": "code",
    "deepnote_cell_height": 208,
    "deepnote_output_heights": [
     21
    ]
   },
   "source": "# audience reviews\ndata = get_reviews('https://www.rottentomatoes.com/m/interstellar_2014/reviews')\ninterstellar_df = pd.json_normalize(data)\ninterstellar_df['title'] = 'Interstellar'\ninterstellar_df.to_csv(\"audience reviews/interstellar_2014.csv\", index=False)\ninterstellar_df.shape",
   "execution_count": null,
   "outputs": [
    {
     "data": {
      "text/plain": "(12509, 15)"
     },
     "execution_count": 3,
     "metadata": {},
     "output_type": "execute_result"
    }
   ]
  },
  {
   "cell_type": "code",
   "metadata": {
    "cell_id": "00007-d5e9140b-015a-4aec-9de1-2b6484944227",
    "deepnote_cell_type": "code",
    "deepnote_cell_height": 564,
    "deepnote_output_heights": [
     467
    ]
   },
   "source": "interstellar_df[['title', 'review', 'rating']].sample(15)",
   "execution_count": null,
   "outputs": [
    {
     "data": {
      "text/html": "<div>\n<style scoped>\n    .dataframe tbody tr th:only-of-type {\n        vertical-align: middle;\n    }\n\n    .dataframe tbody tr th {\n        vertical-align: top;\n    }\n\n    .dataframe thead th {\n        text-align: right;\n    }\n</style>\n<table border=\"1\" class=\"dataframe\">\n  <thead>\n    <tr style=\"text-align: right;\">\n      <th></th>\n      <th>title</th>\n      <th>review</th>\n      <th>rating</th>\n    </tr>\n  </thead>\n  <tbody>\n    <tr>\n      <th>3363</th>\n      <td>Interstellar</td>\n      <td>Interstellar is a movie starring Matthew McCon...</td>\n      <td>4.5</td>\n    </tr>\n    <tr>\n      <th>10609</th>\n      <td>Interstellar</td>\n      <td>I don't know what bias I might have that would...</td>\n      <td>5.0</td>\n    </tr>\n    <tr>\n      <th>4652</th>\n      <td>Interstellar</td>\n      <td>This was the most anticipated movie of the yea...</td>\n      <td>5.0</td>\n    </tr>\n    <tr>\n      <th>6074</th>\n      <td>Interstellar</td>\n      <td>Don't quite get the adulation for this film. Y...</td>\n      <td>2.5</td>\n    </tr>\n    <tr>\n      <th>4447</th>\n      <td>Interstellar</td>\n      <td>Great, like the rest of Nolan's films.</td>\n      <td>4.5</td>\n    </tr>\n    <tr>\n      <th>844</th>\n      <td>Interstellar</td>\n      <td>While the ending of this film is incredibly st...</td>\n      <td>4.0</td>\n    </tr>\n    <tr>\n      <th>3500</th>\n      <td>Interstellar</td>\n      <td>A quite divisive film, I must say I fall into ...</td>\n      <td>4.5</td>\n    </tr>\n    <tr>\n      <th>7504</th>\n      <td>Interstellar</td>\n      <td>Go watch it.  Great movie to nerd out on.</td>\n      <td>5.0</td>\n    </tr>\n    <tr>\n      <th>10686</th>\n      <td>Interstellar</td>\n      <td>A breathtaking and thrilling film that shows t...</td>\n      <td>4.5</td>\n    </tr>\n    <tr>\n      <th>8086</th>\n      <td>Interstellar</td>\n      <td>Given the grand scope of this film, it has a v...</td>\n      <td>4.0</td>\n    </tr>\n    <tr>\n      <th>6828</th>\n      <td>Interstellar</td>\n      <td>Even with enormously ambitious ideas and a nic...</td>\n      <td>3.0</td>\n    </tr>\n    <tr>\n      <th>4535</th>\n      <td>Interstellar</td>\n      <td>One star for the chance to see a great group o...</td>\n      <td>1.0</td>\n    </tr>\n    <tr>\n      <th>6700</th>\n      <td>Interstellar</td>\n      <td>Terrible, terrible movie. I had such high expe...</td>\n      <td>1.0</td>\n    </tr>\n    <tr>\n      <th>1033</th>\n      <td>Interstellar</td>\n      <td>It's not perfect but it broke boundaries and i...</td>\n      <td>4.0</td>\n    </tr>\n    <tr>\n      <th>322</th>\n      <td>Interstellar</td>\n      <td>A story about family, human hope and and the p...</td>\n      <td>5.0</td>\n    </tr>\n  </tbody>\n</table>\n</div>",
      "text/plain": "              title                                             review  rating\n3363   Interstellar  Interstellar is a movie starring Matthew McCon...     4.5\n10609  Interstellar  I don't know what bias I might have that would...     5.0\n4652   Interstellar  This was the most anticipated movie of the yea...     5.0\n6074   Interstellar  Don't quite get the adulation for this film. Y...     2.5\n4447   Interstellar             Great, like the rest of Nolan's films.     4.5\n844    Interstellar  While the ending of this film is incredibly st...     4.0\n3500   Interstellar  A quite divisive film, I must say I fall into ...     4.5\n7504   Interstellar          Go watch it.  Great movie to nerd out on.     5.0\n10686  Interstellar  A breathtaking and thrilling film that shows t...     4.5\n8086   Interstellar  Given the grand scope of this film, it has a v...     4.0\n6828   Interstellar  Even with enormously ambitious ideas and a nic...     3.0\n4535   Interstellar  One star for the chance to see a great group o...     1.0\n6700   Interstellar  Terrible, terrible movie. I had such high expe...     1.0\n1033   Interstellar  It's not perfect but it broke boundaries and i...     4.0\n322    Interstellar  A story about family, human hope and and the p...     5.0"
     },
     "execution_count": 4,
     "metadata": {},
     "output_type": "execute_result"
    }
   ]
  },
  {
   "cell_type": "markdown",
   "source": "## The Martian 2015",
   "metadata": {
    "cell_id": "00008-030bd3e1-0b52-41f6-83aa-623bf8f1adbc",
    "deepnote_cell_type": "markdown",
    "deepnote_cell_height": 70
   }
  },
  {
   "cell_type": "code",
   "metadata": {
    "cell_id": "00009-606d37a8-f2b6-44c5-9eab-d2906de9629b",
    "deepnote_cell_type": "code",
    "deepnote_cell_height": 208,
    "deepnote_output_heights": [
     21
    ]
   },
   "source": "# audience reviews\ndata = get_reviews('https://www.rottentomatoes.com/m/the_martian/reviews')\nmartian_df = pd.json_normalize(data)\nmartian_df['title'] = 'The Martian'\nmartian_df.to_csv(\"audience reviews/the_martian_2015.csv\", index=False)\nmartian_df.shape",
   "execution_count": null,
   "outputs": [
    {
     "data": {
      "text/plain": "(7105, 15)"
     },
     "execution_count": 5,
     "metadata": {},
     "output_type": "execute_result"
    }
   ]
  },
  {
   "cell_type": "code",
   "metadata": {
    "cell_id": "00010-e4c7f251-4334-49b6-86c6-4f0c3c3c64c5",
    "deepnote_cell_type": "code",
    "deepnote_cell_height": 564,
    "deepnote_output_heights": [
     467
    ]
   },
   "source": "martian_df[['title', 'review', 'rating']].sample(15)",
   "execution_count": null,
   "outputs": [
    {
     "data": {
      "text/html": "<div>\n<style scoped>\n    .dataframe tbody tr th:only-of-type {\n        vertical-align: middle;\n    }\n\n    .dataframe tbody tr th {\n        vertical-align: top;\n    }\n\n    .dataframe thead th {\n        text-align: right;\n    }\n</style>\n<table border=\"1\" class=\"dataframe\">\n  <thead>\n    <tr style=\"text-align: right;\">\n      <th></th>\n      <th>title</th>\n      <th>review</th>\n      <th>rating</th>\n    </tr>\n  </thead>\n  <tbody>\n    <tr>\n      <th>4069</th>\n      <td>The Martian</td>\n      <td>Hahaha I just love how he used his own feces t...</td>\n      <td>5.0</td>\n    </tr>\n    <tr>\n      <th>665</th>\n      <td>The Martian</td>\n      <td>Aside from a few inconsistencies, the plot of ...</td>\n      <td>4.5</td>\n    </tr>\n    <tr>\n      <th>1166</th>\n      <td>The Martian</td>\n      <td>Terrific inspiring sci-fi. Best PR move that s...</td>\n      <td>4.5</td>\n    </tr>\n    <tr>\n      <th>1310</th>\n      <td>The Martian</td>\n      <td>The Martian is such a great space exploration ...</td>\n      <td>5.0</td>\n    </tr>\n    <tr>\n      <th>4773</th>\n      <td>The Martian</td>\n      <td>Great movie. It was the right amount of humor ...</td>\n      <td>5.0</td>\n    </tr>\n    <tr>\n      <th>6419</th>\n      <td>The Martian</td>\n      <td>Great film wrong Actor :(</td>\n      <td>4.0</td>\n    </tr>\n    <tr>\n      <th>1560</th>\n      <td>The Martian</td>\n      <td>smart witty funny intelligent a wonderful film...</td>\n      <td>5.0</td>\n    </tr>\n    <tr>\n      <th>2708</th>\n      <td>The Martian</td>\n      <td>Loved the movie, though I sort of found it too...</td>\n      <td>4.0</td>\n    </tr>\n    <tr>\n      <th>311</th>\n      <td>The Martian</td>\n      <td>While I'm giving this a three star rating it's...</td>\n      <td>3.0</td>\n    </tr>\n    <tr>\n      <th>5837</th>\n      <td>The Martian</td>\n      <td>Ridley Scott proves once again why he is an ex...</td>\n      <td>4.5</td>\n    </tr>\n    <tr>\n      <th>1418</th>\n      <td>The Martian</td>\n      <td>If you want to watch a film that features Ridl...</td>\n      <td>4.5</td>\n    </tr>\n    <tr>\n      <th>5943</th>\n      <td>The Martian</td>\n      <td>They couldn't have made this movie any better....</td>\n      <td>5.0</td>\n    </tr>\n    <tr>\n      <th>1341</th>\n      <td>The Martian</td>\n      <td>I watched on the plane  , without the enhancem...</td>\n      <td>2.5</td>\n    </tr>\n    <tr>\n      <th>6848</th>\n      <td>The Martian</td>\n      <td>I like it. I read the book and felt a lot of d...</td>\n      <td>4.5</td>\n    </tr>\n    <tr>\n      <th>3249</th>\n      <td>The Martian</td>\n      <td>Has a few pacing issues but they are more than...</td>\n      <td>4.5</td>\n    </tr>\n  </tbody>\n</table>\n</div>",
      "text/plain": "            title                                             review  rating\n4069  The Martian  Hahaha I just love how he used his own feces t...     5.0\n665   The Martian  Aside from a few inconsistencies, the plot of ...     4.5\n1166  The Martian  Terrific inspiring sci-fi. Best PR move that s...     4.5\n1310  The Martian  The Martian is such a great space exploration ...     5.0\n4773  The Martian  Great movie. It was the right amount of humor ...     5.0\n6419  The Martian                          Great film wrong Actor :(     4.0\n1560  The Martian  smart witty funny intelligent a wonderful film...     5.0\n2708  The Martian  Loved the movie, though I sort of found it too...     4.0\n311   The Martian  While I'm giving this a three star rating it's...     3.0\n5837  The Martian  Ridley Scott proves once again why he is an ex...     4.5\n1418  The Martian  If you want to watch a film that features Ridl...     4.5\n5943  The Martian  They couldn't have made this movie any better....     5.0\n1341  The Martian  I watched on the plane  , without the enhancem...     2.5\n6848  The Martian  I like it. I read the book and felt a lot of d...     4.5\n3249  The Martian  Has a few pacing issues but they are more than...     4.5"
     },
     "execution_count": 6,
     "metadata": {},
     "output_type": "execute_result"
    }
   ]
  },
  {
   "cell_type": "markdown",
   "source": "## Arrival 2016 ",
   "metadata": {
    "cell_id": "00011-9f729c51-0ae0-47d6-b94c-02b965fbf80f",
    "deepnote_cell_type": "markdown",
    "deepnote_cell_height": 70
   }
  },
  {
   "cell_type": "code",
   "metadata": {
    "cell_id": "00012-a334f2d3-8da5-40d3-94bf-c5f6f5bc8833",
    "deepnote_cell_type": "code",
    "deepnote_cell_height": 208,
    "deepnote_output_heights": [
     21
    ]
   },
   "source": "# audience reviews\ndata = get_reviews('https://www.rottentomatoes.com/m/arrival_2016/reviews')\narrival_df = pd.json_normalize(data)\narrival_df['title'] = 'Arrival'\narrival_df.to_csv(\"audience reviews/arrival_2016.csv\", index=False)\narrival_df.shape",
   "execution_count": null,
   "outputs": [
    {
     "data": {
      "text/plain": "(5936, 14)"
     },
     "execution_count": 7,
     "metadata": {},
     "output_type": "execute_result"
    }
   ]
  },
  {
   "cell_type": "code",
   "metadata": {
    "cell_id": "00013-92160fc4-a600-40ea-aea7-95f4c7adf0ab",
    "deepnote_cell_type": "code",
    "deepnote_cell_height": 564,
    "deepnote_output_heights": [
     467
    ]
   },
   "source": "arrival_df[['title', 'review', 'rating']].sample(15)",
   "execution_count": null,
   "outputs": [
    {
     "data": {
      "text/html": "<div>\n<style scoped>\n    .dataframe tbody tr th:only-of-type {\n        vertical-align: middle;\n    }\n\n    .dataframe tbody tr th {\n        vertical-align: top;\n    }\n\n    .dataframe thead th {\n        text-align: right;\n    }\n</style>\n<table border=\"1\" class=\"dataframe\">\n  <thead>\n    <tr style=\"text-align: right;\">\n      <th></th>\n      <th>title</th>\n      <th>review</th>\n      <th>rating</th>\n    </tr>\n  </thead>\n  <tbody>\n    <tr>\n      <th>4289</th>\n      <td>Arrival</td>\n      <td>Yikes I'm not sure why this thing did so well</td>\n      <td>2.5</td>\n    </tr>\n    <tr>\n      <th>1002</th>\n      <td>Arrival</td>\n      <td>Great film, piece of art</td>\n      <td>5.0</td>\n    </tr>\n    <tr>\n      <th>3008</th>\n      <td>Arrival</td>\n      <td>One of the best movies this year.</td>\n      <td>4.5</td>\n    </tr>\n    <tr>\n      <th>3149</th>\n      <td>Arrival</td>\n      <td>I'm a sci-fi buff and I was ready to walk out ...</td>\n      <td>0.5</td>\n    </tr>\n    <tr>\n      <th>4557</th>\n      <td>Arrival</td>\n      <td>Arrival is a phenomenal film with beautiful ci...</td>\n      <td>5.0</td>\n    </tr>\n    <tr>\n      <th>339</th>\n      <td>Arrival</td>\n      <td>Some amazing concepts are there.Very sad.But v...</td>\n      <td>5.0</td>\n    </tr>\n    <tr>\n      <th>5710</th>\n      <td>Arrival</td>\n      <td>Smart, beautiful, and poignant. Arrival is one...</td>\n      <td>4.5</td>\n    </tr>\n    <tr>\n      <th>5764</th>\n      <td>Arrival</td>\n      <td>Arrival squanders it's beautiful premise with ...</td>\n      <td>3.0</td>\n    </tr>\n    <tr>\n      <th>4745</th>\n      <td>Arrival</td>\n      <td>Arrival is an intelligent work of art that dra...</td>\n      <td>5.0</td>\n    </tr>\n    <tr>\n      <th>5420</th>\n      <td>Arrival</td>\n      <td>The way this was a massive and personal story ...</td>\n      <td>4.5</td>\n    </tr>\n    <tr>\n      <th>3309</th>\n      <td>Arrival</td>\n      <td>Slow paced but deliberate. Really good at keep...</td>\n      <td>4.0</td>\n    </tr>\n    <tr>\n      <th>588</th>\n      <td>Arrival</td>\n      <td>Not sure how this movie ended up with so many ...</td>\n      <td>1.5</td>\n    </tr>\n    <tr>\n      <th>4446</th>\n      <td>Arrival</td>\n      <td>Good movie, but don't drink alcohol before wat...</td>\n      <td>4.0</td>\n    </tr>\n    <tr>\n      <th>766</th>\n      <td>Arrival</td>\n      <td>I thought the movie started out well....it had...</td>\n      <td>3.5</td>\n    </tr>\n    <tr>\n      <th>1025</th>\n      <td>Arrival</td>\n      <td>Finally - after a long time, a movie that made...</td>\n      <td>3.5</td>\n    </tr>\n  </tbody>\n</table>\n</div>",
      "text/plain": "        title                                             review  rating\n4289  Arrival      Yikes I'm not sure why this thing did so well     2.5\n1002  Arrival                           Great film, piece of art     5.0\n3008  Arrival                  One of the best movies this year.     4.5\n3149  Arrival  I'm a sci-fi buff and I was ready to walk out ...     0.5\n4557  Arrival  Arrival is a phenomenal film with beautiful ci...     5.0\n339   Arrival  Some amazing concepts are there.Very sad.But v...     5.0\n5710  Arrival  Smart, beautiful, and poignant. Arrival is one...     4.5\n5764  Arrival  Arrival squanders it's beautiful premise with ...     3.0\n4745  Arrival  Arrival is an intelligent work of art that dra...     5.0\n5420  Arrival  The way this was a massive and personal story ...     4.5\n3309  Arrival  Slow paced but deliberate. Really good at keep...     4.0\n588   Arrival  Not sure how this movie ended up with so many ...     1.5\n4446  Arrival  Good movie, but don't drink alcohol before wat...     4.0\n766   Arrival  I thought the movie started out well....it had...     3.5\n1025  Arrival  Finally - after a long time, a movie that made...     3.5"
     },
     "execution_count": 9,
     "metadata": {},
     "output_type": "execute_result"
    }
   ]
  },
  {
   "cell_type": "markdown",
   "source": "## Collection of Space Movies Audience Reviews",
   "metadata": {
    "cell_id": "00014-5d9a0db6-e3f2-4436-8b54-a3b131f5ac30",
    "deepnote_cell_type": "markdown",
    "deepnote_cell_height": 70
   }
  },
  {
   "cell_type": "code",
   "metadata": {
    "cell_id": "00015-f997cf32-2d01-41e4-9533-e185b3ddd7e5",
    "deepnote_cell_type": "code",
    "deepnote_cell_height": 636,
    "deepnote_output_heights": [
     467
    ]
   },
   "source": "# all movies\nframes = [interstellar_df, martian_df, arrival_df]\nall_movies_df = pd.concat(frames)\nall_movies_df.to_csv(\"audience reviews/all_movies.csv\", index = False)\nall_movies_df[['title', 'review', 'rating']].sample(15)",
   "execution_count": null,
   "outputs": [
    {
     "data": {
      "text/html": "<div>\n<style scoped>\n    .dataframe tbody tr th:only-of-type {\n        vertical-align: middle;\n    }\n\n    .dataframe tbody tr th {\n        vertical-align: top;\n    }\n\n    .dataframe thead th {\n        text-align: right;\n    }\n</style>\n<table border=\"1\" class=\"dataframe\">\n  <thead>\n    <tr style=\"text-align: right;\">\n      <th></th>\n      <th>title</th>\n      <th>review</th>\n      <th>rating</th>\n    </tr>\n  </thead>\n  <tbody>\n    <tr>\n      <th>427</th>\n      <td>Arrival</td>\n      <td>Melhor filme de ficÃ§Ã£o dos Ãºltimos anos!</td>\n      <td>4.0</td>\n    </tr>\n    <tr>\n      <th>3175</th>\n      <td>Arrival</td>\n      <td>Films don't get better than this. First contac...</td>\n      <td>5.0</td>\n    </tr>\n    <tr>\n      <th>6614</th>\n      <td>Interstellar</td>\n      <td>An amazing movie. Despite it being a 3 hour fi...</td>\n      <td>4.5</td>\n    </tr>\n    <tr>\n      <th>5408</th>\n      <td>Interstellar</td>\n      <td>I may need to watch it again when I get my doc...</td>\n      <td>5.0</td>\n    </tr>\n    <tr>\n      <th>2285</th>\n      <td>Interstellar</td>\n      <td>Amazing film, terrible soundtrack.\\n\\nSo who g...</td>\n      <td>5.0</td>\n    </tr>\n    <tr>\n      <th>4076</th>\n      <td>Arrival</td>\n      <td>Awesome! I need to watch it again...</td>\n      <td>4.0</td>\n    </tr>\n    <tr>\n      <th>5287</th>\n      <td>The Martian</td>\n      <td>Wife says its a five, so it's a five. Loved th...</td>\n      <td>5.0</td>\n    </tr>\n    <tr>\n      <th>5414</th>\n      <td>The Martian</td>\n      <td>This year's Gravity. Ridley Scott is on his ga...</td>\n      <td>5.0</td>\n    </tr>\n    <tr>\n      <th>5425</th>\n      <td>The Martian</td>\n      <td>I loved the book because of the science and th...</td>\n      <td>3.0</td>\n    </tr>\n    <tr>\n      <th>9884</th>\n      <td>Interstellar</td>\n      <td>Saw it today in IMAX 70 mm. Mind blowing exper...</td>\n      <td>5.0</td>\n    </tr>\n    <tr>\n      <th>2405</th>\n      <td>The Martian</td>\n      <td>Movie was ok - no waste of money</td>\n      <td>3.0</td>\n    </tr>\n    <tr>\n      <th>4187</th>\n      <td>Interstellar</td>\n      <td>A very original story.</td>\n      <td>5.0</td>\n    </tr>\n    <tr>\n      <th>880</th>\n      <td>Arrival</td>\n      <td>Simply marvelous. Excellent script, actors, ev...</td>\n      <td>5.0</td>\n    </tr>\n    <tr>\n      <th>684</th>\n      <td>Interstellar</td>\n      <td>It so good great scifi movie about saving mank...</td>\n      <td>4.0</td>\n    </tr>\n    <tr>\n      <th>9224</th>\n      <td>Interstellar</td>\n      <td>If you want to see Matthew McConaughey wax poe...</td>\n      <td>2.0</td>\n    </tr>\n  </tbody>\n</table>\n</div>",
      "text/plain": "             title                                             review  rating\n427        Arrival        Melhor filme de ficÃ§Ã£o dos Ãºltimos anos!     4.0\n3175       Arrival  Films don't get better than this. First contac...     5.0\n6614  Interstellar  An amazing movie. Despite it being a 3 hour fi...     4.5\n5408  Interstellar  I may need to watch it again when I get my doc...     5.0\n2285  Interstellar  Amazing film, terrible soundtrack.\\n\\nSo who g...     5.0\n4076       Arrival               Awesome! I need to watch it again...     4.0\n5287   The Martian  Wife says its a five, so it's a five. Loved th...     5.0\n5414   The Martian  This year's Gravity. Ridley Scott is on his ga...     5.0\n5425   The Martian  I loved the book because of the science and th...     3.0\n9884  Interstellar  Saw it today in IMAX 70 mm. Mind blowing exper...     5.0\n2405   The Martian                   Movie was ok - no waste of money     3.0\n4187  Interstellar                             A very original story.     5.0\n880        Arrival  Simply marvelous. Excellent script, actors, ev...     5.0\n684   Interstellar  It so good great scifi movie about saving mank...     4.0\n9224  Interstellar  If you want to see Matthew McConaughey wax poe...     2.0"
     },
     "execution_count": 10,
     "metadata": {},
     "output_type": "execute_result"
    }
   ]
  },
  {
   "cell_type": "markdown",
   "source": "<a style='text-decoration:none;line-height:16px;display:flex;color:#5B5B62;padding:10px;justify-content:end;' href='https://deepnote.com?utm_source=created-in-deepnote-cell&projectId=53ef1faa-b7a9-4637-b54c-3b067e58670d' target=\"_blank\">\n<img alt='Created in deepnote.com' style='display:inline;max-height:16px;margin:0px;margin-right:7.5px;' src='data:image/svg+xml;base64,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' > </img>\nCreated in <span style='font-weight:600;margin-left:4px;'>Deepnote</span></a>",
   "metadata": {
    "tags": [],
    "created_in_deepnote_cell": true,
    "deepnote_cell_type": "markdown"
   }
  }
 ],
 "nbformat": 4,
 "nbformat_minor": 2,
 "metadata": {
  "kernelspec": {
   "display_name": "moviereviews",
   "language": "python",
   "name": "moviereviews"
  },
  "language_info": {
   "codemirror_mode": {
    "name": "ipython",
    "version": 3
   },
   "file_extension": ".py",
   "mimetype": "text/x-python",
   "name": "python",
   "nbconvert_exporter": "python",
   "pygments_lexer": "ipython3",
   "version": "3.9.12"
  },
  "orig_nbformat": 4,
  "deepnote_notebook_id": "7f5dccb9-9a06-40ac-8bf3-37c9f7e9b63d",
  "deepnote": {},
  "deepnote_execution_queue": []
 }
}