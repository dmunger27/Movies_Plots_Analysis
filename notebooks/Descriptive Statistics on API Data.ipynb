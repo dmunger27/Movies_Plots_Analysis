{
 "cells": [
  {
   "cell_type": "markdown",
   "source": "# Packages",
   "metadata": {
    "cell_id": "5e85f115f3194b94bb4e528439d5c722",
    "tags": [],
    "deepnote_cell_type": "markdown",
    "deepnote_cell_height": 87.19999694824219
   }
  },
  {
   "cell_type": "code",
   "metadata": {
    "cell_id": "169e56d3f5cf4c809bb73af25db1a585",
    "tags": [],
    "deepnote_to_be_reexecuted": false,
    "source_hash": "7ca46ab1",
    "execution_start": 1655447334305,
    "execution_millis": 1556,
    "deepnote_cell_type": "code",
    "deepnote_cell_height": 297
   },
   "source": "import pandas as pd\nimport numpy as np\nimport requests\nfrom requests import TooManyRedirects\nimport re\nimport omdb\nimport time\nfrom collections import Counter, defaultdict\nimport nltk\n#nltk.download('stopwords')\nfrom nltk.corpus import stopwords\nfrom string import punctuation\nsw = stopwords.words(\"english\")",
   "execution_count": 1,
   "outputs": []
  },
  {
   "cell_type": "markdown",
   "source": "---- \n# Loading the Raw Data from API",
   "metadata": {
    "cell_id": "0a14b29258204fca8c8c49eb6d8d78cb",
    "tags": [],
    "deepnote_cell_type": "markdown",
    "deepnote_cell_height": 88.19999694824219
   }
  },
  {
   "cell_type": "code",
   "metadata": {
    "cell_id": "d041327e1ab64a25ad604422492c10d5",
    "tags": [],
    "deepnote_to_be_reexecuted": false,
    "source_hash": "d960796",
    "execution_start": 1655447335868,
    "execution_millis": 605,
    "deepnote_table_state": {
     "pageSize": 10,
     "pageIndex": 0,
     "filters": [],
     "sortBy": []
    },
    "deepnote_table_loading": false,
    "deepnote_cell_type": "code",
    "deepnote_cell_height": 658
   },
   "source": "# Read in csv data as pandas data frame\nmovies_info = pd.read_csv(\"Raw Movie Data.csv\")\n# see a random subset of 15 samples\nmovies_info.sample(15)",
   "execution_count": 2,
   "outputs": [
    {
     "output_type": "execute_result",
     "execution_count": 2,
     "data": {
      "application/vnd.deepnote.dataframe.v3+json": {
       "column_count": 25,
       "row_count": 15,
       "columns": [
        {
         "name": "title",
         "dtype": "object",
         "stats": {
          "unique_count": 15,
          "nan_count": 0,
          "categories": [
           {
            "name": "Impractical Jokers: One Night at the Grand",
            "count": 1
           },
           {
            "name": "On the One Road",
            "count": 1
           },
           {
            "name": "13 others",
            "count": 13
           }
          ]
         }
        },
        {
         "name": "year",
         "dtype": "int64",
         "stats": {
          "unique_count": 11,
          "nan_count": 0,
          "min": "1900",
          "max": "2019",
          "histogram": [
           {
            "bin_start": 1900,
            "bin_end": 1911.9,
            "count": 2
           },
           {
            "bin_start": 1911.9,
            "bin_end": 1923.8,
            "count": 0
           },
           {
            "bin_start": 1923.8,
            "bin_end": 1935.7,
            "count": 0
           },
           {
            "bin_start": 1935.7,
            "bin_end": 1947.6,
            "count": 0
           },
           {
            "bin_start": 1947.6,
            "bin_end": 1959.5,
            "count": 0
           },
           {
            "bin_start": 1959.5,
            "bin_end": 1971.4,
            "count": 0
           },
           {
            "bin_start": 1971.4,
            "bin_end": 1983.3,
            "count": 3
           },
           {
            "bin_start": 1983.3,
            "bin_end": 1995.2,
            "count": 0
           },
           {
            "bin_start": 1995.2,
            "bin_end": 2007.1,
            "count": 0
           },
           {
            "bin_start": 2007.1,
            "bin_end": 2019,
            "count": 10
           }
          ]
         }
        },
        {
         "name": "rated",
         "dtype": "object",
         "stats": {
          "unique_count": 0,
          "nan_count": 15,
          "categories": [
           {
            "name": "Missing",
            "count": 15
           }
          ]
         }
        },
        {
         "name": "released",
         "dtype": "object",
         "stats": {
          "unique_count": 10,
          "nan_count": 5,
          "categories": [
           {
            "name": "01 Sep 2016",
            "count": 1
           },
           {
            "name": "9 others",
            "count": 9
           },
           {
            "name": "Missing",
            "count": 5
           }
          ]
         }
        },
        {
         "name": "runtime",
         "dtype": "object",
         "stats": {
          "unique_count": 8,
          "nan_count": 7,
          "categories": [
           {
            "name": "24 min",
            "count": 1
           },
           {
            "name": "7 others",
            "count": 7
           },
           {
            "name": "Missing",
            "count": 7
           }
          ]
         }
        },
        {
         "name": "genre",
         "dtype": "object",
         "stats": {
          "unique_count": 12,
          "nan_count": 0,
          "categories": [
           {
            "name": "Comedy",
            "count": 2
           },
           {
            "name": "Short, Drama",
            "count": 2
           },
           {
            "name": "10 others",
            "count": 11
           }
          ]
         }
        },
        {
         "name": "director",
         "dtype": "object",
         "stats": {
          "unique_count": 13,
          "nan_count": 2,
          "categories": [
           {
            "name": "Shannon Hartman",
            "count": 1
           },
           {
            "name": "12 others",
            "count": 12
           },
           {
            "name": "Missing",
            "count": 2
           }
          ]
         }
        },
        {
         "name": "writer",
         "dtype": "object",
         "stats": {
          "unique_count": 10,
          "nan_count": 5,
          "categories": [
           {
            "name": "Mark Doherty, Jonathan Kesselman",
            "count": 1
           },
           {
            "name": "9 others",
            "count": 9
           },
           {
            "name": "Missing",
            "count": 5
           }
          ]
         }
        },
        {
         "name": "actors",
         "dtype": "object",
         "stats": {
          "unique_count": 10,
          "nan_count": 5,
          "categories": [
           {
            "name": "Aiden, Erica, Joe Gatto, James Murray",
            "count": 1
           },
           {
            "name": "9 others",
            "count": 9
           },
           {
            "name": "Missing",
            "count": 5
           }
          ]
         }
        },
        {
         "name": "plot",
         "dtype": "object",
         "stats": {
          "unique_count": 7,
          "nan_count": 8,
          "categories": [
           {
            "name": "An American efficiency expert and an Irishman with absolutely nothing in common are locked together on a disastrous journey through Ireland.",
            "count": 1
           },
           {
            "name": "6 others",
            "count": 6
           },
           {
            "name": "Missing",
            "count": 8
           }
          ]
         }
        },
        {
         "name": "language",
         "dtype": "object",
         "stats": {
          "unique_count": 2,
          "nan_count": 3,
          "categories": [
           {
            "name": "English",
            "count": 11
           },
           {
            "name": "French",
            "count": 1
           },
           {
            "name": "Missing",
            "count": 3
           }
          ]
         }
        },
        {
         "name": "country",
         "dtype": "object",
         "stats": {
          "unique_count": 6,
          "nan_count": 1,
          "categories": [
           {
            "name": "USA",
            "count": 6
           },
           {
            "name": "5 others",
            "count": 8
           },
           {
            "name": "Missing",
            "count": 1
           }
          ]
         }
        },
        {
         "name": "awards",
         "dtype": "object",
         "stats": {
          "unique_count": 3,
          "nan_count": 12,
          "categories": [
           {
            "name": "1 win.",
            "count": 1
           },
           {
            "name": "2 others",
            "count": 2
           },
           {
            "name": "Missing",
            "count": 12
           }
          ]
         }
        },
        {
         "name": "poster",
         "dtype": "object",
         "stats": {
          "unique_count": 5,
          "nan_count": 10,
          "categories": [
           {
            "name": "https://m.media-amazon.com/images/M/MV5BMmExMGU5YzUtMmJlYi00YWNjLTkwNTEtMTU3Nzk4ZTFlNjhlXkEyXkFqcGdeQXVyMTEzNzczMA@@._V1_SX300.jpg",
            "count": 1
           },
           {
            "name": "4 others",
            "count": 4
           },
           {
            "name": "Missing",
            "count": 10
           }
          ]
         }
        },
        {
         "name": "ratings",
         "dtype": "object",
         "stats": {
          "unique_count": 3,
          "nan_count": 0,
          "categories": [
           {
            "name": "[]",
            "count": 13
           },
           {
            "name": "[{'source': 'Internet Movie Database', 'value': '8.3/10'}]",
            "count": 1
           },
           {
            "name": "[{'source': 'Internet Movie Database', 'value': '6.0/10'}]",
            "count": 1
           }
          ]
         }
        },
        {
         "name": "metascore",
         "dtype": "float64",
         "stats": {
          "unique_count": 0,
          "nan_count": 15,
          "min": null,
          "max": null,
          "histogram": [
           {
            "bin_start": 0,
            "bin_end": 0.1,
            "count": 0
           },
           {
            "bin_start": 0.1,
            "bin_end": 0.2,
            "count": 0
           },
           {
            "bin_start": 0.2,
            "bin_end": 0.30000000000000004,
            "count": 0
           },
           {
            "bin_start": 0.30000000000000004,
            "bin_end": 0.4,
            "count": 0
           },
           {
            "bin_start": 0.4,
            "bin_end": 0.5,
            "count": 0
           },
           {
            "bin_start": 0.5,
            "bin_end": 0.6000000000000001,
            "count": 0
           },
           {
            "bin_start": 0.6000000000000001,
            "bin_end": 0.7000000000000001,
            "count": 0
           },
           {
            "bin_start": 0.7000000000000001,
            "bin_end": 0.8,
            "count": 0
           },
           {
            "bin_start": 0.8,
            "bin_end": 0.9,
            "count": 0
           },
           {
            "bin_start": 0.9,
            "bin_end": 1,
            "count": 0
           }
          ]
         }
        },
        {
         "name": "imdb_rating",
         "dtype": "float64",
         "stats": {
          "unique_count": 2,
          "nan_count": 13,
          "min": "6.0",
          "max": "8.3",
          "histogram": [
           {
            "bin_start": 6,
            "bin_end": 6.23,
            "count": 1
           },
           {
            "bin_start": 6.23,
            "bin_end": 6.46,
            "count": 0
           },
           {
            "bin_start": 6.46,
            "bin_end": 6.69,
            "count": 0
           },
           {
            "bin_start": 6.69,
            "bin_end": 6.92,
            "count": 0
           },
           {
            "bin_start": 6.92,
            "bin_end": 7.15,
            "count": 0
           },
           {
            "bin_start": 7.15,
            "bin_end": 7.380000000000001,
            "count": 0
           },
           {
            "bin_start": 7.380000000000001,
            "bin_end": 7.61,
            "count": 0
           },
           {
            "bin_start": 7.61,
            "bin_end": 7.840000000000001,
            "count": 0
           },
           {
            "bin_start": 7.840000000000001,
            "bin_end": 8.07,
            "count": 0
           },
           {
            "bin_start": 8.07,
            "bin_end": 8.3,
            "count": 1
           }
          ]
         }
        },
        {
         "name": "imdb_votes",
         "dtype": "object",
         "stats": {
          "unique_count": 2,
          "nan_count": 13,
          "categories": [
           {
            "name": "67",
            "count": 1
           },
           {
            "name": "42",
            "count": 1
           },
           {
            "name": "Missing",
            "count": 13
           }
          ]
         }
        },
        {
         "name": "imdb_id",
         "dtype": "object",
         "stats": {
          "unique_count": 15,
          "nan_count": 0,
          "categories": [
           {
            "name": "tt6107270",
            "count": 1
           },
           {
            "name": "tt5044850",
            "count": 1
           },
           {
            "name": "13 others",
            "count": 13
           }
          ]
         }
        },
        {
         "name": "type",
         "dtype": "object",
         "stats": {
          "unique_count": 1,
          "nan_count": 0,
          "categories": [
           {
            "name": "movie",
            "count": 15
           }
          ]
         }
        },
        {
         "name": "dvd",
         "dtype": "object",
         "stats": {
          "unique_count": 0,
          "nan_count": 15,
          "categories": [
           {
            "name": "Missing",
            "count": 15
           }
          ]
         }
        },
        {
         "name": "box_office",
         "dtype": "object",
         "stats": {
          "unique_count": 0,
          "nan_count": 15,
          "categories": [
           {
            "name": "Missing",
            "count": 15
           }
          ]
         }
        },
        {
         "name": "production",
         "dtype": "object",
         "stats": {
          "unique_count": 0,
          "nan_count": 15,
          "categories": [
           {
            "name": "Missing",
            "count": 15
           }
          ]
         }
        },
        {
         "name": "website",
         "dtype": "object",
         "stats": {
          "unique_count": 0,
          "nan_count": 15,
          "categories": [
           {
            "name": "Missing",
            "count": 15
           }
          ]
         }
        },
        {
         "name": "response",
         "dtype": "bool",
         "stats": {
          "unique_count": 1,
          "nan_count": 0,
          "categories": [
           {
            "name": "True",
            "count": 15
           }
          ]
         }
        },
        {
         "name": "_deepnote_index_column",
         "dtype": "int64"
        }
       ],
       "rows": [
        {
         "title": "Impractical Jokers: One Night at the Grand",
         "year": 2016,
         "rated": "nan",
         "released": "01 Sep 2016",
         "runtime": "nan",
         "genre": "Comedy",
         "director": "Shannon Hartman",
         "writer": "nan",
         "actors": "Aiden, Erica, Joe Gatto, James Murray",
         "plot": "nan",
         "language": "English",
         "country": "USA",
         "awards": "nan",
         "poster": "https://m.media-amazon.com/images/M/MV5BMmExMGU5YzUtMmJlYi00YWNjLTkwNTEtMTU3Nzk4ZTFlNjhlXkEyXkFqcGdeQXVyMTEzNzczMA@@._V1_SX300.jpg",
         "ratings": "[{'source': 'Internet Movie Database', 'value': '8.3/10'}]",
         "metascore": "nan",
         "imdb_rating": 8.3,
         "imdb_votes": "67",
         "imdb_id": "tt6107270",
         "type": "movie",
         "dvd": "nan",
         "box_office": "nan",
         "production": "nan",
         "website": "nan",
         "response": true,
         "_deepnote_index_column": 1055
        },
        {
         "title": "On the One Road",
         "year": 2016,
         "rated": "nan",
         "released": "nan",
         "runtime": "nan",
         "genre": "Comedy",
         "director": "Jonathan Kesselman",
         "writer": "Mark Doherty, Jonathan Kesselman",
         "actors": "nan",
         "plot": "An American efficiency expert and an Irishman with absolutely nothing in common are locked together on a disastrous journey through Ireland.",
         "language": "nan",
         "country": "Ireland",
         "awards": "nan",
         "poster": "nan",
         "ratings": "[]",
         "metascore": "nan",
         "imdb_rating": "nan",
         "imdb_votes": "nan",
         "imdb_id": "tt5044850",
         "type": "movie",
         "dvd": "nan",
         "box_office": "nan",
         "production": "nan",
         "website": "nan",
         "response": true,
         "_deepnote_index_column": 2674
        },
        {
         "title": "Please Take One",
         "year": 1910,
         "rated": "nan",
         "released": "15 Jul 1910",
         "runtime": "nan",
         "genre": "Short, Comedy",
         "director": "nan",
         "writer": "nan",
         "actors": "nan",
         "plot": "Bonehead is not a success in distributing handbills to the passersby, according to his arrangement with the exacting owner of the market, and is therefore fired, and his late employer ...",
         "language": "French",
         "country": "France",
         "awards": "nan",
         "poster": "nan",
         "ratings": "[]",
         "metascore": "nan",
         "imdb_rating": "nan",
         "imdb_votes": "nan",
         "imdb_id": "tt4813618",
         "type": "movie",
         "dvd": "nan",
         "box_office": "nan",
         "production": "nan",
         "website": "nan",
         "response": true,
         "_deepnote_index_column": 4932
        },
        {
         "title": "First One Out",
         "year": 2019,
         "rated": "nan",
         "released": "nan",
         "runtime": "24 min",
         "genre": "Short, Drama",
         "director": "David Ngandu",
         "writer": "David Ngandu",
         "actors": "David Ngandu",
         "plot": "A young man unwillingly finds himself in the drug game after failing to find employment for a long period of time.",
         "language": "English",
         "country": "Canada",
         "awards": "nan",
         "poster": "https://m.media-amazon.com/images/M/MV5BMjdlMzg4ZTQtYmYyMy00NGE3LWJjY2UtNTcxZmM1ZTMzY2FkXkEyXkFqcGdeQXVyMTAzNzEyNTAy._V1_SX300.jpg",
         "ratings": "[]",
         "metascore": "nan",
         "imdb_rating": "nan",
         "imdb_votes": "nan",
         "imdb_id": "tt10417936",
         "type": "movie",
         "dvd": "nan",
         "box_office": "nan",
         "production": "nan",
         "website": "nan",
         "response": true,
         "_deepnote_index_column": 2997
        },
        {
         "title": "One Way Street",
         "year": 1980,
         "rated": "nan",
         "released": "nan",
         "runtime": "12 min",
         "genre": "Short, Animation",
         "director": "Bernard Longpré",
         "writer": "nan",
         "actors": "nan",
         "plot": "nan",
         "language": "nan",
         "country": "Canada",
         "awards": "1 win.",
         "poster": "nan",
         "ratings": "[]",
         "metascore": "nan",
         "imdb_rating": "nan",
         "imdb_votes": "nan",
         "imdb_id": "tt0226248",
         "type": "movie",
         "dvd": "nan",
         "box_office": "nan",
         "production": "nan",
         "website": "nan",
         "response": true,
         "_deepnote_index_column": 3416
        },
        {
         "title": "One for You and One for Me",
         "year": 2010,
         "rated": "nan",
         "released": "21 Mar 2010",
         "runtime": "6 min",
         "genre": "Short, Drama, Family",
         "director": "Trent",
         "writer": "Trent",
         "actors": "Dallas D Munger, Lori Desiderio, Ashley Switzer",
         "plot": "A man reconsiders how he treats his family after a woman and her son in a grocery store spark a traumatic childhood memory.",
         "language": "English",
         "country": "United States",
         "awards": "1 nomination",
         "poster": "https://m.media-amazon.com/images/M/MV5BMTczNjI5OTM5OF5BMl5BanBnXkFtZTcwMDk2NjYzMw@@._V1_SX300.jpg",
         "ratings": "[]",
         "metascore": "nan",
         "imdb_rating": "nan",
         "imdb_votes": "nan",
         "imdb_id": "tt1631392",
         "type": "movie",
         "dvd": "nan",
         "box_office": "nan",
         "production": "nan",
         "website": "nan",
         "response": true,
         "_deepnote_index_column": 3287
        },
        {
         "title": "The Naked One",
         "year": 2011,
         "rated": "nan",
         "released": "04 Jul 2011",
         "runtime": "nan",
         "genre": "Short, Sci-Fi",
         "director": "Pavel Safonov",
         "writer": "Keith Odett, Isaac Pentland, Pavel Safonov",
         "actors": "Jan Lashly, Keith Odett, Diedre Willig",
         "plot": "nan",
         "language": "English",
         "country": "USA",
         "awards": "nan",
         "poster": "nan",
         "ratings": "[]",
         "metascore": "nan",
         "imdb_rating": "nan",
         "imdb_votes": "nan",
         "imdb_id": "tt2106709",
         "type": "movie",
         "dvd": "nan",
         "box_office": "nan",
         "production": "nan",
         "website": "nan",
         "response": true,
         "_deepnote_index_column": 2796
        },
        {
         "title": "Walter Sickert & The Army of Broken Toys: Dino Domina - War Gospel: Chapter One",
         "year": 2018,
         "rated": "nan",
         "released": "28 Oct 2018",
         "runtime": "5 min",
         "genre": "Short, Fantasy, Music",
         "director": "Edrie Edrie, Walter Sickert",
         "writer": "nan",
         "actors": "Edrie Edrie, Blake Girndt, Belle Gunz",
         "plot": "nan",
         "language": "English",
         "country": "United States",
         "awards": "nan",
         "poster": "https://m.media-amazon.com/images/M/MV5BOWZkMWQyOGUtODU3OC00ZTAxLTljN2QtMWQxMmNhN2Q1YjFhXkEyXkFqcGdeQXVyNTk2MDg4NQ@@._V1_SX300.jpg",
         "ratings": "[]",
         "metascore": "nan",
         "imdb_rating": "nan",
         "imdb_votes": "nan",
         "imdb_id": "tt12150946",
         "type": "movie",
         "dvd": "nan",
         "box_office": "nan",
         "production": "nan",
         "website": "nan",
         "response": true,
         "_deepnote_index_column": 4691
        },
        {
         "title": "Spent a Year There One Knite",
         "year": 2014,
         "rated": "nan",
         "released": "nan",
         "runtime": "44 min",
         "genre": "Documentary, Music",
         "director": "Stu Gilbert",
         "writer": "Stu Gilbert (story)",
         "actors": "nan",
         "plot": "Spent A Year There One Knite resurrects the One Knite, a ramshackle dive in Austin TX during the early 1970s, which inadvertently became the incubator for the city's fledgling white blues ...",
         "language": "English",
         "country": "USA",
         "awards": "nan",
         "poster": "nan",
         "ratings": "[]",
         "metascore": "nan",
         "imdb_rating": "nan",
         "imdb_votes": "nan",
         "imdb_id": "tt3691836",
         "type": "movie",
         "dvd": "nan",
         "box_office": "nan",
         "production": "nan",
         "website": "nan",
         "response": true,
         "_deepnote_index_column": 4266
        },
        {
         "title": "One Cooks, the Other Doesn't",
         "year": 1983,
         "rated": "nan",
         "released": "27 Sep 1983",
         "runtime": "120 min",
         "genre": "Comedy, Drama, Romance",
         "director": "Richard Michaels",
         "writer": "Larry Grusin",
         "actors": "Rosanna Arquette, Allyce Beasley, Joseph Bologna, Oliver Clark",
         "plot": "nan",
         "language": "English",
         "country": "USA",
         "awards": "1 nomination.",
         "poster": "https://m.media-amazon.com/images/M/MV5BMTY4NTI3NDc3MF5BMl5BanBnXkFtZTcwNjgyNzAzMQ@@._V1_SX300.jpg",
         "ratings": "[{'source': 'Internet Movie Database', 'value': '6.0/10'}]",
         "metascore": "nan",
         "imdb_rating": 6,
         "imdb_votes": "42",
         "imdb_id": "tt0086049",
         "type": "movie",
         "dvd": "nan",
         "box_office": "nan",
         "production": "nan",
         "website": "nan",
         "response": true,
         "_deepnote_index_column": 1246
        }
       ]
      },
      "text/plain": "                                                  title  year rated  \\\n1055         Impractical Jokers: One Night at the Grand  2016   NaN   \n2674                                    On the One Road  2016   NaN   \n4932                                    Please Take One  1910   NaN   \n2997                                      First One Out  2019   NaN   \n3416                                     One Way Street  1980   NaN   \n3287                         One for You and One for Me  2010   NaN   \n2796                                      The Naked One  2011   NaN   \n4691  Walter Sickert & The Army of Broken Toys: Dino...  2018   NaN   \n4266                       Spent a Year There One Knite  2014   NaN   \n1246                       One Cooks, the Other Doesn't  1983   NaN   \n2780                                 One Pill, One Time  2010   NaN   \n3844              One Sort of Sunday Crowd at Hyde Park  1900   NaN   \n4500                                      Mars, One-Way  2015   NaN   \n4304                               Tandberg on Page One  1983   NaN   \n3744                                           ICW: One  2019   NaN   \n\n         released  runtime                          genre  \\\n1055  01 Sep 2016      NaN                         Comedy   \n2674          NaN      NaN                         Comedy   \n4932  15 Jul 1910      NaN                  Short, Comedy   \n2997          NaN   24 min                   Short, Drama   \n3416          NaN   12 min               Short, Animation   \n3287  21 Mar 2010    6 min           Short, Drama, Family   \n2796  04 Jul 2011      NaN                  Short, Sci-Fi   \n4691  28 Oct 2018    5 min          Short, Fantasy, Music   \n4266          NaN   44 min             Documentary, Music   \n1246  27 Sep 1983  120 min         Comedy, Drama, Romance   \n2780  09 Nov 2012      NaN                   Short, Drama   \n3844          NaN      NaN             Documentary, Short   \n4500  26 Jun 2015   15 min  Short, Drama, Musical, Sci-Fi   \n4304  15 Dec 1983   28 min             Documentary, Short   \n3744  21 Dec 2019      NaN                          Sport   \n\n                         director                                      writer  \\\n1055              Shannon Hartman                                         NaN   \n2674           Jonathan Kesselman            Mark Doherty, Jonathan Kesselman   \n4932                          NaN                                         NaN   \n2997                 David Ngandu                                David Ngandu   \n3416              Bernard Longpré                                         NaN   \n3287                        Trent                                       Trent   \n2796                Pavel Safonov  Keith Odett, Isaac Pentland, Pavel Safonov   \n4691  Edrie Edrie, Walter Sickert                                         NaN   \n4266                  Stu Gilbert                         Stu Gilbert (story)   \n1246             Richard Michaels                                Larry Grusin   \n2780               Yasmin Ghasiri                              Yasmin Ghasiri   \n3844                          NaN                                         NaN   \n4500                  Vivian Chen                                 Vivian Chen   \n4304                    Ivan Gaal                             Maree Teychenne   \n3744                Nicholas Gray                               Nicholas Gray   \n\n                                                 actors  \\\n1055              Aiden, Erica, Joe Gatto, James Murray   \n2674                                                NaN   \n4932                                                NaN   \n2997                                       David Ngandu   \n3416                                                NaN   \n3287    Dallas D Munger, Lori Desiderio, Ashley Switzer   \n2796             Jan Lashly, Keith Odett, Diedre Willig   \n4691              Edrie Edrie, Blake Girndt, Belle Gunz   \n4266                                                NaN   \n1246  Rosanna Arquette, Allyce Beasley, Joseph Bolog...   \n2780  Greg Champion, Miranda Franklin-Wall, Yasmin G...   \n3844                                                NaN   \n4500  Jaymes Camery, Shaka Folger-Basso, Erin Siu, J...   \n4304                       Michael Leunig, Ron Tandberg   \n3744                                        Rob Gammage   \n\n                                                   plot  ... metascore  \\\n1055                                                NaN  ...       NaN   \n2674  An American efficiency expert and an Irishman ...  ...       NaN   \n4932  Bonehead is not a success in distributing hand...  ...       NaN   \n2997  A young man unwillingly finds himself in the d...  ...       NaN   \n3416                                                NaN  ...       NaN   \n3287  A man reconsiders how he treats his family aft...  ...       NaN   \n2796                                                NaN  ...       NaN   \n4691                                                NaN  ...       NaN   \n4266  Spent A Year There One Knite resurrects the On...  ...       NaN   \n1246                                                NaN  ...       NaN   \n2780  A young woman must decide if she should accept...  ...       NaN   \n3844                                                NaN  ...       NaN   \n4500  A fledgling astronaut spends her last day on E...  ...       NaN   \n4304                                                NaN  ...       NaN   \n3744                                                NaN  ...       NaN   \n\n     imdb_rating imdb_votes     imdb_id   type  dvd  box_office production  \\\n1055         8.3         67   tt6107270  movie  NaN         NaN        NaN   \n2674         NaN        NaN   tt5044850  movie  NaN         NaN        NaN   \n4932         NaN        NaN   tt4813618  movie  NaN         NaN        NaN   \n2997         NaN        NaN  tt10417936  movie  NaN         NaN        NaN   \n3416         NaN        NaN   tt0226248  movie  NaN         NaN        NaN   \n3287         NaN        NaN   tt1631392  movie  NaN         NaN        NaN   \n2796         NaN        NaN   tt2106709  movie  NaN         NaN        NaN   \n4691         NaN        NaN  tt12150946  movie  NaN         NaN        NaN   \n4266         NaN        NaN   tt3691836  movie  NaN         NaN        NaN   \n1246         6.0         42   tt0086049  movie  NaN         NaN        NaN   \n2780         NaN        NaN   tt2241383  movie  NaN         NaN        NaN   \n3844         NaN        NaN   tt2439536  movie  NaN         NaN        NaN   \n4500         NaN        NaN   tt4106250  movie  NaN         NaN        NaN   \n4304         NaN        NaN   tt2262193  movie  NaN         NaN        NaN   \n3744         NaN        NaN  tt11609050  movie  NaN         NaN        NaN   \n\n     website response  \n1055     NaN     True  \n2674     NaN     True  \n4932     NaN     True  \n2997     NaN     True  \n3416     NaN     True  \n3287     NaN     True  \n2796     NaN     True  \n4691     NaN     True  \n4266     NaN     True  \n1246     NaN     True  \n2780     NaN     True  \n3844     NaN     True  \n4500     NaN     True  \n4304     NaN     True  \n3744     NaN     True  \n\n[15 rows x 25 columns]",
      "text/html": "<div>\n<style scoped>\n    .dataframe tbody tr th:only-of-type {\n        vertical-align: middle;\n    }\n\n    .dataframe tbody tr th {\n        vertical-align: top;\n    }\n\n    .dataframe thead th {\n        text-align: right;\n    }\n</style>\n<table border=\"1\" class=\"dataframe\">\n  <thead>\n    <tr style=\"text-align: right;\">\n      <th></th>\n      <th>title</th>\n      <th>year</th>\n      <th>rated</th>\n      <th>released</th>\n      <th>runtime</th>\n      <th>genre</th>\n      <th>director</th>\n      <th>writer</th>\n      <th>actors</th>\n      <th>plot</th>\n      <th>...</th>\n      <th>metascore</th>\n      <th>imdb_rating</th>\n      <th>imdb_votes</th>\n      <th>imdb_id</th>\n      <th>type</th>\n      <th>dvd</th>\n      <th>box_office</th>\n      <th>production</th>\n      <th>website</th>\n      <th>response</th>\n    </tr>\n  </thead>\n  <tbody>\n    <tr>\n      <th>1055</th>\n      <td>Impractical Jokers: One Night at the Grand</td>\n      <td>2016</td>\n      <td>NaN</td>\n      <td>01 Sep 2016</td>\n      <td>NaN</td>\n      <td>Comedy</td>\n      <td>Shannon Hartman</td>\n      <td>NaN</td>\n      <td>Aiden, Erica, Joe Gatto, James Murray</td>\n      <td>NaN</td>\n      <td>...</td>\n      <td>NaN</td>\n      <td>8.3</td>\n      <td>67</td>\n      <td>tt6107270</td>\n      <td>movie</td>\n      <td>NaN</td>\n      <td>NaN</td>\n      <td>NaN</td>\n      <td>NaN</td>\n      <td>True</td>\n    </tr>\n    <tr>\n      <th>2674</th>\n      <td>On the One Road</td>\n      <td>2016</td>\n      <td>NaN</td>\n      <td>NaN</td>\n      <td>NaN</td>\n      <td>Comedy</td>\n      <td>Jonathan Kesselman</td>\n      <td>Mark Doherty, Jonathan Kesselman</td>\n      <td>NaN</td>\n      <td>An American efficiency expert and an Irishman ...</td>\n      <td>...</td>\n      <td>NaN</td>\n      <td>NaN</td>\n      <td>NaN</td>\n      <td>tt5044850</td>\n      <td>movie</td>\n      <td>NaN</td>\n      <td>NaN</td>\n      <td>NaN</td>\n      <td>NaN</td>\n      <td>True</td>\n    </tr>\n    <tr>\n      <th>4932</th>\n      <td>Please Take One</td>\n      <td>1910</td>\n      <td>NaN</td>\n      <td>15 Jul 1910</td>\n      <td>NaN</td>\n      <td>Short, Comedy</td>\n      <td>NaN</td>\n      <td>NaN</td>\n      <td>NaN</td>\n      <td>Bonehead is not a success in distributing hand...</td>\n      <td>...</td>\n      <td>NaN</td>\n      <td>NaN</td>\n      <td>NaN</td>\n      <td>tt4813618</td>\n      <td>movie</td>\n      <td>NaN</td>\n      <td>NaN</td>\n      <td>NaN</td>\n      <td>NaN</td>\n      <td>True</td>\n    </tr>\n    <tr>\n      <th>2997</th>\n      <td>First One Out</td>\n      <td>2019</td>\n      <td>NaN</td>\n      <td>NaN</td>\n      <td>24 min</td>\n      <td>Short, Drama</td>\n      <td>David Ngandu</td>\n      <td>David Ngandu</td>\n      <td>David Ngandu</td>\n      <td>A young man unwillingly finds himself in the d...</td>\n      <td>...</td>\n      <td>NaN</td>\n      <td>NaN</td>\n      <td>NaN</td>\n      <td>tt10417936</td>\n      <td>movie</td>\n      <td>NaN</td>\n      <td>NaN</td>\n      <td>NaN</td>\n      <td>NaN</td>\n      <td>True</td>\n    </tr>\n    <tr>\n      <th>3416</th>\n      <td>One Way Street</td>\n      <td>1980</td>\n      <td>NaN</td>\n      <td>NaN</td>\n      <td>12 min</td>\n      <td>Short, Animation</td>\n      <td>Bernard Longpré</td>\n      <td>NaN</td>\n      <td>NaN</td>\n      <td>NaN</td>\n      <td>...</td>\n      <td>NaN</td>\n      <td>NaN</td>\n      <td>NaN</td>\n      <td>tt0226248</td>\n      <td>movie</td>\n      <td>NaN</td>\n      <td>NaN</td>\n      <td>NaN</td>\n      <td>NaN</td>\n      <td>True</td>\n    </tr>\n    <tr>\n      <th>3287</th>\n      <td>One for You and One for Me</td>\n      <td>2010</td>\n      <td>NaN</td>\n      <td>21 Mar 2010</td>\n      <td>6 min</td>\n      <td>Short, Drama, Family</td>\n      <td>Trent</td>\n      <td>Trent</td>\n      <td>Dallas D Munger, Lori Desiderio, Ashley Switzer</td>\n      <td>A man reconsiders how he treats his family aft...</td>\n      <td>...</td>\n      <td>NaN</td>\n      <td>NaN</td>\n      <td>NaN</td>\n      <td>tt1631392</td>\n      <td>movie</td>\n      <td>NaN</td>\n      <td>NaN</td>\n      <td>NaN</td>\n      <td>NaN</td>\n      <td>True</td>\n    </tr>\n    <tr>\n      <th>2796</th>\n      <td>The Naked One</td>\n      <td>2011</td>\n      <td>NaN</td>\n      <td>04 Jul 2011</td>\n      <td>NaN</td>\n      <td>Short, Sci-Fi</td>\n      <td>Pavel Safonov</td>\n      <td>Keith Odett, Isaac Pentland, Pavel Safonov</td>\n      <td>Jan Lashly, Keith Odett, Diedre Willig</td>\n      <td>NaN</td>\n      <td>...</td>\n      <td>NaN</td>\n      <td>NaN</td>\n      <td>NaN</td>\n      <td>tt2106709</td>\n      <td>movie</td>\n      <td>NaN</td>\n      <td>NaN</td>\n      <td>NaN</td>\n      <td>NaN</td>\n      <td>True</td>\n    </tr>\n    <tr>\n      <th>4691</th>\n      <td>Walter Sickert &amp; The Army of Broken Toys: Dino...</td>\n      <td>2018</td>\n      <td>NaN</td>\n      <td>28 Oct 2018</td>\n      <td>5 min</td>\n      <td>Short, Fantasy, Music</td>\n      <td>Edrie Edrie, Walter Sickert</td>\n      <td>NaN</td>\n      <td>Edrie Edrie, Blake Girndt, Belle Gunz</td>\n      <td>NaN</td>\n      <td>...</td>\n      <td>NaN</td>\n      <td>NaN</td>\n      <td>NaN</td>\n      <td>tt12150946</td>\n      <td>movie</td>\n      <td>NaN</td>\n      <td>NaN</td>\n      <td>NaN</td>\n      <td>NaN</td>\n      <td>True</td>\n    </tr>\n    <tr>\n      <th>4266</th>\n      <td>Spent a Year There One Knite</td>\n      <td>2014</td>\n      <td>NaN</td>\n      <td>NaN</td>\n      <td>44 min</td>\n      <td>Documentary, Music</td>\n      <td>Stu Gilbert</td>\n      <td>Stu Gilbert (story)</td>\n      <td>NaN</td>\n      <td>Spent A Year There One Knite resurrects the On...</td>\n      <td>...</td>\n      <td>NaN</td>\n      <td>NaN</td>\n      <td>NaN</td>\n      <td>tt3691836</td>\n      <td>movie</td>\n      <td>NaN</td>\n      <td>NaN</td>\n      <td>NaN</td>\n      <td>NaN</td>\n      <td>True</td>\n    </tr>\n    <tr>\n      <th>1246</th>\n      <td>One Cooks, the Other Doesn't</td>\n      <td>1983</td>\n      <td>NaN</td>\n      <td>27 Sep 1983</td>\n      <td>120 min</td>\n      <td>Comedy, Drama, Romance</td>\n      <td>Richard Michaels</td>\n      <td>Larry Grusin</td>\n      <td>Rosanna Arquette, Allyce Beasley, Joseph Bolog...</td>\n      <td>NaN</td>\n      <td>...</td>\n      <td>NaN</td>\n      <td>6.0</td>\n      <td>42</td>\n      <td>tt0086049</td>\n      <td>movie</td>\n      <td>NaN</td>\n      <td>NaN</td>\n      <td>NaN</td>\n      <td>NaN</td>\n      <td>True</td>\n    </tr>\n    <tr>\n      <th>2780</th>\n      <td>One Pill, One Time</td>\n      <td>2010</td>\n      <td>NaN</td>\n      <td>09 Nov 2012</td>\n      <td>NaN</td>\n      <td>Short, Drama</td>\n      <td>Yasmin Ghasiri</td>\n      <td>Yasmin Ghasiri</td>\n      <td>Greg Champion, Miranda Franklin-Wall, Yasmin G...</td>\n      <td>A young woman must decide if she should accept...</td>\n      <td>...</td>\n      <td>NaN</td>\n      <td>NaN</td>\n      <td>NaN</td>\n      <td>tt2241383</td>\n      <td>movie</td>\n      <td>NaN</td>\n      <td>NaN</td>\n      <td>NaN</td>\n      <td>NaN</td>\n      <td>True</td>\n    </tr>\n    <tr>\n      <th>3844</th>\n      <td>One Sort of Sunday Crowd at Hyde Park</td>\n      <td>1900</td>\n      <td>NaN</td>\n      <td>NaN</td>\n      <td>NaN</td>\n      <td>Documentary, Short</td>\n      <td>NaN</td>\n      <td>NaN</td>\n      <td>NaN</td>\n      <td>NaN</td>\n      <td>...</td>\n      <td>NaN</td>\n      <td>NaN</td>\n      <td>NaN</td>\n      <td>tt2439536</td>\n      <td>movie</td>\n      <td>NaN</td>\n      <td>NaN</td>\n      <td>NaN</td>\n      <td>NaN</td>\n      <td>True</td>\n    </tr>\n    <tr>\n      <th>4500</th>\n      <td>Mars, One-Way</td>\n      <td>2015</td>\n      <td>NaN</td>\n      <td>26 Jun 2015</td>\n      <td>15 min</td>\n      <td>Short, Drama, Musical, Sci-Fi</td>\n      <td>Vivian Chen</td>\n      <td>Vivian Chen</td>\n      <td>Jaymes Camery, Shaka Folger-Basso, Erin Siu, J...</td>\n      <td>A fledgling astronaut spends her last day on E...</td>\n      <td>...</td>\n      <td>NaN</td>\n      <td>NaN</td>\n      <td>NaN</td>\n      <td>tt4106250</td>\n      <td>movie</td>\n      <td>NaN</td>\n      <td>NaN</td>\n      <td>NaN</td>\n      <td>NaN</td>\n      <td>True</td>\n    </tr>\n    <tr>\n      <th>4304</th>\n      <td>Tandberg on Page One</td>\n      <td>1983</td>\n      <td>NaN</td>\n      <td>15 Dec 1983</td>\n      <td>28 min</td>\n      <td>Documentary, Short</td>\n      <td>Ivan Gaal</td>\n      <td>Maree Teychenne</td>\n      <td>Michael Leunig, Ron Tandberg</td>\n      <td>NaN</td>\n      <td>...</td>\n      <td>NaN</td>\n      <td>NaN</td>\n      <td>NaN</td>\n      <td>tt2262193</td>\n      <td>movie</td>\n      <td>NaN</td>\n      <td>NaN</td>\n      <td>NaN</td>\n      <td>NaN</td>\n      <td>True</td>\n    </tr>\n    <tr>\n      <th>3744</th>\n      <td>ICW: One</td>\n      <td>2019</td>\n      <td>NaN</td>\n      <td>21 Dec 2019</td>\n      <td>NaN</td>\n      <td>Sport</td>\n      <td>Nicholas Gray</td>\n      <td>Nicholas Gray</td>\n      <td>Rob Gammage</td>\n      <td>NaN</td>\n      <td>...</td>\n      <td>NaN</td>\n      <td>NaN</td>\n      <td>NaN</td>\n      <td>tt11609050</td>\n      <td>movie</td>\n      <td>NaN</td>\n      <td>NaN</td>\n      <td>NaN</td>\n      <td>NaN</td>\n      <td>True</td>\n    </tr>\n  </tbody>\n</table>\n<p>15 rows × 25 columns</p>\n</div>"
     },
     "metadata": {}
    }
   ]
  },
  {
   "cell_type": "markdown",
   "source": "------\n# Exploratory Data Analysis\n\n1. Examine a five-number summary of the numerical and categorical columns\n2. Checking for Missing Data",
   "metadata": {
    "cell_id": "fe14de9a3be44cff9d610df20e9d1338",
    "tags": [],
    "deepnote_cell_type": "markdown",
    "deepnote_cell_height": 171.86666870117188
   }
  },
  {
   "cell_type": "markdown",
   "source": "## 1. Calculating Summary Statistics for Columns",
   "metadata": {
    "cell_id": "cfc99f7e20d7416d972d248db8a9eb76",
    "tags": [],
    "deepnote_cell_type": "markdown",
    "deepnote_cell_height": 74
   }
  },
  {
   "cell_type": "code",
   "source": "# Create a new column to look at the length of each plot\nmovies_info['plot_length'] = movies_info['plot'].str.len()\n\n# 5 number summary of the numerical columns\nmovies_info.describe().T",
   "metadata": {
    "cell_id": "7706402c0ee4457ea7d5a920dbcaf92f",
    "tags": [],
    "deepnote_to_be_reexecuted": false,
    "source_hash": "927a20f9",
    "execution_start": 1655447335998,
    "execution_millis": 477,
    "deepnote_cell_type": "code",
    "deepnote_cell_height": 430,
    "deepnote_output_heights": [
     255
    ]
   },
   "outputs": [
    {
     "output_type": "execute_result",
     "execution_count": 3,
     "data": {
      "application/vnd.deepnote.dataframe.v3+json": {
       "column_count": 8,
       "row_count": 4,
       "columns": [
        {
         "name": "count",
         "dtype": "float64",
         "stats": {
          "unique_count": 4,
          "nan_count": 0,
          "min": "115.0",
          "max": "5000.0",
          "histogram": [
           {
            "bin_start": 115,
            "bin_end": 603.5,
            "count": 1
           },
           {
            "bin_start": 603.5,
            "bin_end": 1092,
            "count": 0
           },
           {
            "bin_start": 1092,
            "bin_end": 1580.5,
            "count": 0
           },
           {
            "bin_start": 1580.5,
            "bin_end": 2069,
            "count": 0
           },
           {
            "bin_start": 2069,
            "bin_end": 2557.5,
            "count": 1
           },
           {
            "bin_start": 2557.5,
            "bin_end": 3046,
            "count": 0
           },
           {
            "bin_start": 3046,
            "bin_end": 3534.5,
            "count": 0
           },
           {
            "bin_start": 3534.5,
            "bin_end": 4023,
            "count": 1
           },
           {
            "bin_start": 4023,
            "bin_end": 4511.5,
            "count": 0
           },
           {
            "bin_start": 4511.5,
            "bin_end": 5000,
            "count": 1
           }
          ]
         }
        },
        {
         "name": "mean",
         "dtype": "float64",
         "stats": {
          "unique_count": 4,
          "nan_count": 0,
          "min": "6.591154791154791",
          "max": "2002.897",
          "histogram": [
           {
            "bin_start": 6.591154791154791,
            "bin_end": 206.2217393120393,
            "count": 3
           },
           {
            "bin_start": 206.2217393120393,
            "bin_end": 405.8523238329238,
            "count": 0
           },
           {
            "bin_start": 405.8523238329238,
            "bin_end": 605.4829083538083,
            "count": 0
           },
           {
            "bin_start": 605.4829083538083,
            "bin_end": 805.1134928746927,
            "count": 0
           },
           {
            "bin_start": 805.1134928746927,
            "bin_end": 1004.7440773955772,
            "count": 0
           },
           {
            "bin_start": 1004.7440773955772,
            "bin_end": 1204.374661916462,
            "count": 0
           },
           {
            "bin_start": 1204.374661916462,
            "bin_end": 1404.0052464373464,
            "count": 0
           },
           {
            "bin_start": 1404.0052464373464,
            "bin_end": 1603.6358309582308,
            "count": 0
           },
           {
            "bin_start": 1603.6358309582308,
            "bin_end": 1803.2664154791153,
            "count": 0
           },
           {
            "bin_start": 1803.2664154791153,
            "bin_end": 2002.897,
            "count": 1
           }
          ]
         }
        },
        {
         "name": "std",
         "dtype": "float64",
         "stats": {
          "unique_count": 4,
          "nan_count": 0,
          "min": "1.3864577282248534",
          "max": "70.96308557673758",
          "histogram": [
           {
            "bin_start": 1.3864577282248534,
            "bin_end": 8.344120513076126,
            "count": 1
           },
           {
            "bin_start": 8.344120513076126,
            "bin_end": 15.301783297927399,
            "count": 0
           },
           {
            "bin_start": 15.301783297927399,
            "bin_end": 22.259446082778673,
            "count": 1
           },
           {
            "bin_start": 22.259446082778673,
            "bin_end": 29.217108867629946,
            "count": 1
           },
           {
            "bin_start": 29.217108867629946,
            "bin_end": 36.17477165248122,
            "count": 0
           },
           {
            "bin_start": 36.17477165248122,
            "bin_end": 43.13243443733249,
            "count": 0
           },
           {
            "bin_start": 43.13243443733249,
            "bin_end": 50.090097222183765,
            "count": 0
           },
           {
            "bin_start": 50.090097222183765,
            "bin_end": 57.04776000703504,
            "count": 0
           },
           {
            "bin_start": 57.04776000703504,
            "bin_end": 64.0054227918863,
            "count": 0
           },
           {
            "bin_start": 64.0054227918863,
            "bin_end": 70.96308557673758,
            "count": 1
           }
          ]
         }
        },
        {
         "name": "min",
         "dtype": "float64",
         "stats": {
          "unique_count": 3,
          "nan_count": 0,
          "min": "1.0",
          "max": "1887.0",
          "histogram": [
           {
            "bin_start": 1,
            "bin_end": 189.6,
            "count": 3
           },
           {
            "bin_start": 189.6,
            "bin_end": 378.2,
            "count": 0
           },
           {
            "bin_start": 378.2,
            "bin_end": 566.8,
            "count": 0
           },
           {
            "bin_start": 566.8,
            "bin_end": 755.4,
            "count": 0
           },
           {
            "bin_start": 755.4,
            "bin_end": 944,
            "count": 0
           },
           {
            "bin_start": 944,
            "bin_end": 1132.6,
            "count": 0
           },
           {
            "bin_start": 1132.6,
            "bin_end": 1321.2,
            "count": 0
           },
           {
            "bin_start": 1321.2,
            "bin_end": 1509.8,
            "count": 0
           },
           {
            "bin_start": 1509.8,
            "bin_end": 1698.3999999999999,
            "count": 0
           },
           {
            "bin_start": 1698.3999999999999,
            "bin_end": 1887,
            "count": 1
           }
          ]
         }
        },
        {
         "name": "25%",
         "dtype": "float64",
         "stats": {
          "unique_count": 4,
          "nan_count": 0,
          "min": "5.8",
          "max": "2002.0",
          "histogram": [
           {
            "bin_start": 5.8,
            "bin_end": 205.42000000000002,
            "count": 3
           },
           {
            "bin_start": 205.42000000000002,
            "bin_end": 405.04,
            "count": 0
           },
           {
            "bin_start": 405.04,
            "bin_end": 604.66,
            "count": 0
           },
           {
            "bin_start": 604.66,
            "bin_end": 804.28,
            "count": 0
           },
           {
            "bin_start": 804.28,
            "bin_end": 1003.9,
            "count": 0
           },
           {
            "bin_start": 1003.9,
            "bin_end": 1203.52,
            "count": 0
           },
           {
            "bin_start": 1203.52,
            "bin_end": 1403.14,
            "count": 0
           },
           {
            "bin_start": 1403.14,
            "bin_end": 1602.76,
            "count": 0
           },
           {
            "bin_start": 1602.76,
            "bin_end": 1802.3799999999999,
            "count": 0
           },
           {
            "bin_start": 1802.3799999999999,
            "bin_end": 2002,
            "count": 1
           }
          ]
         }
        },
        {
         "name": "50%",
         "dtype": "float64",
         "stats": {
          "unique_count": 4,
          "nan_count": 0,
          "min": "6.7",
          "max": "2011.0",
          "histogram": [
           {
            "bin_start": 6.7,
            "bin_end": 207.13,
            "count": 3
           },
           {
            "bin_start": 207.13,
            "bin_end": 407.56,
            "count": 0
           },
           {
            "bin_start": 407.56,
            "bin_end": 607.99,
            "count": 0
           },
           {
            "bin_start": 607.99,
            "bin_end": 808.4200000000001,
            "count": 0
           },
           {
            "bin_start": 808.4200000000001,
            "bin_end": 1008.8500000000001,
            "count": 0
           },
           {
            "bin_start": 1008.8500000000001,
            "bin_end": 1209.28,
            "count": 0
           },
           {
            "bin_start": 1209.28,
            "bin_end": 1409.71,
            "count": 0
           },
           {
            "bin_start": 1409.71,
            "bin_end": 1610.14,
            "count": 0
           },
           {
            "bin_start": 1610.14,
            "bin_end": 1810.5700000000002,
            "count": 0
           },
           {
            "bin_start": 1810.5700000000002,
            "bin_end": 2011,
            "count": 1
           }
          ]
         }
        },
        {
         "name": "75%",
         "dtype": "float64",
         "stats": {
          "unique_count": 4,
          "nan_count": 0,
          "min": "7.5",
          "max": "2016.0",
          "histogram": [
           {
            "bin_start": 7.5,
            "bin_end": 208.35,
            "count": 3
           },
           {
            "bin_start": 208.35,
            "bin_end": 409.2,
            "count": 0
           },
           {
            "bin_start": 409.2,
            "bin_end": 610.05,
            "count": 0
           },
           {
            "bin_start": 610.05,
            "bin_end": 810.9,
            "count": 0
           },
           {
            "bin_start": 810.9,
            "bin_end": 1011.75,
            "count": 0
           },
           {
            "bin_start": 1011.75,
            "bin_end": 1212.6,
            "count": 0
           },
           {
            "bin_start": 1212.6,
            "bin_end": 1413.45,
            "count": 0
           },
           {
            "bin_start": 1413.45,
            "bin_end": 1614.3,
            "count": 0
           },
           {
            "bin_start": 1614.3,
            "bin_end": 1815.1499999999999,
            "count": 0
           },
           {
            "bin_start": 1815.1499999999999,
            "bin_end": 2016,
            "count": 1
           }
          ]
         }
        },
        {
         "name": "max",
         "dtype": "float64",
         "stats": {
          "unique_count": 4,
          "nan_count": 0,
          "min": "10.0",
          "max": "2023.0",
          "histogram": [
           {
            "bin_start": 10,
            "bin_end": 211.3,
            "count": 2
           },
           {
            "bin_start": 211.3,
            "bin_end": 412.6,
            "count": 0
           },
           {
            "bin_start": 412.6,
            "bin_end": 613.9000000000001,
            "count": 0
           },
           {
            "bin_start": 613.9000000000001,
            "bin_end": 815.2,
            "count": 0
           },
           {
            "bin_start": 815.2,
            "bin_end": 1016.5,
            "count": 0
           },
           {
            "bin_start": 1016.5,
            "bin_end": 1217.8000000000002,
            "count": 0
           },
           {
            "bin_start": 1217.8000000000002,
            "bin_end": 1419.1000000000001,
            "count": 1
           },
           {
            "bin_start": 1419.1000000000001,
            "bin_end": 1620.4,
            "count": 0
           },
           {
            "bin_start": 1620.4,
            "bin_end": 1821.7,
            "count": 0
           },
           {
            "bin_start": 1821.7,
            "bin_end": 2023,
            "count": 1
           }
          ]
         }
        },
        {
         "name": "_deepnote_index_column",
         "dtype": "object"
        }
       ],
       "rows": [
        {
         "count": 5000,
         "mean": 2002.897,
         "std": 23.082680802510918,
         "min": 1887,
         "25%": 2002,
         "50%": 2011,
         "75%": 2016,
         "max": 2023,
         "_deepnote_index_column": "year"
        },
        {
         "count": 115,
         "mean": 60.02608695652174,
         "std": 18.559747460077304,
         "min": 16,
         "25%": 47,
         "50%": 62,
         "75%": 74,
         "max": 93,
         "_deepnote_index_column": "metascore"
        },
        {
         "count": 2442,
         "mean": 6.591154791154791,
         "std": 1.3864577282248534,
         "min": 1,
         "25%": 5.8,
         "50%": 6.7,
         "75%": 7.5,
         "max": 10,
         "_deepnote_index_column": "imdb_rating"
        },
        {
         "count": 3560,
         "mean": 159.80898876404495,
         "std": 70.96308557673758,
         "min": 16,
         "25%": 109,
         "50%": 170,
         "75%": 208,
         "max": 1324,
         "_deepnote_index_column": "plot_length"
        }
       ]
      },
      "text/plain": "              count         mean        std     min     25%     50%     75%  \\\nyear         5000.0  2002.897000  23.082681  1887.0  2002.0  2011.0  2016.0   \nmetascore     115.0    60.026087  18.559747    16.0    47.0    62.0    74.0   \nimdb_rating  2442.0     6.591155   1.386458     1.0     5.8     6.7     7.5   \nplot_length  3560.0   159.808989  70.963086    16.0   109.0   170.0   208.0   \n\n                max  \nyear         2023.0  \nmetascore      93.0  \nimdb_rating    10.0  \nplot_length  1324.0  ",
      "text/html": "<div>\n<style scoped>\n    .dataframe tbody tr th:only-of-type {\n        vertical-align: middle;\n    }\n\n    .dataframe tbody tr th {\n        vertical-align: top;\n    }\n\n    .dataframe thead th {\n        text-align: right;\n    }\n</style>\n<table border=\"1\" class=\"dataframe\">\n  <thead>\n    <tr style=\"text-align: right;\">\n      <th></th>\n      <th>count</th>\n      <th>mean</th>\n      <th>std</th>\n      <th>min</th>\n      <th>25%</th>\n      <th>50%</th>\n      <th>75%</th>\n      <th>max</th>\n    </tr>\n  </thead>\n  <tbody>\n    <tr>\n      <th>year</th>\n      <td>5000.0</td>\n      <td>2002.897000</td>\n      <td>23.082681</td>\n      <td>1887.0</td>\n      <td>2002.0</td>\n      <td>2011.0</td>\n      <td>2016.0</td>\n      <td>2023.0</td>\n    </tr>\n    <tr>\n      <th>metascore</th>\n      <td>115.0</td>\n      <td>60.026087</td>\n      <td>18.559747</td>\n      <td>16.0</td>\n      <td>47.0</td>\n      <td>62.0</td>\n      <td>74.0</td>\n      <td>93.0</td>\n    </tr>\n    <tr>\n      <th>imdb_rating</th>\n      <td>2442.0</td>\n      <td>6.591155</td>\n      <td>1.386458</td>\n      <td>1.0</td>\n      <td>5.8</td>\n      <td>6.7</td>\n      <td>7.5</td>\n      <td>10.0</td>\n    </tr>\n    <tr>\n      <th>plot_length</th>\n      <td>3560.0</td>\n      <td>159.808989</td>\n      <td>70.963086</td>\n      <td>16.0</td>\n      <td>109.0</td>\n      <td>170.0</td>\n      <td>208.0</td>\n      <td>1324.0</td>\n    </tr>\n  </tbody>\n</table>\n</div>"
     },
     "metadata": {}
    }
   ],
   "execution_count": 3
  },
  {
   "cell_type": "markdown",
   "source": "**Interpretation**\n1. **Year:** The range of the movies pulled from the API is from the year 1887 to 2023. This may seem plausible, but requires more drilling down in the data to figure out if the first movie ever was actually made in 1887. For movies in the year 2023, this may be upcoming movies that will be released then.\n\n2. **Metascore**: The metascore is a weighted average of many reviews coming from reputed critics. The Metacritic team reads the reviews and assigns each a 0–100 score, which is then given a weight, mainly based on the review's quality and source. That means the higher the metascore, the more positive reviews a movie has. In our summary, we can see that the range for our movies in this sample is from 16 as the lowest and 93 as the highest. The average metascore is 60, where as the median is 62. This can be interesting later as we dive into the average metascore over time.\n\n3. **imdb_rating**: IMDB rating allow users to rate films on a scale of 1-10. As expected, the range for this variable is 1 as the lowest and 10 as the highest. However, the average IMDB rating is 6.6 and the median is 6.7.\n\n4. **plot_length**: This column displays the length of each movies' plot. Movies plots length range from 16 words as the lowest to 208 as the highest. On average, a movie plot has the length of 160 words whereas the median is 170. This could also indicate that a longer plot description will provide more information to understanding the movies' genres.",
   "metadata": {
    "cell_id": "59cf1a7ff4024a6e809938149f728909",
    "tags": [],
    "deepnote_cell_type": "markdown",
    "deepnote_cell_height": 414.66668701171875
   }
  },
  {
   "cell_type": "code",
   "source": "movies_info[['awards','runtime', 'language', 'country']].describe(include = 'O').T",
   "metadata": {
    "cell_id": "ecaa3f90033a4ca89b6b3e624cde19f7",
    "tags": [],
    "deepnote_to_be_reexecuted": false,
    "source_hash": "fd3d1d14",
    "execution_start": 1655447336047,
    "execution_millis": 430,
    "deepnote_cell_type": "code",
    "deepnote_cell_height": 358
   },
   "outputs": [
    {
     "output_type": "execute_result",
     "execution_count": 4,
     "data": {
      "application/vnd.deepnote.dataframe.v3+json": {
       "column_count": 4,
       "row_count": 4,
       "columns": [
        {
         "name": "count",
         "dtype": "object",
         "stats": {
          "unique_count": 4,
          "nan_count": 0,
          "categories": [
           {
            "name": "840",
            "count": 1
           },
           {
            "name": "3826",
            "count": 1
           },
           {
            "name": "2 others",
            "count": 2
           }
          ]
         }
        },
        {
         "name": "unique",
         "dtype": "object",
         "stats": {
          "unique_count": 4,
          "nan_count": 0,
          "categories": [
           {
            "name": "177",
            "count": 1
           },
           {
            "name": "173",
            "count": 1
           },
           {
            "name": "2 others",
            "count": 2
           }
          ]
         }
        },
        {
         "name": "top",
         "dtype": "object",
         "stats": {
          "unique_count": 4,
          "nan_count": 0,
          "categories": [
           {
            "name": "1 nomination",
            "count": 1
           },
           {
            "name": "4 min",
            "count": 1
           },
           {
            "name": "2 others",
            "count": 2
           }
          ]
         }
        },
        {
         "name": "freq",
         "dtype": "object",
         "stats": {
          "unique_count": 4,
          "nan_count": 0,
          "categories": [
           {
            "name": "139",
            "count": 1
           },
           {
            "name": "163",
            "count": 1
           },
           {
            "name": "2 others",
            "count": 2
           }
          ]
         }
        },
        {
         "name": "_deepnote_index_column",
         "dtype": "object"
        }
       ],
       "rows": [
        {
         "count": "840",
         "unique": "177",
         "top": "1 nomination",
         "freq": "139",
         "_deepnote_index_column": "awards"
        },
        {
         "count": "3826",
         "unique": "173",
         "top": "4 min",
         "freq": "163",
         "_deepnote_index_column": "runtime"
        },
        {
         "count": "4586",
         "unique": "233",
         "top": "English",
         "freq": "3414",
         "_deepnote_index_column": "language"
        },
        {
         "count": "4797",
         "unique": "321",
         "top": "USA",
         "freq": "1444",
         "_deepnote_index_column": "country"
        }
       ]
      },
      "text/plain": "         count unique           top  freq\nawards     840    177  1 nomination   139\nruntime   3826    173         4 min   163\nlanguage  4586    233       English  3414\ncountry   4797    321           USA  1444",
      "text/html": "<div>\n<style scoped>\n    .dataframe tbody tr th:only-of-type {\n        vertical-align: middle;\n    }\n\n    .dataframe tbody tr th {\n        vertical-align: top;\n    }\n\n    .dataframe thead th {\n        text-align: right;\n    }\n</style>\n<table border=\"1\" class=\"dataframe\">\n  <thead>\n    <tr style=\"text-align: right;\">\n      <th></th>\n      <th>count</th>\n      <th>unique</th>\n      <th>top</th>\n      <th>freq</th>\n    </tr>\n  </thead>\n  <tbody>\n    <tr>\n      <th>awards</th>\n      <td>840</td>\n      <td>177</td>\n      <td>1 nomination</td>\n      <td>139</td>\n    </tr>\n    <tr>\n      <th>runtime</th>\n      <td>3826</td>\n      <td>173</td>\n      <td>4 min</td>\n      <td>163</td>\n    </tr>\n    <tr>\n      <th>language</th>\n      <td>4586</td>\n      <td>233</td>\n      <td>English</td>\n      <td>3414</td>\n    </tr>\n    <tr>\n      <th>country</th>\n      <td>4797</td>\n      <td>321</td>\n      <td>USA</td>\n      <td>1444</td>\n    </tr>\n  </tbody>\n</table>\n</div>"
     },
     "metadata": {}
    }
   ],
   "execution_count": 4
  },
  {
   "cell_type": "markdown",
   "source": "**Interpretation**\n\n1.**awards** This variable shows that 139 movies out of 5000 were able to receive 1 nomination for an award. However, due to the number of unique values, we may need to consider that awards recorded down for each movie is not consistent since this has a high cardinality. Therefore, this may not be a reliable insight for the awards variable\n\n2. **runtime** This variable also sees a high cardinality, but at a quick glance we can see that there are 163 movies that has a runtime of only 4 minutes. \n\n3. **language** There number of unique languages here is 233, while that may seem plausible it is also expected to see that movies in English was most prevalent.\n\n4. **country** Understandably, the country with the most movies are from the United States of America (USA). Exactly 1444 movies out of 5000 in this API sample are American.",
   "metadata": {
    "cell_id": "84bdf4c7dbd642ad9a4ec1c4691ae063",
    "tags": [],
    "deepnote_cell_type": "markdown",
    "deepnote_cell_height": 328.5333251953125
   }
  },
  {
   "cell_type": "markdown",
   "source": "## 2. Checking for Missing Data",
   "metadata": {
    "cell_id": "3e270fec72ce4e498d477ac3a3562fd1",
    "tags": [],
    "deepnote_cell_type": "markdown",
    "deepnote_cell_height": 74
   }
  },
  {
   "cell_type": "code",
   "source": "movies_info.isna().sum()",
   "metadata": {
    "cell_id": "e08117d30b6c4c3a93f1b8da948e3acc",
    "tags": [],
    "deepnote_to_be_reexecuted": false,
    "source_hash": "8d0fec96",
    "execution_start": 1655447336083,
    "execution_millis": 396,
    "deepnote_cell_type": "code",
    "deepnote_cell_height": 669,
    "deepnote_output_heights": [
     572
    ]
   },
   "outputs": [
    {
     "output_type": "execute_result",
     "execution_count": 5,
     "data": {
      "text/plain": "title             0\nyear              0\nrated          4245\nreleased       1349\nruntime        1174\ngenre           159\ndirector        415\nwriter         1435\nactors          754\nplot           1440\nlanguage        414\ncountry         203\nawards         4160\nposter         2180\nratings           0\nmetascore      4885\nimdb_rating    2558\nimdb_votes     2446\nimdb_id           0\ntype              0\ndvd            4497\nbox_office     4884\nproduction     4965\nwebsite        4996\nresponse          0\nplot_length    1440\ndtype: int64"
     },
     "metadata": {}
    }
   ],
   "execution_count": 5
  },
  {
   "cell_type": "markdown",
   "source": "**Interpretation**\n",
   "metadata": {
    "cell_id": "456ed33213fe4ee2b4f6a5f18aa8ecce",
    "tags": [],
    "deepnote_cell_type": "markdown",
    "deepnote_cell_height": 54.633331298828125
   }
  },
  {
   "cell_type": "markdown",
   "source": "# Preparing Texual Data for Statistics and Modeling",
   "metadata": {
    "cell_id": "3e227a47211c431cb2f2a9f565afbf14",
    "tags": [],
    "deepnote_cell_type": "markdown",
    "deepnote_cell_height": 87.19999694824219
   }
  },
  {
   "cell_type": "code",
   "metadata": {
    "cell_id": "49e6b8423e0946bb9c49c88a5e83d8d3",
    "tags": [],
    "deepnote_to_be_reexecuted": false,
    "source_hash": "2aeeaf25",
    "execution_start": 1655447336097,
    "execution_millis": 1,
    "deepnote_cell_type": "code",
    "deepnote_cell_height": 495
   },
   "source": "punctuation = set(punctuation) \n# Remove nas in plot and genre columns\nmovies_info['plot'] = movies_info['plot'].fillna(' ')\nmovies_info['genre'] = movies_info['genre'].fillna(' ')\n# Text cleaning function\ndef clean_text_data(column):\n    new_description = []\n    for description in column:\n        update_desc = description\n        # Remove the punctuation from each description\n        for i in description:\n            if i in punctuation:\n                update_desc = update_desc.replace(i, \"\")\n        # Remove extra white space\n        update_desc = re.sub(r'\\s+', ' ', update_desc)\n        # Split on whitespace\n        update_desc = update_desc.split()\n        # Fold to lowercase\n        for i in range(len(update_desc)):\n            update_desc[i] = update_desc[i].lower()\n        # Remove stopwords\n        update_desc = [i for i in update_desc if i not in sw]\n        new_description.append(update_desc)\n    return new_description",
   "execution_count": 6,
   "outputs": []
  },
  {
   "cell_type": "code",
   "metadata": {
    "cell_id": "5478395b585e433cbdddd66ca7b4660f",
    "tags": [],
    "deepnote_to_be_reexecuted": false,
    "source_hash": "48182bd0",
    "execution_start": 1655447336147,
    "execution_millis": 343,
    "deepnote_cell_type": "code",
    "deepnote_cell_height": 820
   },
   "source": "#Remove empty lists from cleaned_genre\nmovies_info = movies_info[movies_info['genre'] != ' ']\n\n# Clean the plot description and genre text\nmovies_info['cleaned_plot'] = clean_text_data(movies_info['plot'])\nmovies_info['cleaned_genre'] = clean_text_data(movies_info['genre'])\n\n# Keep only the first word in the cleaned genre lists\nmovies_info['first_genre'] = [i[0] for i in movies_info['cleaned_genre']]\n\n# Create new df with only the first_genre and cleaned_plot columns\ncleaned_df = movies_info[['title', 'first_genre', 'cleaned_plot', 'imdb_rating']]\ncleaned_df.sample(15)",
   "execution_count": 7,
   "outputs": [
    {
     "output_type": "execute_result",
     "execution_count": 7,
     "data": {
      "application/vnd.deepnote.dataframe.v3+json": {
       "column_count": 4,
       "row_count": 15,
       "columns": [
        {
         "name": "title",
         "dtype": "object",
         "stats": {
          "unique_count": 15,
          "nan_count": 0,
          "categories": [
           {
            "name": "One Man's Challenge",
            "count": 1
           },
           {
            "name": "I'm Not One of You",
            "count": 1
           },
           {
            "name": "13 others",
            "count": 13
           }
          ]
         }
        },
        {
         "name": "first_genre",
         "dtype": "object",
         "stats": {
          "unique_count": 8,
          "nan_count": 0,
          "categories": [
           {
            "name": "short",
            "count": 8
           },
           {
            "name": "documentary",
            "count": 1
           },
           {
            "name": "6 others",
            "count": 6
           }
          ]
         }
        },
        {
         "name": "cleaned_plot",
         "dtype": "object",
         "stats": {
          "unique_count": 15,
          "nan_count": 0,
          "categories": [
           {
            "name": "[]",
            "count": 4
           },
           {
            "name": "['im', 'one', 'trying', 'tell', 'overwhelming', 'pressure', 'society', 'individuals', 'elevator']",
            "count": 1
           },
           {
            "name": "10 others",
            "count": 10
           }
          ]
         }
        },
        {
         "name": "imdb_rating",
         "dtype": "float64",
         "stats": {
          "unique_count": 9,
          "nan_count": 6,
          "min": "4.3",
          "max": "8.8",
          "histogram": [
           {
            "bin_start": 4.3,
            "bin_end": 4.75,
            "count": 1
           },
           {
            "bin_start": 4.75,
            "bin_end": 5.2,
            "count": 0
           },
           {
            "bin_start": 5.2,
            "bin_end": 5.65,
            "count": 1
           },
           {
            "bin_start": 5.65,
            "bin_end": 6.1,
            "count": 1
           },
           {
            "bin_start": 6.1,
            "bin_end": 6.550000000000001,
            "count": 1
           },
           {
            "bin_start": 6.550000000000001,
            "bin_end": 7,
            "count": 0
           },
           {
            "bin_start": 7,
            "bin_end": 7.45,
            "count": 3
           },
           {
            "bin_start": 7.45,
            "bin_end": 7.9,
            "count": 1
           },
           {
            "bin_start": 7.9,
            "bin_end": 8.350000000000001,
            "count": 0
           },
           {
            "bin_start": 8.350000000000001,
            "bin_end": 8.8,
            "count": 1
           }
          ]
         }
        },
        {
         "name": "_deepnote_index_column",
         "dtype": "int64"
        }
       ],
       "rows": [
        {
         "title": "One Man's Challenge",
         "first_genre": "short",
         "cleaned_plot": "[]",
         "imdb_rating": "nan",
         "_deepnote_index_column": 3735
        },
        {
         "title": "I'm Not One of You",
         "first_genre": "short",
         "cleaned_plot": "['im', 'one', 'trying', 'tell', 'overwhelming', 'pressure', 'society', 'individuals', 'elevator']",
         "imdb_rating": 8.8,
         "_deepnote_index_column": 1741
        },
        {
         "title": "Blue Collar Comedy Tour: One for the Road",
         "first_genre": "documentary",
         "cleaned_plot": "['bill', 'engvall', 'ron', 'tater', 'salad', 'white', 'jeff', 'foxworthy', 'larry', 'cable', 'guy', 'return', 'onstage', 'give', 'funny', 'redneck', 'laughs', 'humorous', 'spins', 'everyday', 'affairs']",
         "imdb_rating": 7.3,
         "_deepnote_index_column": 245
        },
        {
         "title": "With No One in the World",
         "first_genre": "short",
         "cleaned_plot": "['running', 'away', 'cops', 'bleeding', 'death', 'michael', 'walks', 'local', 'pub', 'hoping', 'stay', 'heat', 'wears', 'meeting', 'pubs', 'depressed', 'waitress', 'maya', 'forces']",
         "imdb_rating": "nan",
         "_deepnote_index_column": 2892
        },
        {
         "title": "One Hot Rotting, Zombie Love Song",
         "first_genre": "short",
         "cleaned_plot": "['jonas', 'kindhearted', 'zombie', 'sick', 'tired', 'killing', 'eating', 'people', 'decides', 'become', 'vegetarian', 'pursue', 'singersongwriter', 'aspirations', 'falls', 'girl', 'named', 'cheryl', 'love', 'never', 'stunk', 'bad']",
         "imdb_rating": 5.4,
         "_deepnote_index_column": 2330
        },
        {
         "title": "The Big One",
         "first_genre": "fantasy",
         "cleaned_plot": "['anna', 'buried', 'beloved', 'aunt', 'california', 'waits', 'big', 'quake', 'hit', 'unsure', 'going', 'climbs', 'old', 'convertible', 'trip', 'desert', 'along', 'way', 'meets', 'series', 'biz']",
         "imdb_rating": 6.4,
         "_deepnote_index_column": 1727
        },
        {
         "title": "One Night Rodeo Official Music Video",
         "first_genre": "short",
         "cleaned_plot": "[]",
         "imdb_rating": "nan",
         "_deepnote_index_column": 4316
        },
        {
         "title": "One Night",
         "first_genre": "short",
         "cleaned_plot": "['unexpected', 'encounter', 'offers', 'walk', 'ease', 'mind', 'end', 'helping', 'letting', 'go', 'beautiful', 'setting', 'paris', 'magic', 'happens', 'miracles', 'everywhere', 'explore']",
         "imdb_rating": "nan",
         "_deepnote_index_column": 4127
        },
        {
         "title": "One More Day",
         "first_genre": "romance",
         "cleaned_plot": "[]",
         "imdb_rating": 4.3,
         "_deepnote_index_column": 2362
        },
        {
         "title": "One Way to Love",
         "first_genre": "comedy",
         "cleaned_plot": "['chicago', 'team', 'radio', 'scriptwriters', 'must', 'split', 'one', 'takes', 'job', 'bridetobes', 'father', 'another', 'must', 'write', 'commercial', 'jingles']",
         "imdb_rating": 7.2,
         "_deepnote_index_column": 1228
        }
       ]
      },
      "text/plain": "                                          title  first_genre  \\\n3735                        One Man's Challenge        short   \n1741                         I'm Not One of You        short   \n245   Blue Collar Comedy Tour: One for the Road  documentary   \n2892                   With No One in the World        short   \n2330          One Hot Rotting, Zombie Love Song        short   \n1727                                The Big One      fantasy   \n4316       One Night Rodeo Official Music Video        short   \n4127                                  One Night        short   \n2362                               One More Day      romance   \n1228                            One Way to Love       comedy   \n3035                            One Night Stand        short   \n61                                 Not One Less        drama   \n1509                             One Per Person    animation   \n4995                          One Billion Dates        short   \n859                              One Way Ticket       action   \n\n                                           cleaned_plot  imdb_rating  \n3735                                                 []          NaN  \n1741  [im, one, trying, tell, overwhelming, pressure...          8.8  \n245   [bill, engvall, ron, tater, salad, white, jeff...          7.3  \n2892  [running, away, cops, bleeding, death, michael...          NaN  \n2330  [jonas, kindhearted, zombie, sick, tired, kill...          5.4  \n1727  [anna, buried, beloved, aunt, california, wait...          6.4  \n4316                                                 []          NaN  \n4127  [unexpected, encounter, offers, walk, ease, mi...          NaN  \n2362                                                 []          4.3  \n1228  [chicago, team, radio, scriptwriters, must, sp...          7.2  \n3035                                                 []          NaN  \n61    [remote, mountain, village, teacher, must, lea...          7.7  \n1509  [awkward, fast, food, worker, gains, new, pers...          7.0  \n4995  [ended, wrong, person, truly, thought, couldnt...          NaN  \n859   [based, true, story, one, way, ticket, crimina...          5.9  ",
      "text/html": "<div>\n<style scoped>\n    .dataframe tbody tr th:only-of-type {\n        vertical-align: middle;\n    }\n\n    .dataframe tbody tr th {\n        vertical-align: top;\n    }\n\n    .dataframe thead th {\n        text-align: right;\n    }\n</style>\n<table border=\"1\" class=\"dataframe\">\n  <thead>\n    <tr style=\"text-align: right;\">\n      <th></th>\n      <th>title</th>\n      <th>first_genre</th>\n      <th>cleaned_plot</th>\n      <th>imdb_rating</th>\n    </tr>\n  </thead>\n  <tbody>\n    <tr>\n      <th>3735</th>\n      <td>One Man's Challenge</td>\n      <td>short</td>\n      <td>[]</td>\n      <td>NaN</td>\n    </tr>\n    <tr>\n      <th>1741</th>\n      <td>I'm Not One of You</td>\n      <td>short</td>\n      <td>[im, one, trying, tell, overwhelming, pressure...</td>\n      <td>8.8</td>\n    </tr>\n    <tr>\n      <th>245</th>\n      <td>Blue Collar Comedy Tour: One for the Road</td>\n      <td>documentary</td>\n      <td>[bill, engvall, ron, tater, salad, white, jeff...</td>\n      <td>7.3</td>\n    </tr>\n    <tr>\n      <th>2892</th>\n      <td>With No One in the World</td>\n      <td>short</td>\n      <td>[running, away, cops, bleeding, death, michael...</td>\n      <td>NaN</td>\n    </tr>\n    <tr>\n      <th>2330</th>\n      <td>One Hot Rotting, Zombie Love Song</td>\n      <td>short</td>\n      <td>[jonas, kindhearted, zombie, sick, tired, kill...</td>\n      <td>5.4</td>\n    </tr>\n    <tr>\n      <th>1727</th>\n      <td>The Big One</td>\n      <td>fantasy</td>\n      <td>[anna, buried, beloved, aunt, california, wait...</td>\n      <td>6.4</td>\n    </tr>\n    <tr>\n      <th>4316</th>\n      <td>One Night Rodeo Official Music Video</td>\n      <td>short</td>\n      <td>[]</td>\n      <td>NaN</td>\n    </tr>\n    <tr>\n      <th>4127</th>\n      <td>One Night</td>\n      <td>short</td>\n      <td>[unexpected, encounter, offers, walk, ease, mi...</td>\n      <td>NaN</td>\n    </tr>\n    <tr>\n      <th>2362</th>\n      <td>One More Day</td>\n      <td>romance</td>\n      <td>[]</td>\n      <td>4.3</td>\n    </tr>\n    <tr>\n      <th>1228</th>\n      <td>One Way to Love</td>\n      <td>comedy</td>\n      <td>[chicago, team, radio, scriptwriters, must, sp...</td>\n      <td>7.2</td>\n    </tr>\n    <tr>\n      <th>3035</th>\n      <td>One Night Stand</td>\n      <td>short</td>\n      <td>[]</td>\n      <td>NaN</td>\n    </tr>\n    <tr>\n      <th>61</th>\n      <td>Not One Less</td>\n      <td>drama</td>\n      <td>[remote, mountain, village, teacher, must, lea...</td>\n      <td>7.7</td>\n    </tr>\n    <tr>\n      <th>1509</th>\n      <td>One Per Person</td>\n      <td>animation</td>\n      <td>[awkward, fast, food, worker, gains, new, pers...</td>\n      <td>7.0</td>\n    </tr>\n    <tr>\n      <th>4995</th>\n      <td>One Billion Dates</td>\n      <td>short</td>\n      <td>[ended, wrong, person, truly, thought, couldnt...</td>\n      <td>NaN</td>\n    </tr>\n    <tr>\n      <th>859</th>\n      <td>One Way Ticket</td>\n      <td>action</td>\n      <td>[based, true, story, one, way, ticket, crimina...</td>\n      <td>5.9</td>\n    </tr>\n  </tbody>\n</table>\n</div>"
     },
     "metadata": {}
    }
   ]
  },
  {
   "cell_type": "code",
   "metadata": {
    "cell_id": "403f88edeef74445a4bcf9535ed3e82a",
    "tags": [],
    "deepnote_to_be_reexecuted": false,
    "source_hash": "1160c19a",
    "execution_start": 1655447336472,
    "execution_millis": 39,
    "deepnote_cell_type": "code",
    "deepnote_cell_height": 540
   },
   "source": "# Summary of each column\ncleaned_df.describe()",
   "execution_count": 8,
   "outputs": [
    {
     "output_type": "execute_result",
     "execution_count": 8,
     "data": {
      "application/vnd.deepnote.dataframe.v3+json": {
       "column_count": 1,
       "row_count": 8,
       "columns": [
        {
         "name": "imdb_rating",
         "dtype": "float64",
         "stats": {
          "unique_count": 8,
          "nan_count": 0,
          "min": "1.0",
          "max": "2394.0",
          "histogram": [
           {
            "bin_start": 1,
            "bin_end": 240.3,
            "count": 7
           },
           {
            "bin_start": 240.3,
            "bin_end": 479.6,
            "count": 0
           },
           {
            "bin_start": 479.6,
            "bin_end": 718.9000000000001,
            "count": 0
           },
           {
            "bin_start": 718.9000000000001,
            "bin_end": 958.2,
            "count": 0
           },
           {
            "bin_start": 958.2,
            "bin_end": 1197.5,
            "count": 0
           },
           {
            "bin_start": 1197.5,
            "bin_end": 1436.8000000000002,
            "count": 0
           },
           {
            "bin_start": 1436.8000000000002,
            "bin_end": 1676.1000000000001,
            "count": 0
           },
           {
            "bin_start": 1676.1000000000001,
            "bin_end": 1915.4,
            "count": 0
           },
           {
            "bin_start": 1915.4,
            "bin_end": 2154.7000000000003,
            "count": 0
           },
           {
            "bin_start": 2154.7000000000003,
            "bin_end": 2394,
            "count": 1
           }
          ]
         }
        },
        {
         "name": "_deepnote_index_column",
         "dtype": "object"
        }
       ],
       "rows": [
        {
         "imdb_rating": 2394,
         "_deepnote_index_column": "count"
        },
        {
         "imdb_rating": 6.594319131161237,
         "_deepnote_index_column": "mean"
        },
        {
         "imdb_rating": 1.3797870345953234,
         "_deepnote_index_column": "std"
        },
        {
         "imdb_rating": 1,
         "_deepnote_index_column": "min"
        },
        {
         "imdb_rating": 5.8,
         "_deepnote_index_column": "25%"
        },
        {
         "imdb_rating": 6.7,
         "_deepnote_index_column": "50%"
        },
        {
         "imdb_rating": 7.5,
         "_deepnote_index_column": "75%"
        },
        {
         "imdb_rating": 10,
         "_deepnote_index_column": "max"
        }
       ]
      },
      "text/plain": "       imdb_rating\ncount  2394.000000\nmean      6.594319\nstd       1.379787\nmin       1.000000\n25%       5.800000\n50%       6.700000\n75%       7.500000\nmax      10.000000",
      "text/html": "<div>\n<style scoped>\n    .dataframe tbody tr th:only-of-type {\n        vertical-align: middle;\n    }\n\n    .dataframe tbody tr th {\n        vertical-align: top;\n    }\n\n    .dataframe thead th {\n        text-align: right;\n    }\n</style>\n<table border=\"1\" class=\"dataframe\">\n  <thead>\n    <tr style=\"text-align: right;\">\n      <th></th>\n      <th>imdb_rating</th>\n    </tr>\n  </thead>\n  <tbody>\n    <tr>\n      <th>count</th>\n      <td>2394.000000</td>\n    </tr>\n    <tr>\n      <th>mean</th>\n      <td>6.594319</td>\n    </tr>\n    <tr>\n      <th>std</th>\n      <td>1.379787</td>\n    </tr>\n    <tr>\n      <th>min</th>\n      <td>1.000000</td>\n    </tr>\n    <tr>\n      <th>25%</th>\n      <td>5.800000</td>\n    </tr>\n    <tr>\n      <th>50%</th>\n      <td>6.700000</td>\n    </tr>\n    <tr>\n      <th>75%</th>\n      <td>7.500000</td>\n    </tr>\n    <tr>\n      <th>max</th>\n      <td>10.000000</td>\n    </tr>\n  </tbody>\n</table>\n</div>"
     },
     "metadata": {}
    }
   ]
  },
  {
   "cell_type": "code",
   "metadata": {
    "cell_id": "0686c15658ec421983aa34cb98b7519d",
    "tags": [],
    "deepnote_to_be_reexecuted": false,
    "source_hash": "39165a1d",
    "execution_start": 1655447336501,
    "execution_millis": 16,
    "deepnote_cell_type": "code",
    "deepnote_cell_height": 666,
    "deepnote_output_heights": [
     551
    ]
   },
   "source": "# Count instances of each genre\ncleaned_df['first_genre'].value_counts()",
   "execution_count": 9,
   "outputs": [
    {
     "output_type": "execute_result",
     "execution_count": 9,
     "data": {
      "text/plain": "short          2063\ndocumentary     957\ndrama           514\ncomedy          456\nanimation       185\naction          159\ncrime            75\nmusic            71\nsport            60\nhorror           51\nadventure        40\nthriller         35\nfamily           30\nbiography        27\nromance          25\nscifi            20\nwestern          18\nmusical          13\nmystery          12\nfantasy          11\nhistory           6\ntalkshow          5\nrealitytv         4\nnews              3\ngameshow          1\nName: first_genre, dtype: int64"
     },
     "metadata": {}
    }
   ]
  },
  {
   "cell_type": "code",
   "metadata": {
    "cell_id": "c321e830faca45d6ac84fa15f791df78",
    "tags": [],
    "deepnote_to_be_reexecuted": false,
    "source_hash": "e356402d",
    "execution_start": 1655447336503,
    "execution_millis": 17,
    "deepnote_cell_type": "code",
    "deepnote_cell_height": 262,
    "deepnote_output_heights": [
     129
    ]
   },
   "source": "# Include only the top 5 genres, excluding shorts and na\ncleaned_df = cleaned_df.loc[cleaned_df['first_genre'].isin(['documentary', 'drama', 'comedy', 'animation', 'action'])]\ncleaned_df['first_genre'].value_counts()",
   "execution_count": 10,
   "outputs": [
    {
     "output_type": "execute_result",
     "execution_count": 10,
     "data": {
      "text/plain": "documentary    957\ndrama          514\ncomedy         456\nanimation      185\naction         159\nName: first_genre, dtype: int64"
     },
     "metadata": {}
    }
   ]
  },
  {
   "cell_type": "code",
   "metadata": {
    "cell_id": "2b39e83fe5e1478e89f006024d79aa33",
    "tags": [],
    "deepnote_to_be_reexecuted": false,
    "source_hash": "c8790fde",
    "execution_start": 1655447336511,
    "execution_millis": 24,
    "owner_user_id": "f003377f-535d-43ef-8b69-db2e2c66d27e",
    "deepnote_cell_type": "code",
    "deepnote_cell_height": 99
   },
   "source": "# Write to a csv\ncleaned_df.to_csv('Cleaned Plot Data.csv', index = False)",
   "execution_count": 11,
   "outputs": []
  },
  {
   "cell_type": "markdown",
   "source": "<a style='text-decoration:none;line-height:16px;display:flex;color:#5B5B62;padding:10px;justify-content:end;' href='https://deepnote.com?utm_source=created-in-deepnote-cell&projectId=53ef1faa-b7a9-4637-b54c-3b067e58670d' target=\"_blank\">\n<img alt='Created in deepnote.com' style='display:inline;max-height:16px;margin:0px;margin-right:7.5px;' src='data:image/svg+xml;base64,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' > </img>\nCreated in <span style='font-weight:600;margin-left:4px;'>Deepnote</span></a>",
   "metadata": {
    "tags": [],
    "created_in_deepnote_cell": true,
    "deepnote_cell_type": "markdown"
   }
  }
 ],
 "nbformat": 4,
 "nbformat_minor": 2,
 "metadata": {
  "orig_nbformat": 2,
  "deepnote": {},
  "deepnote_notebook_id": "4376941c-c322-4911-874a-e16108ddda7d",
  "deepnote_execution_queue": []
 }
}