{
 "cells": [
  {
   "cell_type": "markdown",
   "source": "# Packages",
   "metadata": {
    "cell_id": "5e85f115f3194b94bb4e528439d5c722",
    "tags": [],
    "deepnote_cell_type": "markdown",
    "deepnote_cell_height": 87.19999694824219
   }
  },
  {
   "cell_type": "code",
   "source": "import pandas as pd\nimport numpy as np\nimport time\nfrom collections import Counter, defaultdict",
   "metadata": {
    "cell_id": "169e56d3f5cf4c809bb73af25db1a585",
    "tags": [],
    "deepnote_to_be_reexecuted": false,
    "source_hash": "526e9e6f",
    "execution_start": 1655352954207,
    "execution_millis": 4,
    "deepnote_cell_type": "code",
    "deepnote_cell_height": 135
   },
   "outputs": [],
   "execution_count": 1
  },
  {
   "cell_type": "markdown",
   "source": "---- \n# Loading the Data",
   "metadata": {
    "cell_id": "0a14b29258204fca8c8c49eb6d8d78cb",
    "tags": [],
    "deepnote_cell_type": "markdown",
    "deepnote_cell_height": 88.19999694824219
   }
  },
  {
   "cell_type": "code",
   "source": "# Read in csv data as pandas data frame\ndf = pd.read_csv(\"Cleaned Plot Data.csv\")\n# remove the additional index as the first column\ndf = df.iloc[: , 1:]\n# see a random subset of 15 samples\ndf.sample(15)",
   "metadata": {
    "cell_id": "d041327e1ab64a25ad604422492c10d5",
    "tags": [],
    "deepnote_to_be_reexecuted": false,
    "source_hash": "c438e48e",
    "execution_start": 1655352954214,
    "execution_millis": 42,
    "deepnote_cell_type": "code",
    "deepnote_cell_height": 694
   },
   "outputs": [
    {
     "output_type": "execute_result",
     "execution_count": 2,
     "data": {
      "application/vnd.deepnote.dataframe.v3+json": {
       "column_count": 3,
       "row_count": 15,
       "columns": [
        {
         "name": "first_genre",
         "dtype": "object",
         "stats": {
          "unique_count": 3,
          "nan_count": 0,
          "categories": [
           {
            "name": "drama",
            "count": 7
           },
           {
            "name": "documentary",
            "count": 4
           },
           {
            "name": "comedy",
            "count": 4
           }
          ]
         }
        },
        {
         "name": "cleaned_plot",
         "dtype": "object",
         "stats": {
          "unique_count": 14,
          "nan_count": 0,
          "categories": [
           {
            "name": "['na']",
            "count": 2
           },
           {
            "name": "['til', 'death', 'us', 'part', 'wasnt', 'nearly', 'long', 'enough', 'max', 'abby', 'ghost', 'returns', 'help', 'get', 'second', 'chance', 'together', 'neither', 'ever', 'want', 'say', 'goodbye']",
            "count": 1
           },
           {
            "name": "12 others",
            "count": 12
           }
          ]
         }
        },
        {
         "name": "imdb_rating",
         "dtype": "float64",
         "stats": {
          "unique_count": 10,
          "nan_count": 5,
          "min": "3.5",
          "max": "8.5",
          "histogram": [
           {
            "bin_start": 3.5,
            "bin_end": 4,
            "count": 1
           },
           {
            "bin_start": 4,
            "bin_end": 4.5,
            "count": 0
           },
           {
            "bin_start": 4.5,
            "bin_end": 5,
            "count": 1
           },
           {
            "bin_start": 5,
            "bin_end": 5.5,
            "count": 0
           },
           {
            "bin_start": 5.5,
            "bin_end": 6,
            "count": 1
           },
           {
            "bin_start": 6,
            "bin_end": 6.5,
            "count": 2
           },
           {
            "bin_start": 6.5,
            "bin_end": 7,
            "count": 2
           },
           {
            "bin_start": 7,
            "bin_end": 7.5,
            "count": 1
           },
           {
            "bin_start": 7.5,
            "bin_end": 8,
            "count": 0
           },
           {
            "bin_start": 8,
            "bin_end": 8.5,
            "count": 2
           }
          ]
         }
        },
        {
         "name": "_deepnote_index_column",
         "dtype": "int64"
        }
       ],
       "rows": [
        {
         "first_genre": "drama",
         "cleaned_plot": "['til', 'death', 'us', 'part', 'wasnt', 'nearly', 'long', 'enough', 'max', 'abby', 'ghost', 'returns', 'help', 'get', 'second', 'chance', 'together', 'neither', 'ever', 'want', 'say', 'goodbye']",
         "imdb_rating": 4.9,
         "_deepnote_index_column": 545
        },
        {
         "first_genre": "drama",
         "cleaned_plot": "['otis', 'garner', 'fifties', 'walked', 'wife', 'kids', 'bittersweet', 'reunion', 'son', 'ted', 'thirty', 'years', 'later', 'otis', 'hears', 'story', 'one', 'special', 'summer']",
         "imdb_rating": 3.5,
         "_deepnote_index_column": 1254
        },
        {
         "first_genre": "drama",
         "cleaned_plot": "['na']",
         "imdb_rating": 7,
         "_deepnote_index_column": 1136
        },
        {
         "first_genre": "documentary",
         "cleaned_plot": "['making', 'film', 'django', '1966', 'described', 'star', 'franco', 'nero', 'assistant', 'director', 'ruggero', 'deodato']",
         "imdb_rating": "nan",
         "_deepnote_index_column": 2166
        },
        {
         "first_genre": "documentary",
         "cleaned_plot": "['documentary', 'first', 'season', 'angel', '1999']",
         "imdb_rating": 8.5,
         "_deepnote_index_column": 705
        },
        {
         "first_genre": "drama",
         "cleaned_plot": "['remy', 'sitting', 'hotel', 'room', 'drinking', 'martinis', 'smoking', 'cigarettes', 'since', '60s', 'desperately', 'trying', 'compose', 'follow', 'charttopping', 'love', 'ballad', 'see']",
         "imdb_rating": "nan",
         "_deepnote_index_column": 2057
        },
        {
         "first_genre": "comedy",
         "cleaned_plot": "['susan', 'roces', 'sharon', 'cuneta', 'play', 'sisters', 'sell', 'fish', 'public', 'market', 'play', 'instruments', 'towns', 'brass', 'band', 'consigned', 'playing', 'funeral', 'music']",
         "imdb_rating": 6.8,
         "_deepnote_index_column": 1367
        },
        {
         "first_genre": "drama",
         "cleaned_plot": "['much', 'difference', 'one', 'second', 'make', 'difference', 'life', 'death', 'loser', 'single', 'father', 'learns', 'lesson', 'hard', 'way', 'becomes', 'gifted', 'power', 'seeing', 'one', 'second', 'future']",
         "imdb_rating": 6.7,
         "_deepnote_index_column": 343
        },
        {
         "first_genre": "comedy",
         "cleaned_plot": "['young', 'singer', 'meets', 'man', 'victim', 'kidnap', 'plot', 'assumed', 'gang', 'girlfriend']",
         "imdb_rating": 6.3,
         "_deepnote_index_column": 708
        },
        {
         "first_genre": "comedy",
         "cleaned_plot": "['live', 'stage', 'performance', 'public', 'radio', 'show', 'american', 'life', 'filmed', 'bam', 'brooklyn', 'academy', 'music', 'howard', 'gilman', 'opera', 'house', 'june', '7th', '2014', 'featuring', 'host', 'ira', 'glass']",
         "imdb_rating": 5.7,
         "_deepnote_index_column": 1215
        }
       ]
      },
      "text/plain": "      first_genre                                       cleaned_plot  \\\n545         drama  ['til', 'death', 'us', 'part', 'wasnt', 'nearl...   \n1254        drama  ['otis', 'garner', 'fifties', 'walked', 'wife'...   \n1136        drama                                             ['na']   \n2166  documentary  ['making', 'film', 'django', '1966', 'describe...   \n705   documentary  ['documentary', 'first', 'season', 'angel', '1...   \n2057        drama  ['remy', 'sitting', 'hotel', 'room', 'drinking...   \n1367       comedy  ['susan', 'roces', 'sharon', 'cuneta', 'play',...   \n343         drama  ['much', 'difference', 'one', 'second', 'make'...   \n708        comedy  ['young', 'singer', 'meets', 'man', 'victim', ...   \n1215       comedy  ['live', 'stage', 'performance', 'public', 'ra...   \n1837        drama                                             ['na']   \n1798  documentary  ['cruise', 'ship', 'threatens', 'moving', 'may...   \n31         comedy  ['love', 'lives', 'two', 'brothers', 'mickey',...   \n1942  documentary  ['moving', 'account', 'challenges', 'faced', '...   \n1221        drama  ['film', 'contains', 'three', 'short', 'storie...   \n\n      imdb_rating  \n545           4.9  \n1254          3.5  \n1136          7.0  \n2166          NaN  \n705           8.5  \n2057          NaN  \n1367          6.8  \n343           6.7  \n708           6.3  \n1215          5.7  \n1837          NaN  \n1798          NaN  \n31            6.0  \n1942          NaN  \n1221          8.0  ",
      "text/html": "<div>\n<style scoped>\n    .dataframe tbody tr th:only-of-type {\n        vertical-align: middle;\n    }\n\n    .dataframe tbody tr th {\n        vertical-align: top;\n    }\n\n    .dataframe thead th {\n        text-align: right;\n    }\n</style>\n<table border=\"1\" class=\"dataframe\">\n  <thead>\n    <tr style=\"text-align: right;\">\n      <th></th>\n      <th>first_genre</th>\n      <th>cleaned_plot</th>\n      <th>imdb_rating</th>\n    </tr>\n  </thead>\n  <tbody>\n    <tr>\n      <th>545</th>\n      <td>drama</td>\n      <td>['til', 'death', 'us', 'part', 'wasnt', 'nearl...</td>\n      <td>4.9</td>\n    </tr>\n    <tr>\n      <th>1254</th>\n      <td>drama</td>\n      <td>['otis', 'garner', 'fifties', 'walked', 'wife'...</td>\n      <td>3.5</td>\n    </tr>\n    <tr>\n      <th>1136</th>\n      <td>drama</td>\n      <td>['na']</td>\n      <td>7.0</td>\n    </tr>\n    <tr>\n      <th>2166</th>\n      <td>documentary</td>\n      <td>['making', 'film', 'django', '1966', 'describe...</td>\n      <td>NaN</td>\n    </tr>\n    <tr>\n      <th>705</th>\n      <td>documentary</td>\n      <td>['documentary', 'first', 'season', 'angel', '1...</td>\n      <td>8.5</td>\n    </tr>\n    <tr>\n      <th>2057</th>\n      <td>drama</td>\n      <td>['remy', 'sitting', 'hotel', 'room', 'drinking...</td>\n      <td>NaN</td>\n    </tr>\n    <tr>\n      <th>1367</th>\n      <td>comedy</td>\n      <td>['susan', 'roces', 'sharon', 'cuneta', 'play',...</td>\n      <td>6.8</td>\n    </tr>\n    <tr>\n      <th>343</th>\n      <td>drama</td>\n      <td>['much', 'difference', 'one', 'second', 'make'...</td>\n      <td>6.7</td>\n    </tr>\n    <tr>\n      <th>708</th>\n      <td>comedy</td>\n      <td>['young', 'singer', 'meets', 'man', 'victim', ...</td>\n      <td>6.3</td>\n    </tr>\n    <tr>\n      <th>1215</th>\n      <td>comedy</td>\n      <td>['live', 'stage', 'performance', 'public', 'ra...</td>\n      <td>5.7</td>\n    </tr>\n    <tr>\n      <th>1837</th>\n      <td>drama</td>\n      <td>['na']</td>\n      <td>NaN</td>\n    </tr>\n    <tr>\n      <th>1798</th>\n      <td>documentary</td>\n      <td>['cruise', 'ship', 'threatens', 'moving', 'may...</td>\n      <td>NaN</td>\n    </tr>\n    <tr>\n      <th>31</th>\n      <td>comedy</td>\n      <td>['love', 'lives', 'two', 'brothers', 'mickey',...</td>\n      <td>6.0</td>\n    </tr>\n    <tr>\n      <th>1942</th>\n      <td>documentary</td>\n      <td>['moving', 'account', 'challenges', 'faced', '...</td>\n      <td>NaN</td>\n    </tr>\n    <tr>\n      <th>1221</th>\n      <td>drama</td>\n      <td>['film', 'contains', 'three', 'short', 'storie...</td>\n      <td>8.0</td>\n    </tr>\n  </tbody>\n</table>\n</div>"
     },
     "metadata": {}
    }
   ],
   "execution_count": 2
  },
  {
   "cell_type": "markdown",
   "source": "------\n# Exploratory Analysis",
   "metadata": {
    "cell_id": "fe14de9a3be44cff9d610df20e9d1338",
    "tags": [],
    "deepnote_cell_type": "markdown",
    "deepnote_cell_height": 88.19999694824219
   }
  },
  {
   "cell_type": "code",
   "source": "",
   "metadata": {
    "cell_id": "3aa4f25308844c3b9e48a431902da5c5",
    "tags": [],
    "owner_user_id": "f003377f-535d-43ef-8b69-db2e2c66d27e",
    "deepnote_to_be_reexecuted": false,
    "source_hash": "b623e53d",
    "execution_start": 1655352954256,
    "execution_millis": 4,
    "deepnote_cell_type": "code",
    "deepnote_cell_height": 66
   },
   "outputs": [],
   "execution_count": 2
  },
  {
   "cell_type": "markdown",
   "source": "<a style='text-decoration:none;line-height:16px;display:flex;color:#5B5B62;padding:10px;justify-content:end;' href='https://deepnote.com?utm_source=created-in-deepnote-cell&projectId=53ef1faa-b7a9-4637-b54c-3b067e58670d' target=\"_blank\">\n<img alt='Created in deepnote.com' style='display:inline;max-height:16px;margin:0px;margin-right:7.5px;' src='data:image/svg+xml;base64,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' > </img>\nCreated in <span style='font-weight:600;margin-left:4px;'>Deepnote</span></a>",
   "metadata": {
    "tags": [],
    "created_in_deepnote_cell": true,
    "deepnote_cell_type": "markdown"
   }
  }
 ],
 "nbformat": 4,
 "nbformat_minor": 2,
 "metadata": {
  "orig_nbformat": 2,
  "deepnote": {},
  "deepnote_notebook_id": "4376941c-c322-4911-874a-e16108ddda7d",
  "deepnote_execution_queue": []
 }
}