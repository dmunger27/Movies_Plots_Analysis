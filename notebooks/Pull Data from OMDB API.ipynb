{
 "cells": [
  {
   "cell_type": "markdown",
   "source": "# Packages",
   "metadata": {
    "cell_id": "a9a612f9d8ad49ca8705658c5fd957b9",
    "tags": [],
    "deepnote_cell_type": "markdown",
    "deepnote_cell_height": 82
   }
  },
  {
   "cell_type": "code",
   "metadata": {
    "tags": [],
    "cell_id": "0009e8fd-bf63-47a7-867b-95029c6d06dd",
    "deepnote_to_be_reexecuted": false,
    "source_hash": "4aaa96c1",
    "execution_start": 1655398093038,
    "execution_millis": 0,
    "owner_user_id": "f003377f-535d-43ef-8b69-db2e2c66d27e",
    "deepnote_cell_type": "code",
    "deepnote_cell_height": 207,
    "deepnote_output_heights": [
     null,
     21
    ]
   },
   "source": "import pandas as pd\nimport numpy as np\nimport requests\nfrom requests import TooManyRedirects\nimport re\nimport omdb\nimport time\nfrom collections import Counter, defaultdict",
   "execution_count": null,
   "outputs": []
  },
  {
   "cell_type": "markdown",
   "source": "# API Set-up",
   "metadata": {
    "cell_id": "b4296f4b51f845df8910a2317a7bbd38",
    "tags": [],
    "deepnote_cell_type": "markdown",
    "deepnote_cell_height": 82
   }
  },
  {
   "cell_type": "code",
   "metadata": {
    "cell_id": "23e203b423b14b55b1fb5dbf04030249",
    "tags": [],
    "deepnote_to_be_reexecuted": false,
    "source_hash": "edc7f630",
    "execution_start": 1655398093039,
    "execution_millis": 0,
    "deepnote_cell_type": "code",
    "deepnote_cell_height": 153
   },
   "source": "api_key = \"2831f563\" # Jimmy's key - limit 1000 calls a day\nomdb.set_default('apikey', api_key)\n\n# include tomatoes data by default\n#omdb.set_default('tomatoes', True)",
   "execution_count": null,
   "outputs": []
  },
  {
   "cell_type": "markdown",
   "source": "# Pulling Data from API",
   "metadata": {
    "cell_id": "dfed668e95db440083a3b48e851007e9",
    "tags": [],
    "deepnote_cell_type": "markdown",
    "deepnote_cell_height": 82
   }
  },
  {
   "cell_type": "code",
   "metadata": {
    "cell_id": "086c62303b97405c86bb22f203779207",
    "tags": [],
    "deepnote_to_be_reexecuted": false,
    "source_hash": "7fd65cb7",
    "execution_start": 1655398093040,
    "execution_millis": 11352,
    "deepnote_cell_type": "code",
    "deepnote_cell_height": 207,
    "deepnote_output_heights": [
     611
    ]
   },
   "source": "# set timeout of 5 seconds for this request\n# Pull 500 pages of movies (5000 movies) with the word 'one' in the title\nimdb_ids = []\nfor i in range(1,501):\n    year_df = pd.DataFrame(omdb.search_movie('one', page=i, timeout=5))\n    # Store the ids in a list\n    imdb_ids.append(year_df['imdb_id'].tolist())\nimdb_ids = sum(imdb_ids, [])",
   "execution_count": null,
   "outputs": []
  },
  {
   "cell_type": "code",
   "metadata": {
    "cell_id": "c20e8bba30fc4086befc1fb14cb04b94",
    "tags": [],
    "deepnote_to_be_reexecuted": false,
    "source_hash": "7b60af13",
    "execution_start": 1655398104398,
    "execution_millis": 231694,
    "deepnote_cell_type": "code",
    "deepnote_cell_height": 672
   },
   "source": "# Use ids to obtain movie information - \nmovies_info = pd.DataFrame([omdb.imdbid(i) for i in imdb_ids])\n\n# View the dataframe\nmovies_info.sample(15)",
   "execution_count": null,
   "outputs": [
    {
     "output_type": "execute_result",
     "execution_count": 5,
     "data": {
      "application/vnd.deepnote.dataframe.v3+json": {
       "column_count": 25,
       "row_count": 15,
       "columns": [
        {
         "name": "title",
         "dtype": "object",
         "stats": {
          "unique_count": 15,
          "nan_count": 0,
          "categories": [
           {
            "name": "One More River",
            "count": 1
           },
           {
            "name": "The Mysterious Death of the Man with One Hand",
            "count": 1
           },
           {
            "name": "13 others",
            "count": 13
           }
          ]
         }
        },
        {
         "name": "year",
         "dtype": "object",
         "stats": {
          "unique_count": 13,
          "nan_count": 0,
          "categories": [
           {
            "name": "2017",
            "count": 2
           },
           {
            "name": "2011",
            "count": 2
           },
           {
            "name": "11 others",
            "count": 11
           }
          ]
         }
        },
        {
         "name": "rated",
         "dtype": "object",
         "stats": {
          "unique_count": 3,
          "nan_count": 0,
          "categories": [
           {
            "name": "N/A",
            "count": 13
           },
           {
            "name": "Not Rated",
            "count": 1
           },
           {
            "name": "PG",
            "count": 1
           }
          ]
         }
        },
        {
         "name": "released",
         "dtype": "object",
         "stats": {
          "unique_count": 10,
          "nan_count": 0,
          "categories": [
           {
            "name": "N/A",
            "count": 6
           },
           {
            "name": "24 Apr 1963",
            "count": 1
           },
           {
            "name": "8 others",
            "count": 8
           }
          ]
         }
        },
        {
         "name": "runtime",
         "dtype": "object",
         "stats": {
          "unique_count": 13,
          "nan_count": 0,
          "categories": [
           {
            "name": "N/A",
            "count": 3
           },
           {
            "name": "60 min",
            "count": 1
           },
           {
            "name": "11 others",
            "count": 11
           }
          ]
         }
        },
        {
         "name": "genre",
         "dtype": "object",
         "stats": {
          "unique_count": 14,
          "nan_count": 0,
          "categories": [
           {
            "name": "Short, Music",
            "count": 2
           },
           {
            "name": "Documentary",
            "count": 1
           },
           {
            "name": "12 others",
            "count": 12
           }
          ]
         }
        },
        {
         "name": "director",
         "dtype": "object",
         "stats": {
          "unique_count": 15,
          "nan_count": 0,
          "categories": [
           {
            "name": "Beryl Fox, Douglas Leiterman",
            "count": 1
           },
           {
            "name": "L. Michael Mansfield",
            "count": 1
           },
           {
            "name": "13 others",
            "count": 13
           }
          ]
         }
        },
        {
         "name": "writer",
         "dtype": "object",
         "stats": {
          "unique_count": 9,
          "nan_count": 0,
          "categories": [
           {
            "name": "N/A",
            "count": 7
           },
           {
            "name": "L. Michael Mansfield",
            "count": 1
           },
           {
            "name": "7 others",
            "count": 7
           }
          ]
         }
        },
        {
         "name": "actors",
         "dtype": "object",
         "stats": {
          "unique_count": 13,
          "nan_count": 0,
          "categories": [
           {
            "name": "N/A",
            "count": 3
           },
           {
            "name": "Ralph Bunche, James Meredith, James R. Venable, Malcolm X",
            "count": 1
           },
           {
            "name": "11 others",
            "count": 11
           }
          ]
         }
        },
        {
         "name": "plot",
         "dtype": "object",
         "stats": {
          "unique_count": 11,
          "nan_count": 0,
          "categories": [
           {
            "name": "N/A",
            "count": 5
           },
           {
            "name": "A film essay, filmed in the cinema verité style, on the mood of the American south in the spring of 1963.",
            "count": 1
           },
           {
            "name": "9 others",
            "count": 9
           }
          ]
         }
        },
        {
         "name": "language",
         "dtype": "object",
         "stats": {
          "unique_count": 4,
          "nan_count": 0,
          "categories": [
           {
            "name": "English",
            "count": 11
           },
           {
            "name": "N/A",
            "count": 2
           },
           {
            "name": "2 others",
            "count": 2
           }
          ]
         }
        },
        {
         "name": "country",
         "dtype": "object",
         "stats": {
          "unique_count": 8,
          "nan_count": 0,
          "categories": [
           {
            "name": "USA",
            "count": 6
           },
           {
            "name": "Canada",
            "count": 2
           },
           {
            "name": "6 others",
            "count": 7
           }
          ]
         }
        },
        {
         "name": "awards",
         "dtype": "object",
         "stats": {
          "unique_count": 5,
          "nan_count": 0,
          "categories": [
           {
            "name": "N/A",
            "count": 11
           },
           {
            "name": "2 wins.",
            "count": 1
           },
           {
            "name": "3 others",
            "count": 3
           }
          ]
         }
        },
        {
         "name": "poster",
         "dtype": "object",
         "stats": {
          "unique_count": 10,
          "nan_count": 0,
          "categories": [
           {
            "name": "N/A",
            "count": 6
           },
           {
            "name": "https://m.media-amazon.com/images/M/MV5BMjg5YjM2Y2YtN2NiZi00ZDkwLTkyODAtZmM1OWQ2NTYwMDhlXkEyXkFqcGdeQXVyMjMyNTYzMDU@._V1_SX300.jpg",
            "count": 1
           },
           {
            "name": "8 others",
            "count": 8
           }
          ]
         }
        },
        {
         "name": "ratings",
         "dtype": "object",
         "stats": {
          "unique_count": 15,
          "nan_count": 0,
          "categories": [
           {
            "name": "[]",
            "count": 10
           },
           {
            "name": "[{'source': 'Internet Movie Database', 'value': '8.8/10'}]",
            "count": 1
           },
           {
            "name": "4 others",
            "count": 4
           }
          ]
         }
        },
        {
         "name": "metascore",
         "dtype": "object",
         "stats": {
          "unique_count": 1,
          "nan_count": 0,
          "categories": [
           {
            "name": "N/A",
            "count": 15
           }
          ]
         }
        },
        {
         "name": "imdb_rating",
         "dtype": "object",
         "stats": {
          "unique_count": 6,
          "nan_count": 0,
          "categories": [
           {
            "name": "N/A",
            "count": 10
           },
           {
            "name": "8.8",
            "count": 1
           },
           {
            "name": "4 others",
            "count": 4
           }
          ]
         }
        },
        {
         "name": "imdb_votes",
         "dtype": "object",
         "stats": {
          "unique_count": 6,
          "nan_count": 0,
          "categories": [
           {
            "name": "N/A",
            "count": 10
           },
           {
            "name": "5",
            "count": 1
           },
           {
            "name": "4 others",
            "count": 4
           }
          ]
         }
        },
        {
         "name": "imdb_id",
         "dtype": "object",
         "stats": {
          "unique_count": 15,
          "nan_count": 0,
          "categories": [
           {
            "name": "tt0236552",
            "count": 1
           },
           {
            "name": "tt12343664",
            "count": 1
           },
           {
            "name": "13 others",
            "count": 13
           }
          ]
         }
        },
        {
         "name": "type",
         "dtype": "object",
         "stats": {
          "unique_count": 1,
          "nan_count": 0,
          "categories": [
           {
            "name": "movie",
            "count": 15
           }
          ]
         }
        },
        {
         "name": "dvd",
         "dtype": "object",
         "stats": {
          "unique_count": 3,
          "nan_count": 0,
          "categories": [
           {
            "name": "N/A",
            "count": 13
           },
           {
            "name": "30 Nov 2016",
            "count": 1
           },
           {
            "name": "05 Jan 2017",
            "count": 1
           }
          ]
         }
        },
        {
         "name": "box_office",
         "dtype": "object",
         "stats": {
          "unique_count": 1,
          "nan_count": 0,
          "categories": [
           {
            "name": "N/A",
            "count": 15
           }
          ]
         }
        },
        {
         "name": "production",
         "dtype": "object",
         "stats": {
          "unique_count": 1,
          "nan_count": 0,
          "categories": [
           {
            "name": "N/A",
            "count": 15
           }
          ]
         }
        },
        {
         "name": "website",
         "dtype": "object",
         "stats": {
          "unique_count": 1,
          "nan_count": 0,
          "categories": [
           {
            "name": "N/A",
            "count": 15
           }
          ]
         }
        },
        {
         "name": "response",
         "dtype": "object",
         "stats": {
          "unique_count": 1,
          "nan_count": 0,
          "categories": [
           {
            "name": "True",
            "count": 15
           }
          ]
         }
        },
        {
         "name": "_deepnote_index_column",
         "dtype": "int64"
        }
       ],
       "rows": [
        {
         "title": "One More River",
         "year": "1964",
         "rated": "N/A",
         "released": "24 Apr 1963",
         "runtime": "60 min",
         "genre": "Documentary",
         "director": "Beryl Fox, Douglas Leiterman",
         "writer": "N/A",
         "actors": "Ralph Bunche, James Meredith, James R. Venable, Malcolm X",
         "plot": "A film essay, filmed in the cinema verité style, on the mood of the American south in the spring of 1963.",
         "language": "English",
         "country": "Canada",
         "awards": "N/A",
         "poster": "N/A",
         "ratings": "[]",
         "metascore": "N/A",
         "imdb_rating": "N/A",
         "imdb_votes": "N/A",
         "imdb_id": "tt0236552",
         "type": "movie",
         "dvd": "N/A",
         "box_office": "N/A",
         "production": "N/A",
         "website": "N/A",
         "response": "True",
         "_deepnote_index_column": 3465
        },
        {
         "title": "The Mysterious Death of the Man with One Hand",
         "year": "2020",
         "rated": "N/A",
         "released": "N/A",
         "runtime": "8 min",
         "genre": "Animation, Short",
         "director": "L. Michael Mansfield",
         "writer": "L. Michael Mansfield",
         "actors": "Bobby Butler, Moe Rock",
         "plot": "When a lonely detective investigating an unsolvable murder is kidnapped by a beautiful dame looking for answers, the two begin a journey to become one with the goddamn universe.",
         "language": "English",
         "country": "United States",
         "awards": "N/A",
         "poster": "https://m.media-amazon.com/images/M/MV5BMjg5YjM2Y2YtN2NiZi00ZDkwLTkyODAtZmM1OWQ2NTYwMDhlXkEyXkFqcGdeQXVyMjMyNTYzMDU@._V1_SX300.jpg",
         "ratings": "[]",
         "metascore": "N/A",
         "imdb_rating": "N/A",
         "imdb_votes": "N/A",
         "imdb_id": "tt12343664",
         "type": "movie",
         "dvd": "N/A",
         "box_office": "N/A",
         "production": "N/A",
         "website": "N/A",
         "response": "True",
         "_deepnote_index_column": 4669
        },
        {
         "title": "One of These Days",
         "year": "1997",
         "rated": "N/A",
         "released": "N/A",
         "runtime": "10 min",
         "genre": "Short",
         "director": "Scott Umsteadt",
         "writer": "Scott Umsteadt",
         "actors": "Scott Umsteadt, Julie Staley, Dennis Bingham",
         "plot": "N/A",
         "language": "English",
         "country": "USA",
         "awards": "N/A",
         "poster": "N/A",
         "ratings": "[{'source': 'Internet Movie Database', 'value': '8.8/10'}]",
         "metascore": "N/A",
         "imdb_rating": "8.8",
         "imdb_votes": "5",
         "imdb_id": "tt0119835",
         "type": "movie",
         "dvd": "N/A",
         "box_office": "N/A",
         "production": "N/A",
         "website": "N/A",
         "response": "True",
         "_deepnote_index_column": 2459
        },
        {
         "title": "Murder Act One",
         "year": "2003",
         "rated": "N/A",
         "released": "27 Sep 2003",
         "runtime": "11 min",
         "genre": "Short, Crime",
         "director": "Steven Warrington",
         "writer": "Steven Warrington",
         "actors": "Mark Intrieri, Anna Bartos, Michael N. Malfitano, Elliott Mayer",
         "plot": "A desperate young man hatches a dark plan to alleviate his and others' suffering. His conscience and the rogues gallery of characters he encounters come together to confront his rationale for the perfect crime. Loosely based on Fyodor Dostoevsky's \"Crime and Punishment.\"",
         "language": "N/A",
         "country": "USA",
         "awards": "2 wins.",
         "poster": "N/A",
         "ratings": "[{'source': 'Internet Movie Database', 'value': '6.9/10'}]",
         "metascore": "N/A",
         "imdb_rating": "6.9",
         "imdb_votes": "10",
         "imdb_id": "tt0384360",
         "type": "movie",
         "dvd": "N/A",
         "box_office": "N/A",
         "production": "N/A",
         "website": "N/A",
         "response": "True",
         "_deepnote_index_column": 2029
        },
        {
         "title": "One More Spring",
         "year": "1992",
         "rated": "N/A",
         "released": "N/A",
         "runtime": "N/A",
         "genre": "Comedy",
         "director": "Kirk Browning",
         "writer": "Robert Nathan (novel), J. Ranelli (teleplay)",
         "actors": "Kimberli Colbourne, Jason Robards",
         "plot": "N/A",
         "language": "English",
         "country": "USA",
         "awards": "1 nomination.",
         "poster": "N/A",
         "ratings": "[]",
         "metascore": "N/A",
         "imdb_rating": "N/A",
         "imdb_votes": "N/A",
         "imdb_id": "tt2245035",
         "type": "movie",
         "dvd": "N/A",
         "box_office": "N/A",
         "production": "N/A",
         "website": "N/A",
         "response": "True",
         "_deepnote_index_column": 2787
        },
        {
         "title": "The Verse: One Night Man",
         "year": "2016",
         "rated": "N/A",
         "released": "02 Dec 2016",
         "runtime": "4 min",
         "genre": "Short, Music",
         "director": "Mathieu Perrault Lapierre, Simon Plante",
         "writer": "N/A",
         "actors": "Pierre-François Bouffard, Damien Robert, Catherine Marcotte, Stephanie Rahme",
         "plot": "N/A",
         "language": "English",
         "country": "Canada",
         "awards": "N/A",
         "poster": "https://m.media-amazon.com/images/M/MV5BMDgwZmM5ZDAtY2QzMC00OTcxLWE3Y2EtYmZhNGVkZWM3OGEwL2ltYWdlL2ltYWdlXkEyXkFqcGdeQXVyNTA1NDY3NzY@._V1_SX300.jpg",
         "ratings": "[]",
         "metascore": "N/A",
         "imdb_rating": "N/A",
         "imdb_votes": "N/A",
         "imdb_id": "tt6295054",
         "type": "movie",
         "dvd": "N/A",
         "box_office": "N/A",
         "production": "N/A",
         "website": "N/A",
         "response": "True",
         "_deepnote_index_column": 3710
        },
        {
         "title": "One Kiss",
         "year": "1929",
         "rated": "N/A",
         "released": "01 Jun 1929",
         "runtime": "3 min",
         "genre": "Short, Music",
         "director": "David Aylott, E.F. Symmons",
         "writer": "N/A",
         "actors": "N/A",
         "plot": "N/A",
         "language": "English",
         "country": "UK",
         "awards": "N/A",
         "poster": "N/A",
         "ratings": "[]",
         "metascore": "N/A",
         "imdb_rating": "N/A",
         "imdb_votes": "N/A",
         "imdb_id": "tt1321450",
         "type": "movie",
         "dvd": "N/A",
         "box_office": "N/A",
         "production": "N/A",
         "website": "N/A",
         "response": "True",
         "_deepnote_index_column": 3008
        },
        {
         "title": "Zatoichi and the One-Armed Swordsman",
         "year": "1971",
         "rated": "Not Rated",
         "released": "13 Jan 1971",
         "runtime": "94 min",
         "genre": "Action, Adventure, Drama",
         "director": "Kimiyoshi Yasuda",
         "writer": "Kan Shimozawa, Takayuki Yamada, Kimiyoshi Yasuda",
         "actors": "Shintarô Katsu, Jimmy Wang Yu, Watako Hamaki",
         "plot": "Two of Japan and China's greatest heroic swordsman find themselves caught in a plot to protect a young child. But will national distrust and simple misunderstanding keep the two kindred spirits apart?",
         "language": "Japanese, Mandarin",
         "country": "Japan, Hong Kong",
         "awards": "1 nomination",
         "poster": "https://m.media-amazon.com/images/M/MV5BMjU4MzljYmQtMWU1ZC00ZDAyLWI1ZDgtMmFiMTBkMzIxYWNhXkEyXkFqcGdeQXVyMTAxNDM2MTcz._V1_SX300.jpg",
         "ratings": "[{'source': 'Internet Movie Database', 'value': '7.2/10'}]",
         "metascore": "N/A",
         "imdb_rating": "7.2",
         "imdb_votes": "1,540",
         "imdb_id": "tt0066602",
         "type": "movie",
         "dvd": "30 Nov 2016",
         "box_office": "N/A",
         "production": "N/A",
         "website": "N/A",
         "response": "True",
         "_deepnote_index_column": 195
        },
        {
         "title": "One Way Single",
         "year": "2013",
         "rated": "N/A",
         "released": "N/A",
         "runtime": "7 min",
         "genre": "Short, Comedy, Drama",
         "director": "Andrew Mitrak",
         "writer": "Robert J. Lee",
         "actors": "Jay Myers, Hope Shanthi",
         "plot": "Two lone travelers cross paths on a red-eye commuter train. Saul, a working man who likes meeting new people. Pepper, a playful cartoonist who happens to be psychotic. Pepper takes Saul off the tracks into the dark, twisted world in ",
         "language": "English",
         "country": "United States",
         "awards": "N/A",
         "poster": "https://m.media-amazon.com/images/M/MV5BYjgwMjQyZjUtYTExZi00NDE1LTllNDgtOTA4YmZiNDQxMWNmXkEyXkFqcGdeQXVyMjI4MjQ2NDk@._V1_SX300.jpg",
         "ratings": "[]",
         "metascore": "N/A",
         "imdb_rating": "N/A",
         "imdb_votes": "N/A",
         "imdb_id": "tt2619772",
         "type": "movie",
         "dvd": "N/A",
         "box_office": "N/A",
         "production": "N/A",
         "website": "N/A",
         "response": "True",
         "_deepnote_index_column": 3977
        },
        {
         "title": "From One Place to Another",
         "year": "2019",
         "rated": "N/A",
         "released": "N/A",
         "runtime": "N/A",
         "genre": "Documentary, Short",
         "director": "Michael Robayo",
         "writer": "N/A",
         "actors": "Anne Humanfeld",
         "plot": "A short documentary focused on the process of Bronx based artist Anne Humanfeld. This documentary is part of an ongoing series centering on artists and how they are influenced by their environments and where they live.",
         "language": "English",
         "country": "USA",
         "awards": "N/A",
         "poster": "https://m.media-amazon.com/images/M/MV5BNzNmYTQ5OGYtMWQ1Ny00ZTcwLWJlZjMtYTJlYmZhZDM1MmY1XkEyXkFqcGdeQXVyNDUyMzE3MzI@._V1_SX300.jpg",
         "ratings": "[]",
         "metascore": "N/A",
         "imdb_rating": "N/A",
         "imdb_votes": "N/A",
         "imdb_id": "tt10671708",
         "type": "movie",
         "dvd": "N/A",
         "box_office": "N/A",
         "production": "N/A",
         "website": "N/A",
         "response": "True",
         "_deepnote_index_column": 3054
        }
       ]
      },
      "text/plain": "                                                  title  year      rated  \\\n3465                                     One More River  1964        N/A   \n4669      The Mysterious Death of the Man with One Hand  2020        N/A   \n2459                                  One of These Days  1997        N/A   \n2029                                     Murder Act One  2003        N/A   \n2787                                    One More Spring  1992        N/A   \n3710                           The Verse: One Night Man  2016        N/A   \n3008                                           One Kiss  1929        N/A   \n195                Zatoichi and the One-Armed Swordsman  1971  Not Rated   \n3977                                     One Way Single  2013        N/A   \n3054                          From One Place to Another  2019        N/A   \n3545                                 One Step at a Time  2017        N/A   \n3836  Dream with Me: One Year in America's Public Sc...  2012        N/A   \n1048                            WWE: DX: One Last Stand  2011         PG   \n4161                                  A Song for No One  2011        N/A   \n131                        One Step Behind the Seraphim  2017        N/A   \n\n         released  runtime                                genre  \\\n3465  24 Apr 1963   60 min                          Documentary   \n4669          N/A    8 min                     Animation, Short   \n2459          N/A   10 min                                Short   \n2029  27 Sep 2003   11 min                         Short, Crime   \n2787          N/A      N/A                               Comedy   \n3710  02 Dec 2016    4 min                         Short, Music   \n3008  01 Jun 1929    3 min                         Short, Music   \n195   13 Jan 1971   94 min             Action, Adventure, Drama   \n3977          N/A    7 min                 Short, Comedy, Drama   \n3054          N/A      N/A                   Documentary, Short   \n3545  30 Oct 2017      N/A                                  N/A   \n3836          N/A   23 min  Documentary, Short, Biography, News   \n1048  05 Apr 2011  118 min                        Action, Sport   \n4161  05 Aug 2011   15 min                       Short, Musical   \n131   22 Sep 2017  150 min                                Drama   \n\n                                     director  \\\n3465             Beryl Fox, Douglas Leiterman   \n4669                     L. Michael Mansfield   \n2459                           Scott Umsteadt   \n2029                        Steven Warrington   \n2787                            Kirk Browning   \n3710  Mathieu Perrault Lapierre, Simon Plante   \n3008               David Aylott, E.F. Symmons   \n195                          Kimiyoshi Yasuda   \n3977                            Andrew Mitrak   \n3054                           Michael Robayo   \n3545                             Lara Goodman   \n3836           Kimberly Goodman, Henry Hebert   \n1048                               Kevin Dunn   \n4161                              Ryan Glista   \n131                              Daniel Sandu   \n\n                                                writer  \\\n3465                                               N/A   \n4669                              L. Michael Mansfield   \n2459                                    Scott Umsteadt   \n2029                                 Steven Warrington   \n2787      Robert Nathan (novel), J. Ranelli (teleplay)   \n3710                                               N/A   \n3008                                               N/A   \n195   Kan Shimozawa, Takayuki Yamada, Kimiyoshi Yasuda   \n3977                                     Robert J. Lee   \n3054                                               N/A   \n3545                                               N/A   \n3836                                               N/A   \n1048                                               N/A   \n4161                                       Ryan Glista   \n131                                       Daniel Sandu   \n\n                                                 actors  \\\n3465  Ralph Bunche, James Meredith, James R. Venable...   \n4669                             Bobby Butler, Moe Rock   \n2459       Scott Umsteadt, Julie Staley, Dennis Bingham   \n2029  Mark Intrieri, Anna Bartos, Michael N. Malfita...   \n2787                  Kimberli Colbourne, Jason Robards   \n3710  Pierre-François Bouffard, Damien Robert, Cathe...   \n3008                                                N/A   \n195        Shintarô Katsu, Jimmy Wang Yu, Watako Hamaki   \n3977                            Jay Myers, Hope Shanthi   \n3054                                     Anne Humanfeld   \n3545                                                N/A   \n3836                                                N/A   \n1048   Bob Barker, Mark Calaway, John Cena, Mike Chioda   \n4161           Sophie Dillon, Rita Frenzel, Ryan Glista   \n131          Stefan Iancu, Vlad Ivanov, Toto Dumitrescu   \n\n                                                   plot  ... metascore  \\\n3465  A film essay, filmed in the cinema verité styl...  ...       N/A   \n4669  When a lonely detective investigating an unsol...  ...       N/A   \n2459                                                N/A  ...       N/A   \n2029  A desperate young man hatches a dark plan to a...  ...       N/A   \n2787                                                N/A  ...       N/A   \n3710                                                N/A  ...       N/A   \n3008                                                N/A  ...       N/A   \n195   Two of Japan and China's greatest heroic sword...  ...       N/A   \n3977  Two lone travelers cross paths on a red-eye co...  ...       N/A   \n3054  A short documentary focused on the process of ...  ...       N/A   \n3545                                                N/A  ...       N/A   \n3836  Dream with Me uncovers the deepest cracks of h...  ...       N/A   \n1048  They are perhaps the most influential duo in s...  ...       N/A   \n4161  The story of a lonely musician and the day his...  ...       N/A   \n131   A group of freshmen in an orthodox college are...  ...       N/A   \n\n     imdb_rating imdb_votes     imdb_id   type          dvd box_office  \\\n3465         N/A        N/A   tt0236552  movie          N/A        N/A   \n4669         N/A        N/A  tt12343664  movie          N/A        N/A   \n2459         8.8          5   tt0119835  movie          N/A        N/A   \n2029         6.9         10   tt0384360  movie          N/A        N/A   \n2787         N/A        N/A   tt2245035  movie          N/A        N/A   \n3710         N/A        N/A   tt6295054  movie          N/A        N/A   \n3008         N/A        N/A   tt1321450  movie          N/A        N/A   \n195          7.2      1,540   tt0066602  movie  30 Nov 2016        N/A   \n3977         N/A        N/A   tt2619772  movie          N/A        N/A   \n3054         N/A        N/A  tt10671708  movie          N/A        N/A   \n3545         N/A        N/A   tt9066062  movie          N/A        N/A   \n3836         N/A        N/A   tt2418206  movie          N/A        N/A   \n1048         7.3         68   tt1853732  movie          N/A        N/A   \n4161         N/A        N/A   tt7543174  movie          N/A        N/A   \n131          8.2      3,070   tt5335314  movie  05 Jan 2017        N/A   \n\n     production website response  \n3465        N/A     N/A     True  \n4669        N/A     N/A     True  \n2459        N/A     N/A     True  \n2029        N/A     N/A     True  \n2787        N/A     N/A     True  \n3710        N/A     N/A     True  \n3008        N/A     N/A     True  \n195         N/A     N/A     True  \n3977        N/A     N/A     True  \n3054        N/A     N/A     True  \n3545        N/A     N/A     True  \n3836        N/A     N/A     True  \n1048        N/A     N/A     True  \n4161        N/A     N/A     True  \n131         N/A     N/A     True  \n\n[15 rows x 25 columns]",
      "text/html": "<div>\n<style scoped>\n    .dataframe tbody tr th:only-of-type {\n        vertical-align: middle;\n    }\n\n    .dataframe tbody tr th {\n        vertical-align: top;\n    }\n\n    .dataframe thead th {\n        text-align: right;\n    }\n</style>\n<table border=\"1\" class=\"dataframe\">\n  <thead>\n    <tr style=\"text-align: right;\">\n      <th></th>\n      <th>title</th>\n      <th>year</th>\n      <th>rated</th>\n      <th>released</th>\n      <th>runtime</th>\n      <th>genre</th>\n      <th>director</th>\n      <th>writer</th>\n      <th>actors</th>\n      <th>plot</th>\n      <th>...</th>\n      <th>metascore</th>\n      <th>imdb_rating</th>\n      <th>imdb_votes</th>\n      <th>imdb_id</th>\n      <th>type</th>\n      <th>dvd</th>\n      <th>box_office</th>\n      <th>production</th>\n      <th>website</th>\n      <th>response</th>\n    </tr>\n  </thead>\n  <tbody>\n    <tr>\n      <th>3465</th>\n      <td>One More River</td>\n      <td>1964</td>\n      <td>N/A</td>\n      <td>24 Apr 1963</td>\n      <td>60 min</td>\n      <td>Documentary</td>\n      <td>Beryl Fox, Douglas Leiterman</td>\n      <td>N/A</td>\n      <td>Ralph Bunche, James Meredith, James R. Venable...</td>\n      <td>A film essay, filmed in the cinema verité styl...</td>\n      <td>...</td>\n      <td>N/A</td>\n      <td>N/A</td>\n      <td>N/A</td>\n      <td>tt0236552</td>\n      <td>movie</td>\n      <td>N/A</td>\n      <td>N/A</td>\n      <td>N/A</td>\n      <td>N/A</td>\n      <td>True</td>\n    </tr>\n    <tr>\n      <th>4669</th>\n      <td>The Mysterious Death of the Man with One Hand</td>\n      <td>2020</td>\n      <td>N/A</td>\n      <td>N/A</td>\n      <td>8 min</td>\n      <td>Animation, Short</td>\n      <td>L. Michael Mansfield</td>\n      <td>L. Michael Mansfield</td>\n      <td>Bobby Butler, Moe Rock</td>\n      <td>When a lonely detective investigating an unsol...</td>\n      <td>...</td>\n      <td>N/A</td>\n      <td>N/A</td>\n      <td>N/A</td>\n      <td>tt12343664</td>\n      <td>movie</td>\n      <td>N/A</td>\n      <td>N/A</td>\n      <td>N/A</td>\n      <td>N/A</td>\n      <td>True</td>\n    </tr>\n    <tr>\n      <th>2459</th>\n      <td>One of These Days</td>\n      <td>1997</td>\n      <td>N/A</td>\n      <td>N/A</td>\n      <td>10 min</td>\n      <td>Short</td>\n      <td>Scott Umsteadt</td>\n      <td>Scott Umsteadt</td>\n      <td>Scott Umsteadt, Julie Staley, Dennis Bingham</td>\n      <td>N/A</td>\n      <td>...</td>\n      <td>N/A</td>\n      <td>8.8</td>\n      <td>5</td>\n      <td>tt0119835</td>\n      <td>movie</td>\n      <td>N/A</td>\n      <td>N/A</td>\n      <td>N/A</td>\n      <td>N/A</td>\n      <td>True</td>\n    </tr>\n    <tr>\n      <th>2029</th>\n      <td>Murder Act One</td>\n      <td>2003</td>\n      <td>N/A</td>\n      <td>27 Sep 2003</td>\n      <td>11 min</td>\n      <td>Short, Crime</td>\n      <td>Steven Warrington</td>\n      <td>Steven Warrington</td>\n      <td>Mark Intrieri, Anna Bartos, Michael N. Malfita...</td>\n      <td>A desperate young man hatches a dark plan to a...</td>\n      <td>...</td>\n      <td>N/A</td>\n      <td>6.9</td>\n      <td>10</td>\n      <td>tt0384360</td>\n      <td>movie</td>\n      <td>N/A</td>\n      <td>N/A</td>\n      <td>N/A</td>\n      <td>N/A</td>\n      <td>True</td>\n    </tr>\n    <tr>\n      <th>2787</th>\n      <td>One More Spring</td>\n      <td>1992</td>\n      <td>N/A</td>\n      <td>N/A</td>\n      <td>N/A</td>\n      <td>Comedy</td>\n      <td>Kirk Browning</td>\n      <td>Robert Nathan (novel), J. Ranelli (teleplay)</td>\n      <td>Kimberli Colbourne, Jason Robards</td>\n      <td>N/A</td>\n      <td>...</td>\n      <td>N/A</td>\n      <td>N/A</td>\n      <td>N/A</td>\n      <td>tt2245035</td>\n      <td>movie</td>\n      <td>N/A</td>\n      <td>N/A</td>\n      <td>N/A</td>\n      <td>N/A</td>\n      <td>True</td>\n    </tr>\n    <tr>\n      <th>3710</th>\n      <td>The Verse: One Night Man</td>\n      <td>2016</td>\n      <td>N/A</td>\n      <td>02 Dec 2016</td>\n      <td>4 min</td>\n      <td>Short, Music</td>\n      <td>Mathieu Perrault Lapierre, Simon Plante</td>\n      <td>N/A</td>\n      <td>Pierre-François Bouffard, Damien Robert, Cathe...</td>\n      <td>N/A</td>\n      <td>...</td>\n      <td>N/A</td>\n      <td>N/A</td>\n      <td>N/A</td>\n      <td>tt6295054</td>\n      <td>movie</td>\n      <td>N/A</td>\n      <td>N/A</td>\n      <td>N/A</td>\n      <td>N/A</td>\n      <td>True</td>\n    </tr>\n    <tr>\n      <th>3008</th>\n      <td>One Kiss</td>\n      <td>1929</td>\n      <td>N/A</td>\n      <td>01 Jun 1929</td>\n      <td>3 min</td>\n      <td>Short, Music</td>\n      <td>David Aylott, E.F. Symmons</td>\n      <td>N/A</td>\n      <td>N/A</td>\n      <td>N/A</td>\n      <td>...</td>\n      <td>N/A</td>\n      <td>N/A</td>\n      <td>N/A</td>\n      <td>tt1321450</td>\n      <td>movie</td>\n      <td>N/A</td>\n      <td>N/A</td>\n      <td>N/A</td>\n      <td>N/A</td>\n      <td>True</td>\n    </tr>\n    <tr>\n      <th>195</th>\n      <td>Zatoichi and the One-Armed Swordsman</td>\n      <td>1971</td>\n      <td>Not Rated</td>\n      <td>13 Jan 1971</td>\n      <td>94 min</td>\n      <td>Action, Adventure, Drama</td>\n      <td>Kimiyoshi Yasuda</td>\n      <td>Kan Shimozawa, Takayuki Yamada, Kimiyoshi Yasuda</td>\n      <td>Shintarô Katsu, Jimmy Wang Yu, Watako Hamaki</td>\n      <td>Two of Japan and China's greatest heroic sword...</td>\n      <td>...</td>\n      <td>N/A</td>\n      <td>7.2</td>\n      <td>1,540</td>\n      <td>tt0066602</td>\n      <td>movie</td>\n      <td>30 Nov 2016</td>\n      <td>N/A</td>\n      <td>N/A</td>\n      <td>N/A</td>\n      <td>True</td>\n    </tr>\n    <tr>\n      <th>3977</th>\n      <td>One Way Single</td>\n      <td>2013</td>\n      <td>N/A</td>\n      <td>N/A</td>\n      <td>7 min</td>\n      <td>Short, Comedy, Drama</td>\n      <td>Andrew Mitrak</td>\n      <td>Robert J. Lee</td>\n      <td>Jay Myers, Hope Shanthi</td>\n      <td>Two lone travelers cross paths on a red-eye co...</td>\n      <td>...</td>\n      <td>N/A</td>\n      <td>N/A</td>\n      <td>N/A</td>\n      <td>tt2619772</td>\n      <td>movie</td>\n      <td>N/A</td>\n      <td>N/A</td>\n      <td>N/A</td>\n      <td>N/A</td>\n      <td>True</td>\n    </tr>\n    <tr>\n      <th>3054</th>\n      <td>From One Place to Another</td>\n      <td>2019</td>\n      <td>N/A</td>\n      <td>N/A</td>\n      <td>N/A</td>\n      <td>Documentary, Short</td>\n      <td>Michael Robayo</td>\n      <td>N/A</td>\n      <td>Anne Humanfeld</td>\n      <td>A short documentary focused on the process of ...</td>\n      <td>...</td>\n      <td>N/A</td>\n      <td>N/A</td>\n      <td>N/A</td>\n      <td>tt10671708</td>\n      <td>movie</td>\n      <td>N/A</td>\n      <td>N/A</td>\n      <td>N/A</td>\n      <td>N/A</td>\n      <td>True</td>\n    </tr>\n    <tr>\n      <th>3545</th>\n      <td>One Step at a Time</td>\n      <td>2017</td>\n      <td>N/A</td>\n      <td>30 Oct 2017</td>\n      <td>N/A</td>\n      <td>N/A</td>\n      <td>Lara Goodman</td>\n      <td>N/A</td>\n      <td>N/A</td>\n      <td>N/A</td>\n      <td>...</td>\n      <td>N/A</td>\n      <td>N/A</td>\n      <td>N/A</td>\n      <td>tt9066062</td>\n      <td>movie</td>\n      <td>N/A</td>\n      <td>N/A</td>\n      <td>N/A</td>\n      <td>N/A</td>\n      <td>True</td>\n    </tr>\n    <tr>\n      <th>3836</th>\n      <td>Dream with Me: One Year in America's Public Sc...</td>\n      <td>2012</td>\n      <td>N/A</td>\n      <td>N/A</td>\n      <td>23 min</td>\n      <td>Documentary, Short, Biography, News</td>\n      <td>Kimberly Goodman, Henry Hebert</td>\n      <td>N/A</td>\n      <td>N/A</td>\n      <td>Dream with Me uncovers the deepest cracks of h...</td>\n      <td>...</td>\n      <td>N/A</td>\n      <td>N/A</td>\n      <td>N/A</td>\n      <td>tt2418206</td>\n      <td>movie</td>\n      <td>N/A</td>\n      <td>N/A</td>\n      <td>N/A</td>\n      <td>N/A</td>\n      <td>True</td>\n    </tr>\n    <tr>\n      <th>1048</th>\n      <td>WWE: DX: One Last Stand</td>\n      <td>2011</td>\n      <td>PG</td>\n      <td>05 Apr 2011</td>\n      <td>118 min</td>\n      <td>Action, Sport</td>\n      <td>Kevin Dunn</td>\n      <td>N/A</td>\n      <td>Bob Barker, Mark Calaway, John Cena, Mike Chioda</td>\n      <td>They are perhaps the most influential duo in s...</td>\n      <td>...</td>\n      <td>N/A</td>\n      <td>7.3</td>\n      <td>68</td>\n      <td>tt1853732</td>\n      <td>movie</td>\n      <td>N/A</td>\n      <td>N/A</td>\n      <td>N/A</td>\n      <td>N/A</td>\n      <td>True</td>\n    </tr>\n    <tr>\n      <th>4161</th>\n      <td>A Song for No One</td>\n      <td>2011</td>\n      <td>N/A</td>\n      <td>05 Aug 2011</td>\n      <td>15 min</td>\n      <td>Short, Musical</td>\n      <td>Ryan Glista</td>\n      <td>Ryan Glista</td>\n      <td>Sophie Dillon, Rita Frenzel, Ryan Glista</td>\n      <td>The story of a lonely musician and the day his...</td>\n      <td>...</td>\n      <td>N/A</td>\n      <td>N/A</td>\n      <td>N/A</td>\n      <td>tt7543174</td>\n      <td>movie</td>\n      <td>N/A</td>\n      <td>N/A</td>\n      <td>N/A</td>\n      <td>N/A</td>\n      <td>True</td>\n    </tr>\n    <tr>\n      <th>131</th>\n      <td>One Step Behind the Seraphim</td>\n      <td>2017</td>\n      <td>N/A</td>\n      <td>22 Sep 2017</td>\n      <td>150 min</td>\n      <td>Drama</td>\n      <td>Daniel Sandu</td>\n      <td>Daniel Sandu</td>\n      <td>Stefan Iancu, Vlad Ivanov, Toto Dumitrescu</td>\n      <td>A group of freshmen in an orthodox college are...</td>\n      <td>...</td>\n      <td>N/A</td>\n      <td>8.2</td>\n      <td>3,070</td>\n      <td>tt5335314</td>\n      <td>movie</td>\n      <td>05 Jan 2017</td>\n      <td>N/A</td>\n      <td>N/A</td>\n      <td>N/A</td>\n      <td>True</td>\n    </tr>\n  </tbody>\n</table>\n<p>15 rows × 25 columns</p>\n</div>"
     },
     "metadata": {}
    }
   ]
  },
  {
   "cell_type": "code",
   "metadata": {
    "cell_id": "04192cd130144c3c8ef4793c061b3efb",
    "tags": [],
    "deepnote_to_be_reexecuted": false,
    "source_hash": "8021cd0",
    "execution_start": 1655398336087,
    "execution_millis": 6,
    "deepnote_cell_type": "code",
    "deepnote_cell_height": 136,
    "deepnote_output_heights": [
     21
    ]
   },
   "source": "# Dimensions of the data frame\nmovies_info.shape",
   "execution_count": null,
   "outputs": [
    {
     "output_type": "execute_result",
     "execution_count": 6,
     "data": {
      "text/plain": "(5000, 25)"
     },
     "metadata": {}
    }
   ]
  },
  {
   "cell_type": "code",
   "metadata": {
    "cell_id": "292c9204c67549e0bcf652918a6bb341",
    "tags": [],
    "deepnote_to_be_reexecuted": false,
    "source_hash": "62f7080c",
    "execution_start": 1655398336088,
    "execution_millis": 5,
    "deepnote_cell_type": "code",
    "deepnote_cell_height": 213,
    "deepnote_output_heights": [
     98
    ]
   },
   "source": "# Columns of the data frame\nmovies_info.columns",
   "execution_count": null,
   "outputs": [
    {
     "output_type": "execute_result",
     "execution_count": 7,
     "data": {
      "text/plain": "Index(['title', 'year', 'rated', 'released', 'runtime', 'genre', 'director',\n       'writer', 'actors', 'plot', 'language', 'country', 'awards', 'poster',\n       'ratings', 'metascore', 'imdb_rating', 'imdb_votes', 'imdb_id', 'type',\n       'dvd', 'box_office', 'production', 'website', 'response'],\n      dtype='object')"
     },
     "metadata": {}
    }
   ]
  },
  {
   "cell_type": "code",
   "metadata": {
    "cell_id": "42ad516d37ec4d5b92a4abce17ccc233",
    "tags": [],
    "deepnote_to_be_reexecuted": false,
    "source_hash": "9ed35f6",
    "execution_start": 1655398336204,
    "execution_millis": 82,
    "deepnote_cell_type": "code",
    "deepnote_cell_height": 99
   },
   "source": "# Write to a csv\nmovies_info.to_csv('Raw Movie Data.csv', index= False)",
   "execution_count": null,
   "outputs": []
  },
  {
   "cell_type": "markdown",
   "source": "<a style='text-decoration:none;line-height:16px;display:flex;color:#5B5B62;padding:10px;justify-content:end;' href='https://deepnote.com?utm_source=created-in-deepnote-cell&projectId=53ef1faa-b7a9-4637-b54c-3b067e58670d' target=\"_blank\">\n<img alt='Created in deepnote.com' style='display:inline;max-height:16px;margin:0px;margin-right:7.5px;' src='data:image/svg+xml;base64,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' > </img>\nCreated in <span style='font-weight:600;margin-left:4px;'>Deepnote</span></a>",
   "metadata": {
    "tags": [],
    "created_in_deepnote_cell": true,
    "deepnote_cell_type": "markdown"
   }
  }
 ],
 "nbformat": 4,
 "nbformat_minor": 2,
 "metadata": {
  "orig_nbformat": 2,
  "deepnote": {},
  "deepnote_notebook_id": "fd55cbee-8d7f-4885-974d-358035dcefa0",
  "deepnote_execution_queue": []
 }
}