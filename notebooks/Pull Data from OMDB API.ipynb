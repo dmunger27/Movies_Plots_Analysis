{
 "cells": [
  {
   "cell_type": "markdown",
   "source": "# Packages",
   "metadata": {
    "cell_id": "a9a612f9d8ad49ca8705658c5fd957b9",
    "tags": [],
    "deepnote_cell_type": "markdown",
    "deepnote_cell_height": 87.19999694824219
   }
  },
  {
   "cell_type": "code",
   "metadata": {
    "cell_id": "058a0082d6a34425a57a40ed2b95f266",
    "tags": [],
    "deepnote_to_be_reexecuted": false,
    "source_hash": "524ca162",
    "execution_start": 1655345232773,
    "execution_millis": 1489,
    "owner_user_id": "769f8301-1ed3-4ea2-850e-fed117606423",
    "deepnote_cell_type": "code",
    "deepnote_cell_height": 207.23333740234375,
    "deepnote_output_heights": [
     null,
     23
    ]
   },
   "source": "import nltk\nnltk.download('stopwords')",
   "execution_count": null,
   "outputs": [
    {
     "name": "stderr",
     "text": "[nltk_data] Downloading package stopwords to /root/nltk_data...\n[nltk_data]   Package stopwords is already up-to-date!\n",
     "output_type": "stream"
    },
    {
     "output_type": "execute_result",
     "execution_count": 1,
     "data": {
      "text/plain": "True"
     },
     "metadata": {}
    }
   ]
  },
  {
   "cell_type": "code",
   "metadata": {
    "tags": [],
    "cell_id": "0009e8fd-bf63-47a7-867b-95029c6d06dd",
    "deepnote_to_be_reexecuted": false,
    "source_hash": "feb1b0af",
    "execution_start": 1655345236532,
    "execution_millis": 86,
    "deepnote_cell_type": "code",
    "deepnote_cell_height": 279
   },
   "source": "import pandas as pd\nimport numpy as np\nfrom bs4 import BeautifulSoup\nimport requests\nfrom requests import TooManyRedirects\nimport re\nimport omdb\nimport time\nfrom collections import Counter, defaultdict\nfrom nltk.corpus import stopwords\nfrom string import punctuation\nsw = stopwords.words(\"english\")",
   "execution_count": null,
   "outputs": []
  },
  {
   "cell_type": "markdown",
   "source": "# API Set-up",
   "metadata": {
    "cell_id": "b4296f4b51f845df8910a2317a7bbd38",
    "tags": [],
    "deepnote_cell_type": "markdown",
    "deepnote_cell_height": 87.19999694824219
   }
  },
  {
   "cell_type": "code",
   "metadata": {
    "cell_id": "23e203b423b14b55b1fb5dbf04030249",
    "tags": [],
    "deepnote_to_be_reexecuted": false,
    "source_hash": "edc7f630",
    "execution_start": 1655345503863,
    "execution_millis": 0,
    "deepnote_cell_type": "code",
    "deepnote_cell_height": 153
   },
   "source": "api_key = \"2831f563\" # Jimmy's key - limit 1000 calls a day\nomdb.set_default('apikey', api_key)\n\n# include tomatoes data by default\n#omdb.set_default('tomatoes', True)",
   "execution_count": null,
   "outputs": []
  },
  {
   "cell_type": "markdown",
   "source": "# Pulling Data from API",
   "metadata": {
    "cell_id": "dfed668e95db440083a3b48e851007e9",
    "tags": [],
    "deepnote_cell_type": "markdown",
    "deepnote_cell_height": 87.19999694824219
   }
  },
  {
   "cell_type": "code",
   "metadata": {
    "cell_id": "086c62303b97405c86bb22f203779207",
    "tags": [],
    "deepnote_to_be_reexecuted": false,
    "source_hash": "feaa796f",
    "execution_start": 1655345522246,
    "execution_millis": 185493,
    "deepnote_cell_type": "code",
    "deepnote_cell_height": 207
   },
   "source": "# set timeout of 5 seconds for this request\n# Pull 500 pages of movies (5000 movies) with the word 'one' in the title\nimdb_ids = []\nfor i in range(1,501):\n    year_df = pd.DataFrame(omdb.search_movie('one', page=i, timeout=5))\n    # Store the ids in a list\n    imdb_ids.append(year_df['imdb_id'].tolist())\nimdb_ids = sum(imdb_ids, [])",
   "execution_count": null,
   "outputs": []
  },
  {
   "cell_type": "code",
   "metadata": {
    "cell_id": "c20e8bba30fc4086befc1fb14cb04b94",
    "tags": [],
    "deepnote_to_be_reexecuted": false,
    "source_hash": "1cbfc633",
    "execution_start": 1655345798803,
    "execution_millis": 308157,
    "deepnote_cell_type": "code",
    "deepnote_cell_height": 676
   },
   "source": "# Use ids to obtain movie information - \nmovies_info = pd.DataFrame([omdb.imdbid(i) for i in imdb_ids])\n\n# View the dataframe\nmovies_info",
   "execution_count": null,
   "outputs": [
    {
     "output_type": "execute_result",
     "execution_count": 9,
     "data": {
      "application/vnd.deepnote.dataframe.v3+json": {
       "column_count": 25,
       "row_count": 5000,
       "columns": [
        {
         "name": "title",
         "dtype": "object",
         "stats": {
          "unique_count": 3569,
          "nan_count": 0,
          "categories": [
           {
            "name": "One Day",
            "count": 37
           },
           {
            "name": "One Night",
            "count": 35
           },
           {
            "name": "3567 others",
            "count": 4928
           }
          ]
         }
        },
        {
         "name": "year",
         "dtype": "object",
         "stats": {
          "unique_count": 126,
          "nan_count": 0,
          "categories": [
           {
            "name": "2015",
            "count": 324
           },
           {
            "name": "2016",
            "count": 296
           },
           {
            "name": "124 others",
            "count": 4380
           }
          ]
         }
        },
        {
         "name": "rated",
         "dtype": "object",
         "stats": {
          "unique_count": 26,
          "nan_count": 0,
          "categories": [
           {
            "name": "N/A",
            "count": 4243
           },
           {
            "name": "Not Rated",
            "count": 247
           },
           {
            "name": "24 others",
            "count": 510
           }
          ]
         }
        },
        {
         "name": "released",
         "dtype": "object",
         "stats": {
          "unique_count": 2634,
          "nan_count": 0,
          "categories": [
           {
            "name": "N/A",
            "count": 1351
           },
           {
            "name": "01 Oct 2015",
            "count": 8
           },
           {
            "name": "2632 others",
            "count": 3641
           }
          ]
         }
        },
        {
         "name": "runtime",
         "dtype": "object",
         "stats": {
          "unique_count": 174,
          "nan_count": 0,
          "categories": [
           {
            "name": "N/A",
            "count": 1174
           },
           {
            "name": "4 min",
            "count": 164
           },
           {
            "name": "172 others",
            "count": 3662
           }
          ]
         }
        },
        {
         "name": "genre",
         "dtype": "object",
         "stats": {
          "unique_count": 453,
          "nan_count": 0,
          "categories": [
           {
            "name": "Short, Drama",
            "count": 462
           },
           {
            "name": "Documentary",
            "count": 380
           },
           {
            "name": "451 others",
            "count": 4158
           }
          ]
         }
        },
        {
         "name": "director",
         "dtype": "object",
         "stats": {
          "unique_count": 3777,
          "nan_count": 0,
          "categories": [
           {
            "name": "N/A",
            "count": 414
           },
           {
            "name": "Nicholas Gray",
            "count": 7
           },
           {
            "name": "3775 others",
            "count": 4579
           }
          ]
         }
        },
        {
         "name": "writer",
         "dtype": "object",
         "stats": {
          "unique_count": 3048,
          "nan_count": 0,
          "categories": [
           {
            "name": "N/A",
            "count": 1434
           },
           {
            "name": "Eiichiro Oda",
            "count": 8
           },
           {
            "name": "3046 others",
            "count": 3558
           }
          ]
         }
        },
        {
         "name": "actors",
         "dtype": "object",
         "stats": {
          "unique_count": 3648,
          "nan_count": 0,
          "categories": [
           {
            "name": "N/A",
            "count": 753
           },
           {
            "name": "Harry Styles, Louis Tomlinson, Zayn Malik, Liam Payne",
            "count": 9
           },
           {
            "name": "3646 others",
            "count": 4238
           }
          ]
         }
        },
        {
         "name": "plot",
         "dtype": "object",
         "stats": {
          "unique_count": 3120,
          "nan_count": 0,
          "categories": [
           {
            "name": "N/A",
            "count": 1443
           },
           {
            "name": "A documentary about the one-shot characters in the Looney Tunes cartoon shorts.",
            "count": 4
           },
           {
            "name": "3118 others",
            "count": 3553
           }
          ]
         }
        },
        {
         "name": "language",
         "dtype": "object",
         "stats": {
          "unique_count": 233,
          "nan_count": 0,
          "categories": [
           {
            "name": "English",
            "count": 3412
           },
           {
            "name": "N/A",
            "count": 412
           },
           {
            "name": "231 others",
            "count": 1176
           }
          ]
         }
        },
        {
         "name": "country",
         "dtype": "object",
         "stats": {
          "unique_count": 322,
          "nan_count": 0,
          "categories": [
           {
            "name": "USA",
            "count": 1439
           },
           {
            "name": "United States",
            "count": 1088
           },
           {
            "name": "320 others",
            "count": 2473
           }
          ]
         }
        },
        {
         "name": "awards",
         "dtype": "object",
         "stats": {
          "unique_count": 178,
          "nan_count": 0,
          "categories": [
           {
            "name": "N/A",
            "count": 4160
           },
           {
            "name": "1 nomination",
            "count": 140
           },
           {
            "name": "176 others",
            "count": 700
           }
          ]
         }
        },
        {
         "name": "poster",
         "dtype": "object",
         "stats": {
          "unique_count": 2495,
          "nan_count": 0,
          "categories": [
           {
            "name": "N/A",
            "count": 2178
           },
           {
            "name": "https://m.media-amazon.com/images/M/MV5BMTQ2MTA4NDgzOF5BMl5BanBnXkFtZTcwODU4NjYzMQ@@._V1_SX300.jpg",
            "count": 4
           },
           {
            "name": "2493 others",
            "count": 2818
           }
          ]
         }
        },
        {
         "name": "ratings",
         "dtype": "object",
         "stats": {
          "unique_count": 5000,
          "nan_count": 0,
          "categories": [
           {
            "name": "[]",
            "count": 2555
           },
           {
            "name": "[{'source': 'Internet Movie Database', 'value': '7.2/10'}]",
            "count": 78
           },
           {
            "name": "280 others",
            "count": 2367
           }
          ]
         }
        },
        {
         "name": "metascore",
         "dtype": "object",
         "stats": {
          "unique_count": 59,
          "nan_count": 0,
          "categories": [
           {
            "name": "N/A",
            "count": 4885
           },
           {
            "name": "71",
            "count": 6
           },
           {
            "name": "57 others",
            "count": 109
           }
          ]
         }
        },
        {
         "name": "imdb_rating",
         "dtype": "object",
         "stats": {
          "unique_count": 82,
          "nan_count": 0,
          "categories": [
           {
            "name": "N/A",
            "count": 2559
           },
           {
            "name": "7.2",
            "count": 90
           },
           {
            "name": "80 others",
            "count": 2351
           }
          ]
         }
        },
        {
         "name": "imdb_votes",
         "dtype": "object",
         "stats": {
          "unique_count": 724,
          "nan_count": 0,
          "categories": [
           {
            "name": "N/A",
            "count": 2446
           },
           {
            "name": "5",
            "count": 112
           },
           {
            "name": "722 others",
            "count": 2442
           }
          ]
         }
        },
        {
         "name": "imdb_id",
         "dtype": "object",
         "stats": {
          "unique_count": 4352,
          "nan_count": 0,
          "categories": [
           {
            "name": "tt1259768",
            "count": 4
           },
           {
            "name": "tt1082014",
            "count": 4
           },
           {
            "name": "4350 others",
            "count": 4992
           }
          ]
         }
        },
        {
         "name": "type",
         "dtype": "object",
         "stats": {
          "unique_count": 1,
          "nan_count": 0,
          "categories": [
           {
            "name": "movie",
            "count": 5000
           }
          ]
         }
        },
        {
         "name": "dvd",
         "dtype": "object"
        },
        {
         "name": "box_office",
         "dtype": "object"
        },
        {
         "name": "production",
         "dtype": "object"
        },
        {
         "name": "website",
         "dtype": "object"
        },
        {
         "name": "response",
         "dtype": "object"
        },
        {
         "name": "_deepnote_index_column",
         "dtype": "int64"
        }
       ],
       "rows": [
        {
         "title": "One Flew Over the Cuckoo's Nest",
         "year": "1975",
         "rated": "R",
         "released": "19 Nov 1975",
         "runtime": "133 min",
         "genre": "Drama",
         "director": "Milos Forman",
         "writer": "Lawrence Hauben, Bo Goldman, Ken Kesey",
         "actors": "Jack Nicholson, Louise Fletcher, Michael Berryman",
         "plot": "A criminal pleads insanity and is admitted to a mental institution, where he rebels against the oppressive nurse and rallies up the scared patients.",
         "language": "English",
         "country": "United States",
         "awards": "Won 5 Oscars. 38 wins & 16 nominations total",
         "poster": "https://m.media-amazon.com/images/M/MV5BZjA0OWVhOTAtYWQxNi00YzNhLWI4ZjYtNjFjZTEyYjJlNDVlL2ltYWdlL2ltYWdlXkEyXkFqcGdeQXVyMTQxNzMzNDI@._V1_SX300.jpg",
         "ratings": "[{'source': 'Internet Movie Database', 'value': '8.7/10'}, {'source': 'Rotten Tomatoes', 'value': '93%'}, {'source': 'Metacritic', 'value': '84/100'}]",
         "metascore": "84",
         "imdb_rating": "8.7",
         "imdb_votes": "983,642",
         "imdb_id": "tt0073486",
         "type": "movie",
         "dvd": "16 Dec 1997",
         "box_office": "$108,981,275",
         "production": "N/A",
         "website": "N/A",
         "response": "True",
         "_deepnote_index_column": 0
        },
        {
         "title": "Rogue One: A Star Wars Story",
         "year": "2016",
         "rated": "PG-13",
         "released": "16 Dec 2016",
         "runtime": "133 min",
         "genre": "Action, Adventure, Sci-Fi",
         "director": "Gareth Edwards",
         "writer": "Chris Weitz, Tony Gilroy, John Knoll",
         "actors": "Felicity Jones, Diego Luna, Alan Tudyk",
         "plot": "In a time of conflict, a group of unlikely heroes band together on a mission to steal the plans to the Death Star, the Empire's ultimate weapon of destruction.",
         "language": "English",
         "country": "United States",
         "awards": "Nominated for 2 Oscars. 24 wins & 85 nominations total",
         "poster": "https://m.media-amazon.com/images/M/MV5BMjEwMzMxODIzOV5BMl5BanBnXkFtZTgwNzg3OTAzMDI@._V1_SX300.jpg",
         "ratings": "[{'source': 'Internet Movie Database', 'value': '7.8/10'}, {'source': 'Rotten Tomatoes', 'value': '84%'}, {'source': 'Metacritic', 'value': '65/100'}]",
         "metascore": "65",
         "imdb_rating": "7.8",
         "imdb_votes": "607,401",
         "imdb_id": "tt3748528",
         "type": "movie",
         "dvd": "04 Apr 2017",
         "box_office": "$532,177,324",
         "production": "N/A",
         "website": "N/A",
         "response": "True",
         "_deepnote_index_column": 1
        },
        {
         "title": "Ready Player One",
         "year": "2018",
         "rated": "PG-13",
         "released": "29 Mar 2018",
         "runtime": "140 min",
         "genre": "Action, Adventure, Sci-Fi",
         "director": "Steven Spielberg",
         "writer": "Zak Penn, Ernest Cline",
         "actors": "Tye Sheridan, Olivia Cooke, Ben Mendelsohn",
         "plot": "When the creator of a virtual reality called the OASIS dies, he makes a posthumous challenge to all OASIS users to find his Easter Egg, which will give the finder his fortune and control of his world.",
         "language": "English",
         "country": "United States, India",
         "awards": "Nominated for 1 Oscar. 11 wins & 56 nominations total",
         "poster": "https://m.media-amazon.com/images/M/MV5BY2JiYTNmZTctYTQ1OC00YjU4LWEwMjYtZjkwY2Y5MDI0OTU3XkEyXkFqcGdeQXVyNTI4MzE4MDU@._V1_SX300.jpg",
         "ratings": "[{'source': 'Internet Movie Database', 'value': '7.4/10'}, {'source': 'Rotten Tomatoes', 'value': '72%'}, {'source': 'Metacritic', 'value': '64/100'}]",
         "metascore": "64",
         "imdb_rating": "7.4",
         "imdb_votes": "422,237",
         "imdb_id": "tt1677720",
         "type": "movie",
         "dvd": "05 Apr 2018",
         "box_office": "$137,715,350",
         "production": "N/A",
         "website": "N/A",
         "response": "True",
         "_deepnote_index_column": 2
        },
        {
         "title": "Let the Right One In",
         "year": "2008",
         "rated": "R",
         "released": "12 Dec 2008",
         "runtime": "114 min",
         "genre": "Drama, Fantasy, Horror",
         "director": "Tomas Alfredson",
         "writer": "John Ajvide Lindqvist",
         "actors": "Kåre Hedebrant, Lina Leandersson, Per Ragnar",
         "plot": "Oskar, an overlooked and bullied boy, finds love and revenge through Eli, a beautiful but peculiar girl.",
         "language": "Swedish, Spanish",
         "country": "Sweden",
         "awards": "Nominated for 1 BAFTA Award75 wins & 58 nominations total",
         "poster": "https://m.media-amazon.com/images/M/MV5BOWM4NTY2NTMtZDZlZS00NTgyLWEzZDMtODE3ZGI1MzI3ZmU5XkEyXkFqcGdeQXVyNzI1NzMxNzM@._V1_SX300.jpg",
         "ratings": "[{'source': 'Internet Movie Database', 'value': '7.9/10'}, {'source': 'Rotten Tomatoes', 'value': '98%'}, {'source': 'Metacritic', 'value': '82/100'}]",
         "metascore": "82",
         "imdb_rating": "7.9",
         "imdb_votes": "214,860",
         "imdb_id": "tt1139797",
         "type": "movie",
         "dvd": "10 Mar 2009",
         "box_office": "$2,122,065",
         "production": "N/A",
         "website": "N/A",
         "response": "True",
         "_deepnote_index_column": 3
        },
        {
         "title": "Air Force One",
         "year": "1997",
         "rated": "R",
         "released": "25 Jul 1997",
         "runtime": "124 min",
         "genre": "Action, Drama, Thriller",
         "director": "Wolfgang Petersen",
         "writer": "Andrew W. Marlowe",
         "actors": "Harrison Ford, Gary Oldman, Glenn Close",
         "plot": "Communist radicals hijack Air Force One with the U.S. President and his family on board. The Vice President negotiates from Washington D.C., while the President, a veteran, fights to rescue the hostages on board.",
         "language": "English, Russian",
         "country": "Germany, United States",
         "awards": "Nominated for 2 Oscars. 7 wins & 13 nominations total",
         "poster": "https://m.media-amazon.com/images/M/MV5BZmNiNTQ5ZjMtOThjYS00NDc2LWFlMWMtZTM5OTA1NjRmMGM4XkEyXkFqcGdeQXVyMjUzOTY1NTc@._V1_SX300.jpg",
         "ratings": "[{'source': 'Internet Movie Database', 'value': '6.5/10'}, {'source': 'Rotten Tomatoes', 'value': '78%'}, {'source': 'Metacritic', 'value': '61/100'}]",
         "metascore": "61",
         "imdb_rating": "6.5",
         "imdb_votes": "193,375",
         "imdb_id": "tt0118571",
         "type": "movie",
         "dvd": "26 Dec 2000",
         "box_office": "$172,956,409",
         "production": "N/A",
         "website": "N/A",
         "response": "True",
         "_deepnote_index_column": 4
        },
        {
         "title": "One Hundred and One Dalmatians",
         "year": "1961",
         "rated": "G",
         "released": "25 Jan 1961",
         "runtime": "79 min",
         "genre": "Animation, Adventure, Comedy",
         "director": "Clyde Geronimi, Hamilton Luske, Wolfgang Reitherman",
         "writer": "Bill Peet, Dodie Smith",
         "actors": "Rod Taylor, Betty Lou Gerson, J. Pat O'Malley",
         "plot": "When a litter of Dalmatian puppies are abducted by the minions of Cruella De Vil, the owners must find them before she uses them for a diabolical fashion statement.",
         "language": "English",
         "country": "United States",
         "awards": "Won 1 BAFTA Award1 win & 1 nomination total",
         "poster": "https://m.media-amazon.com/images/M/MV5BZGMyMjE4OGUtNGZmMC00YzdmLThkMWYtZWIzMmEzNjA4MzVkXkEyXkFqcGdeQXVyMTQxNzMzNDI@._V1_SX300.jpg",
         "ratings": "[{'source': 'Internet Movie Database', 'value': '7.3/10'}, {'source': 'Rotten Tomatoes', 'value': '98%'}, {'source': 'Metacritic', 'value': '83/100'}]",
         "metascore": "83",
         "imdb_rating": "7.3",
         "imdb_votes": "165,083",
         "imdb_id": "tt0055254",
         "type": "movie",
         "dvd": "04 Mar 2008",
         "box_office": "$144,880,014",
         "production": "N/A",
         "website": "N/A",
         "response": "True",
         "_deepnote_index_column": 5
        },
        {
         "title": "One Day",
         "year": "2011",
         "rated": "PG-13",
         "released": "19 Aug 2011",
         "runtime": "107 min",
         "genre": "Drama, Romance",
         "director": "Lone Scherfig",
         "writer": "David Nicholls",
         "actors": "Anne Hathaway, Jim Sturgess, Patricia Clarkson",
         "plot": "After spending the night together on the night of their college graduation Dexter and Emma are shown each year on the same date to see where they are in their lives. They are sometimes together, sometimes not, on that day.",
         "language": "English",
         "country": "United States, United Kingdom",
         "awards": "1 win & 2 nominations",
         "poster": "https://m.media-amazon.com/images/M/MV5BMTQ3NTg2MDI3NF5BMl5BanBnXkFtZTcwMjc5MTA1NA@@._V1_SX300.jpg",
         "ratings": "[{'source': 'Internet Movie Database', 'value': '7.0/10'}, {'source': 'Rotten Tomatoes', 'value': '36%'}, {'source': 'Metacritic', 'value': '48/100'}]",
         "metascore": "48",
         "imdb_rating": "7.0",
         "imdb_votes": "150,969",
         "imdb_id": "tt1563738",
         "type": "movie",
         "dvd": "29 Nov 2011",
         "box_office": "$13,843,771",
         "production": "N/A",
         "website": "N/A",
         "response": "True",
         "_deepnote_index_column": 6
        },
        {
         "title": "One Hour Photo",
         "year": "2002",
         "rated": "R",
         "released": "13 Sep 2002",
         "runtime": "96 min",
         "genre": "Drama, Thriller",
         "director": "Mark Romanek",
         "writer": "Mark Romanek",
         "actors": "Robin Williams, Connie Nielsen, Michael Vartan",
         "plot": "A mentally unstable photo developer targets an upper middle-class family after his obsession with them becomes more sick and disturbing than any of them could imagine.",
         "language": "English",
         "country": "United States",
         "awards": "6 wins & 22 nominations",
         "poster": "https://m.media-amazon.com/images/M/MV5BYWVkMjAzY2QtZTA4Yi00OWZmLTliMzctZTkyODU4NTc3MmRjL2ltYWdlXkEyXkFqcGdeQXVyMTQxNzMzNDI@._V1_SX300.jpg",
         "ratings": "[{'source': 'Internet Movie Database', 'value': '6.8/10'}, {'source': 'Metacritic', 'value': '64/100'}]",
         "metascore": "64",
         "imdb_rating": "6.8",
         "imdb_votes": "122,340",
         "imdb_id": "tt0265459",
         "type": "movie",
         "dvd": "30 Aug 2005",
         "box_office": "$31,597,131",
         "production": "N/A",
         "website": "N/A",
         "response": "True",
         "_deepnote_index_column": 7
        },
        {
         "title": "The Lucky One",
         "year": "2012",
         "rated": "PG-13",
         "released": "20 Apr 2012",
         "runtime": "101 min",
         "genre": "Drama, Mystery, Romance",
         "director": "Scott Hicks",
         "writer": "Will Fetters, Nicholas Sparks",
         "actors": "Zac Efron, Taylor Schilling, Blythe Danner",
         "plot": "A Marine travels to Louisiana after serving three tours in Iraq and searches for the unknown woman he believes was his good luck charm during the war.",
         "language": "English",
         "country": "United States",
         "awards": "5 wins & 7 nominations",
         "poster": "https://m.media-amazon.com/images/M/MV5BMTg5NDk3MjAzMF5BMl5BanBnXkFtZTcwMjUyNzExNw@@._V1_SX300.jpg",
         "ratings": "[{'source': 'Internet Movie Database', 'value': '6.4/10'}, {'source': 'Rotten Tomatoes', 'value': '20%'}, {'source': 'Metacritic', 'value': '39/100'}]",
         "metascore": "39",
         "imdb_rating": "6.4",
         "imdb_votes": "107,629",
         "imdb_id": "tt1327194",
         "type": "movie",
         "dvd": "04 Sep 2012",
         "box_office": "$60,457,138",
         "production": "N/A",
         "website": "N/A",
         "response": "True",
         "_deepnote_index_column": 8
        },
        {
         "title": "It Happened One Night",
         "year": "1934",
         "rated": "Passed",
         "released": "22 Feb 1934",
         "runtime": "105 min",
         "genre": "Comedy, Romance",
         "director": "Frank Capra",
         "writer": "Robert Riskin, Samuel Hopkins Adams",
         "actors": "Clark Gable, Claudette Colbert, Walter Connolly",
         "plot": "A renegade reporter trailing a young runaway heiress for a big story joins her on a bus heading from Florida to New York, and they end up stuck with each other when the bus leaves them behind at one of the stops.",
         "language": "English",
         "country": "United States",
         "awards": "Won 5 Oscars. 11 wins & 2 nominations total",
         "poster": "https://m.media-amazon.com/images/M/MV5BYzJmMWE5NjAtNWMyZS00NmFiLWIwMDgtZDE2NzczYWFhNzIzXkEyXkFqcGdeQXVyNjc1NTYyMjg@._V1_SX300.jpg",
         "ratings": "[{'source': 'Internet Movie Database', 'value': '8.1/10'}, {'source': 'Rotten Tomatoes', 'value': '99%'}, {'source': 'Metacritic', 'value': '87/100'}]",
         "metascore": "87",
         "imdb_rating": "8.1",
         "imdb_votes": "102,443",
         "imdb_id": "tt0025316",
         "type": "movie",
         "dvd": "28 Dec 1999",
         "box_office": "N/A",
         "production": "N/A",
         "website": "N/A",
         "response": "True",
         "_deepnote_index_column": 9
        }
       ]
      },
      "text/plain": "                                      title  year  rated     released  \\\n0           One Flew Over the Cuckoo's Nest  1975      R  19 Nov 1975   \n1              Rogue One: A Star Wars Story  2016  PG-13  16 Dec 2016   \n2                          Ready Player One  2018  PG-13  29 Mar 2018   \n3                      Let the Right One In  2008      R  12 Dec 2008   \n4                             Air Force One  1997      R  25 Jul 1997   \n...                                     ...   ...    ...          ...   \n4995                      One Billion Dates  2015    N/A          N/A   \n4996                               One Shot  2015    N/A  31 Jul 2015   \n4997                           One More Win  2015    N/A  01 Sep 2015   \n4998  Changing History: One Heart at a Time  2015    N/A  09 Jul 2015   \n4999                         One Last Dream  2015    N/A          N/A   \n\n      runtime                      genre                        director  \\\n0     133 min                      Drama                    Milos Forman   \n1     133 min  Action, Adventure, Sci-Fi                  Gareth Edwards   \n2     140 min  Action, Adventure, Sci-Fi                Steven Spielberg   \n3     114 min     Drama, Fantasy, Horror                 Tomas Alfredson   \n4     124 min    Action, Drama, Thriller               Wolfgang Petersen   \n...       ...                        ...                             ...   \n4995    9 min       Short, Comedy, Drama                    Alec Robbins   \n4996      N/A               Short, Drama                George McCluskey   \n4997   91 min                Documentary                     Scott Kelso   \n4998   19 min             Short, History                   Adam Kavanagh   \n4999    7 min    Animation, Short, Drama  Noam Rabinovitch, Chris Dainty   \n\n                                      writer  \\\n0     Lawrence Hauben, Bo Goldman, Ken Kesey   \n1       Chris Weitz, Tony Gilroy, John Knoll   \n2                     Zak Penn, Ernest Cline   \n3                      John Ajvide Lindqvist   \n4                          Andrew W. Marlowe   \n...                                      ...   \n4995                            Alec Robbins   \n4996                        George McCluskey   \n4997                                     N/A   \n4998                          James Standish   \n4999                        Noam Rabinovitch   \n\n                                                 actors  \\\n0     Jack Nicholson, Louise Fletcher, Michael Berryman   \n1                Felicity Jones, Diego Luna, Alan Tudyk   \n2            Tye Sheridan, Olivia Cooke, Ben Mendelsohn   \n3          Kåre Hedebrant, Lina Leandersson, Per Ragnar   \n4               Harrison Ford, Gary Oldman, Glenn Close   \n...                                                 ...   \n4995        Alec Robbins, Eric Lewis-Baker, Jack Amedio   \n4996                           Greg Hobbs, Jayne Machin   \n4997                                                N/A   \n4998                        Dora Amuimuia, Craig Walker   \n4999                                                N/A   \n\n                                                   plot  ... metascore  \\\n0     A criminal pleads insanity and is admitted to ...  ...        84   \n1     In a time of conflict, a group of unlikely her...  ...        65   \n2     When the creator of a virtual reality called t...  ...        64   \n3     Oskar, an overlooked and bullied boy, finds lo...  ...        82   \n4     Communist radicals hijack Air Force One with t...  ...        61   \n...                                                 ...  ...       ...   \n4995  What if you ended up with the wrong person bec...  ...       N/A   \n4996                                                N/A  ...       N/A   \n4997  World Rugby has written the Cook Islanders off...  ...       N/A   \n4998  Changing History - one heart at a time, is a s...  ...       N/A   \n4999  A factory farm pig sees a butterfly for the fi...  ...       N/A   \n\n     imdb_rating imdb_votes    imdb_id   type          dvd    box_office  \\\n0            8.7    983,642  tt0073486  movie  16 Dec 1997  $108,981,275   \n1            7.8    607,401  tt3748528  movie  04 Apr 2017  $532,177,324   \n2            7.4    422,237  tt1677720  movie  05 Apr 2018  $137,715,350   \n3            7.9    214,860  tt1139797  movie  10 Mar 2009    $2,122,065   \n4            6.5    193,375  tt0118571  movie  26 Dec 2000  $172,956,409   \n...          ...        ...        ...    ...          ...           ...   \n4995         N/A        N/A  tt4882004  movie          N/A           N/A   \n4996         N/A        N/A  tt4956210  movie          N/A           N/A   \n4997         N/A        N/A  tt4956268  movie          N/A           N/A   \n4998         N/A        N/A  tt4957136  movie          N/A           N/A   \n4999         N/A        N/A  tt4958374  movie          N/A           N/A   \n\n     production website response  \n0           N/A     N/A     True  \n1           N/A     N/A     True  \n2           N/A     N/A     True  \n3           N/A     N/A     True  \n4           N/A     N/A     True  \n...         ...     ...      ...  \n4995        N/A     N/A     True  \n4996        N/A     N/A     True  \n4997        N/A     N/A     True  \n4998        N/A     N/A     True  \n4999        N/A     N/A     True  \n\n[5000 rows x 25 columns]",
      "text/html": "<div>\n<style scoped>\n    .dataframe tbody tr th:only-of-type {\n        vertical-align: middle;\n    }\n\n    .dataframe tbody tr th {\n        vertical-align: top;\n    }\n\n    .dataframe thead th {\n        text-align: right;\n    }\n</style>\n<table border=\"1\" class=\"dataframe\">\n  <thead>\n    <tr style=\"text-align: right;\">\n      <th></th>\n      <th>title</th>\n      <th>year</th>\n      <th>rated</th>\n      <th>released</th>\n      <th>runtime</th>\n      <th>genre</th>\n      <th>director</th>\n      <th>writer</th>\n      <th>actors</th>\n      <th>plot</th>\n      <th>...</th>\n      <th>metascore</th>\n      <th>imdb_rating</th>\n      <th>imdb_votes</th>\n      <th>imdb_id</th>\n      <th>type</th>\n      <th>dvd</th>\n      <th>box_office</th>\n      <th>production</th>\n      <th>website</th>\n      <th>response</th>\n    </tr>\n  </thead>\n  <tbody>\n    <tr>\n      <th>0</th>\n      <td>One Flew Over the Cuckoo's Nest</td>\n      <td>1975</td>\n      <td>R</td>\n      <td>19 Nov 1975</td>\n      <td>133 min</td>\n      <td>Drama</td>\n      <td>Milos Forman</td>\n      <td>Lawrence Hauben, Bo Goldman, Ken Kesey</td>\n      <td>Jack Nicholson, Louise Fletcher, Michael Berryman</td>\n      <td>A criminal pleads insanity and is admitted to ...</td>\n      <td>...</td>\n      <td>84</td>\n      <td>8.7</td>\n      <td>983,642</td>\n      <td>tt0073486</td>\n      <td>movie</td>\n      <td>16 Dec 1997</td>\n      <td>$108,981,275</td>\n      <td>N/A</td>\n      <td>N/A</td>\n      <td>True</td>\n    </tr>\n    <tr>\n      <th>1</th>\n      <td>Rogue One: A Star Wars Story</td>\n      <td>2016</td>\n      <td>PG-13</td>\n      <td>16 Dec 2016</td>\n      <td>133 min</td>\n      <td>Action, Adventure, Sci-Fi</td>\n      <td>Gareth Edwards</td>\n      <td>Chris Weitz, Tony Gilroy, John Knoll</td>\n      <td>Felicity Jones, Diego Luna, Alan Tudyk</td>\n      <td>In a time of conflict, a group of unlikely her...</td>\n      <td>...</td>\n      <td>65</td>\n      <td>7.8</td>\n      <td>607,401</td>\n      <td>tt3748528</td>\n      <td>movie</td>\n      <td>04 Apr 2017</td>\n      <td>$532,177,324</td>\n      <td>N/A</td>\n      <td>N/A</td>\n      <td>True</td>\n    </tr>\n    <tr>\n      <th>2</th>\n      <td>Ready Player One</td>\n      <td>2018</td>\n      <td>PG-13</td>\n      <td>29 Mar 2018</td>\n      <td>140 min</td>\n      <td>Action, Adventure, Sci-Fi</td>\n      <td>Steven Spielberg</td>\n      <td>Zak Penn, Ernest Cline</td>\n      <td>Tye Sheridan, Olivia Cooke, Ben Mendelsohn</td>\n      <td>When the creator of a virtual reality called t...</td>\n      <td>...</td>\n      <td>64</td>\n      <td>7.4</td>\n      <td>422,237</td>\n      <td>tt1677720</td>\n      <td>movie</td>\n      <td>05 Apr 2018</td>\n      <td>$137,715,350</td>\n      <td>N/A</td>\n      <td>N/A</td>\n      <td>True</td>\n    </tr>\n    <tr>\n      <th>3</th>\n      <td>Let the Right One In</td>\n      <td>2008</td>\n      <td>R</td>\n      <td>12 Dec 2008</td>\n      <td>114 min</td>\n      <td>Drama, Fantasy, Horror</td>\n      <td>Tomas Alfredson</td>\n      <td>John Ajvide Lindqvist</td>\n      <td>Kåre Hedebrant, Lina Leandersson, Per Ragnar</td>\n      <td>Oskar, an overlooked and bullied boy, finds lo...</td>\n      <td>...</td>\n      <td>82</td>\n      <td>7.9</td>\n      <td>214,860</td>\n      <td>tt1139797</td>\n      <td>movie</td>\n      <td>10 Mar 2009</td>\n      <td>$2,122,065</td>\n      <td>N/A</td>\n      <td>N/A</td>\n      <td>True</td>\n    </tr>\n    <tr>\n      <th>4</th>\n      <td>Air Force One</td>\n      <td>1997</td>\n      <td>R</td>\n      <td>25 Jul 1997</td>\n      <td>124 min</td>\n      <td>Action, Drama, Thriller</td>\n      <td>Wolfgang Petersen</td>\n      <td>Andrew W. Marlowe</td>\n      <td>Harrison Ford, Gary Oldman, Glenn Close</td>\n      <td>Communist radicals hijack Air Force One with t...</td>\n      <td>...</td>\n      <td>61</td>\n      <td>6.5</td>\n      <td>193,375</td>\n      <td>tt0118571</td>\n      <td>movie</td>\n      <td>26 Dec 2000</td>\n      <td>$172,956,409</td>\n      <td>N/A</td>\n      <td>N/A</td>\n      <td>True</td>\n    </tr>\n    <tr>\n      <th>...</th>\n      <td>...</td>\n      <td>...</td>\n      <td>...</td>\n      <td>...</td>\n      <td>...</td>\n      <td>...</td>\n      <td>...</td>\n      <td>...</td>\n      <td>...</td>\n      <td>...</td>\n      <td>...</td>\n      <td>...</td>\n      <td>...</td>\n      <td>...</td>\n      <td>...</td>\n      <td>...</td>\n      <td>...</td>\n      <td>...</td>\n      <td>...</td>\n      <td>...</td>\n      <td>...</td>\n    </tr>\n    <tr>\n      <th>4995</th>\n      <td>One Billion Dates</td>\n      <td>2015</td>\n      <td>N/A</td>\n      <td>N/A</td>\n      <td>9 min</td>\n      <td>Short, Comedy, Drama</td>\n      <td>Alec Robbins</td>\n      <td>Alec Robbins</td>\n      <td>Alec Robbins, Eric Lewis-Baker, Jack Amedio</td>\n      <td>What if you ended up with the wrong person bec...</td>\n      <td>...</td>\n      <td>N/A</td>\n      <td>N/A</td>\n      <td>N/A</td>\n      <td>tt4882004</td>\n      <td>movie</td>\n      <td>N/A</td>\n      <td>N/A</td>\n      <td>N/A</td>\n      <td>N/A</td>\n      <td>True</td>\n    </tr>\n    <tr>\n      <th>4996</th>\n      <td>One Shot</td>\n      <td>2015</td>\n      <td>N/A</td>\n      <td>31 Jul 2015</td>\n      <td>N/A</td>\n      <td>Short, Drama</td>\n      <td>George McCluskey</td>\n      <td>George McCluskey</td>\n      <td>Greg Hobbs, Jayne Machin</td>\n      <td>N/A</td>\n      <td>...</td>\n      <td>N/A</td>\n      <td>N/A</td>\n      <td>N/A</td>\n      <td>tt4956210</td>\n      <td>movie</td>\n      <td>N/A</td>\n      <td>N/A</td>\n      <td>N/A</td>\n      <td>N/A</td>\n      <td>True</td>\n    </tr>\n    <tr>\n      <th>4997</th>\n      <td>One More Win</td>\n      <td>2015</td>\n      <td>N/A</td>\n      <td>01 Sep 2015</td>\n      <td>91 min</td>\n      <td>Documentary</td>\n      <td>Scott Kelso</td>\n      <td>N/A</td>\n      <td>N/A</td>\n      <td>World Rugby has written the Cook Islanders off...</td>\n      <td>...</td>\n      <td>N/A</td>\n      <td>N/A</td>\n      <td>N/A</td>\n      <td>tt4956268</td>\n      <td>movie</td>\n      <td>N/A</td>\n      <td>N/A</td>\n      <td>N/A</td>\n      <td>N/A</td>\n      <td>True</td>\n    </tr>\n    <tr>\n      <th>4998</th>\n      <td>Changing History: One Heart at a Time</td>\n      <td>2015</td>\n      <td>N/A</td>\n      <td>09 Jul 2015</td>\n      <td>19 min</td>\n      <td>Short, History</td>\n      <td>Adam Kavanagh</td>\n      <td>James Standish</td>\n      <td>Dora Amuimuia, Craig Walker</td>\n      <td>Changing History - one heart at a time, is a s...</td>\n      <td>...</td>\n      <td>N/A</td>\n      <td>N/A</td>\n      <td>N/A</td>\n      <td>tt4957136</td>\n      <td>movie</td>\n      <td>N/A</td>\n      <td>N/A</td>\n      <td>N/A</td>\n      <td>N/A</td>\n      <td>True</td>\n    </tr>\n    <tr>\n      <th>4999</th>\n      <td>One Last Dream</td>\n      <td>2015</td>\n      <td>N/A</td>\n      <td>N/A</td>\n      <td>7 min</td>\n      <td>Animation, Short, Drama</td>\n      <td>Noam Rabinovitch, Chris Dainty</td>\n      <td>Noam Rabinovitch</td>\n      <td>N/A</td>\n      <td>A factory farm pig sees a butterfly for the fi...</td>\n      <td>...</td>\n      <td>N/A</td>\n      <td>N/A</td>\n      <td>N/A</td>\n      <td>tt4958374</td>\n      <td>movie</td>\n      <td>N/A</td>\n      <td>N/A</td>\n      <td>N/A</td>\n      <td>N/A</td>\n      <td>True</td>\n    </tr>\n  </tbody>\n</table>\n<p>5000 rows × 25 columns</p>\n</div>"
     },
     "metadata": {}
    }
   ]
  },
  {
   "cell_type": "code",
   "metadata": {
    "cell_id": "62339f729f14452f82a63b927052e692",
    "tags": [],
    "deepnote_to_be_reexecuted": false,
    "source_hash": "51ceb9a3",
    "execution_start": 1655346140773,
    "execution_millis": 3,
    "deepnote_cell_type": "code",
    "deepnote_cell_height": 441
   },
   "source": "punctuation = set(punctuation) \n# Text cleaning function\ndef clean_text_data(column):\n    new_description = []\n    for description in column:\n        update_desc = description\n        # Remove the punctuation from each description\n        for i in description:\n            if i in punctuation:\n                update_desc = update_desc.replace(i, \"\")\n        # Remove extra white space\n        update_desc = re.sub(r'\\s+', ' ', update_desc)\n        # Split on whitespace\n        update_desc = update_desc.split()\n        # Fold to lowercase\n        for i in range(len(update_desc)):\n            update_desc[i] = update_desc[i].lower()\n        # Remove stopwords\n        update_desc = [i for i in update_desc if i not in sw]\n        new_description.append(update_desc)\n    return new_description",
   "execution_count": null,
   "outputs": []
  },
  {
   "cell_type": "code",
   "metadata": {
    "cell_id": "6ef80512a601420b9c80b066d52df06f",
    "tags": [],
    "deepnote_to_be_reexecuted": false,
    "source_hash": "7aa8afed",
    "execution_start": 1655346347560,
    "execution_millis": 337,
    "deepnote_cell_type": "code",
    "deepnote_cell_height": 766
   },
   "source": "# Clean the plot description and genre text\nmovies_info['cleaned_plot'] = clean_text_data(movies_info['plot'])\nmovies_info['cleaned_genre'] = clean_text_data(movies_info['genre'])\n\n# Keep only the first word in the cleaned genre lists\nmovies_info['first_genre'] = [i[0] for i in movies_info['cleaned_genre']]\n\n# Create new df with only the first_genre and cleaned_plot columns\ncleaned_df = movies_info[['first_genre', 'cleaned_plot', 'imdb_rating']]\ncleaned_df",
   "execution_count": null,
   "outputs": [
    {
     "output_type": "execute_result",
     "execution_count": 16,
     "data": {
      "application/vnd.deepnote.dataframe.v3+json": {
       "column_count": 3,
       "row_count": 5000,
       "columns": [
        {
         "name": "first_genre",
         "dtype": "object",
         "stats": {
          "unique_count": 26,
          "nan_count": 0,
          "categories": [
           {
            "name": "short",
            "count": 2059
           },
           {
            "name": "documentary",
            "count": 954
           },
           {
            "name": "24 others",
            "count": 1987
           }
          ]
         }
        },
        {
         "name": "cleaned_plot",
         "dtype": "object",
         "stats": {
          "unique_count": 5000,
          "nan_count": 0,
          "categories": [
           {
            "name": "['na']",
            "count": 1443
           },
           {
            "name": "['documentary', 'oneshot', 'characters', 'looney', 'tunes', 'cartoon', 'shorts']",
            "count": 4
           },
           {
            "name": "3117 others",
            "count": 3553
           }
          ]
         }
        },
        {
         "name": "imdb_rating",
         "dtype": "object",
         "stats": {
          "unique_count": 82,
          "nan_count": 0,
          "categories": [
           {
            "name": "N/A",
            "count": 2559
           },
           {
            "name": "7.2",
            "count": 90
           },
           {
            "name": "80 others",
            "count": 2351
           }
          ]
         }
        },
        {
         "name": "_deepnote_index_column",
         "dtype": "int64"
        }
       ],
       "rows": [
        {
         "first_genre": "drama",
         "cleaned_plot": "['criminal', 'pleads', 'insanity', 'admitted', 'mental', 'institution', 'rebels', 'oppressive', 'nurse', 'rallies', 'scared', 'patients']",
         "imdb_rating": "8.7",
         "_deepnote_index_column": 0
        },
        {
         "first_genre": "action",
         "cleaned_plot": "['time', 'conflict', 'group', 'unlikely', 'heroes', 'band', 'together', 'mission', 'steal', 'plans', 'death', 'star', 'empires', 'ultimate', 'weapon', 'destruction']",
         "imdb_rating": "7.8",
         "_deepnote_index_column": 1
        },
        {
         "first_genre": "action",
         "cleaned_plot": "['creator', 'virtual', 'reality', 'called', 'oasis', 'dies', 'makes', 'posthumous', 'challenge', 'oasis', 'users', 'find', 'easter', 'egg', 'give', 'finder', 'fortune', 'control', 'world']",
         "imdb_rating": "7.4",
         "_deepnote_index_column": 2
        },
        {
         "first_genre": "drama",
         "cleaned_plot": "['oskar', 'overlooked', 'bullied', 'boy', 'finds', 'love', 'revenge', 'eli', 'beautiful', 'peculiar', 'girl']",
         "imdb_rating": "7.9",
         "_deepnote_index_column": 3
        },
        {
         "first_genre": "action",
         "cleaned_plot": "['communist', 'radicals', 'hijack', 'air', 'force', 'one', 'us', 'president', 'family', 'board', 'vice', 'president', 'negotiates', 'washington', 'dc', 'president', 'veteran', 'fights', 'rescue', 'hostages', 'board']",
         "imdb_rating": "6.5",
         "_deepnote_index_column": 4
        },
        {
         "first_genre": "animation",
         "cleaned_plot": "['litter', 'dalmatian', 'puppies', 'abducted', 'minions', 'cruella', 'de', 'vil', 'owners', 'must', 'find', 'uses', 'diabolical', 'fashion', 'statement']",
         "imdb_rating": "7.3",
         "_deepnote_index_column": 5
        },
        {
         "first_genre": "drama",
         "cleaned_plot": "['spending', 'night', 'together', 'night', 'college', 'graduation', 'dexter', 'emma', 'shown', 'year', 'date', 'see', 'lives', 'sometimes', 'together', 'sometimes', 'day']",
         "imdb_rating": "7.0",
         "_deepnote_index_column": 6
        },
        {
         "first_genre": "drama",
         "cleaned_plot": "['mentally', 'unstable', 'photo', 'developer', 'targets', 'upper', 'middleclass', 'family', 'obsession', 'becomes', 'sick', 'disturbing', 'could', 'imagine']",
         "imdb_rating": "6.8",
         "_deepnote_index_column": 7
        },
        {
         "first_genre": "drama",
         "cleaned_plot": "['marine', 'travels', 'louisiana', 'serving', 'three', 'tours', 'iraq', 'searches', 'unknown', 'woman', 'believes', 'good', 'luck', 'charm', 'war']",
         "imdb_rating": "6.4",
         "_deepnote_index_column": 8
        },
        {
         "first_genre": "comedy",
         "cleaned_plot": "['renegade', 'reporter', 'trailing', 'young', 'runaway', 'heiress', 'big', 'story', 'joins', 'bus', 'heading', 'florida', 'new', 'york', 'end', 'stuck', 'bus', 'leaves', 'behind', 'one', 'stops']",
         "imdb_rating": "8.1",
         "_deepnote_index_column": 9
        }
       ]
      },
      "text/plain": "      first_genre                                       cleaned_plot  \\\n0           drama  [criminal, pleads, insanity, admitted, mental,...   \n1          action  [time, conflict, group, unlikely, heroes, band...   \n2          action  [creator, virtual, reality, called, oasis, die...   \n3           drama  [oskar, overlooked, bullied, boy, finds, love,...   \n4          action  [communist, radicals, hijack, air, force, one,...   \n...           ...                                                ...   \n4995        short  [ended, wrong, person, truly, thought, couldnt...   \n4996        short                                               [na]   \n4997  documentary  [world, rugby, written, cook, islanders, game,...   \n4998        short  [changing, history, one, heart, time, short, d...   \n4999    animation  [factory, farm, pig, sees, butterfly, first, t...   \n\n     imdb_rating  \n0            8.7  \n1            7.8  \n2            7.4  \n3            7.9  \n4            6.5  \n...          ...  \n4995         N/A  \n4996         N/A  \n4997         N/A  \n4998         N/A  \n4999         N/A  \n\n[5000 rows x 3 columns]",
      "text/html": "<div>\n<style scoped>\n    .dataframe tbody tr th:only-of-type {\n        vertical-align: middle;\n    }\n\n    .dataframe tbody tr th {\n        vertical-align: top;\n    }\n\n    .dataframe thead th {\n        text-align: right;\n    }\n</style>\n<table border=\"1\" class=\"dataframe\">\n  <thead>\n    <tr style=\"text-align: right;\">\n      <th></th>\n      <th>first_genre</th>\n      <th>cleaned_plot</th>\n      <th>imdb_rating</th>\n    </tr>\n  </thead>\n  <tbody>\n    <tr>\n      <th>0</th>\n      <td>drama</td>\n      <td>[criminal, pleads, insanity, admitted, mental,...</td>\n      <td>8.7</td>\n    </tr>\n    <tr>\n      <th>1</th>\n      <td>action</td>\n      <td>[time, conflict, group, unlikely, heroes, band...</td>\n      <td>7.8</td>\n    </tr>\n    <tr>\n      <th>2</th>\n      <td>action</td>\n      <td>[creator, virtual, reality, called, oasis, die...</td>\n      <td>7.4</td>\n    </tr>\n    <tr>\n      <th>3</th>\n      <td>drama</td>\n      <td>[oskar, overlooked, bullied, boy, finds, love,...</td>\n      <td>7.9</td>\n    </tr>\n    <tr>\n      <th>4</th>\n      <td>action</td>\n      <td>[communist, radicals, hijack, air, force, one,...</td>\n      <td>6.5</td>\n    </tr>\n    <tr>\n      <th>...</th>\n      <td>...</td>\n      <td>...</td>\n      <td>...</td>\n    </tr>\n    <tr>\n      <th>4995</th>\n      <td>short</td>\n      <td>[ended, wrong, person, truly, thought, couldnt...</td>\n      <td>N/A</td>\n    </tr>\n    <tr>\n      <th>4996</th>\n      <td>short</td>\n      <td>[na]</td>\n      <td>N/A</td>\n    </tr>\n    <tr>\n      <th>4997</th>\n      <td>documentary</td>\n      <td>[world, rugby, written, cook, islanders, game,...</td>\n      <td>N/A</td>\n    </tr>\n    <tr>\n      <th>4998</th>\n      <td>short</td>\n      <td>[changing, history, one, heart, time, short, d...</td>\n      <td>N/A</td>\n    </tr>\n    <tr>\n      <th>4999</th>\n      <td>animation</td>\n      <td>[factory, farm, pig, sees, butterfly, first, t...</td>\n      <td>N/A</td>\n    </tr>\n  </tbody>\n</table>\n<p>5000 rows × 3 columns</p>\n</div>"
     },
     "metadata": {}
    }
   ]
  },
  {
   "cell_type": "code",
   "metadata": {
    "cell_id": "91c6587f18f245b1916e46deb04b772e",
    "tags": [],
    "deepnote_to_be_reexecuted": false,
    "source_hash": "6a8176d4",
    "execution_start": 1655346351877,
    "execution_millis": 29,
    "owner_user_id": "61667436-84e8-4dac-af2d-b0cb06f728d1",
    "deepnote_cell_type": "code",
    "deepnote_cell_height": 376
   },
   "source": "# Summary of each column\ncleaned_df.describe()",
   "execution_count": null,
   "outputs": [
    {
     "output_type": "execute_result",
     "execution_count": 17,
     "data": {
      "application/vnd.deepnote.dataframe.v3+json": {
       "column_count": 3,
       "row_count": 4,
       "columns": [
        {
         "name": "first_genre",
         "dtype": "object",
         "stats": {
          "unique_count": 4,
          "nan_count": 0,
          "categories": [
           {
            "name": "5000",
            "count": 1
           },
           {
            "name": "26",
            "count": 1
           },
           {
            "name": "2 others",
            "count": 2
           }
          ]
         }
        },
        {
         "name": "cleaned_plot",
         "dtype": "object",
         "stats": {
          "unique_count": 4,
          "nan_count": 0,
          "categories": [
           {
            "name": "5000",
            "count": 1
           },
           {
            "name": "3119",
            "count": 1
           },
           {
            "name": "2 others",
            "count": 2
           }
          ]
         }
        },
        {
         "name": "imdb_rating",
         "dtype": "object",
         "stats": {
          "unique_count": 4,
          "nan_count": 0,
          "categories": [
           {
            "name": "5000",
            "count": 1
           },
           {
            "name": "82",
            "count": 1
           },
           {
            "name": "2 others",
            "count": 2
           }
          ]
         }
        },
        {
         "name": "_deepnote_index_column",
         "dtype": "object"
        }
       ],
       "rows": [
        {
         "first_genre": "5000",
         "cleaned_plot": "5000",
         "imdb_rating": "5000",
         "_deepnote_index_column": "count"
        },
        {
         "first_genre": "26",
         "cleaned_plot": "3119",
         "imdb_rating": "82",
         "_deepnote_index_column": "unique"
        },
        {
         "first_genre": "short",
         "cleaned_plot": "['na']",
         "imdb_rating": "N/A",
         "_deepnote_index_column": "top"
        },
        {
         "first_genre": "2059",
         "cleaned_plot": "1443",
         "imdb_rating": "2559",
         "_deepnote_index_column": "freq"
        }
       ]
      },
      "text/plain": "       first_genre cleaned_plot imdb_rating\ncount         5000         5000        5000\nunique          26         3119          82\ntop          short         [na]         N/A\nfreq          2059         1443        2559",
      "text/html": "<div>\n<style scoped>\n    .dataframe tbody tr th:only-of-type {\n        vertical-align: middle;\n    }\n\n    .dataframe tbody tr th {\n        vertical-align: top;\n    }\n\n    .dataframe thead th {\n        text-align: right;\n    }\n</style>\n<table border=\"1\" class=\"dataframe\">\n  <thead>\n    <tr style=\"text-align: right;\">\n      <th></th>\n      <th>first_genre</th>\n      <th>cleaned_plot</th>\n      <th>imdb_rating</th>\n    </tr>\n  </thead>\n  <tbody>\n    <tr>\n      <th>count</th>\n      <td>5000</td>\n      <td>5000</td>\n      <td>5000</td>\n    </tr>\n    <tr>\n      <th>unique</th>\n      <td>26</td>\n      <td>3119</td>\n      <td>82</td>\n    </tr>\n    <tr>\n      <th>top</th>\n      <td>short</td>\n      <td>[na]</td>\n      <td>N/A</td>\n    </tr>\n    <tr>\n      <th>freq</th>\n      <td>2059</td>\n      <td>1443</td>\n      <td>2559</td>\n    </tr>\n  </tbody>\n</table>\n</div>"
     },
     "metadata": {}
    }
   ]
  },
  {
   "cell_type": "code",
   "metadata": {
    "cell_id": "e55dc8104105450d8d5056f086277374",
    "tags": [],
    "deepnote_to_be_reexecuted": false,
    "source_hash": "49cabd27",
    "execution_start": 1655346543620,
    "execution_millis": 6,
    "deepnote_cell_type": "code",
    "deepnote_cell_height": 687,
    "deepnote_output_heights": [
     572
    ]
   },
   "source": "# Count instances of each genre\ncleaned_df['first_genre'].value_counts()",
   "execution_count": null,
   "outputs": [
    {
     "output_type": "execute_result",
     "execution_count": 20,
     "data": {
      "text/plain": "short          2059\ndocumentary     954\ndrama           515\ncomedy          459\nanimation       186\nna              159\naction          159\ncrime            76\nmusic            71\nsport            60\nhorror           50\nadventure        40\nthriller         35\nfamily           30\nbiography        27\nromance          26\nscifi            21\nwestern          18\nmusical          13\nmystery          12\nfantasy          11\nhistory           6\ntalkshow          5\nrealitytv         4\nnews              3\ngameshow          1\nName: first_genre, dtype: int64"
     },
     "metadata": {}
    }
   ]
  },
  {
   "cell_type": "code",
   "metadata": {
    "cell_id": "303a7acca2e2427ca851c6a11961e0fe",
    "tags": [],
    "deepnote_to_be_reexecuted": false,
    "source_hash": "99ecb79f",
    "execution_start": 1655346782576,
    "execution_millis": 8,
    "deepnote_cell_type": "code",
    "deepnote_cell_height": 156,
    "deepnote_output_heights": [
     23
    ]
   },
   "source": "# Include only the top 5 genres, excluding shorts and na\ncleaned_df = cleaned_df.loc[cleaned_df['first_genre'].isin(['documentary', 'drama', 'comedy', 'animation', 'action'])]\ncleaned_df['first_genre'].value_counts()",
   "execution_count": null,
   "outputs": [
    {
     "output_type": "execute_result",
     "execution_count": 23,
     "data": {
      "text/plain": "2273"
     },
     "metadata": {}
    }
   ]
  },
  {
   "cell_type": "code",
   "metadata": {
    "cell_id": "9465a0e7df4441fd8ae92a884ab58b40",
    "tags": [],
    "deepnote_to_be_reexecuted": false,
    "source_hash": "6d792f83",
    "execution_start": 1655346807215,
    "execution_millis": 56,
    "deepnote_cell_type": "code",
    "deepnote_cell_height": 99
   },
   "source": "# Write to a csv\ncleaned_df.to_csv('Cleaned Plot Data.csv')",
   "execution_count": null,
   "outputs": []
  },
  {
   "cell_type": "markdown",
   "source": "<a style='text-decoration:none;line-height:16px;display:flex;color:#5B5B62;padding:10px;justify-content:end;' href='https://deepnote.com?utm_source=created-in-deepnote-cell&projectId=53ef1faa-b7a9-4637-b54c-3b067e58670d' target=\"_blank\">\n<img alt='Created in deepnote.com' style='display:inline;max-height:16px;margin:0px;margin-right:7.5px;' src='data:image/svg+xml;base64,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' > </img>\nCreated in <span style='font-weight:600;margin-left:4px;'>Deepnote</span></a>",
   "metadata": {
    "tags": [],
    "created_in_deepnote_cell": true,
    "deepnote_cell_type": "markdown"
   }
  }
 ],
 "nbformat": 4,
 "nbformat_minor": 2,
 "metadata": {
  "orig_nbformat": 2,
  "deepnote": {},
  "deepnote_notebook_id": "fd55cbee-8d7f-4885-974d-358035dcefa0",
  "deepnote_execution_queue": []
 }
}