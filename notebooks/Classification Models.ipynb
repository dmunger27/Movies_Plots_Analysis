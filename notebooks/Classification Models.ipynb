{
 "cells": [
  {
   "cell_type": "markdown",
   "source": "# Final Project - Movie Reviews Analysis\n- **Team 13: Jimmy Nguyen, Dallin Munger, Tyler Wolff**\n\n\n\n# Packages",
   "metadata": {
    "cell_id": "b5ab1708bec74c5c8c37b3aa55c9c3d5",
    "tags": [],
    "deepnote_cell_type": "markdown",
    "deepnote_cell_height": 198.23333740234375
   }
  },
  {
   "cell_type": "code",
   "source": "from sklearn.feature_extraction.text import TfidfVectorizer\nfrom sklearn.svm import LinearSVC\nfrom sklearn.model_selection import train_test_split\nfrom sklearn.model_selection import cross_val_score\nfrom spacy.lang.en.stop_words import STOP_WORDS as stopwords\nfrom sklearn.dummy import DummyClassifier\nfrom sklearn.metrics import accuracy_score\nimport warnings\nwarnings.filterwarnings('ignore')\nimport pandas as pd\nimport numpy as np\nimport re \nimport matplotlib.pyplot as plt\nimport seaborn as sns",
   "metadata": {
    "cell_id": "fa075b4174774437bd88ce101b8bf045",
    "tags": [],
    "deepnote_to_be_reexecuted": false,
    "source_hash": "c73f250",
    "execution_start": 1655876641680,
    "execution_millis": 15018,
    "deepnote_cell_type": "code",
    "deepnote_cell_height": 380.83331298828125
   },
   "outputs": [
    {
     "name": "stderr",
     "text": "/shared-libs/python3.7/py/lib/python3.7/site-packages/tqdm/auto.py:22: TqdmWarning: IProgress not found. Please update jupyter and ipywidgets. See https://ipywidgets.readthedocs.io/en/stable/user_install.html\n  from .autonotebook import tqdm as notebook_tqdm\n",
     "output_type": "stream"
    }
   ],
   "execution_count": 1
  },
  {
   "cell_type": "markdown",
   "source": "# Step 1: Data Preparation\n\n- Loading Data set for Modeling\n- Un-tokenize previous columns that was converted into tokens for descriptive statistics",
   "metadata": {
    "cell_id": "0d4470da317b4c79812f5ac8d8e92608",
    "tags": [],
    "deepnote_cell_type": "markdown",
    "deepnote_cell_height": 159.63333129882812
   }
  },
  {
   "cell_type": "code",
   "metadata": {
    "tags": [],
    "cell_id": "51c75302-97a3-4c34-91d5-ed3b1396d755",
    "deepnote_to_be_reexecuted": false,
    "source_hash": "a4672c70",
    "execution_start": 1655876656714,
    "execution_millis": 88,
    "deepnote_cell_type": "code",
    "deepnote_cell_height": 635.8333129882812
   },
   "source": "# load cleaned data set from previous notebook\ndf = pd.read_csv(\"Cleaned Plot Data.csv\")\ndf.sample(10)",
   "execution_count": 2,
   "outputs": [
    {
     "output_type": "execute_result",
     "execution_count": 2,
     "data": {
      "application/vnd.deepnote.dataframe.v3+json": {
       "column_count": 4,
       "row_count": 10,
       "columns": [
        {
         "name": "title",
         "dtype": "object",
         "stats": {
          "unique_count": 10,
          "nan_count": 0,
          "categories": [
           {
            "name": "One & Done",
            "count": 1
           },
           {
            "name": "One Take",
            "count": 1
           },
           {
            "name": "8 others",
            "count": 8
           }
          ]
         }
        },
        {
         "name": "first_genre",
         "dtype": "object",
         "stats": {
          "unique_count": 4,
          "nan_count": 0,
          "categories": [
           {
            "name": "documentary",
            "count": 7
           },
           {
            "name": "animation",
            "count": 1
           },
           {
            "name": "2 others",
            "count": 2
           }
          ]
         }
        },
        {
         "name": "cleaned_plot",
         "dtype": "object",
         "stats": {
          "unique_count": 10,
          "nan_count": 0,
          "categories": [
           {
            "name": "['showtime', 'sports', 'chronicals', 'sprawling', 'journey', 'number', 'one', 'nba', 'draft', 'pick', 'ben', 'simmons', 'relatively', 'anonymous', 'australian', 'upbringing', 'high', 'school', 'college', 'america', 'top', 'top', 'rookie', 'class', 'wo']",
            "count": 1
           },
           {
            "name": "['members', 'thai', 'girl', 'group', 'bnk48', 'share', 'ups', 'downs', 'preparing', '6th', 'single', 'senbatsu', 'general', 'election']",
            "count": 1
           },
           {
            "name": "8 others",
            "count": 8
           }
          ]
         }
        },
        {
         "name": "imdb_rating",
         "dtype": "float64",
         "stats": {
          "unique_count": 6,
          "nan_count": 4,
          "min": "4.7",
          "max": "7.4",
          "histogram": [
           {
            "bin_start": 4.7,
            "bin_end": 4.970000000000001,
            "count": 1
           },
           {
            "bin_start": 4.970000000000001,
            "bin_end": 5.24,
            "count": 0
           },
           {
            "bin_start": 5.24,
            "bin_end": 5.51,
            "count": 0
           },
           {
            "bin_start": 5.51,
            "bin_end": 5.78,
            "count": 1
           },
           {
            "bin_start": 5.78,
            "bin_end": 6.050000000000001,
            "count": 0
           },
           {
            "bin_start": 6.050000000000001,
            "bin_end": 6.32,
            "count": 0
           },
           {
            "bin_start": 6.32,
            "bin_end": 6.59,
            "count": 1
           },
           {
            "bin_start": 6.59,
            "bin_end": 6.86,
            "count": 1
           },
           {
            "bin_start": 6.86,
            "bin_end": 7.130000000000001,
            "count": 1
           },
           {
            "bin_start": 7.130000000000001,
            "bin_end": 7.4,
            "count": 1
           }
          ]
         }
        },
        {
         "name": "_deepnote_index_column",
         "dtype": "int64"
        }
       ],
       "rows": [
        {
         "title": "One & Done",
         "first_genre": "documentary",
         "cleaned_plot": "['showtime', 'sports', 'chronicals', 'sprawling', 'journey', 'number', 'one', 'nba', 'draft', 'pick', 'ben', 'simmons', 'relatively', 'anonymous', 'australian', 'upbringing', 'high', 'school', 'college', 'america', 'top', 'top', 'rookie', 'class', 'wo']",
         "imdb_rating": 7,
         "_deepnote_index_column": 589
        },
        {
         "title": "One Take",
         "first_genre": "documentary",
         "cleaned_plot": "['members', 'thai', 'girl', 'group', 'bnk48', 'share', 'ups', 'downs', 'preparing', '6th', 'single', 'senbatsu', 'general', 'election']",
         "imdb_rating": 5.7,
         "_deepnote_index_column": 825
        },
        {
         "title": "One Piece Jidaigeki Special: Luffy Oyabun Torimonocho",
         "first_genre": "animation",
         "cleaned_plot": "['fuedal', 'era', 'japan', 'characters', 'know', 'love', 'living', 'different', 'life', 'styles', 'time', 'period', 'namionami', 'amp', 'sanji', 'run', 'restaurant', 'called', 'pinwheel', 'zoro', 'buddhist', 'monk']",
         "imdb_rating": 6.7,
         "_deepnote_index_column": 434
        },
        {
         "title": "The Tale of a Thousand and One Lives",
         "first_genre": "comedy",
         "cleaned_plot": "['12yearold', 'oktay', 'finally', 'reunited', 'parents', 'guardianship', 'grandmother', 'turkey', 'finally', 'reunited', 'parents', 'guardianship', 'grandmother', 'turkey', 'story']",
         "imdb_rating": 6.4,
         "_deepnote_index_column": 828
        },
        {
         "title": "One Day",
         "first_genre": "drama",
         "cleaned_plot": "['jos', 'mentallychallenged', 'still', 'living', 'mother', '34th', 'birthday', 'life', 'change', 'dramatically']",
         "imdb_rating": 7.4,
         "_deepnote_index_column": 792
        },
        {
         "title": "Spent a Year There One Knite",
         "first_genre": "documentary",
         "cleaned_plot": "['spent', 'year', 'one', 'knite', 'resurrects', 'one', 'knite', 'ramshackle', 'dive', 'austin', 'tx', 'early', '1970s', 'inadvertently', 'became', 'incubator', 'citys', 'fledgling', 'white', 'blues']",
         "imdb_rating": "nan",
         "_deepnote_index_column": 1695
        },
        {
         "title": "There's Only One Madonna",
         "first_genre": "documentary",
         "cleaned_plot": "['documentary', 'looks', 'madonna', 'earlier', 'years', '1984', 'drowned', 'world', 'tour', '2001', 'kylie', 'minogue', 'britney', 'spears', 'fans', 'pay', 'tribute', 'material', 'girl']",
         "imdb_rating": 4.7,
         "_deepnote_index_column": 773
        },
        {
         "title": "One for the Road: A Film About Road Records",
         "first_genre": "documentary",
         "cleaned_plot": "['1997', 'two', 'record', 'shop', 'employees', 'frustrated', 'lack', 'available', 'vinyl', 'records', 'inspired', 'music', 'created', 'around', 'ireland', 'decided', 'open', 'small', 'independent', 'record']",
         "imdb_rating": "nan",
         "_deepnote_index_column": 1478
        },
        {
         "title": "One for the Ditch",
         "first_genre": "documentary",
         "cleaned_plot": "['slay', 'rasputin', 'bronx']",
         "imdb_rating": "nan",
         "_deepnote_index_column": 1405
        },
        {
         "title": "The Radio One Story",
         "first_genre": "documentary",
         "cleaned_plot": "['occasion', '30th', 'anniversary', 'history', 'bbcs', 'flagship', 'pop', 'music', 'station', 'radio', 'one']",
         "imdb_rating": "nan",
         "_deepnote_index_column": 1698
        }
       ]
      },
      "text/plain": "                                                  title  first_genre  \\\n589                                          One & Done  documentary   \n825                                            One Take  documentary   \n434   One Piece Jidaigeki Special: Luffy Oyabun Tori...    animation   \n828                The Tale of a Thousand and One Lives       comedy   \n792                                             One Day        drama   \n1695                       Spent a Year There One Knite  documentary   \n773                            There's Only One Madonna  documentary   \n1478        One for the Road: A Film About Road Records  documentary   \n1405                                  One for the Ditch  documentary   \n1698                                The Radio One Story  documentary   \n\n                                           cleaned_plot  imdb_rating  \n589   ['showtime', 'sports', 'chronicals', 'sprawlin...          7.0  \n825   ['members', 'thai', 'girl', 'group', 'bnk48', ...          5.7  \n434   ['fuedal', 'era', 'japan', 'characters', 'know...          6.7  \n828   ['12yearold', 'oktay', 'finally', 'reunited', ...          6.4  \n792   ['jos', 'mentallychallenged', 'still', 'living...          7.4  \n1695  ['spent', 'year', 'one', 'knite', 'resurrects'...          NaN  \n773   ['documentary', 'looks', 'madonna', 'earlier',...          4.7  \n1478  ['1997', 'two', 'record', 'shop', 'employees',...          NaN  \n1405                      ['slay', 'rasputin', 'bronx']          NaN  \n1698  ['occasion', '30th', 'anniversary', 'history',...          NaN  ",
      "text/html": "<div>\n<style scoped>\n    .dataframe tbody tr th:only-of-type {\n        vertical-align: middle;\n    }\n\n    .dataframe tbody tr th {\n        vertical-align: top;\n    }\n\n    .dataframe thead th {\n        text-align: right;\n    }\n</style>\n<table border=\"1\" class=\"dataframe\">\n  <thead>\n    <tr style=\"text-align: right;\">\n      <th></th>\n      <th>title</th>\n      <th>first_genre</th>\n      <th>cleaned_plot</th>\n      <th>imdb_rating</th>\n    </tr>\n  </thead>\n  <tbody>\n    <tr>\n      <th>589</th>\n      <td>One &amp; Done</td>\n      <td>documentary</td>\n      <td>['showtime', 'sports', 'chronicals', 'sprawlin...</td>\n      <td>7.0</td>\n    </tr>\n    <tr>\n      <th>825</th>\n      <td>One Take</td>\n      <td>documentary</td>\n      <td>['members', 'thai', 'girl', 'group', 'bnk48', ...</td>\n      <td>5.7</td>\n    </tr>\n    <tr>\n      <th>434</th>\n      <td>One Piece Jidaigeki Special: Luffy Oyabun Tori...</td>\n      <td>animation</td>\n      <td>['fuedal', 'era', 'japan', 'characters', 'know...</td>\n      <td>6.7</td>\n    </tr>\n    <tr>\n      <th>828</th>\n      <td>The Tale of a Thousand and One Lives</td>\n      <td>comedy</td>\n      <td>['12yearold', 'oktay', 'finally', 'reunited', ...</td>\n      <td>6.4</td>\n    </tr>\n    <tr>\n      <th>792</th>\n      <td>One Day</td>\n      <td>drama</td>\n      <td>['jos', 'mentallychallenged', 'still', 'living...</td>\n      <td>7.4</td>\n    </tr>\n    <tr>\n      <th>1695</th>\n      <td>Spent a Year There One Knite</td>\n      <td>documentary</td>\n      <td>['spent', 'year', 'one', 'knite', 'resurrects'...</td>\n      <td>NaN</td>\n    </tr>\n    <tr>\n      <th>773</th>\n      <td>There's Only One Madonna</td>\n      <td>documentary</td>\n      <td>['documentary', 'looks', 'madonna', 'earlier',...</td>\n      <td>4.7</td>\n    </tr>\n    <tr>\n      <th>1478</th>\n      <td>One for the Road: A Film About Road Records</td>\n      <td>documentary</td>\n      <td>['1997', 'two', 'record', 'shop', 'employees',...</td>\n      <td>NaN</td>\n    </tr>\n    <tr>\n      <th>1405</th>\n      <td>One for the Ditch</td>\n      <td>documentary</td>\n      <td>['slay', 'rasputin', 'bronx']</td>\n      <td>NaN</td>\n    </tr>\n    <tr>\n      <th>1698</th>\n      <td>The Radio One Story</td>\n      <td>documentary</td>\n      <td>['occasion', '30th', 'anniversary', 'history',...</td>\n      <td>NaN</td>\n    </tr>\n  </tbody>\n</table>\n</div>"
     },
     "metadata": {}
    }
   ]
  },
  {
   "cell_type": "code",
   "source": "# untokenize plot descriptions\ndf['cleaned_plot'] = df['cleaned_plot'].str.replace(r'[^\\w\\s]', '', regex= True).str.strip()\ndf['cleaned_plot'].sample(10)",
   "metadata": {
    "cell_id": "b4f405c20f6c4da09ff6faec9743800f",
    "tags": [],
    "deepnote_to_be_reexecuted": false,
    "source_hash": "80616cd0",
    "execution_start": 1655876656851,
    "execution_millis": 45,
    "deepnote_cell_type": "code",
    "deepnote_cell_height": 345.83331298828125,
    "deepnote_output_heights": [
     213
    ]
   },
   "outputs": [
    {
     "output_type": "execute_result",
     "execution_count": 3,
     "data": {
      "text/plain": "1642    seasoned hitman tries feel aching need love wo...\n1008    released mental hospital david woolf kidnaps d...\n403     failed plastic surgery actress hires double re...\n74      four young friends set live 1 day two months r...\n1516    director markus bader infracom label manager j...\n111           unhappily married couple try come happy one\n950     seminal documentarian ed pincus considered fat...\n1053    young womans diary depicts layered poetic inne...\n1253    unrequited love story black filmmaker jason st...\n578     jessica married controlling husband gary years...\nName: cleaned_plot, dtype: object"
     },
     "metadata": {}
    }
   ],
   "execution_count": 3
  },
  {
   "cell_type": "markdown",
   "source": "# Step 2: Train-Test Split\n\n- Checking for Class Imbalance\n- Downsampling the Majority class ",
   "metadata": {
    "cell_id": "50006d6ad126495a9957812952c89bec",
    "tags": [],
    "deepnote_cell_type": "markdown",
    "deepnote_cell_height": 159.63333129882812
   }
  },
  {
   "cell_type": "markdown",
   "source": "## Checking for Class Imbalance",
   "metadata": {
    "cell_id": "5210f43c4dad47319df941d340d254f2",
    "tags": [],
    "deepnote_cell_type": "markdown",
    "deepnote_cell_height": 69.83332824707031
   }
  },
  {
   "cell_type": "code",
   "source": "# plot original target variable classes\nplt.figure(figsize=(13,8))\nsns.set(font_scale = 1.2)\nsns.countplot(x=\"first_genre\", data=df,\norder = df['first_genre'].value_counts().index)\nplt.title(\"Number of First Genres (Before Splitting)\")\nplt.xlabel(\"First Genres\")\nplt.ylabel(\"Count\")\nplt.show()\n",
   "metadata": {
    "cell_id": "02ee717ea54844548088df3851dfc0da",
    "tags": [],
    "deepnote_to_be_reexecuted": false,
    "source_hash": "5cfc388f",
    "execution_start": 1655876656943,
    "execution_millis": 430,
    "deepnote_cell_type": "code",
    "deepnote_cell_height": 766.8333129882812,
    "deepnote_output_heights": [
     508,
     21
    ]
   },
   "outputs": [
    {
     "data": {
      "text/plain": "<Figure size 936x576 with 1 Axes>",
      "image/png": "[encoded data removed]"
     },
     "metadata": {
      "needs_background": "light",
      "image/png": {
       "width": 792,
       "height": 506
      }
     },
     "output_type": "display_data"
    }
   ],
   "execution_count": 4
  },
  {
   "cell_type": "markdown",
   "source": "## Downsampling the Majority class ",
   "metadata": {
    "cell_id": "4edd5db8556749788d8c3c64bd962c17",
    "tags": [],
    "deepnote_cell_type": "markdown",
    "deepnote_cell_height": 69.83332824707031
   }
  },
  {
   "cell_type": "code",
   "source": "# Filter for documentaries and sample 400 rows from it\ndf_sample = df[df['first_genre'] == 'documentary'].sample(n=400)\n# Create a separate DataFrame containing all other genres\ndf_sampleRest = df[df['first_genre'] != 'documentary']\n# Concatenate the two DataFrame to create the new balanced bug reports dataset\ndf_balanced = pd.concat([df_sampleRest, df_sample])\n\n\n# plot new downsampled target variable classes\nplt.figure(figsize=(13,8))\nsns.set(font_scale = 1.2)\nsns.countplot(x=\"first_genre\", data=df_balanced,\norder = df_balanced['first_genre'].value_counts().index)\nplt.title(\"Number of First Genres (After Down-Sampling)\")\nplt.xlabel(\"First Genres\")\nplt.ylabel(\"Count\")\nplt.show()\n",
   "metadata": {
    "cell_id": "55f5685009a140f1af95ff8ddab5b136",
    "tags": [],
    "deepnote_to_be_reexecuted": false,
    "source_hash": "793493c3",
    "execution_start": 1655876657382,
    "execution_millis": 821,
    "deepnote_cell_type": "code",
    "deepnote_cell_height": 910.8333129882812,
    "deepnote_output_heights": [
     508
    ]
   },
   "outputs": [
    {
     "data": {
      "text/plain": "<Figure size 936x576 with 1 Axes>",
      "image/png": "[encoded data removed]"
     },
     "metadata": {
      "image/png": {
       "width": 792,
       "height": 506
      }
     },
     "output_type": "display_data"
    }
   ],
   "execution_count": 5
  },
  {
   "cell_type": "code",
   "source": "# Split data set on 80% training and 20% test and keep target variable classes balanced\nX_train, X_test, Y_train, Y_test = train_test_split(df_balanced['cleaned_plot'],\\\ndf_balanced['first_genre'], test_size=0.2, random_state=42,\\\nstratify=df_balanced['first_genre'])\n\n# Print shapes of training and testing data\nprint('Size of Training Data ', X_train.shape[0])\nprint('Size of Test Data ', X_test.shape[0])",
   "metadata": {
    "cell_id": "bba2fdfb6c0b4bb49e9c711fe8d670b8",
    "tags": [],
    "deepnote_to_be_reexecuted": false,
    "source_hash": "bfa0b3af",
    "execution_start": 1655876658036,
    "execution_millis": 149201,
    "deepnote_cell_type": "code",
    "deepnote_cell_height": 257.08331298828125
   },
   "outputs": [
    {
     "name": "stdout",
     "text": "Size of Training Data  1188\nSize of Test Data  297\n",
     "output_type": "stream"
    }
   ],
   "execution_count": 6
  },
  {
   "cell_type": "code",
   "source": "# plot original target variable classes\nplt.figure(figsize=(13,8))\ntraining_y = pd.DataFrame(Y_train)\nsns.set(font_scale = 1.2)\nsns.countplot(x = \"first_genre\", data=training_y,\norder = training_y['first_genre'].value_counts().index)\nplt.title(\"Number of First Genres (Training Set)\")\nplt.xlabel(\"First Genres\")\nplt.ylabel(\"Count\")\nplt.show()\n\n# plot original target variable classes\nplt.figure(figsize=(13,8))\ntest_y = pd.DataFrame(Y_test)\nsns.set(font_scale = 1.2)\nsns.countplot(x = \"first_genre\", data=test_y,\norder = test_y['first_genre'].value_counts().index)\nplt.title(\"Number of First Genres (Test Set)\")\nplt.xlabel(\"First Genres\")\nplt.ylabel(\"Count\")\nplt.show()\n",
   "metadata": {
    "cell_id": "2c61753b6f524c8c95e60bfef6de9484",
    "tags": [],
    "deepnote_to_be_reexecuted": false,
    "source_hash": "826e31b8",
    "execution_start": 1655876658103,
    "execution_millis": 689,
    "deepnote_cell_type": "code",
    "deepnote_cell_height": 1521.8333740234375,
    "deepnote_output_heights": [
     508,
     508
    ]
   },
   "outputs": [
    {
     "data": {
      "text/plain": "<Figure size 936x576 with 1 Axes>",
      "image/png": "[encoded data removed]"
     },
     "metadata": {
      "image/png": {
       "width": 792,
       "height": 506
      }
     },
     "output_type": "display_data"
    },
    {
     "data": {
      "text/plain": "<Figure size 936x576 with 1 Axes>",
      "image/png": "[encoded data removed]"
     },
     "metadata": {
      "image/png": {
       "width": 784,
       "height": 506
      }
     },
     "output_type": "display_data"
    }
   ],
   "execution_count": 7
  },
  {
   "cell_type": "markdown",
   "source": "# Step 3: Training the Machine Learning Model\n\n- Use TFIDF transformer for words to features\n- Model 1: Linear SVC",
   "metadata": {
    "cell_id": "719351576b3f461a92c9c68abd4b58e8",
    "tags": [],
    "deepnote_cell_type": "markdown",
    "deepnote_cell_height": 159.63333129882812
   }
  },
  {
   "cell_type": "markdown",
   "source": "## Use TFIDF transformer for words to features",
   "metadata": {
    "cell_id": "afc9492ed3794dedb845ef9951d1ece4",
    "tags": [],
    "deepnote_cell_type": "markdown",
    "deepnote_cell_height": 69.83332824707031
   }
  },
  {
   "cell_type": "code",
   "source": "tfidf = TfidfVectorizer(min_df = 10, stop_words=stopwords)\nX_train_tf = tfidf.fit_transform(X_train)",
   "metadata": {
    "cell_id": "b631c135e59747278bf4ec65c11567e4",
    "tags": [],
    "deepnote_to_be_reexecuted": false,
    "source_hash": "a258ef1f",
    "execution_start": 1655876658819,
    "execution_millis": 31,
    "deepnote_cell_type": "code",
    "deepnote_cell_height": 98.83332824707031,
    "deepnote_output_heights": [
     null,
     213
    ]
   },
   "outputs": [],
   "execution_count": 8
  },
  {
   "cell_type": "markdown",
   "source": "## Model 1: Linear SVC",
   "metadata": {
    "cell_id": "3ec7e9d3cd4a495982d7cc92f6d3f516",
    "tags": [],
    "deepnote_cell_type": "markdown",
    "deepnote_cell_height": 69.83332824707031
   }
  },
  {
   "cell_type": "code",
   "source": "model1 = LinearSVC(random_state=0, tol=1e-5)\nmodel1.fit(X_train_tf, Y_train)",
   "metadata": {
    "cell_id": "6215e29b84914bcebed6cd1c1b961ce1",
    "tags": [],
    "deepnote_to_be_reexecuted": false,
    "source_hash": "29cfe549",
    "execution_start": 1655876658855,
    "execution_millis": 49,
    "deepnote_cell_type": "code",
    "deepnote_cell_height": 135.8333282470703,
    "deepnote_output_heights": [
     21
    ]
   },
   "outputs": [
    {
     "output_type": "execute_result",
     "execution_count": 9,
     "data": {
      "text/plain": "LinearSVC(random_state=0, tol=1e-05)"
     },
     "metadata": {}
    }
   ],
   "execution_count": 9
  },
  {
   "cell_type": "markdown",
   "source": "# Step 4: Model Evaluation\n\n- Model 1 Evaluation\n- Baseline model evaluation\n- Using Cross-Validation to Estimate Accuracy",
   "metadata": {
    "cell_id": "7e52fed6fdc14a14b1625285df703734",
    "tags": [],
    "deepnote_cell_type": "markdown",
    "deepnote_cell_height": 185.03334045410156
   }
  },
  {
   "cell_type": "markdown",
   "source": "## Model 1 Evaluation",
   "metadata": {
    "cell_id": "de81bc97e24e42c98a471ddeed31b6e2",
    "tags": [],
    "deepnote_cell_type": "markdown",
    "deepnote_cell_height": 69.83332824707031
   }
  },
  {
   "cell_type": "code",
   "source": "# Model 1 evaluation\nX_test_tf = tfidf.transform(X_test)\nY_pred = model1.predict(X_test_tf)\nprint ('Accuracy Score - ', accuracy_score(Y_test, Y_pred))",
   "metadata": {
    "cell_id": "b582479ed790431c883c6b4a51dcc505",
    "tags": [],
    "deepnote_to_be_reexecuted": false,
    "source_hash": "9ff0652a",
    "execution_start": 1655876658909,
    "execution_millis": 27,
    "deepnote_cell_type": "code",
    "deepnote_cell_height": 165.8333282470703
   },
   "outputs": [
    {
     "name": "stdout",
     "text": "Accuracy Score -  0.5488215488215489\n",
     "output_type": "stream"
    }
   ],
   "execution_count": 10
  },
  {
   "cell_type": "markdown",
   "source": "## Baseline Model Evaluation",
   "metadata": {
    "cell_id": "ca4fef6252b94990b4c6843e88d58e2c",
    "tags": [],
    "deepnote_cell_type": "markdown",
    "deepnote_cell_height": 69.83332824707031
   }
  },
  {
   "cell_type": "code",
   "source": "clf = DummyClassifier(strategy='most_frequent')\nclf.fit(X_train, Y_train)\nY_pred_baseline = clf.predict(X_test)\nprint ('Accuracy Score - ', accuracy_score(Y_test, Y_pred_baseline))",
   "metadata": {
    "cell_id": "5c407f65e78a4e3ba99f940830faf7f5",
    "tags": [],
    "deepnote_to_be_reexecuted": false,
    "source_hash": "f55f02f3",
    "execution_start": 1655876658941,
    "execution_millis": 20,
    "deepnote_cell_type": "code",
    "deepnote_cell_height": 165.8333282470703
   },
   "outputs": [
    {
     "name": "stdout",
     "text": "Accuracy Score -  0.2895622895622896\n",
     "output_type": "stream"
    }
   ],
   "execution_count": 11
  },
  {
   "cell_type": "markdown",
   "source": "## Cross-validation to Estimate Accuracy",
   "metadata": {
    "cell_id": "f9c790fb30b1461b8e461fdd924dc733",
    "tags": [],
    "deepnote_cell_type": "markdown",
    "deepnote_cell_height": 69.83332824707031
   }
  },
  {
   "cell_type": "code",
   "source": "tfidf = TfidfVectorizer(min_df = 10, stop_words=stopwords)\ndf_tf = tfidf.fit_transform(df_balanced['cleaned_plot']).toarray()\n\n# Cross Validation with 5 folds\nscores = cross_val_score(estimator=model1, X=df_tf, y=df_balanced['first_genre'], cv=5)\nprint (\"Validation scores from each iteration of the cross validation \", scores)\nprint (\"Mean value across of validation scores \", scores.mean())\nprint (\"Standard deviation of validation scores \", scores.std())",
   "metadata": {
    "cell_id": "241290b0742749e2a1e76544f37ba743",
    "tags": [],
    "deepnote_to_be_reexecuted": false,
    "source_hash": "8bb7645",
    "execution_start": 1655876658967,
    "execution_millis": 373,
    "deepnote_cell_type": "code",
    "deepnote_cell_height": 276.83331298828125
   },
   "outputs": [
    {
     "name": "stdout",
     "text": "Validation scores from each iteration of the cross validation  [0.47138047 0.48148148 0.49158249 0.41077441 0.5016835 ]\nMean value across of validation scores  0.47138047138047134\nStandard deviation of validation scores  0.03194219858755938\n",
     "output_type": "stream"
    }
   ],
   "execution_count": 12
  },
  {
   "cell_type": "markdown",
   "source": "# Performing Hyperparameter Tuning with Grid Search",
   "metadata": {
    "cell_id": "4234cb985b7542ba9b997e3dd28831ea",
    "tags": [],
    "deepnote_cell_type": "markdown",
    "deepnote_cell_height": 133.8333282470703
   }
  },
  {
   "cell_type": "code",
   "source": "# Performing Hyperparameter Tuning with Grid Search",
   "metadata": {
    "cell_id": "e10f2a97cfea470aabbb13097d4b4d8d",
    "tags": [],
    "deepnote_to_be_reexecuted": false,
    "source_hash": "abee4d46",
    "execution_start": 1655876659347,
    "execution_millis": 11,
    "owner_user_id": "f003377f-535d-43ef-8b69-db2e2c66d27e",
    "deepnote_cell_type": "code",
    "deepnote_cell_height": 80.83332824707031
   },
   "outputs": [],
   "execution_count": 13
  },
  {
   "cell_type": "markdown",
   "source": "<a style='text-decoration:none;line-height:16px;display:flex;color:#5B5B62;padding:10px;justify-content:end;' href='https://deepnote.com?utm_source=created-in-deepnote-cell&projectId=53ef1faa-b7a9-4637-b54c-3b067e58670d' target=\"_blank\">\n<img alt='Created in deepnote.com' style='display:inline;max-height:16px;margin:0px;margin-right:7.5px;' src='data:image/svg+xml;base64,PD94bWwgdmVyc2lvbj0iMS4wIiBlbmNvZGluZz0iVVRGLTgiPz4KPHN2ZyB3aWR0aD0iODBweCIgaGVpZ2h0PSI4MHB4IiB2aWV3Qm94PSIwIDAgODAgODAiIHZlcnNpb249IjEuMSIgeG1sbnM9Imh0dHA6Ly93d3cudzMub3JnLzIwMDAvc3ZnIiB4bWxuczp4bGluaz0iaHR0cDovL3d3dy53My5vcmcvMTk5OS94bGluayI+CiAgICA8IS0tIEdlbmVyYXRvcjogU2tldGNoIDU0LjEgKDc2NDkwKSAtIGh0dHBzOi8vc2tldGNoYXBwLmNvbSAtLT4KICAgIDx0aXRsZT5Hcm91cCAzPC90aXRsZT4KICAgIDxkZXNjPkNyZWF0ZWQgd2l0aCBTa2V0Y2guPC9kZXNjPgogICAgPGcgaWQ9IkxhbmRpbmciIHN0cm9rZT0ibm9uZSIgc3Ryb2tlLXdpZHRoPSIxIiBmaWxsPSJub25lIiBmaWxsLXJ1bGU9ImV2ZW5vZGQiPgogICAgICAgIDxnIGlkPSJBcnRib2FyZCIgdHJhbnNmb3JtPSJ0cmFuc2xhdGUoLTEyMzUuMDAwMDAwLCAtNzkuMDAwMDAwKSI+CiAgICAgICAgICAgIDxnIGlkPSJHcm91cC0zIiB0cmFuc2Zvcm09InRyYW5zbGF0ZSgxMjM1LjAwMDAwMCwgNzkuMDAwMDAwKSI+CiAgICAgICAgICAgICAgICA8cG9seWdvbiBpZD0iUGF0aC0yMCIgZmlsbD0iIzAyNjVCNCIgcG9pbnRzPSIyLjM3NjIzNzYyIDgwIDM4LjA0NzY2NjcgODAgNTcuODIxNzgyMiA3My44MDU3NTkyIDU3LjgyMTc4MjIgMzIuNzU5MjczOSAzOS4xNDAyMjc4IDMxLjY4MzE2ODMiPjwvcG9seWdvbj4KICAgICAgICAgICAgICAgIDxwYXRoIGQ9Ik0zNS4wMDc3MTgsODAgQzQyLjkwNjIwMDcsNzYuNDU0OTM1OCA0Ny41NjQ5MTY3LDcxLjU0MjI2NzEgNDguOTgzODY2LDY1LjI2MTk5MzkgQzUxLjExMjI4OTksNTUuODQxNTg0MiA0MS42NzcxNzk1LDQ5LjIxMjIyODQgMjUuNjIzOTg0Niw0OS4yMTIyMjg0IEMyNS40ODQ5Mjg5LDQ5LjEyNjg0NDggMjkuODI2MTI5Niw0My4yODM4MjQ4IDM4LjY0NzU4NjksMzEuNjgzMTY4MyBMNzIuODcxMjg3MSwzMi41NTQ0MjUgTDY1LjI4MDk3Myw2Ny42NzYzNDIxIEw1MS4xMTIyODk5LDc3LjM3NjE0NCBMMzUuMDA3NzE4LDgwIFoiIGlkPSJQYXRoLTIyIiBmaWxsPSIjMDAyODY4Ij48L3BhdGg+CiAgICAgICAgICAgICAgICA8cGF0aCBkPSJNMCwzNy43MzA0NDA1IEwyNy4xMTQ1MzcsMC4yNTcxMTE0MzYgQzYyLjM3MTUxMjMsLTEuOTkwNzE3MDEgODAsMTAuNTAwMzkyNyA4MCwzNy43MzA0NDA1IEM4MCw2NC45NjA0ODgyIDY0Ljc3NjUwMzgsNzkuMDUwMzQxNCAzNC4zMjk1MTEzLDgwIEM0Ny4wNTUzNDg5LDc3LjU2NzA4MDggNTMuNDE4MjY3Nyw3MC4zMTM2MTAzIDUzLjQxODI2NzcsNTguMjM5NTg4NSBDNTMuNDE4MjY3Nyw0MC4xMjg1NTU3IDM2LjMwMzk1NDQsMzcuNzMwNDQwNSAyNS4yMjc0MTcsMzcuNzMwNDQwNSBDMTcuODQzMDU4NiwzNy43MzA0NDA1IDkuNDMzOTE5NjYsMzcuNzMwNDQwNSAwLDM3LjczMDQ0MDUgWiIgaWQ9IlBhdGgtMTkiIGZpbGw9IiMzNzkzRUYiPjwvcGF0aD4KICAgICAgICAgICAgPC9nPgogICAgICAgIDwvZz4KICAgIDwvZz4KPC9zdmc+' > </img>\nCreated in <span style='font-weight:600;margin-left:4px;'>Deepnote</span></a>",
   "metadata": {
    "tags": [],
    "created_in_deepnote_cell": true,
    "deepnote_cell_type": "markdown"
   }
  }
 ],
 "nbformat": 4,
 "nbformat_minor": 2,
 "metadata": {
  "orig_nbformat": 2,
  "deepnote": {},
  "deepnote_notebook_id": "92b45978-cde8-4bbf-918c-ae70e6aeb6f4",
  "deepnote_execution_queue": []
 }
}