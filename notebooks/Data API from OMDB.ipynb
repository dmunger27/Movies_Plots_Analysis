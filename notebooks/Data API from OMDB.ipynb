{
 "cells": [
  {
   "cell_type": "markdown",
   "source": "# Packages",
   "metadata": {
    "cell_id": "a9a612f9d8ad49ca8705658c5fd957b9",
    "tags": [],
    "deepnote_cell_type": "markdown",
    "deepnote_cell_height": 82
   }
  },
  {
   "cell_type": "code",
   "metadata": {
    "tags": [],
    "cell_id": "0009e8fd-bf63-47a7-867b-95029c6d06dd",
    "deepnote_to_be_reexecuted": false,
    "source_hash": "3bc6f746",
    "execution_start": 1654753109114,
    "execution_millis": 164,
    "deepnote_cell_type": "code",
    "deepnote_cell_height": 207
   },
   "source": "import pandas as pd\nimport numpy as np\nfrom bs4 import BeautifulSoup\nimport requests\nfrom requests import TooManyRedirects\nimport re\nimport omdb\nimport time",
   "execution_count": 1,
   "outputs": []
  },
  {
   "cell_type": "markdown",
   "source": "# API Set-up",
   "metadata": {
    "cell_id": "b4296f4b51f845df8910a2317a7bbd38",
    "tags": [],
    "deepnote_cell_type": "markdown",
    "deepnote_cell_height": 82
   }
  },
  {
   "cell_type": "code",
   "metadata": {
    "cell_id": "23e203b423b14b55b1fb5dbf04030249",
    "tags": [],
    "deepnote_to_be_reexecuted": false,
    "source_hash": "2fba579d",
    "execution_start": 1654753109323,
    "execution_millis": 0,
    "deepnote_cell_type": "code",
    "deepnote_cell_height": 153
   },
   "source": "api_key = \"2857b99a\" # Jimmy's key - limit 1000 calls a day\nomdb.set_default('apikey', api_key)\n\n# include tomatoes data by default\n#omdb.set_default('tomatoes', True)",
   "execution_count": 2,
   "outputs": []
  },
  {
   "cell_type": "markdown",
   "source": "# Pulling Data from API",
   "metadata": {
    "cell_id": "dfed668e95db440083a3b48e851007e9",
    "tags": [],
    "deepnote_cell_type": "markdown",
    "deepnote_cell_height": 82
   }
  },
  {
   "cell_type": "code",
   "metadata": {
    "cell_id": "086c62303b97405c86bb22f203779207",
    "tags": [],
    "deepnote_to_be_reexecuted": false,
    "source_hash": "21b32458",
    "execution_start": 1654753109324,
    "execution_millis": 847,
    "deepnote_cell_type": "code",
    "deepnote_cell_height": 366
   },
   "source": "# set timeout of 5 seconds for this request\nlogan_df = pd.DataFrame(omdb.get(title='Logan', year=2017, fullplot=True, tomatoes=True, timeout=5))\nlogan_df",
   "execution_count": 3,
   "outputs": [
    {
     "output_type": "execute_result",
     "execution_count": 3,
     "data": {
      "application/vnd.deepnote.dataframe.v3+json": {
       "column_count": 36,
       "row_count": 3,
       "columns": [
        {
         "name": "title",
         "dtype": "object",
         "stats": {
          "unique_count": 1,
          "nan_count": 0,
          "categories": [
           {
            "name": "Logan",
            "count": 3
           }
          ]
         }
        },
        {
         "name": "year",
         "dtype": "object",
         "stats": {
          "unique_count": 1,
          "nan_count": 0,
          "categories": [
           {
            "name": "2017",
            "count": 3
           }
          ]
         }
        },
        {
         "name": "rated",
         "dtype": "object",
         "stats": {
          "unique_count": 1,
          "nan_count": 0,
          "categories": [
           {
            "name": "R",
            "count": 3
           }
          ]
         }
        },
        {
         "name": "released",
         "dtype": "object",
         "stats": {
          "unique_count": 1,
          "nan_count": 0,
          "categories": [
           {
            "name": "03 Mar 2017",
            "count": 3
           }
          ]
         }
        },
        {
         "name": "runtime",
         "dtype": "object",
         "stats": {
          "unique_count": 1,
          "nan_count": 0,
          "categories": [
           {
            "name": "137 min",
            "count": 3
           }
          ]
         }
        },
        {
         "name": "genre",
         "dtype": "object",
         "stats": {
          "unique_count": 1,
          "nan_count": 0,
          "categories": [
           {
            "name": "Action, Drama, Sci-Fi",
            "count": 3
           }
          ]
         }
        },
        {
         "name": "director",
         "dtype": "object",
         "stats": {
          "unique_count": 1,
          "nan_count": 0,
          "categories": [
           {
            "name": "James Mangold",
            "count": 3
           }
          ]
         }
        },
        {
         "name": "writer",
         "dtype": "object",
         "stats": {
          "unique_count": 1,
          "nan_count": 0,
          "categories": [
           {
            "name": "James Mangold, Scott Frank, Michael Green",
            "count": 3
           }
          ]
         }
        },
        {
         "name": "actors",
         "dtype": "object",
         "stats": {
          "unique_count": 1,
          "nan_count": 0,
          "categories": [
           {
            "name": "Hugh Jackman, Patrick Stewart, Dafne Keen",
            "count": 3
           }
          ]
         }
        },
        {
         "name": "plot",
         "dtype": "object",
         "stats": {
          "unique_count": 1,
          "nan_count": 0,
          "categories": [
           {
            "name": "In 2029 the mutant population has shrunken significantly due to genetically modified plants designed to reduce mutant powers and the X-Men have disbanded. Logan, whose power to self-heal is dwindling, has surrendered himself to alcohol and now earns a living as a chauffeur. He takes care of the ailing old Professor X whom he keeps hidden away. One day, a female stranger asks Logan to drive a girl named Laura to the Canadian border. At first he refuses, but the Professor has been waiting for a long time for her to appear. Laura possesses an extraordinary fighting prowess and is in many ways like Wolverine. She is pursued by sinister figures working for a powerful corporation; this is because they made her, with Logan's DNA. A decrepit Logan is forced to ask himself if he can or even wants to put his remaining powers to good use. It would appear that in the near-future, the times in which they were able put the world to rights with razor sharp claws and telepathic powers are now over.",
            "count": 3
           }
          ]
         }
        },
        {
         "name": "language",
         "dtype": "object",
         "stats": {
          "unique_count": 1,
          "nan_count": 0,
          "categories": [
           {
            "name": "English, Spanish",
            "count": 3
           }
          ]
         }
        },
        {
         "name": "country",
         "dtype": "object",
         "stats": {
          "unique_count": 1,
          "nan_count": 0,
          "categories": [
           {
            "name": "United States",
            "count": 3
           }
          ]
         }
        },
        {
         "name": "awards",
         "dtype": "object",
         "stats": {
          "unique_count": 1,
          "nan_count": 0,
          "categories": [
           {
            "name": "Nominated for 1 Oscar. 28 wins & 80 nominations total",
            "count": 3
           }
          ]
         }
        },
        {
         "name": "poster",
         "dtype": "object",
         "stats": {
          "unique_count": 1,
          "nan_count": 0,
          "categories": [
           {
            "name": "https://m.media-amazon.com/images/M/MV5BYzc5MTU4N2EtYTkyMi00NjdhLTg3NWEtMTY4OTEyMzJhZTAzXkEyXkFqcGdeQXVyNjc1NTYyMjg@._V1_SX300.jpg",
            "count": 3
           }
          ]
         }
        },
        {
         "name": "ratings",
         "dtype": "object",
         "stats": {
          "unique_count": 3,
          "nan_count": 0,
          "categories": [
           {
            "name": "{'source': 'Internet Movie Database', 'value': '8.1/10'}",
            "count": 1
           },
           {
            "name": "{'source': 'Rotten Tomatoes', 'value': '94%'}",
            "count": 1
           },
           {
            "name": "{'source': 'Metacritic', 'value': '77/100'}",
            "count": 1
           }
          ]
         }
        },
        {
         "name": "metascore",
         "dtype": "object",
         "stats": {
          "unique_count": 1,
          "nan_count": 0,
          "categories": [
           {
            "name": "77",
            "count": 3
           }
          ]
         }
        },
        {
         "name": "imdb_rating",
         "dtype": "object",
         "stats": {
          "unique_count": 1,
          "nan_count": 0,
          "categories": [
           {
            "name": "8.1",
            "count": 3
           }
          ]
         }
        },
        {
         "name": "imdb_votes",
         "dtype": "object",
         "stats": {
          "unique_count": 1,
          "nan_count": 0,
          "categories": [
           {
            "name": "731,612",
            "count": 3
           }
          ]
         }
        },
        {
         "name": "imdb_id",
         "dtype": "object",
         "stats": {
          "unique_count": 1,
          "nan_count": 0,
          "categories": [
           {
            "name": "tt3315342",
            "count": 3
           }
          ]
         }
        },
        {
         "name": "type",
         "dtype": "object",
         "stats": {
          "unique_count": 1,
          "nan_count": 0,
          "categories": [
           {
            "name": "movie",
            "count": 3
           }
          ]
         }
        },
        {
         "name": "tomato_meter",
         "dtype": "object",
         "stats": {
          "unique_count": 1,
          "nan_count": 0,
          "categories": [
           {
            "name": "N/A",
            "count": 3
           }
          ]
         }
        },
        {
         "name": "tomato_image",
         "dtype": "object",
         "stats": {
          "unique_count": 1,
          "nan_count": 0,
          "categories": [
           {
            "name": "N/A",
            "count": 3
           }
          ]
         }
        },
        {
         "name": "tomato_rating",
         "dtype": "object",
         "stats": {
          "unique_count": 1,
          "nan_count": 0,
          "categories": [
           {
            "name": "N/A",
            "count": 3
           }
          ]
         }
        },
        {
         "name": "tomato_reviews",
         "dtype": "object",
         "stats": {
          "unique_count": 1,
          "nan_count": 0,
          "categories": [
           {
            "name": "N/A",
            "count": 3
           }
          ]
         }
        },
        {
         "name": "tomato_fresh",
         "dtype": "object",
         "stats": {
          "unique_count": 1,
          "nan_count": 0,
          "categories": [
           {
            "name": "N/A",
            "count": 3
           }
          ]
         }
        },
        {
         "name": "tomato_rotten",
         "dtype": "object",
         "stats": {
          "unique_count": 1,
          "nan_count": 0,
          "categories": [
           {
            "name": "N/A",
            "count": 3
           }
          ]
         }
        },
        {
         "name": "tomato_consensus",
         "dtype": "object",
         "stats": {
          "unique_count": 1,
          "nan_count": 0,
          "categories": [
           {
            "name": "N/A",
            "count": 3
           }
          ]
         }
        },
        {
         "name": "tomato_user_meter",
         "dtype": "object",
         "stats": {
          "unique_count": 1,
          "nan_count": 0,
          "categories": [
           {
            "name": "N/A",
            "count": 3
           }
          ]
         }
        },
        {
         "name": "tomato_user_rating",
         "dtype": "object",
         "stats": {
          "unique_count": 1,
          "nan_count": 0,
          "categories": [
           {
            "name": "N/A",
            "count": 3
           }
          ]
         }
        },
        {
         "name": "tomato_user_reviews",
         "dtype": "object",
         "stats": {
          "unique_count": 1,
          "nan_count": 0,
          "categories": [
           {
            "name": "N/A",
            "count": 3
           }
          ]
         }
        },
        {
         "name": "tomato_url",
         "dtype": "object",
         "stats": {
          "unique_count": 1,
          "nan_count": 0,
          "categories": [
           {
            "name": "https://www.rottentomatoes.com/m/logan_2017",
            "count": 3
           }
          ]
         }
        },
        {
         "name": "dvd",
         "dtype": "object",
         "stats": {
          "unique_count": 1,
          "nan_count": 0,
          "categories": [
           {
            "name": "20 Jun 2017",
            "count": 3
           }
          ]
         }
        },
        {
         "name": "box_office",
         "dtype": "object",
         "stats": {
          "unique_count": 1,
          "nan_count": 0,
          "categories": [
           {
            "name": "$226,277,068",
            "count": 3
           }
          ]
         }
        },
        {
         "name": "production",
         "dtype": "object",
         "stats": {
          "unique_count": 1,
          "nan_count": 0,
          "categories": [
           {
            "name": "N/A",
            "count": 3
           }
          ]
         }
        },
        {
         "name": "website",
         "dtype": "object",
         "stats": {
          "unique_count": 1,
          "nan_count": 0,
          "categories": [
           {
            "name": "N/A",
            "count": 3
           }
          ]
         }
        },
        {
         "name": "response",
         "dtype": "object",
         "stats": {
          "unique_count": 1,
          "nan_count": 0,
          "categories": [
           {
            "name": "True",
            "count": 3
           }
          ]
         }
        },
        {
         "name": "_deepnote_index_column",
         "dtype": "int64"
        }
       ],
       "rows": [
        {
         "title": "Logan",
         "year": "2017",
         "rated": "R",
         "released": "03 Mar 2017",
         "runtime": "137 min",
         "genre": "Action, Drama, Sci-Fi",
         "director": "James Mangold",
         "writer": "James Mangold, Scott Frank, Michael Green",
         "actors": "Hugh Jackman, Patrick Stewart, Dafne Keen",
         "plot": "In 2029 the mutant population has shrunken significantly due to genetically modified plants designed to reduce mutant powers and the X-Men have disbanded. Logan, whose power to self-heal is dwindling, has surrendered himself to alcohol and now earns a living as a chauffeur. He takes care of the ailing old Professor X whom he keeps hidden away. One day, a female stranger asks Logan to drive a girl named Laura to the Canadian border. At first he refuses, but the Professor has been waiting for a long time for her to appear. Laura possesses an extraordinary fighting prowess and is in many ways like Wolverine. She is pursued by sinister figures working for a powerful corporation; this is because they made her, with Logan's DNA. A decrepit Logan is forced to ask himself if he can or even wants to put his remaining powers to good use. It would appear that in the near-future, the times in which they were able put the world to rights with razor sharp claws and telepathic powers are now over.",
         "language": "English, Spanish",
         "country": "United States",
         "awards": "Nominated for 1 Oscar. 28 wins & 80 nominations total",
         "poster": "https://m.media-amazon.com/images/M/MV5BYzc5MTU4N2EtYTkyMi00NjdhLTg3NWEtMTY4OTEyMzJhZTAzXkEyXkFqcGdeQXVyNjc1NTYyMjg@._V1_SX300.jpg",
         "ratings": "{'source': 'Internet Movie Database', 'value': '8.1/10'}",
         "metascore": "77",
         "imdb_rating": "8.1",
         "imdb_votes": "731,612",
         "imdb_id": "tt3315342",
         "type": "movie",
         "tomato_meter": "N/A",
         "tomato_image": "N/A",
         "tomato_rating": "N/A",
         "tomato_reviews": "N/A",
         "tomato_fresh": "N/A",
         "tomato_rotten": "N/A",
         "tomato_consensus": "N/A",
         "tomato_user_meter": "N/A",
         "tomato_user_rating": "N/A",
         "tomato_user_reviews": "N/A",
         "tomato_url": "https://www.rottentomatoes.com/m/logan_2017",
         "dvd": "20 Jun 2017",
         "box_office": "$226,277,068",
         "production": "N/A",
         "website": "N/A",
         "response": "True",
         "_deepnote_index_column": 0
        },
        {
         "title": "Logan",
         "year": "2017",
         "rated": "R",
         "released": "03 Mar 2017",
         "runtime": "137 min",
         "genre": "Action, Drama, Sci-Fi",
         "director": "James Mangold",
         "writer": "James Mangold, Scott Frank, Michael Green",
         "actors": "Hugh Jackman, Patrick Stewart, Dafne Keen",
         "plot": "In 2029 the mutant population has shrunken significantly due to genetically modified plants designed to reduce mutant powers and the X-Men have disbanded. Logan, whose power to self-heal is dwindling, has surrendered himself to alcohol and now earns a living as a chauffeur. He takes care of the ailing old Professor X whom he keeps hidden away. One day, a female stranger asks Logan to drive a girl named Laura to the Canadian border. At first he refuses, but the Professor has been waiting for a long time for her to appear. Laura possesses an extraordinary fighting prowess and is in many ways like Wolverine. She is pursued by sinister figures working for a powerful corporation; this is because they made her, with Logan's DNA. A decrepit Logan is forced to ask himself if he can or even wants to put his remaining powers to good use. It would appear that in the near-future, the times in which they were able put the world to rights with razor sharp claws and telepathic powers are now over.",
         "language": "English, Spanish",
         "country": "United States",
         "awards": "Nominated for 1 Oscar. 28 wins & 80 nominations total",
         "poster": "https://m.media-amazon.com/images/M/MV5BYzc5MTU4N2EtYTkyMi00NjdhLTg3NWEtMTY4OTEyMzJhZTAzXkEyXkFqcGdeQXVyNjc1NTYyMjg@._V1_SX300.jpg",
         "ratings": "{'source': 'Rotten Tomatoes', 'value': '94%'}",
         "metascore": "77",
         "imdb_rating": "8.1",
         "imdb_votes": "731,612",
         "imdb_id": "tt3315342",
         "type": "movie",
         "tomato_meter": "N/A",
         "tomato_image": "N/A",
         "tomato_rating": "N/A",
         "tomato_reviews": "N/A",
         "tomato_fresh": "N/A",
         "tomato_rotten": "N/A",
         "tomato_consensus": "N/A",
         "tomato_user_meter": "N/A",
         "tomato_user_rating": "N/A",
         "tomato_user_reviews": "N/A",
         "tomato_url": "https://www.rottentomatoes.com/m/logan_2017",
         "dvd": "20 Jun 2017",
         "box_office": "$226,277,068",
         "production": "N/A",
         "website": "N/A",
         "response": "True",
         "_deepnote_index_column": 1
        },
        {
         "title": "Logan",
         "year": "2017",
         "rated": "R",
         "released": "03 Mar 2017",
         "runtime": "137 min",
         "genre": "Action, Drama, Sci-Fi",
         "director": "James Mangold",
         "writer": "James Mangold, Scott Frank, Michael Green",
         "actors": "Hugh Jackman, Patrick Stewart, Dafne Keen",
         "plot": "In 2029 the mutant population has shrunken significantly due to genetically modified plants designed to reduce mutant powers and the X-Men have disbanded. Logan, whose power to self-heal is dwindling, has surrendered himself to alcohol and now earns a living as a chauffeur. He takes care of the ailing old Professor X whom he keeps hidden away. One day, a female stranger asks Logan to drive a girl named Laura to the Canadian border. At first he refuses, but the Professor has been waiting for a long time for her to appear. Laura possesses an extraordinary fighting prowess and is in many ways like Wolverine. She is pursued by sinister figures working for a powerful corporation; this is because they made her, with Logan's DNA. A decrepit Logan is forced to ask himself if he can or even wants to put his remaining powers to good use. It would appear that in the near-future, the times in which they were able put the world to rights with razor sharp claws and telepathic powers are now over.",
         "language": "English, Spanish",
         "country": "United States",
         "awards": "Nominated for 1 Oscar. 28 wins & 80 nominations total",
         "poster": "https://m.media-amazon.com/images/M/MV5BYzc5MTU4N2EtYTkyMi00NjdhLTg3NWEtMTY4OTEyMzJhZTAzXkEyXkFqcGdeQXVyNjc1NTYyMjg@._V1_SX300.jpg",
         "ratings": "{'source': 'Metacritic', 'value': '77/100'}",
         "metascore": "77",
         "imdb_rating": "8.1",
         "imdb_votes": "731,612",
         "imdb_id": "tt3315342",
         "type": "movie",
         "tomato_meter": "N/A",
         "tomato_image": "N/A",
         "tomato_rating": "N/A",
         "tomato_reviews": "N/A",
         "tomato_fresh": "N/A",
         "tomato_rotten": "N/A",
         "tomato_consensus": "N/A",
         "tomato_user_meter": "N/A",
         "tomato_user_rating": "N/A",
         "tomato_user_reviews": "N/A",
         "tomato_url": "https://www.rottentomatoes.com/m/logan_2017",
         "dvd": "20 Jun 2017",
         "box_office": "$226,277,068",
         "production": "N/A",
         "website": "N/A",
         "response": "True",
         "_deepnote_index_column": 2
        }
       ]
      },
      "text/plain": "   title  year rated     released  runtime                  genre  \\\n0  Logan  2017     R  03 Mar 2017  137 min  Action, Drama, Sci-Fi   \n1  Logan  2017     R  03 Mar 2017  137 min  Action, Drama, Sci-Fi   \n2  Logan  2017     R  03 Mar 2017  137 min  Action, Drama, Sci-Fi   \n\n        director                                     writer  \\\n0  James Mangold  James Mangold, Scott Frank, Michael Green   \n1  James Mangold  James Mangold, Scott Frank, Michael Green   \n2  James Mangold  James Mangold, Scott Frank, Michael Green   \n\n                                      actors  \\\n0  Hugh Jackman, Patrick Stewart, Dafne Keen   \n1  Hugh Jackman, Patrick Stewart, Dafne Keen   \n2  Hugh Jackman, Patrick Stewart, Dafne Keen   \n\n                                                plot  ... tomato_consensus  \\\n0  In 2029 the mutant population has shrunken sig...  ...              N/A   \n1  In 2029 the mutant population has shrunken sig...  ...              N/A   \n2  In 2029 the mutant population has shrunken sig...  ...              N/A   \n\n  tomato_user_meter tomato_user_rating tomato_user_reviews  \\\n0               N/A                N/A                 N/A   \n1               N/A                N/A                 N/A   \n2               N/A                N/A                 N/A   \n\n                                    tomato_url          dvd    box_office  \\\n0  https://www.rottentomatoes.com/m/logan_2017  20 Jun 2017  $226,277,068   \n1  https://www.rottentomatoes.com/m/logan_2017  20 Jun 2017  $226,277,068   \n2  https://www.rottentomatoes.com/m/logan_2017  20 Jun 2017  $226,277,068   \n\n  production website response  \n0        N/A     N/A     True  \n1        N/A     N/A     True  \n2        N/A     N/A     True  \n\n[3 rows x 36 columns]",
      "text/html": "<div>\n<style scoped>\n    .dataframe tbody tr th:only-of-type {\n        vertical-align: middle;\n    }\n\n    .dataframe tbody tr th {\n        vertical-align: top;\n    }\n\n    .dataframe thead th {\n        text-align: right;\n    }\n</style>\n<table border=\"1\" class=\"dataframe\">\n  <thead>\n    <tr style=\"text-align: right;\">\n      <th></th>\n      <th>title</th>\n      <th>year</th>\n      <th>rated</th>\n      <th>released</th>\n      <th>runtime</th>\n      <th>genre</th>\n      <th>director</th>\n      <th>writer</th>\n      <th>actors</th>\n      <th>plot</th>\n      <th>...</th>\n      <th>tomato_consensus</th>\n      <th>tomato_user_meter</th>\n      <th>tomato_user_rating</th>\n      <th>tomato_user_reviews</th>\n      <th>tomato_url</th>\n      <th>dvd</th>\n      <th>box_office</th>\n      <th>production</th>\n      <th>website</th>\n      <th>response</th>\n    </tr>\n  </thead>\n  <tbody>\n    <tr>\n      <th>0</th>\n      <td>Logan</td>\n      <td>2017</td>\n      <td>R</td>\n      <td>03 Mar 2017</td>\n      <td>137 min</td>\n      <td>Action, Drama, Sci-Fi</td>\n      <td>James Mangold</td>\n      <td>James Mangold, Scott Frank, Michael Green</td>\n      <td>Hugh Jackman, Patrick Stewart, Dafne Keen</td>\n      <td>In 2029 the mutant population has shrunken sig...</td>\n      <td>...</td>\n      <td>N/A</td>\n      <td>N/A</td>\n      <td>N/A</td>\n      <td>N/A</td>\n      <td>https://www.rottentomatoes.com/m/logan_2017</td>\n      <td>20 Jun 2017</td>\n      <td>$226,277,068</td>\n      <td>N/A</td>\n      <td>N/A</td>\n      <td>True</td>\n    </tr>\n    <tr>\n      <th>1</th>\n      <td>Logan</td>\n      <td>2017</td>\n      <td>R</td>\n      <td>03 Mar 2017</td>\n      <td>137 min</td>\n      <td>Action, Drama, Sci-Fi</td>\n      <td>James Mangold</td>\n      <td>James Mangold, Scott Frank, Michael Green</td>\n      <td>Hugh Jackman, Patrick Stewart, Dafne Keen</td>\n      <td>In 2029 the mutant population has shrunken sig...</td>\n      <td>...</td>\n      <td>N/A</td>\n      <td>N/A</td>\n      <td>N/A</td>\n      <td>N/A</td>\n      <td>https://www.rottentomatoes.com/m/logan_2017</td>\n      <td>20 Jun 2017</td>\n      <td>$226,277,068</td>\n      <td>N/A</td>\n      <td>N/A</td>\n      <td>True</td>\n    </tr>\n    <tr>\n      <th>2</th>\n      <td>Logan</td>\n      <td>2017</td>\n      <td>R</td>\n      <td>03 Mar 2017</td>\n      <td>137 min</td>\n      <td>Action, Drama, Sci-Fi</td>\n      <td>James Mangold</td>\n      <td>James Mangold, Scott Frank, Michael Green</td>\n      <td>Hugh Jackman, Patrick Stewart, Dafne Keen</td>\n      <td>In 2029 the mutant population has shrunken sig...</td>\n      <td>...</td>\n      <td>N/A</td>\n      <td>N/A</td>\n      <td>N/A</td>\n      <td>N/A</td>\n      <td>https://www.rottentomatoes.com/m/logan_2017</td>\n      <td>20 Jun 2017</td>\n      <td>$226,277,068</td>\n      <td>N/A</td>\n      <td>N/A</td>\n      <td>True</td>\n    </tr>\n  </tbody>\n</table>\n<p>3 rows × 36 columns</p>\n</div>"
     },
     "metadata": {}
    }
   ]
  },
  {
   "cell_type": "code",
   "metadata": {
    "cell_id": "62339f729f14452f82a63b927052e692",
    "tags": [],
    "deepnote_to_be_reexecuted": false,
    "source_hash": "3bcb193",
    "execution_start": 1654753109525,
    "execution_millis": 657,
    "deepnote_cell_type": "code",
    "deepnote_cell_height": 253,
    "deepnote_output_heights": [
     156
    ]
   },
   "source": "logan_df.columns",
   "execution_count": 4,
   "outputs": [
    {
     "output_type": "execute_result",
     "execution_count": 4,
     "data": {
      "text/plain": "Index(['title', 'year', 'rated', 'released', 'runtime', 'genre', 'director',\n       'writer', 'actors', 'plot', 'language', 'country', 'awards', 'poster',\n       'ratings', 'metascore', 'imdb_rating', 'imdb_votes', 'imdb_id', 'type',\n       'tomato_meter', 'tomato_image', 'tomato_rating', 'tomato_reviews',\n       'tomato_fresh', 'tomato_rotten', 'tomato_consensus',\n       'tomato_user_meter', 'tomato_user_rating', 'tomato_user_reviews',\n       'tomato_url', 'dvd', 'box_office', 'production', 'website', 'response'],\n      dtype='object')"
     },
     "metadata": {}
    }
   ]
  },
  {
   "cell_type": "code",
   "metadata": {
    "cell_id": "6ef80512a601420b9c80b066d52df06f",
    "tags": [],
    "deepnote_to_be_reexecuted": false,
    "source_hash": "14b053e7",
    "execution_start": 1654753109580,
    "execution_millis": 0,
    "deepnote_cell_type": "code",
    "deepnote_cell_height": 176,
    "deepnote_output_heights": [
     79
    ]
   },
   "source": "logan_df['tomato_user_reviews']",
   "execution_count": 5,
   "outputs": [
    {
     "output_type": "execute_result",
     "execution_count": 5,
     "data": {
      "text/plain": "0    N/A\n1    N/A\n2    N/A\nName: tomato_user_reviews, dtype: object"
     },
     "metadata": {}
    }
   ]
  },
  {
   "cell_type": "markdown",
   "source": "# Scraping the Data from Rotten Tomatoes",
   "metadata": {
    "cell_id": "c37be663ca144da7bd6fb5c8ec0c5cd9",
    "tags": [],
    "deepnote_cell_type": "markdown",
    "deepnote_cell_height": 82
   }
  },
  {
   "cell_type": "code",
   "metadata": {
    "cell_id": "b57072eeed4f45228a06aa768fc23c06",
    "tags": [],
    "deepnote_to_be_reexecuted": false,
    "source_hash": "ea7d7801",
    "execution_start": 1654753109581,
    "execution_millis": 613,
    "deepnote_cell_type": "code",
    "deepnote_cell_height": 189
   },
   "source": "def make_soup(url):\n    try:\n        r = requests.get(url)\n        soup = BeautifulSoup(r.content, 'html.parser')\n    except TooManyRedirects:\n        soup = ''\n    return soup",
   "execution_count": 6,
   "outputs": []
  },
  {
   "cell_type": "code",
   "metadata": {
    "cell_id": "4a2a4717b4b64c3a948ac348901fd769",
    "tags": [],
    "deepnote_to_be_reexecuted": false,
    "source_hash": "5d1dc222",
    "execution_start": 1654753109582,
    "execution_millis": 634,
    "deepnote_cell_type": "code",
    "deepnote_cell_height": 326,
    "deepnote_output_heights": [
     211
    ]
   },
   "source": "soup = make_soup(\"https://www.rottentomatoes.com/m/logan_2017/reviews?type=user\")\nre.findall(r'\\\"review-text\\\">([^<]*)<\\/p>', str(soup.find(class_ =\"audience-reviews\")))",
   "execution_count": 7,
   "outputs": [
    {
     "output_type": "execute_result",
     "execution_count": 7,
     "data": {
      "text/plain": "['The Wolverine we should of had this whole time. I loved the fact that we were able to get an R rated Wolverine movie. The storyline was awesome and we had a good enclosure to the end of an era. \\n\\nThank You!!!',\n 'Warning: Spoilers\\n\"Logan\" is directed by James Mangold and stars Hugh Jackman for one final go around as Wolverine. With an R Rating secured, something the previous two Wolverine films should have had, \"Logan\" was bound to be fantastic. It wasn\\'t fantastic. It was phenomenal.\\n\\nIf you are going into \"Logan\" expecting every scene to just be Wolverine tearing people to shreds you\\'ll be thoroughly disappointed. This is definitely not an action film. There are action sequences in the film, but they are not the main focus of the movie like the previous 2 Wolverine movies tried to make them be. \"Logan\" is a grounded film, a film that really takes its time to tell its story and to develop its characters. It\\'s a character-driven film, and it probably has the most characterization in an X-Men film to date. We get enough of Wolverine\\'s backstory within the first few minutes to really become attached to him (if we already weren\\'t). We learn more about Professor X and what he has been doing, and then there\\'s this little girl, who probably should be annoying, but luckily isn\\'t and that was a sigh of relief. This girl, Laura, is the star of the show. It is really \"her\" movie. All of the sequences with Laura were riveting. There was that sense of mystery to her character that you wouldn\\'t really expect from a film like this. You don\\'t ever really know what her next move is going to be. Her motivation to find a safe haven is so well felt in this film that it just brings you a sigh of relief that there is still a sense of good out there in the world of this film where everything seems dark, bleak, and hopeless.\\n\\nHugh Jackman\\'s performance. Yeah the dude gave it his all. This is by far Hugh Jackman\\'s best performance as Wolverine. We\\'ve never seen Wolverine this vulnerable. He\\'s old, he\\'s broken down, he\\'s beaten. He can\\'t heal like he used to. The conviction from Hugh Jackman in this movie was just spot on and really captured the ways Wolverine felt at certain moments. It added layers to this film. When Wolverine gets into a fight, Hugh Jackman is so good in these scenes it\\'s like he got into a fight with the filmmakers on set.\\n\\nThis film does not hold back from a violence standpoint. From the get go, you know what type of movie you are in for. It is brutally violent, by far the most violent X-Men film w have gotten. Wolverine hacks, claws, and slashes his way through skirmishes with blood, guts, and gore flying. If this is what you had always wanted from a Wolverine movie and haven\\'t gotten it up to this point, well this movie gives you all of that.\\n\\nFrom a violence standpoint, the violence is there when the film calls for it. It is not violent for the sake of being violent. This is a film that puts its characters and story first before anything else, with violence being a secondary element to help propel the story along and to create tension. It is in the scenes where it should be. If this were just an all-out 2 hour and 20 minute \"hack-and-slash\" fest this film would have no depth to it. It would look cool, but giving Hugh Jackman the proper sendoff was what was more important in a film like this.\\n\\nThis film at times gets downright emotional. The final scene of the film makes you wanna cry. You care about these characters, you are invested in them. You don\\'t want to see them put in harm\\'s way. Even in the scenes where the film may feel a bit slow, the final act of the film is the payoff. This is where everything really meshes together with a force, creating a pulse-pounding, edge of your seat final sendoff for Hugh Jackman as he retires from the role.\\n\\nThis is by far the best Wolverine movie and possibly the best X-Men movie to date. I haven\\'t decided yet. It\\'s up there, and it deserves to be. Everything payed off in this film. It is emotional. It is character driven. It has heart. It is emotional. This is everything anyone could have wanted in a Wolverine film.\\n\\nFrom me \"Logan\" gets a perfect 10/10.',\n 'filmaço.\\n\\num filme que meche com as emoções, surpreendente oque o logan passa e como ele está no filme, muito inteligente também a forma que a trama foi feita e introduzida.\\nmuito bom',\n 'The best x-men movie, the best marvel movie, the best movie',\n 'sad but very good movie overall',\n 'One of the best CBM movies, great acting, action, story, vfx, emotional',\n 'Great finale to the Logan – Wolverine story\\nThe violence and gore was top notch\\nWolverine is a legend',\n \"For certain segments of the film, some things felt pretty slow and pointless with regard to the plot. I mostly liked the movie for the acting and performances that I saw from Hugh Jackman, Dafne Keen, and the final scene in the forest where I saw a young mutant literally explode a guy with their powers from controlling the wind and the sticks/twigs/pine needles which was badass. I also mostly liked how Wolverine's death was handled. It's average overall though like most X Men Marvel movies imo.\",\n 'Best X-men Movie there is',\n \"so tired of films with strong characters acting all weak, beta, and nihilistic and crying. man up you are wolverine for god sakes. why do people like these painful and over the top emotional superhero movies never ceases to amazes. life isn't that hard or bad. stop feeling sorry for yourself and celebrating depressing portrayals of great characters.\"]"
     },
     "metadata": {}
    }
   ]
  },
  {
   "cell_type": "code",
   "metadata": {
    "cell_id": "ce22b4ef726347578df92178a4d16c3c",
    "tags": [],
    "deepnote_to_be_reexecuted": false,
    "source_hash": "9c4e9311",
    "execution_start": 1654753109959,
    "execution_millis": 23661,
    "deepnote_cell_type": "code",
    "deepnote_cell_height": 729
   },
   "source": "s = requests.Session()\n        \ndef get_reviews(url):\n    r = requests.get(url)\n    movie_id = re.findall(r'(?<=movieId\":\")(.*)(?=\",\"type)',r.text)[0]\n\n    api_url = f\"https://www.rottentomatoes.com/napi/movie/{movie_id}/criticsReviews/all\" \n    #use reviews/userfor user reviews\n    # use criticsReviews/all for critics reviews\n    \n    payload = {\n        'direction': 'next',\n        'endCursor': '',\n        'startCursor': '',\n    }\n    \n    review_data = []\n    \n    while True:\n        r = s.get(api_url, params=payload)\n        data = r.json()\n\n        if not data['pageInfo']['hasNextPage']:\n            break\n\n        payload['endCursor'] = data['pageInfo']['endCursor']\n        payload['startCursor'] = data['pageInfo']['startCursor'] if data['pageInfo'].get('startCursor') else ''\n\n        review_data.extend(data['reviews'])\n        time.sleep(1)\n    \n    return review_data\n\n# movie from 2016-2018 url\ndata = get_reviews('https://www.rottentomatoes.com/m/arrival_2016/reviews')\ndf = pd.json_normalize(data)\ndf.shape",
   "execution_count": 8,
   "outputs": [
    {
     "output_type": "execute_result",
     "execution_count": 8,
     "data": {
      "text/plain": "(420, 15)"
     },
     "metadata": {}
    }
   ]
  },
  {
   "cell_type": "code",
   "metadata": {
    "cell_id": "d0f1875ab70c477abd133bc472d782cf",
    "tags": [],
    "deepnote_to_be_reexecuted": false,
    "source_hash": "c9f43e93",
    "execution_start": 1654753133635,
    "execution_millis": 69,
    "deepnote_cell_type": "code",
    "deepnote_cell_height": 617
   },
   "source": "df.sample(15)",
   "execution_count": 9,
   "outputs": [
    {
     "output_type": "execute_result",
     "execution_count": 9,
     "data": {
      "application/vnd.deepnote.dataframe.v3+json": {
       "column_count": 15,
       "row_count": 15,
       "columns": [
        {
         "name": "creationDate",
         "dtype": "object",
         "stats": {
          "unique_count": 11,
          "nan_count": 0,
          "categories": [
           {
            "name": "Nov 11, 2016",
            "count": 3
           },
           {
            "name": "Nov 7, 2016",
            "count": 2
           },
           {
            "name": "9 others",
            "count": 10
           }
          ]
         }
        },
        {
         "name": "isFresh",
         "dtype": "bool",
         "stats": {
          "unique_count": 1,
          "nan_count": 0,
          "categories": [
           {
            "name": "True",
            "count": 15
           }
          ]
         }
        },
        {
         "name": "isRotten",
         "dtype": "bool",
         "stats": {
          "unique_count": 1,
          "nan_count": 0,
          "categories": [
           {
            "name": "False",
            "count": 15
           }
          ]
         }
        },
        {
         "name": "isRtUrl",
         "dtype": "bool",
         "stats": {
          "unique_count": 1,
          "nan_count": 0,
          "categories": [
           {
            "name": "False",
            "count": 15
           }
          ]
         }
        },
        {
         "name": "isTop",
         "dtype": "bool",
         "stats": {
          "unique_count": 2,
          "nan_count": 0,
          "categories": [
           {
            "name": "False",
            "count": 9
           },
           {
            "name": "True",
            "count": 6
           }
          ]
         }
        },
        {
         "name": "reviewUrl",
         "dtype": "object",
         "stats": {
          "unique_count": 15,
          "nan_count": 0,
          "categories": [
           {
            "name": "https://www.espinof.com/criticas/la-llegada-oda-a-la-comunicacion-o-humanismo-reaccionario",
            "count": 1
           },
           {
            "name": "https://www.firstpost.com/entertainment/the-prescient-wisdom-of-arrival-how-it-uncovered-a-culture-of-healing-4-years-before-the-world-began-bleeding-9320071.html",
            "count": 1
           },
           {
            "name": "13 others",
            "count": 13
           }
          ]
         }
        },
        {
         "name": "quote",
         "dtype": "object",
         "stats": {
          "unique_count": 15,
          "nan_count": 0,
          "categories": [
           {
            "name": "Implausibilities aside, the development of the bulk of the plot is an exciting study of the language of extraterrestrial symbols that they draw with their squid ink from outer space. [Full Review in Spanish]",
            "count": 1
           },
           {
            "name": "True to its theme, Arrival itself seems like a premonition of a more tangible event.",
            "count": 1
           },
           {
            "name": "13 others",
            "count": 13
           }
          ]
         }
        },
        {
         "name": "reviewId",
         "dtype": "object",
         "stats": {
          "unique_count": 15,
          "nan_count": 0,
          "categories": [
           {
            "name": "2617463",
            "count": 1
           },
           {
            "name": "2782384",
            "count": 1
           },
           {
            "name": "13 others",
            "count": 13
           }
          ]
         }
        },
        {
         "name": "scoreOri",
         "dtype": "object",
         "stats": {
          "unique_count": 6,
          "nan_count": 0,
          "categories": [
           {
            "name": "",
            "count": 9
           },
           {
            "name": "4.5/5",
            "count": 2
           },
           {
            "name": "4 others",
            "count": 4
           }
          ]
         }
        },
        {
         "name": "scoreSentiment",
         "dtype": "object",
         "stats": {
          "unique_count": 1,
          "nan_count": 0,
          "categories": [
           {
            "name": "POSITIVE",
            "count": 15
           }
          ]
         }
        },
        {
         "name": "critic.name",
         "dtype": "object",
         "stats": {
          "unique_count": 15,
          "nan_count": 0,
          "categories": [
           {
            "name": "Jorge Loser",
            "count": 1
           },
           {
            "name": "Rahul Desai",
            "count": 1
           },
           {
            "name": "13 others",
            "count": 13
           }
          ]
         }
        },
        {
         "name": "critic.criticPictureUrl",
         "dtype": "object",
         "stats": {
          "unique_count": 11,
          "nan_count": 0,
          "categories": [
           {
            "name": "https://images.fandango.com/cms/assets/5b6ff500-1663-11ec-ae31-05a670d2d590--rtactordefault.png",
            "count": 5
           },
           {
            "name": "http://resizing.flixster.com/Mj70CflEwV9U1OLCJ78v1V7UC3I=/128x128/v1.YzszMjg2O2c7MTkxNzA7MjA0ODsxNTA7MTUw",
            "count": 1
           },
           {
            "name": "9 others",
            "count": 9
           }
          ]
         }
        },
        {
         "name": "critic.vanity",
         "dtype": "object",
         "stats": {
          "unique_count": 15,
          "nan_count": 0,
          "categories": [
           {
            "name": "jorge-loser",
            "count": 1
           },
           {
            "name": "rahul-desai",
            "count": 1
           },
           {
            "name": "13 others",
            "count": 13
           }
          ]
         }
        },
        {
         "name": "publication.id",
         "dtype": "object",
         "stats": {
          "unique_count": 15,
          "nan_count": 0,
          "categories": [
           {
            "name": "2621",
            "count": 1
           },
           {
            "name": "2784",
            "count": 1
           },
           {
            "name": "13 others",
            "count": 13
           }
          ]
         }
        },
        {
         "name": "publication.name",
         "dtype": "object",
         "stats": {
          "unique_count": 15,
          "nan_count": 0,
          "categories": [
           {
            "name": "Espinof",
            "count": 1
           },
           {
            "name": "Firstpost",
            "count": 1
           },
           {
            "name": "13 others",
            "count": 13
           }
          ]
         }
        },
        {
         "name": "_deepnote_index_column",
         "dtype": "int64"
        }
       ],
       "rows": [
        {
         "creationDate": "Aug 20, 2019",
         "isFresh": true,
         "isRotten": false,
         "isRtUrl": false,
         "isTop": false,
         "reviewUrl": "https://www.espinof.com/criticas/la-llegada-oda-a-la-comunicacion-o-humanismo-reaccionario",
         "quote": "Implausibilities aside, the development of the bulk of the plot is an exciting study of the language of extraterrestrial symbols that they draw with their squid ink from outer space. [Full Review in Spanish]",
         "reviewId": "2617463",
         "scoreOri": "",
         "scoreSentiment": "POSITIVE",
         "critic.name": "Jorge Loser",
         "critic.criticPictureUrl": "https://images.fandango.com/cms/assets/5b6ff500-1663-11ec-ae31-05a670d2d590--rtactordefault.png",
         "critic.vanity": "jorge-loser",
         "publication.id": "2621",
         "publication.name": "Espinof",
         "_deepnote_index_column": 30
        },
        {
         "creationDate": "Apr 6, 2021",
         "isFresh": true,
         "isRotten": false,
         "isRtUrl": false,
         "isTop": false,
         "reviewUrl": "https://www.firstpost.com/entertainment/the-prescient-wisdom-of-arrival-how-it-uncovered-a-culture-of-healing-4-years-before-the-world-began-bleeding-9320071.html",
         "quote": "True to its theme, Arrival itself seems like a premonition of a more tangible event.",
         "reviewId": "2782384",
         "scoreOri": "",
         "scoreSentiment": "POSITIVE",
         "critic.name": "Rahul Desai",
         "critic.criticPictureUrl": "http://resizing.flixster.com/Mj70CflEwV9U1OLCJ78v1V7UC3I=/128x128/v1.YzszMjg2O2c7MTkxNzA7MjA0ODsxNTA7MTUw",
         "critic.vanity": "rahul-desai",
         "publication.id": "2784",
         "publication.name": "Firstpost",
         "_deepnote_index_column": 7
        },
        {
         "creationDate": "Nov 9, 2016",
         "isFresh": true,
         "isRotten": false,
         "isRtUrl": false,
         "isTop": false,
         "reviewUrl": "http://themovieminute.com/Arrival.html",
         "quote": "Elegant and ambitious, this sci-fi mystery is designed to take on life's biggest questions in the most intimate way.",
         "reviewId": "2361064",
         "scoreOri": "",
         "scoreSentiment": "POSITIVE",
         "critic.name": "Joanna Langfield",
         "critic.criticPictureUrl": "http://resizing.flixster.com/8VzzG31m0z40eh9rw9NvMnClY7s=/38x42/v1.YzsyMzgyO2c7MTkxNzA7MjA0ODszODs0Mg",
         "critic.vanity": "joanna-langfield",
         "publication.id": "2201",
         "publication.name": "The Movie Minute",
         "_deepnote_index_column": 347
        },
        {
         "creationDate": "Nov 7, 2016",
         "isFresh": true,
         "isRotten": false,
         "isRtUrl": false,
         "isTop": true,
         "reviewUrl": "http://lwlies.com/reviews/arrival/",
         "quote": "Given that personal trauma is the prevailing throughline of Denis Villeneuve's filmmaking career so far, it's no surprise to find Arrival anchored by a familiar narrative motif.",
         "reviewId": "2360723",
         "scoreOri": "3/5",
         "scoreSentiment": "POSITIVE",
         "critic.name": "Adam Woodward",
         "critic.criticPictureUrl": "https://images.fandango.com/cms/assets/5b6ff500-1663-11ec-ae31-05a670d2d590--rtactordefault.png",
         "critic.vanity": "adam-woodward",
         "publication.id": "1822",
         "publication.name": "Little White Lies",
         "_deepnote_index_column": 378
        },
        {
         "creationDate": "Sep 12, 2016",
         "isFresh": true,
         "isRotten": false,
         "isRtUrl": false,
         "isTop": false,
         "reviewUrl": "http://www.theverge.com/2016/9/10/12870314/arrival-review-amy-adams-denis-villeneuve-tiff-2016",
         "quote": "The extraordinary success of Arrival is that it combines its bravura style and grand sci-fi questions with tremendous emotional intelligence and a heart so full it's ready to burst.",
         "reviewId": "2350175",
         "scoreOri": "",
         "scoreSentiment": "POSITIVE",
         "critic.name": "Bryan Bishop",
         "critic.criticPictureUrl": "http://resizing.flixster.com/ntt4fYk5DMf1tDPOjyfAxRiZ_oI=/38x42/v1.YzsyNDY0O2c7MTkxNzA7MjA0ODszODs0Mg",
         "critic.vanity": "bryan-bishop",
         "publication.id": "2525",
         "publication.name": "The Verge",
         "_deepnote_index_column": 409
        },
        {
         "creationDate": "Nov 11, 2016",
         "isFresh": true,
         "isRotten": false,
         "isRtUrl": false,
         "isTop": true,
         "reviewUrl": "http://www.mtv.com/news/author/nicholsona/",
         "quote": "Learning Heptapodese seems easy compared to the tough talks Americans need to have with each other.",
         "reviewId": "2361720",
         "scoreOri": "B+",
         "scoreSentiment": "POSITIVE",
         "critic.name": "Amy Nicholson",
         "critic.criticPictureUrl": "http://resizing.flixster.com/NqxMYD6-eGlrupjRq5xR-UgZZBQ=/128x128/v1.YzszNzgyO2o7MTkxNzA7MjA0ODsxNTA7MTUw",
         "critic.vanity": "amy-nicholson",
         "publication.id": "1372",
         "publication.name": "MTV",
         "_deepnote_index_column": 229
        },
        {
         "creationDate": "Nov 5, 2016",
         "isFresh": true,
         "isRotten": false,
         "isRtUrl": false,
         "isTop": false,
         "reviewUrl": "http://www.urbancinefile.com.au/home/view.asp?a=21899&s=Reviews",
         "quote": "In a breathtaking performance, Amy Adams grounds this hypnotizing sci-fi drama from Incendies director Denis Villeneuve, in which communication, purpose and time are key",
         "reviewId": "2360634",
         "scoreOri": "",
         "scoreSentiment": "POSITIVE",
         "critic.name": "Louise Keller",
         "critic.criticPictureUrl": "http://resizing.flixster.com/5_yfDRypLjWlCsGhRDLnAdh9fZw=/128x128/v1.YzsyODQ3O2c7MTkxNzA7MjA0ODsxNTA7MTUw",
         "critic.vanity": "louise-keller",
         "publication.id": "462",
         "publication.name": "Urban Cinefile",
         "_deepnote_index_column": 381
        },
        {
         "creationDate": "Jun 28, 2017",
         "isFresh": true,
         "isRotten": false,
         "isRtUrl": false,
         "isTop": true,
         "reviewUrl": "http://www.refinery29.com/2016/11/128299/arrival-movie-review-space-film-summary",
         "quote": "Arrival isn't exactly your typical alien movie -- it's so much better than that. This is a movie about how language actually influences the way you think and live your life.",
         "reviewId": "2402260",
         "scoreOri": "",
         "scoreSentiment": "POSITIVE",
         "critic.name": "Anne Cohen",
         "critic.criticPictureUrl": "https://images.fandango.com/cms/assets/5b6ff500-1663-11ec-ae31-05a670d2d590--rtactordefault.png",
         "critic.vanity": "anne-cohen",
         "publication.id": "2859",
         "publication.name": "Refinery29",
         "_deepnote_index_column": 107
        },
        {
         "creationDate": "Jan 27, 2018",
         "isFresh": true,
         "isRotten": false,
         "isRtUrl": false,
         "isTop": false,
         "reviewUrl": "https://www.youtube.com/watch?v=ja9Yffx0EEI&index=85&list=PLAYVa_DOzj139N3L4Z7q9cU1omLe-6n_G",
         "quote": "Arrival is one of the most intriguing movies I've seen in 2016 -- great acting, great premise.",
         "reviewId": "2453533",
         "scoreOri": "",
         "scoreSentiment": "POSITIVE",
         "critic.name": "Jeremy Jahns",
         "critic.criticPictureUrl": "https://images.fandango.com/cms/assets/5b6ff500-1663-11ec-ae31-05a670d2d590--rtactordefault.png",
         "critic.vanity": "jeremy-jahns",
         "publication.id": "2955",
         "publication.name": "JeremyJahns.com",
         "_deepnote_index_column": 88
        },
        {
         "creationDate": "Nov 10, 2016",
         "isFresh": true,
         "isRotten": false,
         "isRtUrl": false,
         "isTop": true,
         "reviewUrl": "http://www.azcentral.com/story/entertainment/movies/billgoodykoontz/2016/11/10/arrival-movie-review-amy-adams-jeremy-renner/93442088/",
         "quote": "[A] terrific, haunting film that plays with our expectations - and rewards us with satisfying left turns.",
         "reviewId": "2361223",
         "scoreOri": "4.5/5",
         "scoreSentiment": "POSITIVE",
         "critic.name": "Bill Goodykoontz",
         "critic.criticPictureUrl": "http://resizing.flixster.com/5CcULoGGAqPYWYmVtn9TAMomoTI=/128x128/v1.YzsyNjI0O2c7MTkxNzA7MjA0ODsxNTA7MTUw",
         "critic.vanity": "bill-goodykoontz",
         "publication.id": "642",
         "publication.name": "Arizona Republic",
         "_deepnote_index_column": 323
        }
       ]
      },
      "text/plain": "     creationDate  isFresh  isRotten  isRtUrl  isTop  \\\n30   Aug 20, 2019     True     False    False  False   \n7     Apr 6, 2021     True     False    False  False   \n347   Nov 9, 2016     True     False    False  False   \n378   Nov 7, 2016     True     False    False   True   \n409  Sep 12, 2016     True     False    False  False   \n229  Nov 11, 2016     True     False    False   True   \n381   Nov 5, 2016     True     False    False  False   \n107  Jun 28, 2017     True     False    False   True   \n88   Jan 27, 2018     True     False    False  False   \n323  Nov 10, 2016     True     False    False   True   \n373   Nov 7, 2016     True     False    False  False   \n8    Feb 13, 2021     True     False    False  False   \n319  Nov 10, 2016     True     False    False   True   \n237  Nov 11, 2016     True     False    False   True   \n253  Nov 11, 2016     True     False    False  False   \n\n                                             reviewUrl  \\\n30   https://www.espinof.com/criticas/la-llegada-od...   \n7    https://www.firstpost.com/entertainment/the-pr...   \n347             http://themovieminute.com/Arrival.html   \n378                 http://lwlies.com/reviews/arrival/   \n409  http://www.theverge.com/2016/9/10/12870314/arr...   \n229         http://www.mtv.com/news/author/nicholsona/   \n381  http://www.urbancinefile.com.au/home/view.asp?...   \n107  http://www.refinery29.com/2016/11/128299/arriv...   \n88   https://www.youtube.com/watch?v=ja9Yffx0EEI&in...   \n323  http://www.azcentral.com/story/entertainment/m...   \n373  http://www.radiotimes.com/news/2016-11-07/arri...   \n8    https://charlottesometimesgoestothemovies.com/...   \n319  http://www.bostonglobe.com/arts/movies/2016/11...   \n237  http://www.cnn.com/2016/11/11/entertainment/ar...   \n253          http://www.allmovie.com/blog/post/arrival   \n\n                                                 quote reviewId scoreOri  \\\n30   Implausibilities aside, the development of the...  2617463            \n7    True to its theme, Arrival itself seems like a...  2782384            \n347  Elegant and ambitious, this sci-fi mystery is ...  2361064            \n378  Given that personal trauma is the prevailing t...  2360723      3/5   \n409  The extraordinary success of Arrival is that i...  2350175            \n229  Learning Heptapodese seems easy compared to th...  2361720       B+   \n381  In a breathtaking performance, Amy Adams groun...  2360634            \n107  Arrival isn't exactly your typical alien movie...  2402260            \n88   Arrival is one of the most intriguing movies I...  2453533            \n323  [A] terrific, haunting film that plays with ou...  2361223    4.5/5   \n373  If you like thoughtful, cerebral sci-fi films ...  2360841      4/5   \n8    A slow-burn thriller that is profound and beau...  2767473            \n319  Fine, full-bodied filmmaking, with a sense of ...  2361242    3.5/4   \n237  Those expecting a whiz-bang film should be pre...  2361700            \n253  A strikingly human film, one that's concerned ...  2361607    4.5/5   \n\n    scoreSentiment         critic.name  \\\n30        POSITIVE         Jorge Loser   \n7         POSITIVE         Rahul Desai   \n347       POSITIVE    Joanna Langfield   \n378       POSITIVE       Adam Woodward   \n409       POSITIVE        Bryan Bishop   \n229       POSITIVE       Amy Nicholson   \n381       POSITIVE       Louise Keller   \n107       POSITIVE          Anne Cohen   \n88        POSITIVE        Jeremy Jahns   \n323       POSITIVE    Bill Goodykoontz   \n373       POSITIVE       Stephen Carty   \n8         POSITIVE  Charlotte Harrison   \n319       POSITIVE             Ty Burr   \n237       POSITIVE         Brian Lowry   \n253       POSITIVE         Daniel Gelb   \n\n                               critic.criticPictureUrl       critic.vanity  \\\n30   https://images.fandango.com/cms/assets/5b6ff50...         jorge-loser   \n7    http://resizing.flixster.com/Mj70CflEwV9U1OLCJ...         rahul-desai   \n347  http://resizing.flixster.com/8VzzG31m0z40eh9rw...    joanna-langfield   \n378  https://images.fandango.com/cms/assets/5b6ff50...       adam-woodward   \n409  http://resizing.flixster.com/ntt4fYk5DMf1tDPOj...        bryan-bishop   \n229  http://resizing.flixster.com/NqxMYD6-eGlrupjRq...       amy-nicholson   \n381  http://resizing.flixster.com/5_yfDRypLjWlCsGhR...       louise-keller   \n107  https://images.fandango.com/cms/assets/5b6ff50...          anne-cohen   \n88   https://images.fandango.com/cms/assets/5b6ff50...        jeremy-jahns   \n323  http://resizing.flixster.com/5CcULoGGAqPYWYmVt...    bill-goodykoontz   \n373  http://resizing.flixster.com/iQPBnuZ9pNH72IqAS...       stephen-carty   \n8    http://resizing.flixster.com/fvpXMMf8WdJ6AckrU...  charlotte-harrison   \n319  http://resizing.flixster.com/0vWauzey2XX7xlk00...             ty-burr   \n237  https://images.fandango.com/cms/assets/5b6ff50...         brian-lowry   \n253  http://resizing.flixster.com/N3aTj-5IjzxY6WU1B...         daniel-gelb   \n\n    publication.id   publication.name  \n30            2621            Espinof  \n7             2784          Firstpost  \n347           2201   The Movie Minute  \n378           1822  Little White Lies  \n409           2525          The Verge  \n229           1372                MTV  \n381            462     Urban Cinefile  \n107           2859         Refinery29  \n88            2955    JeremyJahns.com  \n323            642   Arizona Republic  \n373           2290        Radio Times  \n8             3201       VultureHound  \n319             44       Boston Globe  \n237             93            CNN.com  \n253           2714           AllMovie  ",
      "text/html": "<div>\n<style scoped>\n    .dataframe tbody tr th:only-of-type {\n        vertical-align: middle;\n    }\n\n    .dataframe tbody tr th {\n        vertical-align: top;\n    }\n\n    .dataframe thead th {\n        text-align: right;\n    }\n</style>\n<table border=\"1\" class=\"dataframe\">\n  <thead>\n    <tr style=\"text-align: right;\">\n      <th></th>\n      <th>creationDate</th>\n      <th>isFresh</th>\n      <th>isRotten</th>\n      <th>isRtUrl</th>\n      <th>isTop</th>\n      <th>reviewUrl</th>\n      <th>quote</th>\n      <th>reviewId</th>\n      <th>scoreOri</th>\n      <th>scoreSentiment</th>\n      <th>critic.name</th>\n      <th>critic.criticPictureUrl</th>\n      <th>critic.vanity</th>\n      <th>publication.id</th>\n      <th>publication.name</th>\n    </tr>\n  </thead>\n  <tbody>\n    <tr>\n      <th>30</th>\n      <td>Aug 20, 2019</td>\n      <td>True</td>\n      <td>False</td>\n      <td>False</td>\n      <td>False</td>\n      <td>https://www.espinof.com/criticas/la-llegada-od...</td>\n      <td>Implausibilities aside, the development of the...</td>\n      <td>2617463</td>\n      <td></td>\n      <td>POSITIVE</td>\n      <td>Jorge Loser</td>\n      <td>https://images.fandango.com/cms/assets/5b6ff50...</td>\n      <td>jorge-loser</td>\n      <td>2621</td>\n      <td>Espinof</td>\n    </tr>\n    <tr>\n      <th>7</th>\n      <td>Apr 6, 2021</td>\n      <td>True</td>\n      <td>False</td>\n      <td>False</td>\n      <td>False</td>\n      <td>https://www.firstpost.com/entertainment/the-pr...</td>\n      <td>True to its theme, Arrival itself seems like a...</td>\n      <td>2782384</td>\n      <td></td>\n      <td>POSITIVE</td>\n      <td>Rahul Desai</td>\n      <td>http://resizing.flixster.com/Mj70CflEwV9U1OLCJ...</td>\n      <td>rahul-desai</td>\n      <td>2784</td>\n      <td>Firstpost</td>\n    </tr>\n    <tr>\n      <th>347</th>\n      <td>Nov 9, 2016</td>\n      <td>True</td>\n      <td>False</td>\n      <td>False</td>\n      <td>False</td>\n      <td>http://themovieminute.com/Arrival.html</td>\n      <td>Elegant and ambitious, this sci-fi mystery is ...</td>\n      <td>2361064</td>\n      <td></td>\n      <td>POSITIVE</td>\n      <td>Joanna Langfield</td>\n      <td>http://resizing.flixster.com/8VzzG31m0z40eh9rw...</td>\n      <td>joanna-langfield</td>\n      <td>2201</td>\n      <td>The Movie Minute</td>\n    </tr>\n    <tr>\n      <th>378</th>\n      <td>Nov 7, 2016</td>\n      <td>True</td>\n      <td>False</td>\n      <td>False</td>\n      <td>True</td>\n      <td>http://lwlies.com/reviews/arrival/</td>\n      <td>Given that personal trauma is the prevailing t...</td>\n      <td>2360723</td>\n      <td>3/5</td>\n      <td>POSITIVE</td>\n      <td>Adam Woodward</td>\n      <td>https://images.fandango.com/cms/assets/5b6ff50...</td>\n      <td>adam-woodward</td>\n      <td>1822</td>\n      <td>Little White Lies</td>\n    </tr>\n    <tr>\n      <th>409</th>\n      <td>Sep 12, 2016</td>\n      <td>True</td>\n      <td>False</td>\n      <td>False</td>\n      <td>False</td>\n      <td>http://www.theverge.com/2016/9/10/12870314/arr...</td>\n      <td>The extraordinary success of Arrival is that i...</td>\n      <td>2350175</td>\n      <td></td>\n      <td>POSITIVE</td>\n      <td>Bryan Bishop</td>\n      <td>http://resizing.flixster.com/ntt4fYk5DMf1tDPOj...</td>\n      <td>bryan-bishop</td>\n      <td>2525</td>\n      <td>The Verge</td>\n    </tr>\n    <tr>\n      <th>229</th>\n      <td>Nov 11, 2016</td>\n      <td>True</td>\n      <td>False</td>\n      <td>False</td>\n      <td>True</td>\n      <td>http://www.mtv.com/news/author/nicholsona/</td>\n      <td>Learning Heptapodese seems easy compared to th...</td>\n      <td>2361720</td>\n      <td>B+</td>\n      <td>POSITIVE</td>\n      <td>Amy Nicholson</td>\n      <td>http://resizing.flixster.com/NqxMYD6-eGlrupjRq...</td>\n      <td>amy-nicholson</td>\n      <td>1372</td>\n      <td>MTV</td>\n    </tr>\n    <tr>\n      <th>381</th>\n      <td>Nov 5, 2016</td>\n      <td>True</td>\n      <td>False</td>\n      <td>False</td>\n      <td>False</td>\n      <td>http://www.urbancinefile.com.au/home/view.asp?...</td>\n      <td>In a breathtaking performance, Amy Adams groun...</td>\n      <td>2360634</td>\n      <td></td>\n      <td>POSITIVE</td>\n      <td>Louise Keller</td>\n      <td>http://resizing.flixster.com/5_yfDRypLjWlCsGhR...</td>\n      <td>louise-keller</td>\n      <td>462</td>\n      <td>Urban Cinefile</td>\n    </tr>\n    <tr>\n      <th>107</th>\n      <td>Jun 28, 2017</td>\n      <td>True</td>\n      <td>False</td>\n      <td>False</td>\n      <td>True</td>\n      <td>http://www.refinery29.com/2016/11/128299/arriv...</td>\n      <td>Arrival isn't exactly your typical alien movie...</td>\n      <td>2402260</td>\n      <td></td>\n      <td>POSITIVE</td>\n      <td>Anne Cohen</td>\n      <td>https://images.fandango.com/cms/assets/5b6ff50...</td>\n      <td>anne-cohen</td>\n      <td>2859</td>\n      <td>Refinery29</td>\n    </tr>\n    <tr>\n      <th>88</th>\n      <td>Jan 27, 2018</td>\n      <td>True</td>\n      <td>False</td>\n      <td>False</td>\n      <td>False</td>\n      <td>https://www.youtube.com/watch?v=ja9Yffx0EEI&amp;in...</td>\n      <td>Arrival is one of the most intriguing movies I...</td>\n      <td>2453533</td>\n      <td></td>\n      <td>POSITIVE</td>\n      <td>Jeremy Jahns</td>\n      <td>https://images.fandango.com/cms/assets/5b6ff50...</td>\n      <td>jeremy-jahns</td>\n      <td>2955</td>\n      <td>JeremyJahns.com</td>\n    </tr>\n    <tr>\n      <th>323</th>\n      <td>Nov 10, 2016</td>\n      <td>True</td>\n      <td>False</td>\n      <td>False</td>\n      <td>True</td>\n      <td>http://www.azcentral.com/story/entertainment/m...</td>\n      <td>[A] terrific, haunting film that plays with ou...</td>\n      <td>2361223</td>\n      <td>4.5/5</td>\n      <td>POSITIVE</td>\n      <td>Bill Goodykoontz</td>\n      <td>http://resizing.flixster.com/5CcULoGGAqPYWYmVt...</td>\n      <td>bill-goodykoontz</td>\n      <td>642</td>\n      <td>Arizona Republic</td>\n    </tr>\n    <tr>\n      <th>373</th>\n      <td>Nov 7, 2016</td>\n      <td>True</td>\n      <td>False</td>\n      <td>False</td>\n      <td>False</td>\n      <td>http://www.radiotimes.com/news/2016-11-07/arri...</td>\n      <td>If you like thoughtful, cerebral sci-fi films ...</td>\n      <td>2360841</td>\n      <td>4/5</td>\n      <td>POSITIVE</td>\n      <td>Stephen Carty</td>\n      <td>http://resizing.flixster.com/iQPBnuZ9pNH72IqAS...</td>\n      <td>stephen-carty</td>\n      <td>2290</td>\n      <td>Radio Times</td>\n    </tr>\n    <tr>\n      <th>8</th>\n      <td>Feb 13, 2021</td>\n      <td>True</td>\n      <td>False</td>\n      <td>False</td>\n      <td>False</td>\n      <td>https://charlottesometimesgoestothemovies.com/...</td>\n      <td>A slow-burn thriller that is profound and beau...</td>\n      <td>2767473</td>\n      <td></td>\n      <td>POSITIVE</td>\n      <td>Charlotte Harrison</td>\n      <td>http://resizing.flixster.com/fvpXMMf8WdJ6AckrU...</td>\n      <td>charlotte-harrison</td>\n      <td>3201</td>\n      <td>VultureHound</td>\n    </tr>\n    <tr>\n      <th>319</th>\n      <td>Nov 10, 2016</td>\n      <td>True</td>\n      <td>False</td>\n      <td>False</td>\n      <td>True</td>\n      <td>http://www.bostonglobe.com/arts/movies/2016/11...</td>\n      <td>Fine, full-bodied filmmaking, with a sense of ...</td>\n      <td>2361242</td>\n      <td>3.5/4</td>\n      <td>POSITIVE</td>\n      <td>Ty Burr</td>\n      <td>http://resizing.flixster.com/0vWauzey2XX7xlk00...</td>\n      <td>ty-burr</td>\n      <td>44</td>\n      <td>Boston Globe</td>\n    </tr>\n    <tr>\n      <th>237</th>\n      <td>Nov 11, 2016</td>\n      <td>True</td>\n      <td>False</td>\n      <td>False</td>\n      <td>True</td>\n      <td>http://www.cnn.com/2016/11/11/entertainment/ar...</td>\n      <td>Those expecting a whiz-bang film should be pre...</td>\n      <td>2361700</td>\n      <td></td>\n      <td>POSITIVE</td>\n      <td>Brian Lowry</td>\n      <td>https://images.fandango.com/cms/assets/5b6ff50...</td>\n      <td>brian-lowry</td>\n      <td>93</td>\n      <td>CNN.com</td>\n    </tr>\n    <tr>\n      <th>253</th>\n      <td>Nov 11, 2016</td>\n      <td>True</td>\n      <td>False</td>\n      <td>False</td>\n      <td>False</td>\n      <td>http://www.allmovie.com/blog/post/arrival</td>\n      <td>A strikingly human film, one that's concerned ...</td>\n      <td>2361607</td>\n      <td>4.5/5</td>\n      <td>POSITIVE</td>\n      <td>Daniel Gelb</td>\n      <td>http://resizing.flixster.com/N3aTj-5IjzxY6WU1B...</td>\n      <td>daniel-gelb</td>\n      <td>2714</td>\n      <td>AllMovie</td>\n    </tr>\n  </tbody>\n</table>\n</div>"
     },
     "metadata": {}
    }
   ]
  },
  {
   "cell_type": "code",
   "source": "df[['quote', 'scoreSentiment']]",
   "metadata": {
    "cell_id": "74e18ee017864c0f8d75ac41e6c162c9",
    "tags": [],
    "deepnote_to_be_reexecuted": false,
    "source_hash": "41e78be",
    "execution_start": 1654753133725,
    "execution_millis": 8,
    "owner_user_id": "f003377f-535d-43ef-8b69-db2e2c66d27e",
    "deepnote_cell_type": "code",
    "deepnote_cell_height": 600
   },
   "outputs": [
    {
     "output_type": "execute_result",
     "execution_count": 10,
     "data": {
      "application/vnd.deepnote.dataframe.v3+json": {
       "column_count": 2,
       "row_count": 420,
       "columns": [
        {
         "name": "quote",
         "dtype": "object",
         "stats": {
          "unique_count": 419,
          "nan_count": 0,
          "categories": [
           {
            "name": "Arrival is one of the best films of the year.",
            "count": 2
           },
           {
            "name": "Both cerebral and achingly emotional, Arrival sustains a message about hope and understanding for a better humanity that audiences may need right now.",
            "count": 1
           },
           {
            "name": "417 others",
            "count": 417
           }
          ]
         }
        },
        {
         "name": "scoreSentiment",
         "dtype": "object",
         "stats": {
          "unique_count": 2,
          "nan_count": 0,
          "categories": [
           {
            "name": "POSITIVE",
            "count": 396
           },
           {
            "name": "NEGATIVE",
            "count": 24
           }
          ]
         }
        },
        {
         "name": "_deepnote_index_column",
         "dtype": "int64"
        }
       ],
       "rows": [
        {
         "quote": "Both cerebral and achingly emotional, Arrival sustains a message about hope and understanding for a better humanity that audiences may need right now.",
         "scoreSentiment": "POSITIVE",
         "_deepnote_index_column": 0
        },
        {
         "quote": "One of the most beautiful, emotional and original science-fiction films of the last decade.",
         "scoreSentiment": "POSITIVE",
         "_deepnote_index_column": 1
        },
        {
         "quote": "The best film of 2016. A motion picture that turns out to be far more focused on humanity than on otherworldly visitors, it's a transcendent viewing experience that gets under the skin and into the heart.",
         "scoreSentiment": "POSITIVE",
         "_deepnote_index_column": 2
        },
        {
         "quote": "Arrival just might be the overall best movie of the decade with the way it cleverly examines what we believe while simultaneously delivering a tense, gripping sci-fi story.",
         "scoreSentiment": "POSITIVE",
         "_deepnote_index_column": 3
        },
        {
         "quote": "Hypnotic and strange and beautiful - have I said beautiful fifteen times yet? Because it deserves that word no fewer than that many.",
         "scoreSentiment": "POSITIVE",
         "_deepnote_index_column": 4
        },
        {
         "quote": "An astonishingly beautiful film, both visually and emotionally.",
         "scoreSentiment": "POSITIVE",
         "_deepnote_index_column": 5
        },
        {
         "quote": "One of the finest, if not the finest, science fiction movie of the 21st Century.",
         "scoreSentiment": "POSITIVE",
         "_deepnote_index_column": 6
        },
        {
         "quote": "True to its theme, Arrival itself seems like a premonition of a more tangible event.",
         "scoreSentiment": "POSITIVE",
         "_deepnote_index_column": 7
        },
        {
         "quote": "A slow-burn thriller that is profound and beautiful. To say any more would spoil it,",
         "scoreSentiment": "POSITIVE",
         "_deepnote_index_column": 8
        },
        {
         "quote": "We'll always have power structures that are reflexively defensive, but Arrival reminds us many in prominent positions are committed to peace.",
         "scoreSentiment": "POSITIVE",
         "_deepnote_index_column": 9
        }
       ]
      },
      "text/plain": "                                                 quote scoreSentiment\n0    Both cerebral and achingly emotional, Arrival ...       POSITIVE\n1    One of the most beautiful, emotional and origi...       POSITIVE\n2    The best film of 2016. A motion picture that t...       POSITIVE\n3    Arrival just might be the overall best movie o...       POSITIVE\n4    Hypnotic and strange and beautiful - have I sa...       POSITIVE\n..                                                 ...            ...\n415  A film that forces viewers to reconsider that ...       POSITIVE\n416  A cerebral and emotionally resonant examinatio...       POSITIVE\n417  This is hard science fiction made by an artist...       POSITIVE\n418  It's heartening to encounter a science fiction...       POSITIVE\n419  Arrival has the heft of a literary airport nov...       POSITIVE\n\n[420 rows x 2 columns]",
      "text/html": "<div>\n<style scoped>\n    .dataframe tbody tr th:only-of-type {\n        vertical-align: middle;\n    }\n\n    .dataframe tbody tr th {\n        vertical-align: top;\n    }\n\n    .dataframe thead th {\n        text-align: right;\n    }\n</style>\n<table border=\"1\" class=\"dataframe\">\n  <thead>\n    <tr style=\"text-align: right;\">\n      <th></th>\n      <th>quote</th>\n      <th>scoreSentiment</th>\n    </tr>\n  </thead>\n  <tbody>\n    <tr>\n      <th>0</th>\n      <td>Both cerebral and achingly emotional, Arrival ...</td>\n      <td>POSITIVE</td>\n    </tr>\n    <tr>\n      <th>1</th>\n      <td>One of the most beautiful, emotional and origi...</td>\n      <td>POSITIVE</td>\n    </tr>\n    <tr>\n      <th>2</th>\n      <td>The best film of 2016. A motion picture that t...</td>\n      <td>POSITIVE</td>\n    </tr>\n    <tr>\n      <th>3</th>\n      <td>Arrival just might be the overall best movie o...</td>\n      <td>POSITIVE</td>\n    </tr>\n    <tr>\n      <th>4</th>\n      <td>Hypnotic and strange and beautiful - have I sa...</td>\n      <td>POSITIVE</td>\n    </tr>\n    <tr>\n      <th>...</th>\n      <td>...</td>\n      <td>...</td>\n    </tr>\n    <tr>\n      <th>415</th>\n      <td>A film that forces viewers to reconsider that ...</td>\n      <td>POSITIVE</td>\n    </tr>\n    <tr>\n      <th>416</th>\n      <td>A cerebral and emotionally resonant examinatio...</td>\n      <td>POSITIVE</td>\n    </tr>\n    <tr>\n      <th>417</th>\n      <td>This is hard science fiction made by an artist...</td>\n      <td>POSITIVE</td>\n    </tr>\n    <tr>\n      <th>418</th>\n      <td>It's heartening to encounter a science fiction...</td>\n      <td>POSITIVE</td>\n    </tr>\n    <tr>\n      <th>419</th>\n      <td>Arrival has the heft of a literary airport nov...</td>\n      <td>POSITIVE</td>\n    </tr>\n  </tbody>\n</table>\n<p>420 rows × 2 columns</p>\n</div>"
     },
     "metadata": {}
    }
   ],
   "execution_count": 10
  },
  {
   "cell_type": "markdown",
   "source": "<a style='text-decoration:none;line-height:16px;display:flex;color:#5B5B62;padding:10px;justify-content:end;' href='https://deepnote.com?utm_source=created-in-deepnote-cell&projectId=53ef1faa-b7a9-4637-b54c-3b067e58670d' target=\"_blank\">\n<img alt='Created in deepnote.com' style='display:inline;max-height:16px;margin:0px;margin-right:7.5px;' src='data:image/svg+xml;base64,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' > </img>\nCreated in <span style='font-weight:600;margin-left:4px;'>Deepnote</span></a>",
   "metadata": {
    "tags": [],
    "created_in_deepnote_cell": true,
    "deepnote_cell_type": "markdown"
   }
  }
 ],
 "nbformat": 4,
 "nbformat_minor": 2,
 "metadata": {
  "orig_nbformat": 2,
  "deepnote": {},
  "deepnote_notebook_id": "fd55cbee-8d7f-4885-974d-358035dcefa0",
  "deepnote_execution_queue": []
 }
}