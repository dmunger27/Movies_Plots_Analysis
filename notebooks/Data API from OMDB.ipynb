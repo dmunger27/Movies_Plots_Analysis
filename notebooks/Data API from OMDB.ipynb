{
 "cells": [
  {
   "cell_type": "markdown",
   "source": "# Packages",
   "metadata": {
    "cell_id": "a9a612f9d8ad49ca8705658c5fd957b9",
    "tags": [],
    "deepnote_cell_type": "markdown",
    "deepnote_cell_height": 82
   }
  },
  {
   "cell_type": "code",
   "metadata": {
    "tags": [],
    "cell_id": "0009e8fd-bf63-47a7-867b-95029c6d06dd",
    "deepnote_to_be_reexecuted": false,
    "source_hash": "4cc52526",
    "execution_start": 1654233897980,
    "execution_millis": 329349,
    "deepnote_cell_type": "code",
    "deepnote_cell_height": 117
   },
   "source": "import pandas as pd\nimport numpy as np\nimport omdb",
   "execution_count": 1,
   "outputs": []
  },
  {
   "cell_type": "markdown",
   "source": "# API Set-up",
   "metadata": {
    "cell_id": "b4296f4b51f845df8910a2317a7bbd38",
    "tags": [],
    "deepnote_cell_type": "markdown",
    "deepnote_cell_height": 82
   }
  },
  {
   "cell_type": "code",
   "metadata": {
    "cell_id": "23e203b423b14b55b1fb5dbf04030249",
    "tags": [],
    "deepnote_to_be_reexecuted": false,
    "source_hash": "2fba579d",
    "execution_start": 1654233897980,
    "execution_millis": 217436,
    "deepnote_cell_type": "code",
    "deepnote_cell_height": 153
   },
   "source": "api_key = \"2857b99a\" # Jimmy's key - limit 1000 calls a day\nomdb.set_default('apikey', api_key)\n\n# include tomatoes data by default\n#omdb.set_default('tomatoes', True)",
   "execution_count": 2,
   "outputs": []
  },
  {
   "cell_type": "markdown",
   "source": "# Pulling Data from API",
   "metadata": {
    "cell_id": "dfed668e95db440083a3b48e851007e9",
    "tags": [],
    "deepnote_cell_type": "markdown",
    "deepnote_cell_height": 82
   }
  },
  {
   "cell_type": "code",
   "source": "# set timeout of 5 seconds for this request\nlogan_df = pd.DataFrame(omdb.get(title='Logan', year=2017, fullplot=True, tomatoes=True, timeout=5))\nlogan_df",
   "metadata": {
    "cell_id": "086c62303b97405c86bb22f203779207",
    "tags": [],
    "deepnote_to_be_reexecuted": false,
    "source_hash": "21b32458",
    "execution_start": 1654234537327,
    "execution_millis": 238,
    "deepnote_cell_type": "code",
    "deepnote_cell_height": 366,
    "deepnote_output_heights": [
     611
    ]
   },
   "outputs": [
    {
     "output_type": "execute_result",
     "execution_count": 20,
     "data": {
      "application/vnd.deepnote.dataframe.v3+json": {
       "column_count": 36,
       "row_count": 3,
       "columns": [
        {
         "name": "title",
         "dtype": "object",
         "stats": {
          "unique_count": 1,
          "nan_count": 0,
          "categories": [
           {
            "name": "Logan",
            "count": 3
           }
          ]
         }
        },
        {
         "name": "year",
         "dtype": "object",
         "stats": {
          "unique_count": 1,
          "nan_count": 0,
          "categories": [
           {
            "name": "2017",
            "count": 3
           }
          ]
         }
        },
        {
         "name": "rated",
         "dtype": "object",
         "stats": {
          "unique_count": 1,
          "nan_count": 0,
          "categories": [
           {
            "name": "R",
            "count": 3
           }
          ]
         }
        },
        {
         "name": "released",
         "dtype": "object",
         "stats": {
          "unique_count": 1,
          "nan_count": 0,
          "categories": [
           {
            "name": "03 Mar 2017",
            "count": 3
           }
          ]
         }
        },
        {
         "name": "runtime",
         "dtype": "object",
         "stats": {
          "unique_count": 1,
          "nan_count": 0,
          "categories": [
           {
            "name": "137 min",
            "count": 3
           }
          ]
         }
        },
        {
         "name": "genre",
         "dtype": "object",
         "stats": {
          "unique_count": 1,
          "nan_count": 0,
          "categories": [
           {
            "name": "Action, Drama, Sci-Fi",
            "count": 3
           }
          ]
         }
        },
        {
         "name": "director",
         "dtype": "object",
         "stats": {
          "unique_count": 1,
          "nan_count": 0,
          "categories": [
           {
            "name": "James Mangold",
            "count": 3
           }
          ]
         }
        },
        {
         "name": "writer",
         "dtype": "object",
         "stats": {
          "unique_count": 1,
          "nan_count": 0,
          "categories": [
           {
            "name": "James Mangold, Scott Frank, Michael Green",
            "count": 3
           }
          ]
         }
        },
        {
         "name": "actors",
         "dtype": "object",
         "stats": {
          "unique_count": 1,
          "nan_count": 0,
          "categories": [
           {
            "name": "Hugh Jackman, Patrick Stewart, Dafne Keen",
            "count": 3
           }
          ]
         }
        },
        {
         "name": "plot",
         "dtype": "object",
         "stats": {
          "unique_count": 1,
          "nan_count": 0,
          "categories": [
           {
            "name": "In 2029 the mutant population has shrunken significantly due to genetically modified plants designed to reduce mutant powers and the X-Men have disbanded. Logan, whose power to self-heal is dwindling, has surrendered himself to alcohol and now earns a living as a chauffeur. He takes care of the ailing old Professor X whom he keeps hidden away. One day, a female stranger asks Logan to drive a girl named Laura to the Canadian border. At first he refuses, but the Professor has been waiting for a long time for her to appear. Laura possesses an extraordinary fighting prowess and is in many ways like Wolverine. She is pursued by sinister figures working for a powerful corporation; this is because they made her, with Logan's DNA. A decrepit Logan is forced to ask himself if he can or even wants to put his remaining powers to good use. It would appear that in the near-future, the times in which they were able put the world to rights with razor sharp claws and telepathic powers are now over.",
            "count": 3
           }
          ]
         }
        },
        {
         "name": "language",
         "dtype": "object",
         "stats": {
          "unique_count": 1,
          "nan_count": 0,
          "categories": [
           {
            "name": "English, Spanish",
            "count": 3
           }
          ]
         }
        },
        {
         "name": "country",
         "dtype": "object",
         "stats": {
          "unique_count": 1,
          "nan_count": 0,
          "categories": [
           {
            "name": "United States",
            "count": 3
           }
          ]
         }
        },
        {
         "name": "awards",
         "dtype": "object",
         "stats": {
          "unique_count": 1,
          "nan_count": 0,
          "categories": [
           {
            "name": "Nominated for 1 Oscar. 28 wins & 80 nominations total",
            "count": 3
           }
          ]
         }
        },
        {
         "name": "poster",
         "dtype": "object",
         "stats": {
          "unique_count": 1,
          "nan_count": 0,
          "categories": [
           {
            "name": "https://m.media-amazon.com/images/M/MV5BYzc5MTU4N2EtYTkyMi00NjdhLTg3NWEtMTY4OTEyMzJhZTAzXkEyXkFqcGdeQXVyNjc1NTYyMjg@._V1_SX300.jpg",
            "count": 3
           }
          ]
         }
        },
        {
         "name": "ratings",
         "dtype": "object",
         "stats": {
          "unique_count": 3,
          "nan_count": 0,
          "categories": [
           {
            "name": "{'source': 'Internet Movie Database', 'value': '8.1/10'}",
            "count": 1
           },
           {
            "name": "{'source': 'Rotten Tomatoes', 'value': '94%'}",
            "count": 1
           },
           {
            "name": "{'source': 'Metacritic', 'value': '77/100'}",
            "count": 1
           }
          ]
         }
        },
        {
         "name": "metascore",
         "dtype": "object",
         "stats": {
          "unique_count": 1,
          "nan_count": 0,
          "categories": [
           {
            "name": "77",
            "count": 3
           }
          ]
         }
        },
        {
         "name": "imdb_rating",
         "dtype": "object",
         "stats": {
          "unique_count": 1,
          "nan_count": 0,
          "categories": [
           {
            "name": "8.1",
            "count": 3
           }
          ]
         }
        },
        {
         "name": "imdb_votes",
         "dtype": "object",
         "stats": {
          "unique_count": 1,
          "nan_count": 0,
          "categories": [
           {
            "name": "731,612",
            "count": 3
           }
          ]
         }
        },
        {
         "name": "imdb_id",
         "dtype": "object",
         "stats": {
          "unique_count": 1,
          "nan_count": 0,
          "categories": [
           {
            "name": "tt3315342",
            "count": 3
           }
          ]
         }
        },
        {
         "name": "type",
         "dtype": "object",
         "stats": {
          "unique_count": 1,
          "nan_count": 0,
          "categories": [
           {
            "name": "movie",
            "count": 3
           }
          ]
         }
        },
        {
         "name": "tomato_meter",
         "dtype": "object",
         "stats": {
          "unique_count": 1,
          "nan_count": 0,
          "categories": [
           {
            "name": "N/A",
            "count": 3
           }
          ]
         }
        },
        {
         "name": "tomato_image",
         "dtype": "object",
         "stats": {
          "unique_count": 1,
          "nan_count": 0,
          "categories": [
           {
            "name": "N/A",
            "count": 3
           }
          ]
         }
        },
        {
         "name": "tomato_rating",
         "dtype": "object",
         "stats": {
          "unique_count": 1,
          "nan_count": 0,
          "categories": [
           {
            "name": "N/A",
            "count": 3
           }
          ]
         }
        },
        {
         "name": "tomato_reviews",
         "dtype": "object",
         "stats": {
          "unique_count": 1,
          "nan_count": 0,
          "categories": [
           {
            "name": "N/A",
            "count": 3
           }
          ]
         }
        },
        {
         "name": "tomato_fresh",
         "dtype": "object",
         "stats": {
          "unique_count": 1,
          "nan_count": 0,
          "categories": [
           {
            "name": "N/A",
            "count": 3
           }
          ]
         }
        },
        {
         "name": "tomato_rotten",
         "dtype": "object",
         "stats": {
          "unique_count": 1,
          "nan_count": 0,
          "categories": [
           {
            "name": "N/A",
            "count": 3
           }
          ]
         }
        },
        {
         "name": "tomato_consensus",
         "dtype": "object",
         "stats": {
          "unique_count": 1,
          "nan_count": 0,
          "categories": [
           {
            "name": "N/A",
            "count": 3
           }
          ]
         }
        },
        {
         "name": "tomato_user_meter",
         "dtype": "object",
         "stats": {
          "unique_count": 1,
          "nan_count": 0,
          "categories": [
           {
            "name": "N/A",
            "count": 3
           }
          ]
         }
        },
        {
         "name": "tomato_user_rating",
         "dtype": "object",
         "stats": {
          "unique_count": 1,
          "nan_count": 0,
          "categories": [
           {
            "name": "N/A",
            "count": 3
           }
          ]
         }
        },
        {
         "name": "tomato_user_reviews",
         "dtype": "object",
         "stats": {
          "unique_count": 1,
          "nan_count": 0,
          "categories": [
           {
            "name": "N/A",
            "count": 3
           }
          ]
         }
        },
        {
         "name": "tomato_url",
         "dtype": "object",
         "stats": {
          "unique_count": 1,
          "nan_count": 0,
          "categories": [
           {
            "name": "https://www.rottentomatoes.com/m/logan_2017",
            "count": 3
           }
          ]
         }
        },
        {
         "name": "dvd",
         "dtype": "object",
         "stats": {
          "unique_count": 1,
          "nan_count": 0,
          "categories": [
           {
            "name": "20 Jun 2017",
            "count": 3
           }
          ]
         }
        },
        {
         "name": "box_office",
         "dtype": "object",
         "stats": {
          "unique_count": 1,
          "nan_count": 0,
          "categories": [
           {
            "name": "$226,277,068",
            "count": 3
           }
          ]
         }
        },
        {
         "name": "production",
         "dtype": "object",
         "stats": {
          "unique_count": 1,
          "nan_count": 0,
          "categories": [
           {
            "name": "N/A",
            "count": 3
           }
          ]
         }
        },
        {
         "name": "website",
         "dtype": "object",
         "stats": {
          "unique_count": 1,
          "nan_count": 0,
          "categories": [
           {
            "name": "N/A",
            "count": 3
           }
          ]
         }
        },
        {
         "name": "response",
         "dtype": "object",
         "stats": {
          "unique_count": 1,
          "nan_count": 0,
          "categories": [
           {
            "name": "True",
            "count": 3
           }
          ]
         }
        },
        {
         "name": "_deepnote_index_column",
         "dtype": "int64"
        }
       ],
       "rows": [
        {
         "title": "Logan",
         "year": "2017",
         "rated": "R",
         "released": "03 Mar 2017",
         "runtime": "137 min",
         "genre": "Action, Drama, Sci-Fi",
         "director": "James Mangold",
         "writer": "James Mangold, Scott Frank, Michael Green",
         "actors": "Hugh Jackman, Patrick Stewart, Dafne Keen",
         "plot": "In 2029 the mutant population has shrunken significantly due to genetically modified plants designed to reduce mutant powers and the X-Men have disbanded. Logan, whose power to self-heal is dwindling, has surrendered himself to alcohol and now earns a living as a chauffeur. He takes care of the ailing old Professor X whom he keeps hidden away. One day, a female stranger asks Logan to drive a girl named Laura to the Canadian border. At first he refuses, but the Professor has been waiting for a long time for her to appear. Laura possesses an extraordinary fighting prowess and is in many ways like Wolverine. She is pursued by sinister figures working for a powerful corporation; this is because they made her, with Logan's DNA. A decrepit Logan is forced to ask himself if he can or even wants to put his remaining powers to good use. It would appear that in the near-future, the times in which they were able put the world to rights with razor sharp claws and telepathic powers are now over.",
         "language": "English, Spanish",
         "country": "United States",
         "awards": "Nominated for 1 Oscar. 28 wins & 80 nominations total",
         "poster": "https://m.media-amazon.com/images/M/MV5BYzc5MTU4N2EtYTkyMi00NjdhLTg3NWEtMTY4OTEyMzJhZTAzXkEyXkFqcGdeQXVyNjc1NTYyMjg@._V1_SX300.jpg",
         "ratings": "{'source': 'Internet Movie Database', 'value': '8.1/10'}",
         "metascore": "77",
         "imdb_rating": "8.1",
         "imdb_votes": "731,612",
         "imdb_id": "tt3315342",
         "type": "movie",
         "tomato_meter": "N/A",
         "tomato_image": "N/A",
         "tomato_rating": "N/A",
         "tomato_reviews": "N/A",
         "tomato_fresh": "N/A",
         "tomato_rotten": "N/A",
         "tomato_consensus": "N/A",
         "tomato_user_meter": "N/A",
         "tomato_user_rating": "N/A",
         "tomato_user_reviews": "N/A",
         "tomato_url": "https://www.rottentomatoes.com/m/logan_2017",
         "dvd": "20 Jun 2017",
         "box_office": "$226,277,068",
         "production": "N/A",
         "website": "N/A",
         "response": "True",
         "_deepnote_index_column": 0
        },
        {
         "title": "Logan",
         "year": "2017",
         "rated": "R",
         "released": "03 Mar 2017",
         "runtime": "137 min",
         "genre": "Action, Drama, Sci-Fi",
         "director": "James Mangold",
         "writer": "James Mangold, Scott Frank, Michael Green",
         "actors": "Hugh Jackman, Patrick Stewart, Dafne Keen",
         "plot": "In 2029 the mutant population has shrunken significantly due to genetically modified plants designed to reduce mutant powers and the X-Men have disbanded. Logan, whose power to self-heal is dwindling, has surrendered himself to alcohol and now earns a living as a chauffeur. He takes care of the ailing old Professor X whom he keeps hidden away. One day, a female stranger asks Logan to drive a girl named Laura to the Canadian border. At first he refuses, but the Professor has been waiting for a long time for her to appear. Laura possesses an extraordinary fighting prowess and is in many ways like Wolverine. She is pursued by sinister figures working for a powerful corporation; this is because they made her, with Logan's DNA. A decrepit Logan is forced to ask himself if he can or even wants to put his remaining powers to good use. It would appear that in the near-future, the times in which they were able put the world to rights with razor sharp claws and telepathic powers are now over.",
         "language": "English, Spanish",
         "country": "United States",
         "awards": "Nominated for 1 Oscar. 28 wins & 80 nominations total",
         "poster": "https://m.media-amazon.com/images/M/MV5BYzc5MTU4N2EtYTkyMi00NjdhLTg3NWEtMTY4OTEyMzJhZTAzXkEyXkFqcGdeQXVyNjc1NTYyMjg@._V1_SX300.jpg",
         "ratings": "{'source': 'Rotten Tomatoes', 'value': '94%'}",
         "metascore": "77",
         "imdb_rating": "8.1",
         "imdb_votes": "731,612",
         "imdb_id": "tt3315342",
         "type": "movie",
         "tomato_meter": "N/A",
         "tomato_image": "N/A",
         "tomato_rating": "N/A",
         "tomato_reviews": "N/A",
         "tomato_fresh": "N/A",
         "tomato_rotten": "N/A",
         "tomato_consensus": "N/A",
         "tomato_user_meter": "N/A",
         "tomato_user_rating": "N/A",
         "tomato_user_reviews": "N/A",
         "tomato_url": "https://www.rottentomatoes.com/m/logan_2017",
         "dvd": "20 Jun 2017",
         "box_office": "$226,277,068",
         "production": "N/A",
         "website": "N/A",
         "response": "True",
         "_deepnote_index_column": 1
        },
        {
         "title": "Logan",
         "year": "2017",
         "rated": "R",
         "released": "03 Mar 2017",
         "runtime": "137 min",
         "genre": "Action, Drama, Sci-Fi",
         "director": "James Mangold",
         "writer": "James Mangold, Scott Frank, Michael Green",
         "actors": "Hugh Jackman, Patrick Stewart, Dafne Keen",
         "plot": "In 2029 the mutant population has shrunken significantly due to genetically modified plants designed to reduce mutant powers and the X-Men have disbanded. Logan, whose power to self-heal is dwindling, has surrendered himself to alcohol and now earns a living as a chauffeur. He takes care of the ailing old Professor X whom he keeps hidden away. One day, a female stranger asks Logan to drive a girl named Laura to the Canadian border. At first he refuses, but the Professor has been waiting for a long time for her to appear. Laura possesses an extraordinary fighting prowess and is in many ways like Wolverine. She is pursued by sinister figures working for a powerful corporation; this is because they made her, with Logan's DNA. A decrepit Logan is forced to ask himself if he can or even wants to put his remaining powers to good use. It would appear that in the near-future, the times in which they were able put the world to rights with razor sharp claws and telepathic powers are now over.",
         "language": "English, Spanish",
         "country": "United States",
         "awards": "Nominated for 1 Oscar. 28 wins & 80 nominations total",
         "poster": "https://m.media-amazon.com/images/M/MV5BYzc5MTU4N2EtYTkyMi00NjdhLTg3NWEtMTY4OTEyMzJhZTAzXkEyXkFqcGdeQXVyNjc1NTYyMjg@._V1_SX300.jpg",
         "ratings": "{'source': 'Metacritic', 'value': '77/100'}",
         "metascore": "77",
         "imdb_rating": "8.1",
         "imdb_votes": "731,612",
         "imdb_id": "tt3315342",
         "type": "movie",
         "tomato_meter": "N/A",
         "tomato_image": "N/A",
         "tomato_rating": "N/A",
         "tomato_reviews": "N/A",
         "tomato_fresh": "N/A",
         "tomato_rotten": "N/A",
         "tomato_consensus": "N/A",
         "tomato_user_meter": "N/A",
         "tomato_user_rating": "N/A",
         "tomato_user_reviews": "N/A",
         "tomato_url": "https://www.rottentomatoes.com/m/logan_2017",
         "dvd": "20 Jun 2017",
         "box_office": "$226,277,068",
         "production": "N/A",
         "website": "N/A",
         "response": "True",
         "_deepnote_index_column": 2
        }
       ]
      },
      "text/plain": "   title  year rated     released  runtime                  genre  \\\n0  Logan  2017     R  03 Mar 2017  137 min  Action, Drama, Sci-Fi   \n1  Logan  2017     R  03 Mar 2017  137 min  Action, Drama, Sci-Fi   \n2  Logan  2017     R  03 Mar 2017  137 min  Action, Drama, Sci-Fi   \n\n        director                                     writer  \\\n0  James Mangold  James Mangold, Scott Frank, Michael Green   \n1  James Mangold  James Mangold, Scott Frank, Michael Green   \n2  James Mangold  James Mangold, Scott Frank, Michael Green   \n\n                                      actors  \\\n0  Hugh Jackman, Patrick Stewart, Dafne Keen   \n1  Hugh Jackman, Patrick Stewart, Dafne Keen   \n2  Hugh Jackman, Patrick Stewart, Dafne Keen   \n\n                                                plot  ... tomato_consensus  \\\n0  In 2029 the mutant population has shrunken sig...  ...              N/A   \n1  In 2029 the mutant population has shrunken sig...  ...              N/A   \n2  In 2029 the mutant population has shrunken sig...  ...              N/A   \n\n  tomato_user_meter tomato_user_rating tomato_user_reviews  \\\n0               N/A                N/A                 N/A   \n1               N/A                N/A                 N/A   \n2               N/A                N/A                 N/A   \n\n                                    tomato_url          dvd    box_office  \\\n0  https://www.rottentomatoes.com/m/logan_2017  20 Jun 2017  $226,277,068   \n1  https://www.rottentomatoes.com/m/logan_2017  20 Jun 2017  $226,277,068   \n2  https://www.rottentomatoes.com/m/logan_2017  20 Jun 2017  $226,277,068   \n\n  production website response  \n0        N/A     N/A     True  \n1        N/A     N/A     True  \n2        N/A     N/A     True  \n\n[3 rows x 36 columns]",
      "text/html": "<div>\n<style scoped>\n    .dataframe tbody tr th:only-of-type {\n        vertical-align: middle;\n    }\n\n    .dataframe tbody tr th {\n        vertical-align: top;\n    }\n\n    .dataframe thead th {\n        text-align: right;\n    }\n</style>\n<table border=\"1\" class=\"dataframe\">\n  <thead>\n    <tr style=\"text-align: right;\">\n      <th></th>\n      <th>title</th>\n      <th>year</th>\n      <th>rated</th>\n      <th>released</th>\n      <th>runtime</th>\n      <th>genre</th>\n      <th>director</th>\n      <th>writer</th>\n      <th>actors</th>\n      <th>plot</th>\n      <th>...</th>\n      <th>tomato_consensus</th>\n      <th>tomato_user_meter</th>\n      <th>tomato_user_rating</th>\n      <th>tomato_user_reviews</th>\n      <th>tomato_url</th>\n      <th>dvd</th>\n      <th>box_office</th>\n      <th>production</th>\n      <th>website</th>\n      <th>response</th>\n    </tr>\n  </thead>\n  <tbody>\n    <tr>\n      <th>0</th>\n      <td>Logan</td>\n      <td>2017</td>\n      <td>R</td>\n      <td>03 Mar 2017</td>\n      <td>137 min</td>\n      <td>Action, Drama, Sci-Fi</td>\n      <td>James Mangold</td>\n      <td>James Mangold, Scott Frank, Michael Green</td>\n      <td>Hugh Jackman, Patrick Stewart, Dafne Keen</td>\n      <td>In 2029 the mutant population has shrunken sig...</td>\n      <td>...</td>\n      <td>N/A</td>\n      <td>N/A</td>\n      <td>N/A</td>\n      <td>N/A</td>\n      <td>https://www.rottentomatoes.com/m/logan_2017</td>\n      <td>20 Jun 2017</td>\n      <td>$226,277,068</td>\n      <td>N/A</td>\n      <td>N/A</td>\n      <td>True</td>\n    </tr>\n    <tr>\n      <th>1</th>\n      <td>Logan</td>\n      <td>2017</td>\n      <td>R</td>\n      <td>03 Mar 2017</td>\n      <td>137 min</td>\n      <td>Action, Drama, Sci-Fi</td>\n      <td>James Mangold</td>\n      <td>James Mangold, Scott Frank, Michael Green</td>\n      <td>Hugh Jackman, Patrick Stewart, Dafne Keen</td>\n      <td>In 2029 the mutant population has shrunken sig...</td>\n      <td>...</td>\n      <td>N/A</td>\n      <td>N/A</td>\n      <td>N/A</td>\n      <td>N/A</td>\n      <td>https://www.rottentomatoes.com/m/logan_2017</td>\n      <td>20 Jun 2017</td>\n      <td>$226,277,068</td>\n      <td>N/A</td>\n      <td>N/A</td>\n      <td>True</td>\n    </tr>\n    <tr>\n      <th>2</th>\n      <td>Logan</td>\n      <td>2017</td>\n      <td>R</td>\n      <td>03 Mar 2017</td>\n      <td>137 min</td>\n      <td>Action, Drama, Sci-Fi</td>\n      <td>James Mangold</td>\n      <td>James Mangold, Scott Frank, Michael Green</td>\n      <td>Hugh Jackman, Patrick Stewart, Dafne Keen</td>\n      <td>In 2029 the mutant population has shrunken sig...</td>\n      <td>...</td>\n      <td>N/A</td>\n      <td>N/A</td>\n      <td>N/A</td>\n      <td>N/A</td>\n      <td>https://www.rottentomatoes.com/m/logan_2017</td>\n      <td>20 Jun 2017</td>\n      <td>$226,277,068</td>\n      <td>N/A</td>\n      <td>N/A</td>\n      <td>True</td>\n    </tr>\n  </tbody>\n</table>\n<p>3 rows × 36 columns</p>\n</div>"
     },
     "metadata": {}
    }
   ],
   "execution_count": 20
  },
  {
   "cell_type": "code",
   "source": "logan_df.columns",
   "metadata": {
    "cell_id": "62339f729f14452f82a63b927052e692",
    "tags": [],
    "deepnote_to_be_reexecuted": false,
    "source_hash": "3bcb193",
    "execution_start": 1654234555572,
    "execution_millis": 17,
    "deepnote_cell_type": "code",
    "deepnote_cell_height": 253,
    "deepnote_output_heights": [
     156
    ]
   },
   "outputs": [
    {
     "output_type": "execute_result",
     "execution_count": 21,
     "data": {
      "text/plain": "Index(['title', 'year', 'rated', 'released', 'runtime', 'genre', 'director',\n       'writer', 'actors', 'plot', 'language', 'country', 'awards', 'poster',\n       'ratings', 'metascore', 'imdb_rating', 'imdb_votes', 'imdb_id', 'type',\n       'tomato_meter', 'tomato_image', 'tomato_rating', 'tomato_reviews',\n       'tomato_fresh', 'tomato_rotten', 'tomato_consensus',\n       'tomato_user_meter', 'tomato_user_rating', 'tomato_user_reviews',\n       'tomato_url', 'dvd', 'box_office', 'production', 'website', 'response'],\n      dtype='object')"
     },
     "metadata": {}
    }
   ],
   "execution_count": 21
  },
  {
   "cell_type": "code",
   "source": "logan_df['tomato_user_reviews']",
   "metadata": {
    "cell_id": "6ef80512a601420b9c80b066d52df06f",
    "tags": [],
    "deepnote_to_be_reexecuted": false,
    "source_hash": "14b053e7",
    "execution_start": 1654234573784,
    "execution_millis": 18,
    "deepnote_cell_type": "code",
    "deepnote_cell_height": 176,
    "deepnote_output_heights": [
     79
    ]
   },
   "outputs": [
    {
     "output_type": "execute_result",
     "execution_count": 23,
     "data": {
      "text/plain": "0    N/A\n1    N/A\n2    N/A\nName: tomato_user_reviews, dtype: object"
     },
     "metadata": {}
    }
   ],
   "execution_count": 23
  },
  {
   "cell_type": "code",
   "source": "",
   "metadata": {
    "cell_id": "d0e648334b674663aa9f7a729b3ddc6c",
    "tags": [],
    "owner_user_id": "f003377f-535d-43ef-8b69-db2e2c66d27e",
    "deepnote_cell_type": "code",
    "deepnote_cell_height": 66
   },
   "outputs": [],
   "execution_count": null
  },
  {
   "cell_type": "markdown",
   "source": "<a style='text-decoration:none;line-height:16px;display:flex;color:#5B5B62;padding:10px;justify-content:end;' href='https://deepnote.com?utm_source=created-in-deepnote-cell&projectId=53ef1faa-b7a9-4637-b54c-3b067e58670d' target=\"_blank\">\n<img alt='Created in deepnote.com' style='display:inline;max-height:16px;margin:0px;margin-right:7.5px;' src='data:image/svg+xml;base64,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' > </img>\nCreated in <span style='font-weight:600;margin-left:4px;'>Deepnote</span></a>",
   "metadata": {
    "tags": [],
    "created_in_deepnote_cell": true,
    "deepnote_cell_type": "markdown"
   }
  }
 ],
 "nbformat": 4,
 "nbformat_minor": 2,
 "metadata": {
  "orig_nbformat": 2,
  "deepnote": {},
  "deepnote_notebook_id": "fd55cbee-8d7f-4885-974d-358035dcefa0",
  "deepnote_execution_queue": []
 }
}