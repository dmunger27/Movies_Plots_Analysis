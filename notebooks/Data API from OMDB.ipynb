{
 "cells": [
  {
   "cell_type": "markdown",
   "source": "# Packages",
   "metadata": {
    "cell_id": "a9a612f9d8ad49ca8705658c5fd957b9",
    "tags": [],
    "deepnote_cell_type": "markdown",
    "deepnote_cell_height": 82
   }
  },
  {
   "cell_type": "code",
   "metadata": {
    "tags": [],
    "cell_id": "0009e8fd-bf63-47a7-867b-95029c6d06dd",
    "deepnote_to_be_reexecuted": false,
    "source_hash": "3bc6f746",
    "execution_start": 1654243962156,
    "execution_millis": 117,
    "deepnote_cell_type": "code",
    "deepnote_cell_height": 207
   },
   "source": "import pandas as pd\nimport numpy as np\nfrom bs4 import BeautifulSoup\nimport requests\nfrom requests import TooManyRedirects\nimport re\nimport omdb\nimport time",
   "execution_count": 1,
   "outputs": []
  },
  {
   "cell_type": "markdown",
   "source": "# API Set-up",
   "metadata": {
    "cell_id": "b4296f4b51f845df8910a2317a7bbd38",
    "tags": [],
    "deepnote_cell_type": "markdown",
    "deepnote_cell_height": 82
   }
  },
  {
   "cell_type": "code",
   "metadata": {
    "cell_id": "23e203b423b14b55b1fb5dbf04030249",
    "tags": [],
    "deepnote_to_be_reexecuted": false,
    "source_hash": "2fba579d",
    "execution_start": 1654243962327,
    "execution_millis": 0,
    "deepnote_cell_type": "code",
    "deepnote_cell_height": 153
   },
   "source": "api_key = \"2857b99a\" # Jimmy's key - limit 1000 calls a day\nomdb.set_default('apikey', api_key)\n\n# include tomatoes data by default\n#omdb.set_default('tomatoes', True)",
   "execution_count": 2,
   "outputs": []
  },
  {
   "cell_type": "markdown",
   "source": "# Pulling Data from API",
   "metadata": {
    "cell_id": "dfed668e95db440083a3b48e851007e9",
    "tags": [],
    "deepnote_cell_type": "markdown",
    "deepnote_cell_height": 82
   }
  },
  {
   "cell_type": "code",
   "source": "# set timeout of 5 seconds for this request\nlogan_df = pd.DataFrame(omdb.get(title='Logan', year=2017, fullplot=True, tomatoes=True, timeout=5))\nlogan_df",
   "metadata": {
    "cell_id": "086c62303b97405c86bb22f203779207",
    "tags": [],
    "deepnote_to_be_reexecuted": false,
    "source_hash": "21b32458",
    "execution_start": 1654243962328,
    "execution_millis": 804,
    "deepnote_cell_type": "code",
    "deepnote_cell_height": 366,
    "deepnote_output_heights": [
     611
    ]
   },
   "outputs": [
    {
     "output_type": "execute_result",
     "execution_count": 3,
     "data": {
      "application/vnd.deepnote.dataframe.v3+json": {
       "column_count": 36,
       "row_count": 3,
       "columns": [
        {
         "name": "title",
         "dtype": "object",
         "stats": {
          "unique_count": 1,
          "nan_count": 0,
          "categories": [
           {
            "name": "Logan",
            "count": 3
           }
          ]
         }
        },
        {
         "name": "year",
         "dtype": "object",
         "stats": {
          "unique_count": 1,
          "nan_count": 0,
          "categories": [
           {
            "name": "2017",
            "count": 3
           }
          ]
         }
        },
        {
         "name": "rated",
         "dtype": "object",
         "stats": {
          "unique_count": 1,
          "nan_count": 0,
          "categories": [
           {
            "name": "R",
            "count": 3
           }
          ]
         }
        },
        {
         "name": "released",
         "dtype": "object",
         "stats": {
          "unique_count": 1,
          "nan_count": 0,
          "categories": [
           {
            "name": "03 Mar 2017",
            "count": 3
           }
          ]
         }
        },
        {
         "name": "runtime",
         "dtype": "object",
         "stats": {
          "unique_count": 1,
          "nan_count": 0,
          "categories": [
           {
            "name": "137 min",
            "count": 3
           }
          ]
         }
        },
        {
         "name": "genre",
         "dtype": "object",
         "stats": {
          "unique_count": 1,
          "nan_count": 0,
          "categories": [
           {
            "name": "Action, Drama, Sci-Fi",
            "count": 3
           }
          ]
         }
        },
        {
         "name": "director",
         "dtype": "object",
         "stats": {
          "unique_count": 1,
          "nan_count": 0,
          "categories": [
           {
            "name": "James Mangold",
            "count": 3
           }
          ]
         }
        },
        {
         "name": "writer",
         "dtype": "object",
         "stats": {
          "unique_count": 1,
          "nan_count": 0,
          "categories": [
           {
            "name": "James Mangold, Scott Frank, Michael Green",
            "count": 3
           }
          ]
         }
        },
        {
         "name": "actors",
         "dtype": "object",
         "stats": {
          "unique_count": 1,
          "nan_count": 0,
          "categories": [
           {
            "name": "Hugh Jackman, Patrick Stewart, Dafne Keen",
            "count": 3
           }
          ]
         }
        },
        {
         "name": "plot",
         "dtype": "object",
         "stats": {
          "unique_count": 1,
          "nan_count": 0,
          "categories": [
           {
            "name": "In 2029 the mutant population has shrunken significantly due to genetically modified plants designed to reduce mutant powers and the X-Men have disbanded. Logan, whose power to self-heal is dwindling, has surrendered himself to alcohol and now earns a living as a chauffeur. He takes care of the ailing old Professor X whom he keeps hidden away. One day, a female stranger asks Logan to drive a girl named Laura to the Canadian border. At first he refuses, but the Professor has been waiting for a long time for her to appear. Laura possesses an extraordinary fighting prowess and is in many ways like Wolverine. She is pursued by sinister figures working for a powerful corporation; this is because they made her, with Logan's DNA. A decrepit Logan is forced to ask himself if he can or even wants to put his remaining powers to good use. It would appear that in the near-future, the times in which they were able put the world to rights with razor sharp claws and telepathic powers are now over.",
            "count": 3
           }
          ]
         }
        },
        {
         "name": "language",
         "dtype": "object",
         "stats": {
          "unique_count": 1,
          "nan_count": 0,
          "categories": [
           {
            "name": "English, Spanish",
            "count": 3
           }
          ]
         }
        },
        {
         "name": "country",
         "dtype": "object",
         "stats": {
          "unique_count": 1,
          "nan_count": 0,
          "categories": [
           {
            "name": "United States",
            "count": 3
           }
          ]
         }
        },
        {
         "name": "awards",
         "dtype": "object",
         "stats": {
          "unique_count": 1,
          "nan_count": 0,
          "categories": [
           {
            "name": "Nominated for 1 Oscar. 28 wins & 80 nominations total",
            "count": 3
           }
          ]
         }
        },
        {
         "name": "poster",
         "dtype": "object",
         "stats": {
          "unique_count": 1,
          "nan_count": 0,
          "categories": [
           {
            "name": "https://m.media-amazon.com/images/M/MV5BYzc5MTU4N2EtYTkyMi00NjdhLTg3NWEtMTY4OTEyMzJhZTAzXkEyXkFqcGdeQXVyNjc1NTYyMjg@._V1_SX300.jpg",
            "count": 3
           }
          ]
         }
        },
        {
         "name": "ratings",
         "dtype": "object",
         "stats": {
          "unique_count": 3,
          "nan_count": 0,
          "categories": [
           {
            "name": "{'source': 'Internet Movie Database', 'value': '8.1/10'}",
            "count": 1
           },
           {
            "name": "{'source': 'Rotten Tomatoes', 'value': '94%'}",
            "count": 1
           },
           {
            "name": "{'source': 'Metacritic', 'value': '77/100'}",
            "count": 1
           }
          ]
         }
        },
        {
         "name": "metascore",
         "dtype": "object",
         "stats": {
          "unique_count": 1,
          "nan_count": 0,
          "categories": [
           {
            "name": "77",
            "count": 3
           }
          ]
         }
        },
        {
         "name": "imdb_rating",
         "dtype": "object",
         "stats": {
          "unique_count": 1,
          "nan_count": 0,
          "categories": [
           {
            "name": "8.1",
            "count": 3
           }
          ]
         }
        },
        {
         "name": "imdb_votes",
         "dtype": "object",
         "stats": {
          "unique_count": 1,
          "nan_count": 0,
          "categories": [
           {
            "name": "731,612",
            "count": 3
           }
          ]
         }
        },
        {
         "name": "imdb_id",
         "dtype": "object",
         "stats": {
          "unique_count": 1,
          "nan_count": 0,
          "categories": [
           {
            "name": "tt3315342",
            "count": 3
           }
          ]
         }
        },
        {
         "name": "type",
         "dtype": "object",
         "stats": {
          "unique_count": 1,
          "nan_count": 0,
          "categories": [
           {
            "name": "movie",
            "count": 3
           }
          ]
         }
        },
        {
         "name": "tomato_meter",
         "dtype": "object",
         "stats": {
          "unique_count": 1,
          "nan_count": 0,
          "categories": [
           {
            "name": "N/A",
            "count": 3
           }
          ]
         }
        },
        {
         "name": "tomato_image",
         "dtype": "object",
         "stats": {
          "unique_count": 1,
          "nan_count": 0,
          "categories": [
           {
            "name": "N/A",
            "count": 3
           }
          ]
         }
        },
        {
         "name": "tomato_rating",
         "dtype": "object",
         "stats": {
          "unique_count": 1,
          "nan_count": 0,
          "categories": [
           {
            "name": "N/A",
            "count": 3
           }
          ]
         }
        },
        {
         "name": "tomato_reviews",
         "dtype": "object",
         "stats": {
          "unique_count": 1,
          "nan_count": 0,
          "categories": [
           {
            "name": "N/A",
            "count": 3
           }
          ]
         }
        },
        {
         "name": "tomato_fresh",
         "dtype": "object",
         "stats": {
          "unique_count": 1,
          "nan_count": 0,
          "categories": [
           {
            "name": "N/A",
            "count": 3
           }
          ]
         }
        },
        {
         "name": "tomato_rotten",
         "dtype": "object",
         "stats": {
          "unique_count": 1,
          "nan_count": 0,
          "categories": [
           {
            "name": "N/A",
            "count": 3
           }
          ]
         }
        },
        {
         "name": "tomato_consensus",
         "dtype": "object",
         "stats": {
          "unique_count": 1,
          "nan_count": 0,
          "categories": [
           {
            "name": "N/A",
            "count": 3
           }
          ]
         }
        },
        {
         "name": "tomato_user_meter",
         "dtype": "object",
         "stats": {
          "unique_count": 1,
          "nan_count": 0,
          "categories": [
           {
            "name": "N/A",
            "count": 3
           }
          ]
         }
        },
        {
         "name": "tomato_user_rating",
         "dtype": "object",
         "stats": {
          "unique_count": 1,
          "nan_count": 0,
          "categories": [
           {
            "name": "N/A",
            "count": 3
           }
          ]
         }
        },
        {
         "name": "tomato_user_reviews",
         "dtype": "object",
         "stats": {
          "unique_count": 1,
          "nan_count": 0,
          "categories": [
           {
            "name": "N/A",
            "count": 3
           }
          ]
         }
        },
        {
         "name": "tomato_url",
         "dtype": "object",
         "stats": {
          "unique_count": 1,
          "nan_count": 0,
          "categories": [
           {
            "name": "https://www.rottentomatoes.com/m/logan_2017",
            "count": 3
           }
          ]
         }
        },
        {
         "name": "dvd",
         "dtype": "object",
         "stats": {
          "unique_count": 1,
          "nan_count": 0,
          "categories": [
           {
            "name": "20 Jun 2017",
            "count": 3
           }
          ]
         }
        },
        {
         "name": "box_office",
         "dtype": "object",
         "stats": {
          "unique_count": 1,
          "nan_count": 0,
          "categories": [
           {
            "name": "$226,277,068",
            "count": 3
           }
          ]
         }
        },
        {
         "name": "production",
         "dtype": "object",
         "stats": {
          "unique_count": 1,
          "nan_count": 0,
          "categories": [
           {
            "name": "N/A",
            "count": 3
           }
          ]
         }
        },
        {
         "name": "website",
         "dtype": "object",
         "stats": {
          "unique_count": 1,
          "nan_count": 0,
          "categories": [
           {
            "name": "N/A",
            "count": 3
           }
          ]
         }
        },
        {
         "name": "response",
         "dtype": "object",
         "stats": {
          "unique_count": 1,
          "nan_count": 0,
          "categories": [
           {
            "name": "True",
            "count": 3
           }
          ]
         }
        },
        {
         "name": "_deepnote_index_column",
         "dtype": "int64"
        }
       ],
       "rows": [
        {
         "title": "Logan",
         "year": "2017",
         "rated": "R",
         "released": "03 Mar 2017",
         "runtime": "137 min",
         "genre": "Action, Drama, Sci-Fi",
         "director": "James Mangold",
         "writer": "James Mangold, Scott Frank, Michael Green",
         "actors": "Hugh Jackman, Patrick Stewart, Dafne Keen",
         "plot": "In 2029 the mutant population has shrunken significantly due to genetically modified plants designed to reduce mutant powers and the X-Men have disbanded. Logan, whose power to self-heal is dwindling, has surrendered himself to alcohol and now earns a living as a chauffeur. He takes care of the ailing old Professor X whom he keeps hidden away. One day, a female stranger asks Logan to drive a girl named Laura to the Canadian border. At first he refuses, but the Professor has been waiting for a long time for her to appear. Laura possesses an extraordinary fighting prowess and is in many ways like Wolverine. She is pursued by sinister figures working for a powerful corporation; this is because they made her, with Logan's DNA. A decrepit Logan is forced to ask himself if he can or even wants to put his remaining powers to good use. It would appear that in the near-future, the times in which they were able put the world to rights with razor sharp claws and telepathic powers are now over.",
         "language": "English, Spanish",
         "country": "United States",
         "awards": "Nominated for 1 Oscar. 28 wins & 80 nominations total",
         "poster": "https://m.media-amazon.com/images/M/MV5BYzc5MTU4N2EtYTkyMi00NjdhLTg3NWEtMTY4OTEyMzJhZTAzXkEyXkFqcGdeQXVyNjc1NTYyMjg@._V1_SX300.jpg",
         "ratings": "{'source': 'Internet Movie Database', 'value': '8.1/10'}",
         "metascore": "77",
         "imdb_rating": "8.1",
         "imdb_votes": "731,612",
         "imdb_id": "tt3315342",
         "type": "movie",
         "tomato_meter": "N/A",
         "tomato_image": "N/A",
         "tomato_rating": "N/A",
         "tomato_reviews": "N/A",
         "tomato_fresh": "N/A",
         "tomato_rotten": "N/A",
         "tomato_consensus": "N/A",
         "tomato_user_meter": "N/A",
         "tomato_user_rating": "N/A",
         "tomato_user_reviews": "N/A",
         "tomato_url": "https://www.rottentomatoes.com/m/logan_2017",
         "dvd": "20 Jun 2017",
         "box_office": "$226,277,068",
         "production": "N/A",
         "website": "N/A",
         "response": "True",
         "_deepnote_index_column": 0
        },
        {
         "title": "Logan",
         "year": "2017",
         "rated": "R",
         "released": "03 Mar 2017",
         "runtime": "137 min",
         "genre": "Action, Drama, Sci-Fi",
         "director": "James Mangold",
         "writer": "James Mangold, Scott Frank, Michael Green",
         "actors": "Hugh Jackman, Patrick Stewart, Dafne Keen",
         "plot": "In 2029 the mutant population has shrunken significantly due to genetically modified plants designed to reduce mutant powers and the X-Men have disbanded. Logan, whose power to self-heal is dwindling, has surrendered himself to alcohol and now earns a living as a chauffeur. He takes care of the ailing old Professor X whom he keeps hidden away. One day, a female stranger asks Logan to drive a girl named Laura to the Canadian border. At first he refuses, but the Professor has been waiting for a long time for her to appear. Laura possesses an extraordinary fighting prowess and is in many ways like Wolverine. She is pursued by sinister figures working for a powerful corporation; this is because they made her, with Logan's DNA. A decrepit Logan is forced to ask himself if he can or even wants to put his remaining powers to good use. It would appear that in the near-future, the times in which they were able put the world to rights with razor sharp claws and telepathic powers are now over.",
         "language": "English, Spanish",
         "country": "United States",
         "awards": "Nominated for 1 Oscar. 28 wins & 80 nominations total",
         "poster": "https://m.media-amazon.com/images/M/MV5BYzc5MTU4N2EtYTkyMi00NjdhLTg3NWEtMTY4OTEyMzJhZTAzXkEyXkFqcGdeQXVyNjc1NTYyMjg@._V1_SX300.jpg",
         "ratings": "{'source': 'Rotten Tomatoes', 'value': '94%'}",
         "metascore": "77",
         "imdb_rating": "8.1",
         "imdb_votes": "731,612",
         "imdb_id": "tt3315342",
         "type": "movie",
         "tomato_meter": "N/A",
         "tomato_image": "N/A",
         "tomato_rating": "N/A",
         "tomato_reviews": "N/A",
         "tomato_fresh": "N/A",
         "tomato_rotten": "N/A",
         "tomato_consensus": "N/A",
         "tomato_user_meter": "N/A",
         "tomato_user_rating": "N/A",
         "tomato_user_reviews": "N/A",
         "tomato_url": "https://www.rottentomatoes.com/m/logan_2017",
         "dvd": "20 Jun 2017",
         "box_office": "$226,277,068",
         "production": "N/A",
         "website": "N/A",
         "response": "True",
         "_deepnote_index_column": 1
        },
        {
         "title": "Logan",
         "year": "2017",
         "rated": "R",
         "released": "03 Mar 2017",
         "runtime": "137 min",
         "genre": "Action, Drama, Sci-Fi",
         "director": "James Mangold",
         "writer": "James Mangold, Scott Frank, Michael Green",
         "actors": "Hugh Jackman, Patrick Stewart, Dafne Keen",
         "plot": "In 2029 the mutant population has shrunken significantly due to genetically modified plants designed to reduce mutant powers and the X-Men have disbanded. Logan, whose power to self-heal is dwindling, has surrendered himself to alcohol and now earns a living as a chauffeur. He takes care of the ailing old Professor X whom he keeps hidden away. One day, a female stranger asks Logan to drive a girl named Laura to the Canadian border. At first he refuses, but the Professor has been waiting for a long time for her to appear. Laura possesses an extraordinary fighting prowess and is in many ways like Wolverine. She is pursued by sinister figures working for a powerful corporation; this is because they made her, with Logan's DNA. A decrepit Logan is forced to ask himself if he can or even wants to put his remaining powers to good use. It would appear that in the near-future, the times in which they were able put the world to rights with razor sharp claws and telepathic powers are now over.",
         "language": "English, Spanish",
         "country": "United States",
         "awards": "Nominated for 1 Oscar. 28 wins & 80 nominations total",
         "poster": "https://m.media-amazon.com/images/M/MV5BYzc5MTU4N2EtYTkyMi00NjdhLTg3NWEtMTY4OTEyMzJhZTAzXkEyXkFqcGdeQXVyNjc1NTYyMjg@._V1_SX300.jpg",
         "ratings": "{'source': 'Metacritic', 'value': '77/100'}",
         "metascore": "77",
         "imdb_rating": "8.1",
         "imdb_votes": "731,612",
         "imdb_id": "tt3315342",
         "type": "movie",
         "tomato_meter": "N/A",
         "tomato_image": "N/A",
         "tomato_rating": "N/A",
         "tomato_reviews": "N/A",
         "tomato_fresh": "N/A",
         "tomato_rotten": "N/A",
         "tomato_consensus": "N/A",
         "tomato_user_meter": "N/A",
         "tomato_user_rating": "N/A",
         "tomato_user_reviews": "N/A",
         "tomato_url": "https://www.rottentomatoes.com/m/logan_2017",
         "dvd": "20 Jun 2017",
         "box_office": "$226,277,068",
         "production": "N/A",
         "website": "N/A",
         "response": "True",
         "_deepnote_index_column": 2
        }
       ]
      },
      "text/plain": "   title  year rated     released  runtime                  genre  \\\n0  Logan  2017     R  03 Mar 2017  137 min  Action, Drama, Sci-Fi   \n1  Logan  2017     R  03 Mar 2017  137 min  Action, Drama, Sci-Fi   \n2  Logan  2017     R  03 Mar 2017  137 min  Action, Drama, Sci-Fi   \n\n        director                                     writer  \\\n0  James Mangold  James Mangold, Scott Frank, Michael Green   \n1  James Mangold  James Mangold, Scott Frank, Michael Green   \n2  James Mangold  James Mangold, Scott Frank, Michael Green   \n\n                                      actors  \\\n0  Hugh Jackman, Patrick Stewart, Dafne Keen   \n1  Hugh Jackman, Patrick Stewart, Dafne Keen   \n2  Hugh Jackman, Patrick Stewart, Dafne Keen   \n\n                                                plot  ... tomato_consensus  \\\n0  In 2029 the mutant population has shrunken sig...  ...              N/A   \n1  In 2029 the mutant population has shrunken sig...  ...              N/A   \n2  In 2029 the mutant population has shrunken sig...  ...              N/A   \n\n  tomato_user_meter tomato_user_rating tomato_user_reviews  \\\n0               N/A                N/A                 N/A   \n1               N/A                N/A                 N/A   \n2               N/A                N/A                 N/A   \n\n                                    tomato_url          dvd    box_office  \\\n0  https://www.rottentomatoes.com/m/logan_2017  20 Jun 2017  $226,277,068   \n1  https://www.rottentomatoes.com/m/logan_2017  20 Jun 2017  $226,277,068   \n2  https://www.rottentomatoes.com/m/logan_2017  20 Jun 2017  $226,277,068   \n\n  production website response  \n0        N/A     N/A     True  \n1        N/A     N/A     True  \n2        N/A     N/A     True  \n\n[3 rows x 36 columns]",
      "text/html": "<div>\n<style scoped>\n    .dataframe tbody tr th:only-of-type {\n        vertical-align: middle;\n    }\n\n    .dataframe tbody tr th {\n        vertical-align: top;\n    }\n\n    .dataframe thead th {\n        text-align: right;\n    }\n</style>\n<table border=\"1\" class=\"dataframe\">\n  <thead>\n    <tr style=\"text-align: right;\">\n      <th></th>\n      <th>title</th>\n      <th>year</th>\n      <th>rated</th>\n      <th>released</th>\n      <th>runtime</th>\n      <th>genre</th>\n      <th>director</th>\n      <th>writer</th>\n      <th>actors</th>\n      <th>plot</th>\n      <th>...</th>\n      <th>tomato_consensus</th>\n      <th>tomato_user_meter</th>\n      <th>tomato_user_rating</th>\n      <th>tomato_user_reviews</th>\n      <th>tomato_url</th>\n      <th>dvd</th>\n      <th>box_office</th>\n      <th>production</th>\n      <th>website</th>\n      <th>response</th>\n    </tr>\n  </thead>\n  <tbody>\n    <tr>\n      <th>0</th>\n      <td>Logan</td>\n      <td>2017</td>\n      <td>R</td>\n      <td>03 Mar 2017</td>\n      <td>137 min</td>\n      <td>Action, Drama, Sci-Fi</td>\n      <td>James Mangold</td>\n      <td>James Mangold, Scott Frank, Michael Green</td>\n      <td>Hugh Jackman, Patrick Stewart, Dafne Keen</td>\n      <td>In 2029 the mutant population has shrunken sig...</td>\n      <td>...</td>\n      <td>N/A</td>\n      <td>N/A</td>\n      <td>N/A</td>\n      <td>N/A</td>\n      <td>https://www.rottentomatoes.com/m/logan_2017</td>\n      <td>20 Jun 2017</td>\n      <td>$226,277,068</td>\n      <td>N/A</td>\n      <td>N/A</td>\n      <td>True</td>\n    </tr>\n    <tr>\n      <th>1</th>\n      <td>Logan</td>\n      <td>2017</td>\n      <td>R</td>\n      <td>03 Mar 2017</td>\n      <td>137 min</td>\n      <td>Action, Drama, Sci-Fi</td>\n      <td>James Mangold</td>\n      <td>James Mangold, Scott Frank, Michael Green</td>\n      <td>Hugh Jackman, Patrick Stewart, Dafne Keen</td>\n      <td>In 2029 the mutant population has shrunken sig...</td>\n      <td>...</td>\n      <td>N/A</td>\n      <td>N/A</td>\n      <td>N/A</td>\n      <td>N/A</td>\n      <td>https://www.rottentomatoes.com/m/logan_2017</td>\n      <td>20 Jun 2017</td>\n      <td>$226,277,068</td>\n      <td>N/A</td>\n      <td>N/A</td>\n      <td>True</td>\n    </tr>\n    <tr>\n      <th>2</th>\n      <td>Logan</td>\n      <td>2017</td>\n      <td>R</td>\n      <td>03 Mar 2017</td>\n      <td>137 min</td>\n      <td>Action, Drama, Sci-Fi</td>\n      <td>James Mangold</td>\n      <td>James Mangold, Scott Frank, Michael Green</td>\n      <td>Hugh Jackman, Patrick Stewart, Dafne Keen</td>\n      <td>In 2029 the mutant population has shrunken sig...</td>\n      <td>...</td>\n      <td>N/A</td>\n      <td>N/A</td>\n      <td>N/A</td>\n      <td>N/A</td>\n      <td>https://www.rottentomatoes.com/m/logan_2017</td>\n      <td>20 Jun 2017</td>\n      <td>$226,277,068</td>\n      <td>N/A</td>\n      <td>N/A</td>\n      <td>True</td>\n    </tr>\n  </tbody>\n</table>\n<p>3 rows × 36 columns</p>\n</div>"
     },
     "metadata": {}
    }
   ],
   "execution_count": 3
  },
  {
   "cell_type": "code",
   "source": "logan_df.columns",
   "metadata": {
    "cell_id": "62339f729f14452f82a63b927052e692",
    "tags": [],
    "deepnote_to_be_reexecuted": false,
    "source_hash": "3bcb193",
    "execution_start": 1654243962510,
    "execution_millis": 627,
    "deepnote_cell_type": "code",
    "deepnote_cell_height": 253,
    "deepnote_output_heights": [
     156
    ]
   },
   "outputs": [
    {
     "output_type": "execute_result",
     "execution_count": 4,
     "data": {
      "text/plain": "Index(['title', 'year', 'rated', 'released', 'runtime', 'genre', 'director',\n       'writer', 'actors', 'plot', 'language', 'country', 'awards', 'poster',\n       'ratings', 'metascore', 'imdb_rating', 'imdb_votes', 'imdb_id', 'type',\n       'tomato_meter', 'tomato_image', 'tomato_rating', 'tomato_reviews',\n       'tomato_fresh', 'tomato_rotten', 'tomato_consensus',\n       'tomato_user_meter', 'tomato_user_rating', 'tomato_user_reviews',\n       'tomato_url', 'dvd', 'box_office', 'production', 'website', 'response'],\n      dtype='object')"
     },
     "metadata": {}
    }
   ],
   "execution_count": 4
  },
  {
   "cell_type": "code",
   "source": "logan_df['tomato_user_reviews']",
   "metadata": {
    "cell_id": "6ef80512a601420b9c80b066d52df06f",
    "tags": [],
    "deepnote_to_be_reexecuted": false,
    "source_hash": "14b053e7",
    "execution_start": 1654243962512,
    "execution_millis": 625,
    "deepnote_cell_type": "code",
    "deepnote_cell_height": 176,
    "deepnote_output_heights": [
     79
    ]
   },
   "outputs": [
    {
     "output_type": "execute_result",
     "execution_count": 5,
     "data": {
      "text/plain": "0    N/A\n1    N/A\n2    N/A\nName: tomato_user_reviews, dtype: object"
     },
     "metadata": {}
    }
   ],
   "execution_count": 5
  },
  {
   "cell_type": "markdown",
   "source": "# Scraping the Data from Rotten Tomatoes",
   "metadata": {
    "cell_id": "c37be663ca144da7bd6fb5c8ec0c5cd9",
    "tags": [],
    "deepnote_cell_type": "markdown",
    "deepnote_cell_height": 82
   }
  },
  {
   "cell_type": "code",
   "source": "def make_soup(url):\n    try:\n        r = requests.get(url)\n        soup = BeautifulSoup(r.content, 'html.parser')\n    except TooManyRedirects:\n        soup = ''\n    return soup",
   "metadata": {
    "cell_id": "b57072eeed4f45228a06aa768fc23c06",
    "tags": [],
    "deepnote_to_be_reexecuted": false,
    "source_hash": "ea7d7801",
    "execution_start": 1654243962513,
    "execution_millis": 1,
    "deepnote_cell_type": "code",
    "deepnote_cell_height": 189
   },
   "outputs": [],
   "execution_count": 6
  },
  {
   "cell_type": "code",
   "source": "soup = make_soup(\"https://www.rottentomatoes.com/m/logan_2017/reviews?type=user\")\nre.findall(r'\\\"review-text\\\">([^<]*)<\\/p>', str(soup.find(class_ =\"audience-reviews\")))",
   "metadata": {
    "cell_id": "4a2a4717b4b64c3a948ac348901fd769",
    "tags": [],
    "deepnote_to_be_reexecuted": false,
    "source_hash": "5d1dc222",
    "execution_start": 1654243962540,
    "execution_millis": 1013,
    "deepnote_cell_type": "code",
    "deepnote_cell_height": 726,
    "deepnote_output_heights": [
     211
    ]
   },
   "outputs": [
    {
     "output_type": "execute_result",
     "execution_count": 7,
     "data": {
      "text/plain": "['The Wolverine we should of had this whole time. I loved the fact that we were able to get an R rated Wolverine movie. The storyline was awesome and we had a good enclosure to the end of an era. \\n\\nThank You!!!',\n 'Warning: Spoilers\\n\"Logan\" is directed by James Mangold and stars Hugh Jackman for one final go around as Wolverine. With an R Rating secured, something the previous two Wolverine films should have had, \"Logan\" was bound to be fantastic. It wasn\\'t fantastic. It was phenomenal.\\n\\nIf you are going into \"Logan\" expecting every scene to just be Wolverine tearing people to shreds you\\'ll be thoroughly disappointed. This is definitely not an action film. There are action sequences in the film, but they are not the main focus of the movie like the previous 2 Wolverine movies tried to make them be. \"Logan\" is a grounded film, a film that really takes its time to tell its story and to develop its characters. It\\'s a character-driven film, and it probably has the most characterization in an X-Men film to date. We get enough of Wolverine\\'s backstory within the first few minutes to really become attached to him (if we already weren\\'t). We learn more about Professor X and what he has been doing, and then there\\'s this little girl, who probably should be annoying, but luckily isn\\'t and that was a sigh of relief. This girl, Laura, is the star of the show. It is really \"her\" movie. All of the sequences with Laura were riveting. There was that sense of mystery to her character that you wouldn\\'t really expect from a film like this. You don\\'t ever really know what her next move is going to be. Her motivation to find a safe haven is so well felt in this film that it just brings you a sigh of relief that there is still a sense of good out there in the world of this film where everything seems dark, bleak, and hopeless.\\n\\nHugh Jackman\\'s performance. Yeah the dude gave it his all. This is by far Hugh Jackman\\'s best performance as Wolverine. We\\'ve never seen Wolverine this vulnerable. He\\'s old, he\\'s broken down, he\\'s beaten. He can\\'t heal like he used to. The conviction from Hugh Jackman in this movie was just spot on and really captured the ways Wolverine felt at certain moments. It added layers to this film. When Wolverine gets into a fight, Hugh Jackman is so good in these scenes it\\'s like he got into a fight with the filmmakers on set.\\n\\nThis film does not hold back from a violence standpoint. From the get go, you know what type of movie you are in for. It is brutally violent, by far the most violent X-Men film w have gotten. Wolverine hacks, claws, and slashes his way through skirmishes with blood, guts, and gore flying. If this is what you had always wanted from a Wolverine movie and haven\\'t gotten it up to this point, well this movie gives you all of that.\\n\\nFrom a violence standpoint, the violence is there when the film calls for it. It is not violent for the sake of being violent. This is a film that puts its characters and story first before anything else, with violence being a secondary element to help propel the story along and to create tension. It is in the scenes where it should be. If this were just an all-out 2 hour and 20 minute \"hack-and-slash\" fest this film would have no depth to it. It would look cool, but giving Hugh Jackman the proper sendoff was what was more important in a film like this.\\n\\nThis film at times gets downright emotional. The final scene of the film makes you wanna cry. You care about these characters, you are invested in them. You don\\'t want to see them put in harm\\'s way. Even in the scenes where the film may feel a bit slow, the final act of the film is the payoff. This is where everything really meshes together with a force, creating a pulse-pounding, edge of your seat final sendoff for Hugh Jackman as he retires from the role.\\n\\nThis is by far the best Wolverine movie and possibly the best X-Men movie to date. I haven\\'t decided yet. It\\'s up there, and it deserves to be. Everything payed off in this film. It is emotional. It is character driven. It has heart. It is emotional. This is everything anyone could have wanted in a Wolverine film.\\n\\nFrom me \"Logan\" gets a perfect 10/10.',\n 'filmaço.\\n\\num filme que meche com as emoções, surpreendente oque o logan passa e como ele está no filme, muito inteligente também a forma que a trama foi feita e introduzida.\\nmuito bom',\n 'The best x-men movie, the best marvel movie, the best movie',\n 'sad but very good movie overall',\n 'One of the best CBM movies, great acting, action, story, vfx, emotional',\n 'Great finale to the Logan – Wolverine story\\nThe violence and gore was top notch\\nWolverine is a legend',\n \"For certain segments of the film, some things felt pretty slow and pointless with regard to the plot. I mostly liked the movie for the acting and performances that I saw from Hugh Jackman, Dafne Keen, and the final scene in the forest where I saw a young mutant literally explode a guy with their powers from controlling the wind and the sticks/twigs/pine needles which was badass. I also mostly liked how Wolverine's death was handled. It's average overall though like most X Men Marvel movies imo.\",\n 'Best X-men Movie there is',\n \"so tired of films with strong characters acting all weak, beta, and nihilistic and crying. man up you are wolverine for god sakes. why do people like these painful and over the top emotional superhero movies never ceases to amazes. life isn't that hard or bad. stop feeling sorry for yourself and celebrating depressing portrayals of great characters.\"]"
     },
     "metadata": {}
    }
   ],
   "execution_count": 7
  },
  {
   "cell_type": "code",
   "source": "s = requests.Session()\n        \ndef get_reviews(url):\n    r = requests.get(url)\n    movie_id = re.findall(r'(?<=movieId\":\")(.*)(?=\",\"type)',r.text)[0]\n\n    api_url = f\"https://www.rottentomatoes.com/napi/movie/{movie_id}/criticsReviews/all\" \n    #use reviews/userfor user reviews\n    # use criticsReviews/all for critics reviews\n    \n    payload = {\n        'direction': 'next',\n        'endCursor': '',\n        'startCursor': '',\n    }\n    \n    review_data = []\n    \n    while True:\n        r = s.get(api_url, params=payload)\n        data = r.json()\n\n        if not data['pageInfo']['hasNextPage']:\n            break\n\n        payload['endCursor'] = data['pageInfo']['endCursor']\n        payload['startCursor'] = data['pageInfo']['startCursor'] if data['pageInfo'].get('startCursor') else ''\n\n        review_data.extend(data['reviews'])\n        time.sleep(1)\n    \n    return review_data\n\ndata = get_reviews('https://www.rottentomatoes.com/m/interstellar_2014/reviews')\ndf = pd.json_normalize(data)",
   "metadata": {
    "cell_id": "ce22b4ef726347578df92178a4d16c3c",
    "tags": [],
    "deepnote_to_be_reexecuted": false,
    "source_hash": "9a5ac692",
    "execution_start": 1654243963556,
    "execution_millis": 37109,
    "deepnote_cell_type": "code",
    "deepnote_cell_height": 693,
    "deepnote_output_heights": [
     194
    ]
   },
   "outputs": [],
   "execution_count": 8
  },
  {
   "cell_type": "code",
   "source": "df.sample(15)",
   "metadata": {
    "cell_id": "d0f1875ab70c477abd133bc472d782cf",
    "tags": [],
    "deepnote_to_be_reexecuted": false,
    "source_hash": "c9f43e93",
    "execution_start": 1654244000709,
    "execution_millis": 610,
    "owner_user_id": "f003377f-535d-43ef-8b69-db2e2c66d27e",
    "deepnote_cell_type": "code",
    "deepnote_cell_height": 617
   },
   "outputs": [
    {
     "output_type": "execute_result",
     "execution_count": 9,
     "data": {
      "application/vnd.deepnote.dataframe.v3+json": {
       "column_count": 15,
       "row_count": 15,
       "columns": [
        {
         "name": "creationDate",
         "dtype": "object",
         "stats": {
          "unique_count": 11,
          "nan_count": 0,
          "categories": [
           {
            "name": "Nov 5, 2014",
            "count": 3
           },
           {
            "name": "Nov 6, 2014",
            "count": 2
           },
           {
            "name": "9 others",
            "count": 10
           }
          ]
         }
        },
        {
         "name": "isFresh",
         "dtype": "bool",
         "stats": {
          "unique_count": 2,
          "nan_count": 0,
          "categories": [
           {
            "name": "True",
            "count": 10
           },
           {
            "name": "False",
            "count": 5
           }
          ]
         }
        },
        {
         "name": "isRotten",
         "dtype": "bool",
         "stats": {
          "unique_count": 2,
          "nan_count": 0,
          "categories": [
           {
            "name": "False",
            "count": 10
           },
           {
            "name": "True",
            "count": 5
           }
          ]
         }
        },
        {
         "name": "isRtUrl",
         "dtype": "bool",
         "stats": {
          "unique_count": 1,
          "nan_count": 0,
          "categories": [
           {
            "name": "False",
            "count": 15
           }
          ]
         }
        },
        {
         "name": "isTop",
         "dtype": "bool",
         "stats": {
          "unique_count": 2,
          "nan_count": 0,
          "categories": [
           {
            "name": "False",
            "count": 11
           },
           {
            "name": "True",
            "count": 4
           }
          ]
         }
        },
        {
         "name": "reviewUrl",
         "dtype": "object",
         "stats": {
          "unique_count": 15,
          "nan_count": 0,
          "categories": [
           {
            "name": "http://www.u.tv/blogs/B-H-Martin/Sci-Fi-to-make-you-cry/47563f01-6ffc-4ffb-8410-c4dde824e212",
            "count": 1
           },
           {
            "name": "http://www.oregonlive.com/movies/index.ssf/2014/11/interstellar_review_matthew_mc.html",
            "count": 1
           },
           {
            "name": "13 others",
            "count": 13
           }
          ]
         }
        },
        {
         "name": "quote",
         "dtype": "object",
         "stats": {
          "unique_count": 15,
          "nan_count": 0,
          "categories": [
           {
            "name": "In space no-one can you hear you scream, but they can certainly see you cry. Never before have I seen more blubbering in a movie than director Christopher Nolan's Interstellar.",
            "count": 1
           },
           {
            "name": "It's frustrating because there's so much to look at, so much money well spent in every frame, but \"Interstellar\" wears out its audience long before it ends.",
            "count": 1
           },
           {
            "name": "13 others",
            "count": 13
           }
          ]
         }
        },
        {
         "name": "reviewId",
         "dtype": "object",
         "stats": {
          "unique_count": 15,
          "nan_count": 0,
          "categories": [
           {
            "name": "2232109",
            "count": 1
           },
           {
            "name": "2231877",
            "count": 1
           },
           {
            "name": "13 others",
            "count": 13
           }
          ]
         }
        },
        {
         "name": "scoreOri",
         "dtype": "object",
         "stats": {
          "unique_count": 8,
          "nan_count": 0,
          "categories": [
           {
            "name": "",
            "count": 6
           },
           {
            "name": "3/5",
            "count": 2
           },
           {
            "name": "6 others",
            "count": 7
           }
          ]
         }
        },
        {
         "name": "scoreSentiment",
         "dtype": "object",
         "stats": {
          "unique_count": 2,
          "nan_count": 0,
          "categories": [
           {
            "name": "POSITIVE",
            "count": 10
           },
           {
            "name": "NEGATIVE",
            "count": 5
           }
          ]
         }
        },
        {
         "name": "critic.name",
         "dtype": "object",
         "stats": {
          "unique_count": 15,
          "nan_count": 0,
          "categories": [
           {
            "name": "Brian Henry Martin",
            "count": 1
           },
           {
            "name": "Jeff Baker",
            "count": 1
           },
           {
            "name": "13 others",
            "count": 13
           }
          ]
         }
        },
        {
         "name": "critic.criticPictureUrl",
         "dtype": "object",
         "stats": {
          "unique_count": 9,
          "nan_count": 0,
          "categories": [
           {
            "name": "https://images.fandango.com/cms/assets/5b6ff500-1663-11ec-ae31-05a670d2d590--rtactordefault.png",
            "count": 7
           },
           {
            "name": "http://resizing.flixster.com/0ulshnvLW7gQBLls5EQurIRx9RQ=/38x42/v1.YzsyMzI5O2o7MTkxNzA7MjA0ODszODs0Mg",
            "count": 1
           },
           {
            "name": "7 others",
            "count": 7
           }
          ]
         }
        },
        {
         "name": "critic.vanity",
         "dtype": "object",
         "stats": {
          "unique_count": 15,
          "nan_count": 0,
          "categories": [
           {
            "name": "brian-henry-martin",
            "count": 1
           },
           {
            "name": "jeff-baker",
            "count": 1
           },
           {
            "name": "13 others",
            "count": 13
           }
          ]
         }
        },
        {
         "name": "publication.id",
         "dtype": "object",
         "stats": {
          "unique_count": 15,
          "nan_count": 0,
          "categories": [
           {
            "name": "2445",
            "count": 1
           },
           {
            "name": "608",
            "count": 1
           },
           {
            "name": "13 others",
            "count": 13
           }
          ]
         }
        },
        {
         "name": "publication.name",
         "dtype": "object",
         "stats": {
          "unique_count": 15,
          "nan_count": 0,
          "categories": [
           {
            "name": "UTV",
            "count": 1
           },
           {
            "name": "Oregonian",
            "count": 1
           },
           {
            "name": "13 others",
            "count": 13
           }
          ]
         }
        },
        {
         "name": "_deepnote_index_column",
         "dtype": "int64"
        }
       ],
       "rows": [
        {
         "creationDate": "Nov 6, 2014",
         "isFresh": false,
         "isRotten": true,
         "isRtUrl": false,
         "isTop": false,
         "reviewUrl": "http://www.u.tv/blogs/B-H-Martin/Sci-Fi-to-make-you-cry/47563f01-6ffc-4ffb-8410-c4dde824e212",
         "quote": "In space no-one can you hear you scream, but they can certainly see you cry. Never before have I seen more blubbering in a movie than director Christopher Nolan's Interstellar.",
         "reviewId": "2232109",
         "scoreOri": "5/10",
         "scoreSentiment": "NEGATIVE",
         "critic.name": "Brian Henry Martin",
         "critic.criticPictureUrl": "http://resizing.flixster.com/0ulshnvLW7gQBLls5EQurIRx9RQ=/38x42/v1.YzsyMzI5O2o7MTkxNzA7MjA0ODszODs0Mg",
         "critic.vanity": "brian-henry-martin",
         "publication.id": "2445",
         "publication.name": "UTV",
         "_deepnote_index_column": 217
        },
        {
         "creationDate": "Nov 5, 2014",
         "isFresh": false,
         "isRotten": true,
         "isRtUrl": false,
         "isTop": false,
         "reviewUrl": "http://www.oregonlive.com/movies/index.ssf/2014/11/interstellar_review_matthew_mc.html",
         "quote": "It's frustrating because there's so much to look at, so much money well spent in every frame, but \"Interstellar\" wears out its audience long before it ends.",
         "reviewId": "2231877",
         "scoreOri": "B-",
         "scoreSentiment": "NEGATIVE",
         "critic.name": "Jeff Baker",
         "critic.criticPictureUrl": "https://images.fandango.com/cms/assets/5b6ff500-1663-11ec-ae31-05a670d2d590--rtactordefault.png",
         "critic.vanity": "jeff-baker",
         "publication.id": "608",
         "publication.name": "Oregonian",
         "_deepnote_index_column": 262
        },
        {
         "creationDate": "Nov 5, 2014",
         "isFresh": true,
         "isRotten": false,
         "isRtUrl": false,
         "isTop": false,
         "reviewUrl": "http://www.kaplanvskaplan.com/new-releases/interstellar/",
         "quote": "There are genuinely spectacular and tension-filled scenes, none more so than when the crew is confronted by massive waves. We have come to expect jaw-dropping effects like this from Nolan.",
         "reviewId": "2231875",
         "scoreOri": "",
         "scoreSentiment": "POSITIVE",
         "critic.name": "David Kaplan",
         "critic.criticPictureUrl": "http://resizing.flixster.com/x7K3nQSl3uu6u018kV3Php7QrH4=/128x128/v1.YzsyNjU5O2o7MTkxNzA7MjA0ODs2MDI7ODgw",
         "critic.vanity": "david-kaplan",
         "publication.id": "1623",
         "publication.name": "Kaplan vs. Kaplan",
         "_deepnote_index_column": 264
        },
        {
         "creationDate": "Jun 6, 2016",
         "isFresh": false,
         "isRotten": true,
         "isRtUrl": false,
         "isTop": false,
         "reviewUrl": "http://www.independent.ie/entertainment/movies/movie-reviews/interstellar-daring-scifi-thats-out-of-this-world-and-out-of-its-depth-30725829.html",
         "quote": "Perhaps it would have been wiser to trim back on several of the ideas and present a more cohesive, not to mention coherent, story.",
         "reviewId": "2331904",
         "scoreOri": "3/5",
         "scoreSentiment": "NEGATIVE",
         "critic.name": "George Byrne",
         "critic.criticPictureUrl": "https://images.fandango.com/cms/assets/5b6ff500-1663-11ec-ae31-05a670d2d590--rtactordefault.png",
         "critic.vanity": "george-byrne",
         "publication.id": "1803",
         "publication.name": "The Herald (Ireland)",
         "_deepnote_index_column": 68
        },
        {
         "creationDate": "Nov 4, 2014",
         "isFresh": true,
         "isRotten": false,
         "isRtUrl": false,
         "isTop": true,
         "reviewUrl": "http://www.reelviews.net/php_review_template.php?identifier=2827",
         "quote": "It's an amazing achievement that deserves to be seen on the biggest screen with the best sound system possible. Nolan has crafted Interstellar as a movie theater experience. Watching it at home, no matter how good the sound system is, won't match.",
         "reviewId": "2231836",
         "scoreOri": "4/4",
         "scoreSentiment": "POSITIVE",
         "critic.name": "James Berardinelli",
         "critic.criticPictureUrl": "http://resizing.flixster.com/TVz8uQPRnlgIRTI0xF76xhyrAV0=/128x128/v1.YzsyNzIzO2c7MTkxNzA7MjA0ODsxNTA7MTUw",
         "critic.vanity": "james-berardinelli",
         "publication.id": "387",
         "publication.name": "ReelViews",
         "_deepnote_index_column": 284
        },
        {
         "creationDate": "Nov 5, 2014",
         "isFresh": true,
         "isRotten": false,
         "isRtUrl": false,
         "isTop": false,
         "reviewUrl": "http://www.screenit.com/ourtake/2014/interstellar.html",
         "quote": "An intense epic that seeks to deliver both an \"experience\" and a movie. In my book, it succeeds on both counts. (Full Content Review for Parents Also Available)",
         "reviewId": "2231881",
         "scoreOri": "",
         "scoreSentiment": "POSITIVE",
         "critic.name": "Teddy Durgin",
         "critic.criticPictureUrl": "https://images.fandango.com/cms/assets/5b6ff500-1663-11ec-ae31-05a670d2d590--rtactordefault.png",
         "critic.vanity": "teddy-durgin",
         "publication.id": "411",
         "publication.name": "Screen It!",
         "_deepnote_index_column": 258
        },
        {
         "creationDate": "Nov 6, 2014",
         "isFresh": false,
         "isRotten": true,
         "isRtUrl": false,
         "isTop": true,
         "reviewUrl": "http://www.newstatesman.com/film/2014/11/home-home-christopher-nolan-s-space-movie-interstellar-fails-launch",
         "quote": "If Nolan were as deft a director when the action dies down, Interstellar might be a formidable work. But his film has a lot of dialogue, pages of the stuff, explanations and exposition, none of it overlapping with recognisable human speech.",
         "reviewId": "2232115",
         "scoreOri": "",
         "scoreSentiment": "NEGATIVE",
         "critic.name": "Ryan Gilbey",
         "critic.criticPictureUrl": "https://images.fandango.com/cms/assets/5b6ff500-1663-11ec-ae31-05a670d2d590--rtactordefault.png",
         "critic.vanity": "ryan-gilbey",
         "publication.id": "2433",
         "publication.name": "New Statesman",
         "_deepnote_index_column": 214
        },
        {
         "creationDate": "Oct 27, 2019",
         "isFresh": true,
         "isRotten": false,
         "isRtUrl": false,
         "isTop": false,
         "reviewUrl": "https://www.businessinsider.com/interstellar-review-2014-11",
         "quote": "The space voyage is easily one of Nolan's most thought-provoking films yet. It's definitely his most ambitious.",
         "reviewId": "2639670",
         "scoreOri": "B",
         "scoreSentiment": "POSITIVE",
         "critic.name": "Kirsten Acuna",
         "critic.criticPictureUrl": "http://resizing.flixster.com/uhvBxI7H9-B1Fxk4_F4939U6BmM=/128x128/v1.YzszMTUxO2o7MTkxNzA7MjA0ODszMDA7MzAw",
         "critic.vanity": "kirsten-acuna",
         "publication.id": "2877",
         "publication.name": "Business Insider",
         "_deepnote_index_column": 20
        },
        {
         "creationDate": "Nov 7, 2014",
         "isFresh": false,
         "isRotten": true,
         "isRtUrl": false,
         "isTop": true,
         "reviewUrl": "http://www.salon.com/2014/11/05/interstellar_christopher_nolans_grand_space_opera_tries_to_outdo_2001/",
         "quote": "Interstellar is thrilling to watch across its moments but ultimately unmemorable; I feel it slipping away from me even now.",
         "reviewId": "2232555",
         "scoreOri": "",
         "scoreSentiment": "NEGATIVE",
         "critic.name": "Andrew O'Hehir",
         "critic.criticPictureUrl": "http://resizing.flixster.com/XeNsC9DNh9ypUGXQpfdi8INf-6c=/128x128/v1.YzsyMjM2O2o7MTkxNzA7MjA0ODsyMDA7MjUw",
         "critic.vanity": "andrew-ohehir",
         "publication.id": "400",
         "publication.name": "Salon.com",
         "_deepnote_index_column": 177
        },
        {
         "creationDate": "Nov 11, 2014",
         "isFresh": true,
         "isRotten": false,
         "isRtUrl": false,
         "isTop": false,
         "reviewUrl": "http://www.darkhorizons.com/reviews/1375/interstellar/",
         "quote": "While the ride is a bumpy one and the destination is a bit of a letdown, getting there is a trip.",
         "reviewId": "2233038",
         "scoreOri": "",
         "scoreSentiment": "POSITIVE",
         "critic.name": "Josh Hylton",
         "critic.criticPictureUrl": "https://images.fandango.com/cms/assets/5b6ff500-1663-11ec-ae31-05a670d2d590--rtactordefault.png",
         "critic.vanity": "josh-hylton",
         "publication.id": "491",
         "publication.name": "Dark Horizons",
         "_deepnote_index_column": 140
        }
       ]
      },
      "text/plain": "     creationDate  isFresh  isRotten  isRtUrl  isTop  \\\n217   Nov 6, 2014    False      True    False  False   \n262   Nov 5, 2014    False      True    False  False   \n264   Nov 5, 2014     True     False    False  False   \n68    Jun 6, 2016    False      True    False  False   \n284   Nov 4, 2014     True     False    False   True   \n258   Nov 5, 2014     True     False    False  False   \n214   Nov 6, 2014    False      True    False   True   \n20   Oct 27, 2019     True     False    False  False   \n177   Nov 7, 2014    False      True    False   True   \n140  Nov 11, 2014     True     False    False  False   \n120  Nov 22, 2014     True     False    False  False   \n354  Oct 27, 2014     True     False    False  False   \n171   Nov 7, 2014     True     False    False  False   \n313   Nov 3, 2014     True     False    False   True   \n153   Nov 9, 2014     True     False    False  False   \n\n                                             reviewUrl  \\\n217  http://www.u.tv/blogs/B-H-Martin/Sci-Fi-to-mak...   \n262  http://www.oregonlive.com/movies/index.ssf/201...   \n264  http://www.kaplanvskaplan.com/new-releases/int...   \n68   http://www.independent.ie/entertainment/movies...   \n284  http://www.reelviews.net/php_review_template.p...   \n258  http://www.screenit.com/ourtake/2014/interstel...   \n214  http://www.newstatesman.com/film/2014/11/home-...   \n20   https://www.businessinsider.com/interstellar-r...   \n177  http://www.salon.com/2014/11/05/interstellar_c...   \n140  http://www.darkhorizons.com/reviews/1375/inter...   \n120  http://www.lawrence.com/weblogs/scenestealers/...   \n354  http://www.theverge.com/2014/10/27/7077877/int...   \n171  http://fanthefiremagazine.com/film/film-review...   \n313  http://www.nydailynews.com/entertainment/movie...   \n153  http://baretnewswire.org/altruistic-astronauts...   \n\n                                                 quote reviewId scoreOri  \\\n217  In space no-one can you hear you scream, but t...  2232109     5/10   \n262  It's frustrating because there's so much to lo...  2231877       B-   \n264  There are genuinely spectacular and tension-fi...  2231875            \n68   Perhaps it would have been wiser to trim back ...  2331904      3/5   \n284  It's an amazing achievement that deserves to b...  2231836      4/4   \n258  An intense epic that seeks to deliver both an ...  2231881            \n214  If Nolan were as deft a director when the acti...  2232115            \n20   The space voyage is easily one of Nolan's most...  2639670        B   \n177  Interstellar is thrilling to watch across its ...  2232555            \n140  While the ride is a bumpy one and the destinat...  2233038            \n120  Despite some awkward pacing, easy sentimentali...  2234849      4/5   \n354  The movie is most powerful when it's at its le...  2230510            \n171  The film is confident enough to take us on a t...  2232635      4/5   \n313  Even as \"Interstellar\" becomes a beautiful mes...  2231704      3/5   \n153  I'm not too proud to admit I couldn't follow t...  2232738      2/4   \n\n    scoreSentiment         critic.name  \\\n217       NEGATIVE  Brian Henry Martin   \n262       NEGATIVE          Jeff Baker   \n264       POSITIVE        David Kaplan   \n68        NEGATIVE        George Byrne   \n284       POSITIVE  James Berardinelli   \n258       POSITIVE        Teddy Durgin   \n214       NEGATIVE         Ryan Gilbey   \n20        POSITIVE       Kirsten Acuna   \n177       NEGATIVE      Andrew O'Hehir   \n140       POSITIVE         Josh Hylton   \n120       POSITIVE          Eric Melin   \n354       POSITIVE         Josh Dzieza   \n171       POSITIVE      Martin Roberts   \n313       POSITIVE        Joe Neumaier   \n153       POSITIVE        Kam Williams   \n\n                               critic.criticPictureUrl       critic.vanity  \\\n217  http://resizing.flixster.com/0ulshnvLW7gQBLls5...  brian-henry-martin   \n262  https://images.fandango.com/cms/assets/5b6ff50...          jeff-baker   \n264  http://resizing.flixster.com/x7K3nQSl3uu6u018k...        david-kaplan   \n68   https://images.fandango.com/cms/assets/5b6ff50...        george-byrne   \n284  http://resizing.flixster.com/TVz8uQPRnlgIRTI0x...  james-berardinelli   \n258  https://images.fandango.com/cms/assets/5b6ff50...        teddy-durgin   \n214  https://images.fandango.com/cms/assets/5b6ff50...         ryan-gilbey   \n20   http://resizing.flixster.com/uhvBxI7H9-B1Fxk4_...       kirsten-acuna   \n177  http://resizing.flixster.com/XeNsC9DNh9ypUGXQp...       andrew-ohehir   \n140  https://images.fandango.com/cms/assets/5b6ff50...         josh-hylton   \n120  http://resizing.flixster.com/X9OHPvT5DLWKcL5Pg...          eric-melin   \n354  https://images.fandango.com/cms/assets/5b6ff50...         josh-dzieza   \n171  https://images.fandango.com/cms/assets/5b6ff50...      martin-roberts   \n313  http://resizing.flixster.com/PrIEYQUHBLwBYrMMH...        joe-neumaier   \n153  http://resizing.flixster.com/tKeYhsIJL4v_frg0F...        kam-williams   \n\n    publication.id      publication.name  \n217           2445                   UTV  \n262            608             Oregonian  \n264           1623     Kaplan vs. Kaplan  \n68            1803  The Herald (Ireland)  \n284            387             ReelViews  \n258            411            Screen It!  \n214           2433         New Statesman  \n20            2877      Business Insider  \n177            400             Salon.com  \n140            491         Dark Horizons  \n120           1595          Lawrence.com  \n354           2525             The Verge  \n171           2321          Fan The Fire  \n313            586   New York Daily News  \n153           1912            Baret News  ",
      "text/html": "<div>\n<style scoped>\n    .dataframe tbody tr th:only-of-type {\n        vertical-align: middle;\n    }\n\n    .dataframe tbody tr th {\n        vertical-align: top;\n    }\n\n    .dataframe thead th {\n        text-align: right;\n    }\n</style>\n<table border=\"1\" class=\"dataframe\">\n  <thead>\n    <tr style=\"text-align: right;\">\n      <th></th>\n      <th>creationDate</th>\n      <th>isFresh</th>\n      <th>isRotten</th>\n      <th>isRtUrl</th>\n      <th>isTop</th>\n      <th>reviewUrl</th>\n      <th>quote</th>\n      <th>reviewId</th>\n      <th>scoreOri</th>\n      <th>scoreSentiment</th>\n      <th>critic.name</th>\n      <th>critic.criticPictureUrl</th>\n      <th>critic.vanity</th>\n      <th>publication.id</th>\n      <th>publication.name</th>\n    </tr>\n  </thead>\n  <tbody>\n    <tr>\n      <th>217</th>\n      <td>Nov 6, 2014</td>\n      <td>False</td>\n      <td>True</td>\n      <td>False</td>\n      <td>False</td>\n      <td>http://www.u.tv/blogs/B-H-Martin/Sci-Fi-to-mak...</td>\n      <td>In space no-one can you hear you scream, but t...</td>\n      <td>2232109</td>\n      <td>5/10</td>\n      <td>NEGATIVE</td>\n      <td>Brian Henry Martin</td>\n      <td>http://resizing.flixster.com/0ulshnvLW7gQBLls5...</td>\n      <td>brian-henry-martin</td>\n      <td>2445</td>\n      <td>UTV</td>\n    </tr>\n    <tr>\n      <th>262</th>\n      <td>Nov 5, 2014</td>\n      <td>False</td>\n      <td>True</td>\n      <td>False</td>\n      <td>False</td>\n      <td>http://www.oregonlive.com/movies/index.ssf/201...</td>\n      <td>It's frustrating because there's so much to lo...</td>\n      <td>2231877</td>\n      <td>B-</td>\n      <td>NEGATIVE</td>\n      <td>Jeff Baker</td>\n      <td>https://images.fandango.com/cms/assets/5b6ff50...</td>\n      <td>jeff-baker</td>\n      <td>608</td>\n      <td>Oregonian</td>\n    </tr>\n    <tr>\n      <th>264</th>\n      <td>Nov 5, 2014</td>\n      <td>True</td>\n      <td>False</td>\n      <td>False</td>\n      <td>False</td>\n      <td>http://www.kaplanvskaplan.com/new-releases/int...</td>\n      <td>There are genuinely spectacular and tension-fi...</td>\n      <td>2231875</td>\n      <td></td>\n      <td>POSITIVE</td>\n      <td>David Kaplan</td>\n      <td>http://resizing.flixster.com/x7K3nQSl3uu6u018k...</td>\n      <td>david-kaplan</td>\n      <td>1623</td>\n      <td>Kaplan vs. Kaplan</td>\n    </tr>\n    <tr>\n      <th>68</th>\n      <td>Jun 6, 2016</td>\n      <td>False</td>\n      <td>True</td>\n      <td>False</td>\n      <td>False</td>\n      <td>http://www.independent.ie/entertainment/movies...</td>\n      <td>Perhaps it would have been wiser to trim back ...</td>\n      <td>2331904</td>\n      <td>3/5</td>\n      <td>NEGATIVE</td>\n      <td>George Byrne</td>\n      <td>https://images.fandango.com/cms/assets/5b6ff50...</td>\n      <td>george-byrne</td>\n      <td>1803</td>\n      <td>The Herald (Ireland)</td>\n    </tr>\n    <tr>\n      <th>284</th>\n      <td>Nov 4, 2014</td>\n      <td>True</td>\n      <td>False</td>\n      <td>False</td>\n      <td>True</td>\n      <td>http://www.reelviews.net/php_review_template.p...</td>\n      <td>It's an amazing achievement that deserves to b...</td>\n      <td>2231836</td>\n      <td>4/4</td>\n      <td>POSITIVE</td>\n      <td>James Berardinelli</td>\n      <td>http://resizing.flixster.com/TVz8uQPRnlgIRTI0x...</td>\n      <td>james-berardinelli</td>\n      <td>387</td>\n      <td>ReelViews</td>\n    </tr>\n    <tr>\n      <th>258</th>\n      <td>Nov 5, 2014</td>\n      <td>True</td>\n      <td>False</td>\n      <td>False</td>\n      <td>False</td>\n      <td>http://www.screenit.com/ourtake/2014/interstel...</td>\n      <td>An intense epic that seeks to deliver both an ...</td>\n      <td>2231881</td>\n      <td></td>\n      <td>POSITIVE</td>\n      <td>Teddy Durgin</td>\n      <td>https://images.fandango.com/cms/assets/5b6ff50...</td>\n      <td>teddy-durgin</td>\n      <td>411</td>\n      <td>Screen It!</td>\n    </tr>\n    <tr>\n      <th>214</th>\n      <td>Nov 6, 2014</td>\n      <td>False</td>\n      <td>True</td>\n      <td>False</td>\n      <td>True</td>\n      <td>http://www.newstatesman.com/film/2014/11/home-...</td>\n      <td>If Nolan were as deft a director when the acti...</td>\n      <td>2232115</td>\n      <td></td>\n      <td>NEGATIVE</td>\n      <td>Ryan Gilbey</td>\n      <td>https://images.fandango.com/cms/assets/5b6ff50...</td>\n      <td>ryan-gilbey</td>\n      <td>2433</td>\n      <td>New Statesman</td>\n    </tr>\n    <tr>\n      <th>20</th>\n      <td>Oct 27, 2019</td>\n      <td>True</td>\n      <td>False</td>\n      <td>False</td>\n      <td>False</td>\n      <td>https://www.businessinsider.com/interstellar-r...</td>\n      <td>The space voyage is easily one of Nolan's most...</td>\n      <td>2639670</td>\n      <td>B</td>\n      <td>POSITIVE</td>\n      <td>Kirsten Acuna</td>\n      <td>http://resizing.flixster.com/uhvBxI7H9-B1Fxk4_...</td>\n      <td>kirsten-acuna</td>\n      <td>2877</td>\n      <td>Business Insider</td>\n    </tr>\n    <tr>\n      <th>177</th>\n      <td>Nov 7, 2014</td>\n      <td>False</td>\n      <td>True</td>\n      <td>False</td>\n      <td>True</td>\n      <td>http://www.salon.com/2014/11/05/interstellar_c...</td>\n      <td>Interstellar is thrilling to watch across its ...</td>\n      <td>2232555</td>\n      <td></td>\n      <td>NEGATIVE</td>\n      <td>Andrew O'Hehir</td>\n      <td>http://resizing.flixster.com/XeNsC9DNh9ypUGXQp...</td>\n      <td>andrew-ohehir</td>\n      <td>400</td>\n      <td>Salon.com</td>\n    </tr>\n    <tr>\n      <th>140</th>\n      <td>Nov 11, 2014</td>\n      <td>True</td>\n      <td>False</td>\n      <td>False</td>\n      <td>False</td>\n      <td>http://www.darkhorizons.com/reviews/1375/inter...</td>\n      <td>While the ride is a bumpy one and the destinat...</td>\n      <td>2233038</td>\n      <td></td>\n      <td>POSITIVE</td>\n      <td>Josh Hylton</td>\n      <td>https://images.fandango.com/cms/assets/5b6ff50...</td>\n      <td>josh-hylton</td>\n      <td>491</td>\n      <td>Dark Horizons</td>\n    </tr>\n    <tr>\n      <th>120</th>\n      <td>Nov 22, 2014</td>\n      <td>True</td>\n      <td>False</td>\n      <td>False</td>\n      <td>False</td>\n      <td>http://www.lawrence.com/weblogs/scenestealers/...</td>\n      <td>Despite some awkward pacing, easy sentimentali...</td>\n      <td>2234849</td>\n      <td>4/5</td>\n      <td>POSITIVE</td>\n      <td>Eric Melin</td>\n      <td>http://resizing.flixster.com/X9OHPvT5DLWKcL5Pg...</td>\n      <td>eric-melin</td>\n      <td>1595</td>\n      <td>Lawrence.com</td>\n    </tr>\n    <tr>\n      <th>354</th>\n      <td>Oct 27, 2014</td>\n      <td>True</td>\n      <td>False</td>\n      <td>False</td>\n      <td>False</td>\n      <td>http://www.theverge.com/2014/10/27/7077877/int...</td>\n      <td>The movie is most powerful when it's at its le...</td>\n      <td>2230510</td>\n      <td></td>\n      <td>POSITIVE</td>\n      <td>Josh Dzieza</td>\n      <td>https://images.fandango.com/cms/assets/5b6ff50...</td>\n      <td>josh-dzieza</td>\n      <td>2525</td>\n      <td>The Verge</td>\n    </tr>\n    <tr>\n      <th>171</th>\n      <td>Nov 7, 2014</td>\n      <td>True</td>\n      <td>False</td>\n      <td>False</td>\n      <td>False</td>\n      <td>http://fanthefiremagazine.com/film/film-review...</td>\n      <td>The film is confident enough to take us on a t...</td>\n      <td>2232635</td>\n      <td>4/5</td>\n      <td>POSITIVE</td>\n      <td>Martin Roberts</td>\n      <td>https://images.fandango.com/cms/assets/5b6ff50...</td>\n      <td>martin-roberts</td>\n      <td>2321</td>\n      <td>Fan The Fire</td>\n    </tr>\n    <tr>\n      <th>313</th>\n      <td>Nov 3, 2014</td>\n      <td>True</td>\n      <td>False</td>\n      <td>False</td>\n      <td>True</td>\n      <td>http://www.nydailynews.com/entertainment/movie...</td>\n      <td>Even as \"Interstellar\" becomes a beautiful mes...</td>\n      <td>2231704</td>\n      <td>3/5</td>\n      <td>POSITIVE</td>\n      <td>Joe Neumaier</td>\n      <td>http://resizing.flixster.com/PrIEYQUHBLwBYrMMH...</td>\n      <td>joe-neumaier</td>\n      <td>586</td>\n      <td>New York Daily News</td>\n    </tr>\n    <tr>\n      <th>153</th>\n      <td>Nov 9, 2014</td>\n      <td>True</td>\n      <td>False</td>\n      <td>False</td>\n      <td>False</td>\n      <td>http://baretnewswire.org/altruistic-astronauts...</td>\n      <td>I'm not too proud to admit I couldn't follow t...</td>\n      <td>2232738</td>\n      <td>2/4</td>\n      <td>POSITIVE</td>\n      <td>Kam Williams</td>\n      <td>http://resizing.flixster.com/tKeYhsIJL4v_frg0F...</td>\n      <td>kam-williams</td>\n      <td>1912</td>\n      <td>Baret News</td>\n    </tr>\n  </tbody>\n</table>\n</div>"
     },
     "metadata": {}
    }
   ],
   "execution_count": 9
  },
  {
   "cell_type": "markdown",
   "source": "<a style='text-decoration:none;line-height:16px;display:flex;color:#5B5B62;padding:10px;justify-content:end;' href='https://deepnote.com?utm_source=created-in-deepnote-cell&projectId=53ef1faa-b7a9-4637-b54c-3b067e58670d' target=\"_blank\">\n<img alt='Created in deepnote.com' style='display:inline;max-height:16px;margin:0px;margin-right:7.5px;' src='data:image/svg+xml;base64,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' > </img>\nCreated in <span style='font-weight:600;margin-left:4px;'>Deepnote</span></a>",
   "metadata": {
    "tags": [],
    "created_in_deepnote_cell": true,
    "deepnote_cell_type": "markdown"
   }
  }
 ],
 "nbformat": 4,
 "nbformat_minor": 2,
 "metadata": {
  "orig_nbformat": 2,
  "deepnote": {},
  "deepnote_notebook_id": "fd55cbee-8d7f-4885-974d-358035dcefa0",
  "deepnote_execution_queue": []
 }
}